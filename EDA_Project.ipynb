{
  "nbformat": 4,
  "nbformat_minor": 0,
  "metadata": {
    "colab": {
      "name": "EDA_Project.ipynb",
      "provenance": [],
      "collapsed_sections": [],
      "mount_file_id": "1fDlEESfWbY0rtCR-ZyMZCLowysZ_-Z7j",
      "authorship_tag": "ABX9TyMrWXvss8ht0PESMWJolxET",
      "include_colab_link": true
    },
    "kernelspec": {
      "name": "python3",
      "display_name": "Python 3"
    }
  },
  "cells": [
    {
      "cell_type": "markdown",
      "metadata": {
        "id": "view-in-github",
        "colab_type": "text"
      },
      "source": [
        "<a href=\"https://colab.research.google.com/github/RKV8309/RAHUL-KUMAR/blob/master/EDA_Project.ipynb\" target=\"_parent\"><img src=\"https://colab.research.google.com/assets/colab-badge.svg\" alt=\"Open In Colab\"/></a>"
      ]
    },
    {
      "cell_type": "markdown",
      "metadata": {
        "id": "Ph4XX4WaPNo_",
        "colab_type": "text"
      },
      "source": [
        "**Project Title:**\n",
        "\n",
        "**Exploratory Data Analysis of Car Features**"
      ]
    },
    {
      "cell_type": "markdown",
      "metadata": {
        "id": "iFQCqXDAP9p4",
        "colab_type": "text"
      },
      "source": [
        "**Context**\n",
        "\n",
        "As a data scientist, the majority of your time will be spent on data pre-processing i.e.\n",
        "making sure you have the right data in the right format. Once this is done, you get a\n",
        "sense of your dataset through applying some descriptive statistics and then, you move\n",
        "on to the exploration stage wherein you plot various graphs and mine the hidden\n",
        "insights. In this project, you as a data scientist are expected to perform Exploratory data\n",
        "analysis on how the different features of a car and its price are related. The data comes\n",
        "from the Kaggle dataset \"Car Features and MSRP\". It describes almost 12,000 car\n",
        "models, sold in the USA between 1990 and 2017, with the market price (new or used)\n",
        "and some features"
      ]
    },
    {
      "cell_type": "markdown",
      "metadata": {
        "id": "fl0dmGsoQiYd",
        "colab_type": "text"
      },
      "source": [
        "**Objective**\n",
        "\n",
        "The objective of the project is to do data pre-processing and exploratory data analysis\n",
        "of the dataset\n"
      ]
    },
    {
      "cell_type": "markdown",
      "metadata": {
        "id": "C9Kc1RnQQmlZ",
        "colab_type": "text"
      },
      "source": [
        "**Data Description**\n",
        "\n",
        "> Make Car Make\n",
        "\n",
        "> Model Car Model\n",
        "\n",
        "> Year Car Year (Marketing)\n",
        "\n",
        "> Engine Fuel Type Engine Fuel Type\n",
        "\n",
        "> Engine HP Engine HorsePower (HP)\n",
        "\n",
        "> Engine Cylinders Engine Cylinders\n",
        "\n",
        "> Transmission Type Transmission Type\n",
        "\n",
        "> Driven_Wheels Driven Wheels\n",
        "\n",
        "> Number of Doors Number of Doors\n",
        "\n",
        "> Market Category Market Category\n",
        "\n",
        "> Vehicle Size Size of Vehicle\n",
        "\n",
        "> Vehicle Style Type of Vehicle\n",
        "\n",
        "> highway MPG Highway MPG\n",
        "\n",
        "> city mpg City MPG\n",
        "\n",
        "> Popularity Popularity (Twitter)\n",
        "\n",
        "> MSRP Manufacturer Suggested Retail Price\n"
      ]
    },
    {
      "cell_type": "markdown",
      "metadata": {
        "id": "NxlK1AejRQAp",
        "colab_type": "text"
      },
      "source": [
        "**STEPS**\n"
      ]
    },
    {
      "cell_type": "markdown",
      "metadata": {
        "id": "C3oXjl4iRfDZ",
        "colab_type": "text"
      },
      "source": [
        "**1. Import the dataset and the necessary libraries, check datatype, statistical summary,\n",
        "shape, null values etc. :-**"
      ]
    },
    {
      "cell_type": "markdown",
      "metadata": {
        "id": "qGBl8WAWIrIx",
        "colab_type": "text"
      },
      "source": [
        "**1.1 Importing the required libraries:**\n",
        "\n",
        "\n"
      ]
    },
    {
      "cell_type": "markdown",
      "metadata": {
        "id": "97nhbuAcgn5E",
        "colab_type": "text"
      },
      "source": [
        "In python, modules are accessed by using the import statement."
      ]
    },
    {
      "cell_type": "code",
      "metadata": {
        "id": "9-x-Ldp6TLf5",
        "colab_type": "code",
        "colab": {}
      },
      "source": [
        "import pandas as pd                     #Data Processing.\n",
        "import numpy as np                      #Linear Algebra.\n",
        "import seaborn as sns                   #Visualisation.\n",
        "import matplotlib.pyplot as plt         #Visualisation.\n",
        "import plotly.graph_objects as go       #Display and update figures.\n",
        "import plotly.express as px             #plotly.express module contains functions that can create entire figures at once.\n",
        "%matplotlib inline    "
      ],
      "execution_count": 254,
      "outputs": []
    },
    {
      "cell_type": "markdown",
      "metadata": {
        "id": "5HjeFt8rI-qO",
        "colab_type": "text"
      },
      "source": [
        "**1.2 Loading the data into the dataframe:**"
      ]
    },
    {
      "cell_type": "code",
      "metadata": {
        "id": "791pYk9tUg1W",
        "colab_type": "code",
        "colab": {}
      },
      "source": [
        "df = pd.read_csv('/content/drive/My Drive/data.csv')"
      ],
      "execution_count": 255,
      "outputs": []
    },
    {
      "cell_type": "markdown",
      "metadata": {
        "id": "nN-G6WMHKPsr",
        "colab_type": "text"
      },
      "source": [
        "**1.3 Displaying the data:**"
      ]
    },
    {
      "cell_type": "code",
      "metadata": {
        "id": "sD5ZjLuDMux4",
        "colab_type": "code",
        "colab": {
          "base_uri": "https://localhost:8080/",
          "height": 260
        },
        "outputId": "d8f76747-f5d9-4698-9867-ef5d38935f93"
      },
      "source": [
        "#1.3.1 To display all of the rows and columns:-\n",
        "print(df)"
      ],
      "execution_count": 256,
      "outputs": [
        {
          "output_type": "stream",
          "text": [
            "          Make       Model  Year  ... city mpg  Popularity   MSRP\n",
            "0          BMW  1 Series M  2011  ...       19        3916  46135\n",
            "1          BMW    1 Series  2011  ...       19        3916  40650\n",
            "2          BMW    1 Series  2011  ...       20        3916  36350\n",
            "3          BMW    1 Series  2011  ...       18        3916  29450\n",
            "4          BMW    1 Series  2011  ...       18        3916  34500\n",
            "...        ...         ...   ...  ...      ...         ...    ...\n",
            "11909    Acura         ZDX  2012  ...       16         204  46120\n",
            "11910    Acura         ZDX  2012  ...       16         204  56670\n",
            "11911    Acura         ZDX  2012  ...       16         204  50620\n",
            "11912    Acura         ZDX  2013  ...       16         204  50920\n",
            "11913  Lincoln      Zephyr  2006  ...       17          61  28995\n",
            "\n",
            "[11914 rows x 16 columns]\n"
          ],
          "name": "stdout"
        }
      ]
    },
    {
      "cell_type": "code",
      "metadata": {
        "id": "1Qzes2HFKPEZ",
        "colab_type": "code",
        "colab": {
          "base_uri": "https://localhost:8080/",
          "height": 757
        },
        "outputId": "596d4374-7549-4895-a2ef-b901be425961"
      },
      "source": [
        "#1.3.2 To display the top 10 rows:-\n",
        "df.head(10)"
      ],
      "execution_count": 257,
      "outputs": [
        {
          "output_type": "execute_result",
          "data": {
            "text/html": [
              "<div>\n",
              "<style scoped>\n",
              "    .dataframe tbody tr th:only-of-type {\n",
              "        vertical-align: middle;\n",
              "    }\n",
              "\n",
              "    .dataframe tbody tr th {\n",
              "        vertical-align: top;\n",
              "    }\n",
              "\n",
              "    .dataframe thead th {\n",
              "        text-align: right;\n",
              "    }\n",
              "</style>\n",
              "<table border=\"1\" class=\"dataframe\">\n",
              "  <thead>\n",
              "    <tr style=\"text-align: right;\">\n",
              "      <th></th>\n",
              "      <th>Make</th>\n",
              "      <th>Model</th>\n",
              "      <th>Year</th>\n",
              "      <th>Engine Fuel Type</th>\n",
              "      <th>Engine HP</th>\n",
              "      <th>Engine Cylinders</th>\n",
              "      <th>Transmission Type</th>\n",
              "      <th>Driven_Wheels</th>\n",
              "      <th>Number of Doors</th>\n",
              "      <th>Market Category</th>\n",
              "      <th>Vehicle Size</th>\n",
              "      <th>Vehicle Style</th>\n",
              "      <th>highway MPG</th>\n",
              "      <th>city mpg</th>\n",
              "      <th>Popularity</th>\n",
              "      <th>MSRP</th>\n",
              "    </tr>\n",
              "  </thead>\n",
              "  <tbody>\n",
              "    <tr>\n",
              "      <th>0</th>\n",
              "      <td>BMW</td>\n",
              "      <td>1 Series M</td>\n",
              "      <td>2011</td>\n",
              "      <td>premium unleaded (required)</td>\n",
              "      <td>335.0</td>\n",
              "      <td>6.0</td>\n",
              "      <td>MANUAL</td>\n",
              "      <td>rear wheel drive</td>\n",
              "      <td>2.0</td>\n",
              "      <td>Factory Tuner,Luxury,High-Performance</td>\n",
              "      <td>Compact</td>\n",
              "      <td>Coupe</td>\n",
              "      <td>26</td>\n",
              "      <td>19</td>\n",
              "      <td>3916</td>\n",
              "      <td>46135</td>\n",
              "    </tr>\n",
              "    <tr>\n",
              "      <th>1</th>\n",
              "      <td>BMW</td>\n",
              "      <td>1 Series</td>\n",
              "      <td>2011</td>\n",
              "      <td>premium unleaded (required)</td>\n",
              "      <td>300.0</td>\n",
              "      <td>6.0</td>\n",
              "      <td>MANUAL</td>\n",
              "      <td>rear wheel drive</td>\n",
              "      <td>2.0</td>\n",
              "      <td>Luxury,Performance</td>\n",
              "      <td>Compact</td>\n",
              "      <td>Convertible</td>\n",
              "      <td>28</td>\n",
              "      <td>19</td>\n",
              "      <td>3916</td>\n",
              "      <td>40650</td>\n",
              "    </tr>\n",
              "    <tr>\n",
              "      <th>2</th>\n",
              "      <td>BMW</td>\n",
              "      <td>1 Series</td>\n",
              "      <td>2011</td>\n",
              "      <td>premium unleaded (required)</td>\n",
              "      <td>300.0</td>\n",
              "      <td>6.0</td>\n",
              "      <td>MANUAL</td>\n",
              "      <td>rear wheel drive</td>\n",
              "      <td>2.0</td>\n",
              "      <td>Luxury,High-Performance</td>\n",
              "      <td>Compact</td>\n",
              "      <td>Coupe</td>\n",
              "      <td>28</td>\n",
              "      <td>20</td>\n",
              "      <td>3916</td>\n",
              "      <td>36350</td>\n",
              "    </tr>\n",
              "    <tr>\n",
              "      <th>3</th>\n",
              "      <td>BMW</td>\n",
              "      <td>1 Series</td>\n",
              "      <td>2011</td>\n",
              "      <td>premium unleaded (required)</td>\n",
              "      <td>230.0</td>\n",
              "      <td>6.0</td>\n",
              "      <td>MANUAL</td>\n",
              "      <td>rear wheel drive</td>\n",
              "      <td>2.0</td>\n",
              "      <td>Luxury,Performance</td>\n",
              "      <td>Compact</td>\n",
              "      <td>Coupe</td>\n",
              "      <td>28</td>\n",
              "      <td>18</td>\n",
              "      <td>3916</td>\n",
              "      <td>29450</td>\n",
              "    </tr>\n",
              "    <tr>\n",
              "      <th>4</th>\n",
              "      <td>BMW</td>\n",
              "      <td>1 Series</td>\n",
              "      <td>2011</td>\n",
              "      <td>premium unleaded (required)</td>\n",
              "      <td>230.0</td>\n",
              "      <td>6.0</td>\n",
              "      <td>MANUAL</td>\n",
              "      <td>rear wheel drive</td>\n",
              "      <td>2.0</td>\n",
              "      <td>Luxury</td>\n",
              "      <td>Compact</td>\n",
              "      <td>Convertible</td>\n",
              "      <td>28</td>\n",
              "      <td>18</td>\n",
              "      <td>3916</td>\n",
              "      <td>34500</td>\n",
              "    </tr>\n",
              "    <tr>\n",
              "      <th>5</th>\n",
              "      <td>BMW</td>\n",
              "      <td>1 Series</td>\n",
              "      <td>2012</td>\n",
              "      <td>premium unleaded (required)</td>\n",
              "      <td>230.0</td>\n",
              "      <td>6.0</td>\n",
              "      <td>MANUAL</td>\n",
              "      <td>rear wheel drive</td>\n",
              "      <td>2.0</td>\n",
              "      <td>Luxury,Performance</td>\n",
              "      <td>Compact</td>\n",
              "      <td>Coupe</td>\n",
              "      <td>28</td>\n",
              "      <td>18</td>\n",
              "      <td>3916</td>\n",
              "      <td>31200</td>\n",
              "    </tr>\n",
              "    <tr>\n",
              "      <th>6</th>\n",
              "      <td>BMW</td>\n",
              "      <td>1 Series</td>\n",
              "      <td>2012</td>\n",
              "      <td>premium unleaded (required)</td>\n",
              "      <td>300.0</td>\n",
              "      <td>6.0</td>\n",
              "      <td>MANUAL</td>\n",
              "      <td>rear wheel drive</td>\n",
              "      <td>2.0</td>\n",
              "      <td>Luxury,Performance</td>\n",
              "      <td>Compact</td>\n",
              "      <td>Convertible</td>\n",
              "      <td>26</td>\n",
              "      <td>17</td>\n",
              "      <td>3916</td>\n",
              "      <td>44100</td>\n",
              "    </tr>\n",
              "    <tr>\n",
              "      <th>7</th>\n",
              "      <td>BMW</td>\n",
              "      <td>1 Series</td>\n",
              "      <td>2012</td>\n",
              "      <td>premium unleaded (required)</td>\n",
              "      <td>300.0</td>\n",
              "      <td>6.0</td>\n",
              "      <td>MANUAL</td>\n",
              "      <td>rear wheel drive</td>\n",
              "      <td>2.0</td>\n",
              "      <td>Luxury,High-Performance</td>\n",
              "      <td>Compact</td>\n",
              "      <td>Coupe</td>\n",
              "      <td>28</td>\n",
              "      <td>20</td>\n",
              "      <td>3916</td>\n",
              "      <td>39300</td>\n",
              "    </tr>\n",
              "    <tr>\n",
              "      <th>8</th>\n",
              "      <td>BMW</td>\n",
              "      <td>1 Series</td>\n",
              "      <td>2012</td>\n",
              "      <td>premium unleaded (required)</td>\n",
              "      <td>230.0</td>\n",
              "      <td>6.0</td>\n",
              "      <td>MANUAL</td>\n",
              "      <td>rear wheel drive</td>\n",
              "      <td>2.0</td>\n",
              "      <td>Luxury</td>\n",
              "      <td>Compact</td>\n",
              "      <td>Convertible</td>\n",
              "      <td>28</td>\n",
              "      <td>18</td>\n",
              "      <td>3916</td>\n",
              "      <td>36900</td>\n",
              "    </tr>\n",
              "    <tr>\n",
              "      <th>9</th>\n",
              "      <td>BMW</td>\n",
              "      <td>1 Series</td>\n",
              "      <td>2013</td>\n",
              "      <td>premium unleaded (required)</td>\n",
              "      <td>230.0</td>\n",
              "      <td>6.0</td>\n",
              "      <td>MANUAL</td>\n",
              "      <td>rear wheel drive</td>\n",
              "      <td>2.0</td>\n",
              "      <td>Luxury</td>\n",
              "      <td>Compact</td>\n",
              "      <td>Convertible</td>\n",
              "      <td>27</td>\n",
              "      <td>18</td>\n",
              "      <td>3916</td>\n",
              "      <td>37200</td>\n",
              "    </tr>\n",
              "  </tbody>\n",
              "</table>\n",
              "</div>"
            ],
            "text/plain": [
              "  Make       Model  Year  ... city mpg  Popularity   MSRP\n",
              "0  BMW  1 Series M  2011  ...       19        3916  46135\n",
              "1  BMW    1 Series  2011  ...       19        3916  40650\n",
              "2  BMW    1 Series  2011  ...       20        3916  36350\n",
              "3  BMW    1 Series  2011  ...       18        3916  29450\n",
              "4  BMW    1 Series  2011  ...       18        3916  34500\n",
              "5  BMW    1 Series  2012  ...       18        3916  31200\n",
              "6  BMW    1 Series  2012  ...       17        3916  44100\n",
              "7  BMW    1 Series  2012  ...       20        3916  39300\n",
              "8  BMW    1 Series  2012  ...       18        3916  36900\n",
              "9  BMW    1 Series  2013  ...       18        3916  37200\n",
              "\n",
              "[10 rows x 16 columns]"
            ]
          },
          "metadata": {
            "tags": []
          },
          "execution_count": 257
        }
      ]
    },
    {
      "cell_type": "code",
      "metadata": {
        "id": "MmUONtveMhd5",
        "colab_type": "code",
        "colab": {
          "base_uri": "https://localhost:8080/",
          "height": 739
        },
        "outputId": "68a75257-92be-4e79-d625-8fecd82bf773"
      },
      "source": [
        "#1.3.3 To display the bottom 10 rows:-\n",
        "df.tail(10)"
      ],
      "execution_count": 258,
      "outputs": [
        {
          "output_type": "execute_result",
          "data": {
            "text/html": [
              "<div>\n",
              "<style scoped>\n",
              "    .dataframe tbody tr th:only-of-type {\n",
              "        vertical-align: middle;\n",
              "    }\n",
              "\n",
              "    .dataframe tbody tr th {\n",
              "        vertical-align: top;\n",
              "    }\n",
              "\n",
              "    .dataframe thead th {\n",
              "        text-align: right;\n",
              "    }\n",
              "</style>\n",
              "<table border=\"1\" class=\"dataframe\">\n",
              "  <thead>\n",
              "    <tr style=\"text-align: right;\">\n",
              "      <th></th>\n",
              "      <th>Make</th>\n",
              "      <th>Model</th>\n",
              "      <th>Year</th>\n",
              "      <th>Engine Fuel Type</th>\n",
              "      <th>Engine HP</th>\n",
              "      <th>Engine Cylinders</th>\n",
              "      <th>Transmission Type</th>\n",
              "      <th>Driven_Wheels</th>\n",
              "      <th>Number of Doors</th>\n",
              "      <th>Market Category</th>\n",
              "      <th>Vehicle Size</th>\n",
              "      <th>Vehicle Style</th>\n",
              "      <th>highway MPG</th>\n",
              "      <th>city mpg</th>\n",
              "      <th>Popularity</th>\n",
              "      <th>MSRP</th>\n",
              "    </tr>\n",
              "  </thead>\n",
              "  <tbody>\n",
              "    <tr>\n",
              "      <th>11904</th>\n",
              "      <td>BMW</td>\n",
              "      <td>Z8</td>\n",
              "      <td>2002</td>\n",
              "      <td>premium unleaded (required)</td>\n",
              "      <td>394.0</td>\n",
              "      <td>8.0</td>\n",
              "      <td>MANUAL</td>\n",
              "      <td>rear wheel drive</td>\n",
              "      <td>2.0</td>\n",
              "      <td>Exotic,Luxury,High-Performance</td>\n",
              "      <td>Compact</td>\n",
              "      <td>Convertible</td>\n",
              "      <td>19</td>\n",
              "      <td>12</td>\n",
              "      <td>3916</td>\n",
              "      <td>130000</td>\n",
              "    </tr>\n",
              "    <tr>\n",
              "      <th>11905</th>\n",
              "      <td>BMW</td>\n",
              "      <td>Z8</td>\n",
              "      <td>2003</td>\n",
              "      <td>premium unleaded (required)</td>\n",
              "      <td>394.0</td>\n",
              "      <td>8.0</td>\n",
              "      <td>MANUAL</td>\n",
              "      <td>rear wheel drive</td>\n",
              "      <td>2.0</td>\n",
              "      <td>Exotic,Luxury,High-Performance</td>\n",
              "      <td>Compact</td>\n",
              "      <td>Convertible</td>\n",
              "      <td>19</td>\n",
              "      <td>12</td>\n",
              "      <td>3916</td>\n",
              "      <td>131500</td>\n",
              "    </tr>\n",
              "    <tr>\n",
              "      <th>11906</th>\n",
              "      <td>Acura</td>\n",
              "      <td>ZDX</td>\n",
              "      <td>2011</td>\n",
              "      <td>premium unleaded (required)</td>\n",
              "      <td>300.0</td>\n",
              "      <td>6.0</td>\n",
              "      <td>AUTOMATIC</td>\n",
              "      <td>all wheel drive</td>\n",
              "      <td>4.0</td>\n",
              "      <td>Crossover,Hatchback,Luxury</td>\n",
              "      <td>Midsize</td>\n",
              "      <td>4dr Hatchback</td>\n",
              "      <td>23</td>\n",
              "      <td>16</td>\n",
              "      <td>204</td>\n",
              "      <td>46020</td>\n",
              "    </tr>\n",
              "    <tr>\n",
              "      <th>11907</th>\n",
              "      <td>Acura</td>\n",
              "      <td>ZDX</td>\n",
              "      <td>2011</td>\n",
              "      <td>premium unleaded (required)</td>\n",
              "      <td>300.0</td>\n",
              "      <td>6.0</td>\n",
              "      <td>AUTOMATIC</td>\n",
              "      <td>all wheel drive</td>\n",
              "      <td>4.0</td>\n",
              "      <td>Crossover,Hatchback,Luxury</td>\n",
              "      <td>Midsize</td>\n",
              "      <td>4dr Hatchback</td>\n",
              "      <td>23</td>\n",
              "      <td>16</td>\n",
              "      <td>204</td>\n",
              "      <td>56570</td>\n",
              "    </tr>\n",
              "    <tr>\n",
              "      <th>11908</th>\n",
              "      <td>Acura</td>\n",
              "      <td>ZDX</td>\n",
              "      <td>2011</td>\n",
              "      <td>premium unleaded (required)</td>\n",
              "      <td>300.0</td>\n",
              "      <td>6.0</td>\n",
              "      <td>AUTOMATIC</td>\n",
              "      <td>all wheel drive</td>\n",
              "      <td>4.0</td>\n",
              "      <td>Crossover,Hatchback,Luxury</td>\n",
              "      <td>Midsize</td>\n",
              "      <td>4dr Hatchback</td>\n",
              "      <td>23</td>\n",
              "      <td>16</td>\n",
              "      <td>204</td>\n",
              "      <td>50520</td>\n",
              "    </tr>\n",
              "    <tr>\n",
              "      <th>11909</th>\n",
              "      <td>Acura</td>\n",
              "      <td>ZDX</td>\n",
              "      <td>2012</td>\n",
              "      <td>premium unleaded (required)</td>\n",
              "      <td>300.0</td>\n",
              "      <td>6.0</td>\n",
              "      <td>AUTOMATIC</td>\n",
              "      <td>all wheel drive</td>\n",
              "      <td>4.0</td>\n",
              "      <td>Crossover,Hatchback,Luxury</td>\n",
              "      <td>Midsize</td>\n",
              "      <td>4dr Hatchback</td>\n",
              "      <td>23</td>\n",
              "      <td>16</td>\n",
              "      <td>204</td>\n",
              "      <td>46120</td>\n",
              "    </tr>\n",
              "    <tr>\n",
              "      <th>11910</th>\n",
              "      <td>Acura</td>\n",
              "      <td>ZDX</td>\n",
              "      <td>2012</td>\n",
              "      <td>premium unleaded (required)</td>\n",
              "      <td>300.0</td>\n",
              "      <td>6.0</td>\n",
              "      <td>AUTOMATIC</td>\n",
              "      <td>all wheel drive</td>\n",
              "      <td>4.0</td>\n",
              "      <td>Crossover,Hatchback,Luxury</td>\n",
              "      <td>Midsize</td>\n",
              "      <td>4dr Hatchback</td>\n",
              "      <td>23</td>\n",
              "      <td>16</td>\n",
              "      <td>204</td>\n",
              "      <td>56670</td>\n",
              "    </tr>\n",
              "    <tr>\n",
              "      <th>11911</th>\n",
              "      <td>Acura</td>\n",
              "      <td>ZDX</td>\n",
              "      <td>2012</td>\n",
              "      <td>premium unleaded (required)</td>\n",
              "      <td>300.0</td>\n",
              "      <td>6.0</td>\n",
              "      <td>AUTOMATIC</td>\n",
              "      <td>all wheel drive</td>\n",
              "      <td>4.0</td>\n",
              "      <td>Crossover,Hatchback,Luxury</td>\n",
              "      <td>Midsize</td>\n",
              "      <td>4dr Hatchback</td>\n",
              "      <td>23</td>\n",
              "      <td>16</td>\n",
              "      <td>204</td>\n",
              "      <td>50620</td>\n",
              "    </tr>\n",
              "    <tr>\n",
              "      <th>11912</th>\n",
              "      <td>Acura</td>\n",
              "      <td>ZDX</td>\n",
              "      <td>2013</td>\n",
              "      <td>premium unleaded (recommended)</td>\n",
              "      <td>300.0</td>\n",
              "      <td>6.0</td>\n",
              "      <td>AUTOMATIC</td>\n",
              "      <td>all wheel drive</td>\n",
              "      <td>4.0</td>\n",
              "      <td>Crossover,Hatchback,Luxury</td>\n",
              "      <td>Midsize</td>\n",
              "      <td>4dr Hatchback</td>\n",
              "      <td>23</td>\n",
              "      <td>16</td>\n",
              "      <td>204</td>\n",
              "      <td>50920</td>\n",
              "    </tr>\n",
              "    <tr>\n",
              "      <th>11913</th>\n",
              "      <td>Lincoln</td>\n",
              "      <td>Zephyr</td>\n",
              "      <td>2006</td>\n",
              "      <td>regular unleaded</td>\n",
              "      <td>221.0</td>\n",
              "      <td>6.0</td>\n",
              "      <td>AUTOMATIC</td>\n",
              "      <td>front wheel drive</td>\n",
              "      <td>4.0</td>\n",
              "      <td>Luxury</td>\n",
              "      <td>Midsize</td>\n",
              "      <td>Sedan</td>\n",
              "      <td>26</td>\n",
              "      <td>17</td>\n",
              "      <td>61</td>\n",
              "      <td>28995</td>\n",
              "    </tr>\n",
              "  </tbody>\n",
              "</table>\n",
              "</div>"
            ],
            "text/plain": [
              "          Make   Model  Year  ... city mpg  Popularity    MSRP\n",
              "11904      BMW      Z8  2002  ...       12        3916  130000\n",
              "11905      BMW      Z8  2003  ...       12        3916  131500\n",
              "11906    Acura     ZDX  2011  ...       16         204   46020\n",
              "11907    Acura     ZDX  2011  ...       16         204   56570\n",
              "11908    Acura     ZDX  2011  ...       16         204   50520\n",
              "11909    Acura     ZDX  2012  ...       16         204   46120\n",
              "11910    Acura     ZDX  2012  ...       16         204   56670\n",
              "11911    Acura     ZDX  2012  ...       16         204   50620\n",
              "11912    Acura     ZDX  2013  ...       16         204   50920\n",
              "11913  Lincoln  Zephyr  2006  ...       17          61   28995\n",
              "\n",
              "[10 rows x 16 columns]"
            ]
          },
          "metadata": {
            "tags": []
          },
          "execution_count": 258
        }
      ]
    },
    {
      "cell_type": "code",
      "metadata": {
        "id": "fwtHhwHdAysC",
        "colab_type": "code",
        "colab": {
          "base_uri": "https://localhost:8080/",
          "height": 104
        },
        "outputId": "3ea55852-bb53-434d-bdd0-91c01813c3aa"
      },
      "source": [
        "# Displaying column names from the given dataset. \n",
        "df.columns"
      ],
      "execution_count": 259,
      "outputs": [
        {
          "output_type": "execute_result",
          "data": {
            "text/plain": [
              "Index(['Make', 'Model', 'Year', 'Engine Fuel Type', 'Engine HP',\n",
              "       'Engine Cylinders', 'Transmission Type', 'Driven_Wheels',\n",
              "       'Number of Doors', 'Market Category', 'Vehicle Size', 'Vehicle Style',\n",
              "       'highway MPG', 'city mpg', 'Popularity', 'MSRP'],\n",
              "      dtype='object')"
            ]
          },
          "metadata": {
            "tags": []
          },
          "execution_count": 259
        }
      ]
    },
    {
      "cell_type": "markdown",
      "metadata": {
        "id": "gsOtmZzcNloH",
        "colab_type": "text"
      },
      "source": [
        "**1.4 Check Datatype:**"
      ]
    },
    {
      "cell_type": "code",
      "metadata": {
        "id": "bTSOktpYODZr",
        "colab_type": "code",
        "colab": {
          "base_uri": "https://localhost:8080/",
          "height": 312
        },
        "outputId": "2538b00f-2206-4bb3-d64c-6e678cd5eae6"
      },
      "source": [
        "# Checking the datatypes of different columns from the given dataset:-\n",
        "df.dtypes"
      ],
      "execution_count": 260,
      "outputs": [
        {
          "output_type": "execute_result",
          "data": {
            "text/plain": [
              "Make                  object\n",
              "Model                 object\n",
              "Year                   int64\n",
              "Engine Fuel Type      object\n",
              "Engine HP            float64\n",
              "Engine Cylinders     float64\n",
              "Transmission Type     object\n",
              "Driven_Wheels         object\n",
              "Number of Doors      float64\n",
              "Market Category       object\n",
              "Vehicle Size          object\n",
              "Vehicle Style         object\n",
              "highway MPG            int64\n",
              "city mpg               int64\n",
              "Popularity             int64\n",
              "MSRP                   int64\n",
              "dtype: object"
            ]
          },
          "metadata": {
            "tags": []
          },
          "execution_count": 260
        }
      ]
    },
    {
      "cell_type": "markdown",
      "metadata": {
        "id": "ECeWSgVrO6h3",
        "colab_type": "text"
      },
      "source": [
        "**1.5 Statistical Summary:**"
      ]
    },
    {
      "cell_type": "markdown",
      "metadata": {
        "id": "p0627aJxPVHK",
        "colab_type": "text"
      },
      "source": [
        " dataframe.info() function is used to get a concise summary of the dataframe. It comes really handy when doing exploratory analysis of the data. To get a quick overview of the dataset we use the dataframe.info() function."
      ]
    },
    {
      "cell_type": "code",
      "metadata": {
        "id": "pax6SkaJPAc9",
        "colab_type": "code",
        "colab": {
          "base_uri": "https://localhost:8080/",
          "height": 416
        },
        "outputId": "0d90184a-a31f-4dd3-b019-3947990ba2c9"
      },
      "source": [
        "df.info()"
      ],
      "execution_count": 261,
      "outputs": [
        {
          "output_type": "stream",
          "text": [
            "<class 'pandas.core.frame.DataFrame'>\n",
            "RangeIndex: 11914 entries, 0 to 11913\n",
            "Data columns (total 16 columns):\n",
            " #   Column             Non-Null Count  Dtype  \n",
            "---  ------             --------------  -----  \n",
            " 0   Make               11914 non-null  object \n",
            " 1   Model              11914 non-null  object \n",
            " 2   Year               11914 non-null  int64  \n",
            " 3   Engine Fuel Type   11911 non-null  object \n",
            " 4   Engine HP          11845 non-null  float64\n",
            " 5   Engine Cylinders   11884 non-null  float64\n",
            " 6   Transmission Type  11914 non-null  object \n",
            " 7   Driven_Wheels      11914 non-null  object \n",
            " 8   Number of Doors    11908 non-null  float64\n",
            " 9   Market Category    8172 non-null   object \n",
            " 10  Vehicle Size       11914 non-null  object \n",
            " 11  Vehicle Style      11914 non-null  object \n",
            " 12  highway MPG        11914 non-null  int64  \n",
            " 13  city mpg           11914 non-null  int64  \n",
            " 14  Popularity         11914 non-null  int64  \n",
            " 15  MSRP               11914 non-null  int64  \n",
            "dtypes: float64(3), int64(5), object(8)\n",
            "memory usage: 1.5+ MB\n"
          ],
          "name": "stdout"
        }
      ]
    },
    {
      "cell_type": "markdown",
      "metadata": {
        "id": "OWiSSUjPPwAP",
        "colab_type": "text"
      },
      "source": [
        "describe() is used to view some basic statistical details like percentile, mean, std etc. of a data frame or a series of numeric values."
      ]
    },
    {
      "cell_type": "code",
      "metadata": {
        "id": "f4ePCPSYP6Yc",
        "colab_type": "code",
        "colab": {
          "base_uri": "https://localhost:8080/",
          "height": 294
        },
        "outputId": "09c1eebe-2cba-41a9-ad4d-4ea528079335"
      },
      "source": [
        "df.describe()"
      ],
      "execution_count": 262,
      "outputs": [
        {
          "output_type": "execute_result",
          "data": {
            "text/html": [
              "<div>\n",
              "<style scoped>\n",
              "    .dataframe tbody tr th:only-of-type {\n",
              "        vertical-align: middle;\n",
              "    }\n",
              "\n",
              "    .dataframe tbody tr th {\n",
              "        vertical-align: top;\n",
              "    }\n",
              "\n",
              "    .dataframe thead th {\n",
              "        text-align: right;\n",
              "    }\n",
              "</style>\n",
              "<table border=\"1\" class=\"dataframe\">\n",
              "  <thead>\n",
              "    <tr style=\"text-align: right;\">\n",
              "      <th></th>\n",
              "      <th>Year</th>\n",
              "      <th>Engine HP</th>\n",
              "      <th>Engine Cylinders</th>\n",
              "      <th>Number of Doors</th>\n",
              "      <th>highway MPG</th>\n",
              "      <th>city mpg</th>\n",
              "      <th>Popularity</th>\n",
              "      <th>MSRP</th>\n",
              "    </tr>\n",
              "  </thead>\n",
              "  <tbody>\n",
              "    <tr>\n",
              "      <th>count</th>\n",
              "      <td>11914.000000</td>\n",
              "      <td>11845.00000</td>\n",
              "      <td>11884.000000</td>\n",
              "      <td>11908.000000</td>\n",
              "      <td>11914.000000</td>\n",
              "      <td>11914.000000</td>\n",
              "      <td>11914.000000</td>\n",
              "      <td>1.191400e+04</td>\n",
              "    </tr>\n",
              "    <tr>\n",
              "      <th>mean</th>\n",
              "      <td>2010.384338</td>\n",
              "      <td>249.38607</td>\n",
              "      <td>5.628829</td>\n",
              "      <td>3.436093</td>\n",
              "      <td>26.637485</td>\n",
              "      <td>19.733255</td>\n",
              "      <td>1554.911197</td>\n",
              "      <td>4.059474e+04</td>\n",
              "    </tr>\n",
              "    <tr>\n",
              "      <th>std</th>\n",
              "      <td>7.579740</td>\n",
              "      <td>109.19187</td>\n",
              "      <td>1.780559</td>\n",
              "      <td>0.881315</td>\n",
              "      <td>8.863001</td>\n",
              "      <td>8.987798</td>\n",
              "      <td>1441.855347</td>\n",
              "      <td>6.010910e+04</td>\n",
              "    </tr>\n",
              "    <tr>\n",
              "      <th>min</th>\n",
              "      <td>1990.000000</td>\n",
              "      <td>55.00000</td>\n",
              "      <td>0.000000</td>\n",
              "      <td>2.000000</td>\n",
              "      <td>12.000000</td>\n",
              "      <td>7.000000</td>\n",
              "      <td>2.000000</td>\n",
              "      <td>2.000000e+03</td>\n",
              "    </tr>\n",
              "    <tr>\n",
              "      <th>25%</th>\n",
              "      <td>2007.000000</td>\n",
              "      <td>170.00000</td>\n",
              "      <td>4.000000</td>\n",
              "      <td>2.000000</td>\n",
              "      <td>22.000000</td>\n",
              "      <td>16.000000</td>\n",
              "      <td>549.000000</td>\n",
              "      <td>2.100000e+04</td>\n",
              "    </tr>\n",
              "    <tr>\n",
              "      <th>50%</th>\n",
              "      <td>2015.000000</td>\n",
              "      <td>227.00000</td>\n",
              "      <td>6.000000</td>\n",
              "      <td>4.000000</td>\n",
              "      <td>26.000000</td>\n",
              "      <td>18.000000</td>\n",
              "      <td>1385.000000</td>\n",
              "      <td>2.999500e+04</td>\n",
              "    </tr>\n",
              "    <tr>\n",
              "      <th>75%</th>\n",
              "      <td>2016.000000</td>\n",
              "      <td>300.00000</td>\n",
              "      <td>6.000000</td>\n",
              "      <td>4.000000</td>\n",
              "      <td>30.000000</td>\n",
              "      <td>22.000000</td>\n",
              "      <td>2009.000000</td>\n",
              "      <td>4.223125e+04</td>\n",
              "    </tr>\n",
              "    <tr>\n",
              "      <th>max</th>\n",
              "      <td>2017.000000</td>\n",
              "      <td>1001.00000</td>\n",
              "      <td>16.000000</td>\n",
              "      <td>4.000000</td>\n",
              "      <td>354.000000</td>\n",
              "      <td>137.000000</td>\n",
              "      <td>5657.000000</td>\n",
              "      <td>2.065902e+06</td>\n",
              "    </tr>\n",
              "  </tbody>\n",
              "</table>\n",
              "</div>"
            ],
            "text/plain": [
              "               Year    Engine HP  ...    Popularity          MSRP\n",
              "count  11914.000000  11845.00000  ...  11914.000000  1.191400e+04\n",
              "mean    2010.384338    249.38607  ...   1554.911197  4.059474e+04\n",
              "std        7.579740    109.19187  ...   1441.855347  6.010910e+04\n",
              "min     1990.000000     55.00000  ...      2.000000  2.000000e+03\n",
              "25%     2007.000000    170.00000  ...    549.000000  2.100000e+04\n",
              "50%     2015.000000    227.00000  ...   1385.000000  2.999500e+04\n",
              "75%     2016.000000    300.00000  ...   2009.000000  4.223125e+04\n",
              "max     2017.000000   1001.00000  ...   5657.000000  2.065902e+06\n",
              "\n",
              "[8 rows x 8 columns]"
            ]
          },
          "metadata": {
            "tags": []
          },
          "execution_count": 262
        }
      ]
    },
    {
      "cell_type": "markdown",
      "metadata": {
        "id": "zxyfGY3RQNE3",
        "colab_type": "text"
      },
      "source": [
        "**1.6 Shape of the respective dataset:**"
      ]
    },
    {
      "cell_type": "markdown",
      "metadata": {
        "id": "cxD74UhiRZNG",
        "colab_type": "text"
      },
      "source": [
        "The function \"shape\" returns the shape of an array. The shape is a tuple of integers. These numbers denote the lengths of the corresponding array dimension. In other words: The \"shape\" of an array is a tuple with the number of elements per axis (dimension)."
      ]
    },
    {
      "cell_type": "code",
      "metadata": {
        "id": "jnGvjkhfQ5Uj",
        "colab_type": "code",
        "colab": {
          "base_uri": "https://localhost:8080/",
          "height": 35
        },
        "outputId": "73a2529b-79c2-48c2-92c6-2904631d6da9"
      },
      "source": [
        "print(df.shape)           #In our case, its showing shape as (11914,16) which means there are 11914 rows and 16 columns."
      ],
      "execution_count": 263,
      "outputs": [
        {
          "output_type": "stream",
          "text": [
            "(11914, 16)\n"
          ],
          "name": "stdout"
        }
      ]
    },
    {
      "cell_type": "markdown",
      "metadata": {
        "id": "zcALVFOkR48D",
        "colab_type": "text"
      },
      "source": [
        "**1.7 Nullvalues is there or not in the dataset:**"
      ]
    },
    {
      "cell_type": "markdown",
      "metadata": {
        "id": "zsp_rXPcT7ae",
        "colab_type": "text"
      },
      "source": [
        " In order to check null values in Pandas DataFrame, we use isnull() function this function return dataframe of Boolean values which are True for NaN values.\n",
        "\n",
        " "
      ]
    },
    {
      "cell_type": "code",
      "metadata": {
        "id": "jXbpMnChS6Gx",
        "colab_type": "code",
        "colab": {
          "base_uri": "https://localhost:8080/",
          "height": 312
        },
        "outputId": "a70cdf3c-3409-4187-a966-ad74bad04f07"
      },
      "source": [
        "rkr=df.isnull().sum()\n",
        "rkr"
      ],
      "execution_count": 264,
      "outputs": [
        {
          "output_type": "execute_result",
          "data": {
            "text/plain": [
              "Make                    0\n",
              "Model                   0\n",
              "Year                    0\n",
              "Engine Fuel Type        3\n",
              "Engine HP              69\n",
              "Engine Cylinders       30\n",
              "Transmission Type       0\n",
              "Driven_Wheels           0\n",
              "Number of Doors         6\n",
              "Market Category      3742\n",
              "Vehicle Size            0\n",
              "Vehicle Style           0\n",
              "highway MPG             0\n",
              "city mpg                0\n",
              "Popularity              0\n",
              "MSRP                    0\n",
              "dtype: int64"
            ]
          },
          "metadata": {
            "tags": []
          },
          "execution_count": 264
        }
      ]
    },
    {
      "cell_type": "markdown",
      "metadata": {
        "id": "c4EnR2kPUYoy",
        "colab_type": "text"
      },
      "source": [
        "From the above output we can clearly see that there are maximum number of null values in the 'Market Category' column. Thus, for the ease of things we opt to remove it from the labelled columns. Also, we see that many other parameters do not have much significance in determining the prices of the cars. Thus dropping those columns won't make much of a difference in the processing of the model."
      ]
    },
    {
      "cell_type": "markdown",
      "metadata": {
        "id": "I3SzsC7fU5Vc",
        "colab_type": "text"
      },
      "source": [
        "**2. Are there any columns in the dataset which you think are of less relevance. If so, give\n",
        "your reasoning and drop them.**\n"
      ]
    },
    {
      "cell_type": "markdown",
      "metadata": {
        "id": "5kQDWxTMVC-v",
        "colab_type": "text"
      },
      "source": [
        "**2.1 Dropping Irrelevant Columns:-**"
      ]
    },
    {
      "cell_type": "markdown",
      "metadata": {
        "id": "OeV0OxSXVUAY",
        "colab_type": "text"
      },
      "source": [
        "Pandas provides a rich collection of functions in Python. Quite often we require to filter the data to remove unnecessary rows or columns.Skipping over the columns directly before reading in the data can save on tons of memory. Pandas allows us to specify the columns we would like to read in: Throwing away the columns containing that useless miscellaneous information."
      ]
    },
    {
      "cell_type": "code",
      "metadata": {
        "id": "vZrrM-D1FW7O",
        "colab_type": "code",
        "colab": {
          "base_uri": "https://localhost:8080/",
          "height": 35
        },
        "outputId": "453e25f8-1a73-443d-996c-8a16543bd29d"
      },
      "source": [
        "# Checking the shape of the dateset before dropping the irrelevant columns:-\n",
        "df.shape"
      ],
      "execution_count": 265,
      "outputs": [
        {
          "output_type": "execute_result",
          "data": {
            "text/plain": [
              "(11914, 16)"
            ]
          },
          "metadata": {
            "tags": []
          },
          "execution_count": 265
        }
      ]
    },
    {
      "cell_type": "code",
      "metadata": {
        "id": "3EJieLkwVuDp",
        "colab_type": "code",
        "colab": {
          "base_uri": "https://localhost:8080/",
          "height": 237
        },
        "outputId": "31404dcb-05a5-4879-b855-960e69ade5a5"
      },
      "source": [
        "df = df.drop(['Engine Fuel Type', 'Number of Doors','Market Category'], axis=1)\n",
        "df.head()"
      ],
      "execution_count": 266,
      "outputs": [
        {
          "output_type": "execute_result",
          "data": {
            "text/html": [
              "<div>\n",
              "<style scoped>\n",
              "    .dataframe tbody tr th:only-of-type {\n",
              "        vertical-align: middle;\n",
              "    }\n",
              "\n",
              "    .dataframe tbody tr th {\n",
              "        vertical-align: top;\n",
              "    }\n",
              "\n",
              "    .dataframe thead th {\n",
              "        text-align: right;\n",
              "    }\n",
              "</style>\n",
              "<table border=\"1\" class=\"dataframe\">\n",
              "  <thead>\n",
              "    <tr style=\"text-align: right;\">\n",
              "      <th></th>\n",
              "      <th>Make</th>\n",
              "      <th>Model</th>\n",
              "      <th>Year</th>\n",
              "      <th>Engine HP</th>\n",
              "      <th>Engine Cylinders</th>\n",
              "      <th>Transmission Type</th>\n",
              "      <th>Driven_Wheels</th>\n",
              "      <th>Vehicle Size</th>\n",
              "      <th>Vehicle Style</th>\n",
              "      <th>highway MPG</th>\n",
              "      <th>city mpg</th>\n",
              "      <th>Popularity</th>\n",
              "      <th>MSRP</th>\n",
              "    </tr>\n",
              "  </thead>\n",
              "  <tbody>\n",
              "    <tr>\n",
              "      <th>0</th>\n",
              "      <td>BMW</td>\n",
              "      <td>1 Series M</td>\n",
              "      <td>2011</td>\n",
              "      <td>335.0</td>\n",
              "      <td>6.0</td>\n",
              "      <td>MANUAL</td>\n",
              "      <td>rear wheel drive</td>\n",
              "      <td>Compact</td>\n",
              "      <td>Coupe</td>\n",
              "      <td>26</td>\n",
              "      <td>19</td>\n",
              "      <td>3916</td>\n",
              "      <td>46135</td>\n",
              "    </tr>\n",
              "    <tr>\n",
              "      <th>1</th>\n",
              "      <td>BMW</td>\n",
              "      <td>1 Series</td>\n",
              "      <td>2011</td>\n",
              "      <td>300.0</td>\n",
              "      <td>6.0</td>\n",
              "      <td>MANUAL</td>\n",
              "      <td>rear wheel drive</td>\n",
              "      <td>Compact</td>\n",
              "      <td>Convertible</td>\n",
              "      <td>28</td>\n",
              "      <td>19</td>\n",
              "      <td>3916</td>\n",
              "      <td>40650</td>\n",
              "    </tr>\n",
              "    <tr>\n",
              "      <th>2</th>\n",
              "      <td>BMW</td>\n",
              "      <td>1 Series</td>\n",
              "      <td>2011</td>\n",
              "      <td>300.0</td>\n",
              "      <td>6.0</td>\n",
              "      <td>MANUAL</td>\n",
              "      <td>rear wheel drive</td>\n",
              "      <td>Compact</td>\n",
              "      <td>Coupe</td>\n",
              "      <td>28</td>\n",
              "      <td>20</td>\n",
              "      <td>3916</td>\n",
              "      <td>36350</td>\n",
              "    </tr>\n",
              "    <tr>\n",
              "      <th>3</th>\n",
              "      <td>BMW</td>\n",
              "      <td>1 Series</td>\n",
              "      <td>2011</td>\n",
              "      <td>230.0</td>\n",
              "      <td>6.0</td>\n",
              "      <td>MANUAL</td>\n",
              "      <td>rear wheel drive</td>\n",
              "      <td>Compact</td>\n",
              "      <td>Coupe</td>\n",
              "      <td>28</td>\n",
              "      <td>18</td>\n",
              "      <td>3916</td>\n",
              "      <td>29450</td>\n",
              "    </tr>\n",
              "    <tr>\n",
              "      <th>4</th>\n",
              "      <td>BMW</td>\n",
              "      <td>1 Series</td>\n",
              "      <td>2011</td>\n",
              "      <td>230.0</td>\n",
              "      <td>6.0</td>\n",
              "      <td>MANUAL</td>\n",
              "      <td>rear wheel drive</td>\n",
              "      <td>Compact</td>\n",
              "      <td>Convertible</td>\n",
              "      <td>28</td>\n",
              "      <td>18</td>\n",
              "      <td>3916</td>\n",
              "      <td>34500</td>\n",
              "    </tr>\n",
              "  </tbody>\n",
              "</table>\n",
              "</div>"
            ],
            "text/plain": [
              "  Make       Model  Year  Engine HP  ...  highway MPG city mpg Popularity   MSRP\n",
              "0  BMW  1 Series M  2011      335.0  ...           26       19       3916  46135\n",
              "1  BMW    1 Series  2011      300.0  ...           28       19       3916  40650\n",
              "2  BMW    1 Series  2011      300.0  ...           28       20       3916  36350\n",
              "3  BMW    1 Series  2011      230.0  ...           28       18       3916  29450\n",
              "4  BMW    1 Series  2011      230.0  ...           28       18       3916  34500\n",
              "\n",
              "[5 rows x 13 columns]"
            ]
          },
          "metadata": {
            "tags": []
          },
          "execution_count": 266
        }
      ]
    },
    {
      "cell_type": "code",
      "metadata": {
        "id": "VtjyEs2lbsBz",
        "colab_type": "code",
        "colab": {
          "base_uri": "https://localhost:8080/",
          "height": 35
        },
        "outputId": "2ddaa0a5-08cd-4d5f-dccd-027493a2cba9"
      },
      "source": [
        "# Shape of the dataset after dropping the ireelevant columns:-\n",
        "df.shape"
      ],
      "execution_count": 267,
      "outputs": [
        {
          "output_type": "execute_result",
          "data": {
            "text/plain": [
              "(11914, 13)"
            ]
          },
          "metadata": {
            "tags": []
          },
          "execution_count": 267
        }
      ]
    },
    {
      "cell_type": "markdown",
      "metadata": {
        "id": "6tU-Pc-SdBV6",
        "colab_type": "text"
      },
      "source": [
        "**3. Renaming the columns:**"
      ]
    },
    {
      "cell_type": "markdown",
      "metadata": {
        "id": "6w4xalp_dGg_",
        "colab_type": "text"
      },
      "source": [
        "In this instance, most of the columns names are very confusing to read, so just changing it with the names given in the problem statement. "
      ]
    },
    {
      "cell_type": "code",
      "metadata": {
        "id": "jHfoDpgBeZ9C",
        "colab_type": "code",
        "colab": {}
      },
      "source": [
        "# Renaming the name of the columns as given in the problem statement.\n",
        "\n",
        "df = df.rename(columns={\"Engine HP\": \"HP\", \"Engine Cylinders\": \"Cylinders\", \"Transmission Type\": \"Transmission\", \"Driven_Wheels\": \"Drive Mode\",\"highway MPG\": \"MPG-H\", \"city mpg\": \"MPG-C\", \"MSRP\": \"Price\" })"
      ],
      "execution_count": 268,
      "outputs": []
    },
    {
      "cell_type": "code",
      "metadata": {
        "id": "hLyCdW81eiV7",
        "colab_type": "code",
        "colab": {
          "base_uri": "https://localhost:8080/",
          "height": 355
        },
        "outputId": "ad51c5c1-6148-4326-8785-21773b3c2090"
      },
      "source": [
        "df.head(10)"
      ],
      "execution_count": 269,
      "outputs": [
        {
          "output_type": "execute_result",
          "data": {
            "text/html": [
              "<div>\n",
              "<style scoped>\n",
              "    .dataframe tbody tr th:only-of-type {\n",
              "        vertical-align: middle;\n",
              "    }\n",
              "\n",
              "    .dataframe tbody tr th {\n",
              "        vertical-align: top;\n",
              "    }\n",
              "\n",
              "    .dataframe thead th {\n",
              "        text-align: right;\n",
              "    }\n",
              "</style>\n",
              "<table border=\"1\" class=\"dataframe\">\n",
              "  <thead>\n",
              "    <tr style=\"text-align: right;\">\n",
              "      <th></th>\n",
              "      <th>Make</th>\n",
              "      <th>Model</th>\n",
              "      <th>Year</th>\n",
              "      <th>HP</th>\n",
              "      <th>Cylinders</th>\n",
              "      <th>Transmission</th>\n",
              "      <th>Drive Mode</th>\n",
              "      <th>Vehicle Size</th>\n",
              "      <th>Vehicle Style</th>\n",
              "      <th>MPG-H</th>\n",
              "      <th>MPG-C</th>\n",
              "      <th>Popularity</th>\n",
              "      <th>Price</th>\n",
              "    </tr>\n",
              "  </thead>\n",
              "  <tbody>\n",
              "    <tr>\n",
              "      <th>0</th>\n",
              "      <td>BMW</td>\n",
              "      <td>1 Series M</td>\n",
              "      <td>2011</td>\n",
              "      <td>335.0</td>\n",
              "      <td>6.0</td>\n",
              "      <td>MANUAL</td>\n",
              "      <td>rear wheel drive</td>\n",
              "      <td>Compact</td>\n",
              "      <td>Coupe</td>\n",
              "      <td>26</td>\n",
              "      <td>19</td>\n",
              "      <td>3916</td>\n",
              "      <td>46135</td>\n",
              "    </tr>\n",
              "    <tr>\n",
              "      <th>1</th>\n",
              "      <td>BMW</td>\n",
              "      <td>1 Series</td>\n",
              "      <td>2011</td>\n",
              "      <td>300.0</td>\n",
              "      <td>6.0</td>\n",
              "      <td>MANUAL</td>\n",
              "      <td>rear wheel drive</td>\n",
              "      <td>Compact</td>\n",
              "      <td>Convertible</td>\n",
              "      <td>28</td>\n",
              "      <td>19</td>\n",
              "      <td>3916</td>\n",
              "      <td>40650</td>\n",
              "    </tr>\n",
              "    <tr>\n",
              "      <th>2</th>\n",
              "      <td>BMW</td>\n",
              "      <td>1 Series</td>\n",
              "      <td>2011</td>\n",
              "      <td>300.0</td>\n",
              "      <td>6.0</td>\n",
              "      <td>MANUAL</td>\n",
              "      <td>rear wheel drive</td>\n",
              "      <td>Compact</td>\n",
              "      <td>Coupe</td>\n",
              "      <td>28</td>\n",
              "      <td>20</td>\n",
              "      <td>3916</td>\n",
              "      <td>36350</td>\n",
              "    </tr>\n",
              "    <tr>\n",
              "      <th>3</th>\n",
              "      <td>BMW</td>\n",
              "      <td>1 Series</td>\n",
              "      <td>2011</td>\n",
              "      <td>230.0</td>\n",
              "      <td>6.0</td>\n",
              "      <td>MANUAL</td>\n",
              "      <td>rear wheel drive</td>\n",
              "      <td>Compact</td>\n",
              "      <td>Coupe</td>\n",
              "      <td>28</td>\n",
              "      <td>18</td>\n",
              "      <td>3916</td>\n",
              "      <td>29450</td>\n",
              "    </tr>\n",
              "    <tr>\n",
              "      <th>4</th>\n",
              "      <td>BMW</td>\n",
              "      <td>1 Series</td>\n",
              "      <td>2011</td>\n",
              "      <td>230.0</td>\n",
              "      <td>6.0</td>\n",
              "      <td>MANUAL</td>\n",
              "      <td>rear wheel drive</td>\n",
              "      <td>Compact</td>\n",
              "      <td>Convertible</td>\n",
              "      <td>28</td>\n",
              "      <td>18</td>\n",
              "      <td>3916</td>\n",
              "      <td>34500</td>\n",
              "    </tr>\n",
              "    <tr>\n",
              "      <th>5</th>\n",
              "      <td>BMW</td>\n",
              "      <td>1 Series</td>\n",
              "      <td>2012</td>\n",
              "      <td>230.0</td>\n",
              "      <td>6.0</td>\n",
              "      <td>MANUAL</td>\n",
              "      <td>rear wheel drive</td>\n",
              "      <td>Compact</td>\n",
              "      <td>Coupe</td>\n",
              "      <td>28</td>\n",
              "      <td>18</td>\n",
              "      <td>3916</td>\n",
              "      <td>31200</td>\n",
              "    </tr>\n",
              "    <tr>\n",
              "      <th>6</th>\n",
              "      <td>BMW</td>\n",
              "      <td>1 Series</td>\n",
              "      <td>2012</td>\n",
              "      <td>300.0</td>\n",
              "      <td>6.0</td>\n",
              "      <td>MANUAL</td>\n",
              "      <td>rear wheel drive</td>\n",
              "      <td>Compact</td>\n",
              "      <td>Convertible</td>\n",
              "      <td>26</td>\n",
              "      <td>17</td>\n",
              "      <td>3916</td>\n",
              "      <td>44100</td>\n",
              "    </tr>\n",
              "    <tr>\n",
              "      <th>7</th>\n",
              "      <td>BMW</td>\n",
              "      <td>1 Series</td>\n",
              "      <td>2012</td>\n",
              "      <td>300.0</td>\n",
              "      <td>6.0</td>\n",
              "      <td>MANUAL</td>\n",
              "      <td>rear wheel drive</td>\n",
              "      <td>Compact</td>\n",
              "      <td>Coupe</td>\n",
              "      <td>28</td>\n",
              "      <td>20</td>\n",
              "      <td>3916</td>\n",
              "      <td>39300</td>\n",
              "    </tr>\n",
              "    <tr>\n",
              "      <th>8</th>\n",
              "      <td>BMW</td>\n",
              "      <td>1 Series</td>\n",
              "      <td>2012</td>\n",
              "      <td>230.0</td>\n",
              "      <td>6.0</td>\n",
              "      <td>MANUAL</td>\n",
              "      <td>rear wheel drive</td>\n",
              "      <td>Compact</td>\n",
              "      <td>Convertible</td>\n",
              "      <td>28</td>\n",
              "      <td>18</td>\n",
              "      <td>3916</td>\n",
              "      <td>36900</td>\n",
              "    </tr>\n",
              "    <tr>\n",
              "      <th>9</th>\n",
              "      <td>BMW</td>\n",
              "      <td>1 Series</td>\n",
              "      <td>2013</td>\n",
              "      <td>230.0</td>\n",
              "      <td>6.0</td>\n",
              "      <td>MANUAL</td>\n",
              "      <td>rear wheel drive</td>\n",
              "      <td>Compact</td>\n",
              "      <td>Convertible</td>\n",
              "      <td>27</td>\n",
              "      <td>18</td>\n",
              "      <td>3916</td>\n",
              "      <td>37200</td>\n",
              "    </tr>\n",
              "  </tbody>\n",
              "</table>\n",
              "</div>"
            ],
            "text/plain": [
              "  Make       Model  Year     HP  ...  MPG-H MPG-C Popularity  Price\n",
              "0  BMW  1 Series M  2011  335.0  ...     26    19       3916  46135\n",
              "1  BMW    1 Series  2011  300.0  ...     28    19       3916  40650\n",
              "2  BMW    1 Series  2011  300.0  ...     28    20       3916  36350\n",
              "3  BMW    1 Series  2011  230.0  ...     28    18       3916  29450\n",
              "4  BMW    1 Series  2011  230.0  ...     28    18       3916  34500\n",
              "5  BMW    1 Series  2012  230.0  ...     28    18       3916  31200\n",
              "6  BMW    1 Series  2012  300.0  ...     26    17       3916  44100\n",
              "7  BMW    1 Series  2012  300.0  ...     28    20       3916  39300\n",
              "8  BMW    1 Series  2012  230.0  ...     28    18       3916  36900\n",
              "9  BMW    1 Series  2013  230.0  ...     27    18       3916  37200\n",
              "\n",
              "[10 rows x 13 columns]"
            ]
          },
          "metadata": {
            "tags": []
          },
          "execution_count": 269
        }
      ]
    },
    {
      "cell_type": "markdown",
      "metadata": {
        "id": "5_jJTI_khMNU",
        "colab_type": "text"
      },
      "source": [
        "**4. Check for any duplicates in the data, check for null values and missing data and remove\n",
        "them.**\n"
      ]
    },
    {
      "cell_type": "markdown",
      "metadata": {
        "id": "yAut_nrAhUEg",
        "colab_type": "text"
      },
      "source": [
        "**4.1 Dropping the duplicates from the dataset:**"
      ]
    },
    {
      "cell_type": "markdown",
      "metadata": {
        "id": "To-d5RNe7WJr",
        "colab_type": "text"
      },
      "source": [
        "This is often a handly thing to do because a huge dataset have some duplicate data which might be disturbing, so here I remove all duplicate values."
      ]
    },
    {
      "cell_type": "code",
      "metadata": {
        "id": "Wt3ghf4y7LG4",
        "colab_type": "code",
        "colab": {
          "base_uri": "https://localhost:8080/",
          "height": 35
        },
        "outputId": "e685e717-0584-4916-a27a-7014a76d9432"
      },
      "source": [
        "# Checking shape of dataset before dropping duplicates, null values and the missing data:\n",
        "df.shape"
      ],
      "execution_count": 270,
      "outputs": [
        {
          "output_type": "execute_result",
          "data": {
            "text/plain": [
              "(11914, 13)"
            ]
          },
          "metadata": {
            "tags": []
          },
          "execution_count": 270
        }
      ]
    },
    {
      "cell_type": "code",
      "metadata": {
        "id": "UqpP6M7R75XM",
        "colab_type": "code",
        "colab": {
          "base_uri": "https://localhost:8080/",
          "height": 415
        },
        "outputId": "a90fa3e9-e15a-4c9a-c4d7-4976db9854e1"
      },
      "source": [
        "# Detecting and dropping the duplicates:\n",
        "df.drop_duplicates()"
      ],
      "execution_count": 271,
      "outputs": [
        {
          "output_type": "execute_result",
          "data": {
            "text/html": [
              "<div>\n",
              "<style scoped>\n",
              "    .dataframe tbody tr th:only-of-type {\n",
              "        vertical-align: middle;\n",
              "    }\n",
              "\n",
              "    .dataframe tbody tr th {\n",
              "        vertical-align: top;\n",
              "    }\n",
              "\n",
              "    .dataframe thead th {\n",
              "        text-align: right;\n",
              "    }\n",
              "</style>\n",
              "<table border=\"1\" class=\"dataframe\">\n",
              "  <thead>\n",
              "    <tr style=\"text-align: right;\">\n",
              "      <th></th>\n",
              "      <th>Make</th>\n",
              "      <th>Model</th>\n",
              "      <th>Year</th>\n",
              "      <th>HP</th>\n",
              "      <th>Cylinders</th>\n",
              "      <th>Transmission</th>\n",
              "      <th>Drive Mode</th>\n",
              "      <th>Vehicle Size</th>\n",
              "      <th>Vehicle Style</th>\n",
              "      <th>MPG-H</th>\n",
              "      <th>MPG-C</th>\n",
              "      <th>Popularity</th>\n",
              "      <th>Price</th>\n",
              "    </tr>\n",
              "  </thead>\n",
              "  <tbody>\n",
              "    <tr>\n",
              "      <th>0</th>\n",
              "      <td>BMW</td>\n",
              "      <td>1 Series M</td>\n",
              "      <td>2011</td>\n",
              "      <td>335.0</td>\n",
              "      <td>6.0</td>\n",
              "      <td>MANUAL</td>\n",
              "      <td>rear wheel drive</td>\n",
              "      <td>Compact</td>\n",
              "      <td>Coupe</td>\n",
              "      <td>26</td>\n",
              "      <td>19</td>\n",
              "      <td>3916</td>\n",
              "      <td>46135</td>\n",
              "    </tr>\n",
              "    <tr>\n",
              "      <th>1</th>\n",
              "      <td>BMW</td>\n",
              "      <td>1 Series</td>\n",
              "      <td>2011</td>\n",
              "      <td>300.0</td>\n",
              "      <td>6.0</td>\n",
              "      <td>MANUAL</td>\n",
              "      <td>rear wheel drive</td>\n",
              "      <td>Compact</td>\n",
              "      <td>Convertible</td>\n",
              "      <td>28</td>\n",
              "      <td>19</td>\n",
              "      <td>3916</td>\n",
              "      <td>40650</td>\n",
              "    </tr>\n",
              "    <tr>\n",
              "      <th>2</th>\n",
              "      <td>BMW</td>\n",
              "      <td>1 Series</td>\n",
              "      <td>2011</td>\n",
              "      <td>300.0</td>\n",
              "      <td>6.0</td>\n",
              "      <td>MANUAL</td>\n",
              "      <td>rear wheel drive</td>\n",
              "      <td>Compact</td>\n",
              "      <td>Coupe</td>\n",
              "      <td>28</td>\n",
              "      <td>20</td>\n",
              "      <td>3916</td>\n",
              "      <td>36350</td>\n",
              "    </tr>\n",
              "    <tr>\n",
              "      <th>3</th>\n",
              "      <td>BMW</td>\n",
              "      <td>1 Series</td>\n",
              "      <td>2011</td>\n",
              "      <td>230.0</td>\n",
              "      <td>6.0</td>\n",
              "      <td>MANUAL</td>\n",
              "      <td>rear wheel drive</td>\n",
              "      <td>Compact</td>\n",
              "      <td>Coupe</td>\n",
              "      <td>28</td>\n",
              "      <td>18</td>\n",
              "      <td>3916</td>\n",
              "      <td>29450</td>\n",
              "    </tr>\n",
              "    <tr>\n",
              "      <th>4</th>\n",
              "      <td>BMW</td>\n",
              "      <td>1 Series</td>\n",
              "      <td>2011</td>\n",
              "      <td>230.0</td>\n",
              "      <td>6.0</td>\n",
              "      <td>MANUAL</td>\n",
              "      <td>rear wheel drive</td>\n",
              "      <td>Compact</td>\n",
              "      <td>Convertible</td>\n",
              "      <td>28</td>\n",
              "      <td>18</td>\n",
              "      <td>3916</td>\n",
              "      <td>34500</td>\n",
              "    </tr>\n",
              "    <tr>\n",
              "      <th>...</th>\n",
              "      <td>...</td>\n",
              "      <td>...</td>\n",
              "      <td>...</td>\n",
              "      <td>...</td>\n",
              "      <td>...</td>\n",
              "      <td>...</td>\n",
              "      <td>...</td>\n",
              "      <td>...</td>\n",
              "      <td>...</td>\n",
              "      <td>...</td>\n",
              "      <td>...</td>\n",
              "      <td>...</td>\n",
              "      <td>...</td>\n",
              "    </tr>\n",
              "    <tr>\n",
              "      <th>11909</th>\n",
              "      <td>Acura</td>\n",
              "      <td>ZDX</td>\n",
              "      <td>2012</td>\n",
              "      <td>300.0</td>\n",
              "      <td>6.0</td>\n",
              "      <td>AUTOMATIC</td>\n",
              "      <td>all wheel drive</td>\n",
              "      <td>Midsize</td>\n",
              "      <td>4dr Hatchback</td>\n",
              "      <td>23</td>\n",
              "      <td>16</td>\n",
              "      <td>204</td>\n",
              "      <td>46120</td>\n",
              "    </tr>\n",
              "    <tr>\n",
              "      <th>11910</th>\n",
              "      <td>Acura</td>\n",
              "      <td>ZDX</td>\n",
              "      <td>2012</td>\n",
              "      <td>300.0</td>\n",
              "      <td>6.0</td>\n",
              "      <td>AUTOMATIC</td>\n",
              "      <td>all wheel drive</td>\n",
              "      <td>Midsize</td>\n",
              "      <td>4dr Hatchback</td>\n",
              "      <td>23</td>\n",
              "      <td>16</td>\n",
              "      <td>204</td>\n",
              "      <td>56670</td>\n",
              "    </tr>\n",
              "    <tr>\n",
              "      <th>11911</th>\n",
              "      <td>Acura</td>\n",
              "      <td>ZDX</td>\n",
              "      <td>2012</td>\n",
              "      <td>300.0</td>\n",
              "      <td>6.0</td>\n",
              "      <td>AUTOMATIC</td>\n",
              "      <td>all wheel drive</td>\n",
              "      <td>Midsize</td>\n",
              "      <td>4dr Hatchback</td>\n",
              "      <td>23</td>\n",
              "      <td>16</td>\n",
              "      <td>204</td>\n",
              "      <td>50620</td>\n",
              "    </tr>\n",
              "    <tr>\n",
              "      <th>11912</th>\n",
              "      <td>Acura</td>\n",
              "      <td>ZDX</td>\n",
              "      <td>2013</td>\n",
              "      <td>300.0</td>\n",
              "      <td>6.0</td>\n",
              "      <td>AUTOMATIC</td>\n",
              "      <td>all wheel drive</td>\n",
              "      <td>Midsize</td>\n",
              "      <td>4dr Hatchback</td>\n",
              "      <td>23</td>\n",
              "      <td>16</td>\n",
              "      <td>204</td>\n",
              "      <td>50920</td>\n",
              "    </tr>\n",
              "    <tr>\n",
              "      <th>11913</th>\n",
              "      <td>Lincoln</td>\n",
              "      <td>Zephyr</td>\n",
              "      <td>2006</td>\n",
              "      <td>221.0</td>\n",
              "      <td>6.0</td>\n",
              "      <td>AUTOMATIC</td>\n",
              "      <td>front wheel drive</td>\n",
              "      <td>Midsize</td>\n",
              "      <td>Sedan</td>\n",
              "      <td>26</td>\n",
              "      <td>17</td>\n",
              "      <td>61</td>\n",
              "      <td>28995</td>\n",
              "    </tr>\n",
              "  </tbody>\n",
              "</table>\n",
              "<p>11122 rows × 13 columns</p>\n",
              "</div>"
            ],
            "text/plain": [
              "          Make       Model  Year     HP  ...  MPG-H MPG-C Popularity  Price\n",
              "0          BMW  1 Series M  2011  335.0  ...     26    19       3916  46135\n",
              "1          BMW    1 Series  2011  300.0  ...     28    19       3916  40650\n",
              "2          BMW    1 Series  2011  300.0  ...     28    20       3916  36350\n",
              "3          BMW    1 Series  2011  230.0  ...     28    18       3916  29450\n",
              "4          BMW    1 Series  2011  230.0  ...     28    18       3916  34500\n",
              "...        ...         ...   ...    ...  ...    ...   ...        ...    ...\n",
              "11909    Acura         ZDX  2012  300.0  ...     23    16        204  46120\n",
              "11910    Acura         ZDX  2012  300.0  ...     23    16        204  56670\n",
              "11911    Acura         ZDX  2012  300.0  ...     23    16        204  50620\n",
              "11912    Acura         ZDX  2013  300.0  ...     23    16        204  50920\n",
              "11913  Lincoln      Zephyr  2006  221.0  ...     26    17         61  28995\n",
              "\n",
              "[11122 rows x 13 columns]"
            ]
          },
          "metadata": {
            "tags": []
          },
          "execution_count": 271
        }
      ]
    },
    {
      "cell_type": "code",
      "metadata": {
        "id": "uAdnzo5l8t3g",
        "colab_type": "code",
        "colab": {}
      },
      "source": [
        "#removing the duplicates in the data\n",
        "df.drop_duplicates(keep=False,inplace=True)"
      ],
      "execution_count": 272,
      "outputs": []
    },
    {
      "cell_type": "code",
      "metadata": {
        "id": "tqcO7vGE96CU",
        "colab_type": "code",
        "colab": {
          "base_uri": "https://localhost:8080/",
          "height": 415
        },
        "outputId": "4de65d4e-85cd-4d46-b989-2338198dc271"
      },
      "source": [
        "df"
      ],
      "execution_count": 273,
      "outputs": [
        {
          "output_type": "execute_result",
          "data": {
            "text/html": [
              "<div>\n",
              "<style scoped>\n",
              "    .dataframe tbody tr th:only-of-type {\n",
              "        vertical-align: middle;\n",
              "    }\n",
              "\n",
              "    .dataframe tbody tr th {\n",
              "        vertical-align: top;\n",
              "    }\n",
              "\n",
              "    .dataframe thead th {\n",
              "        text-align: right;\n",
              "    }\n",
              "</style>\n",
              "<table border=\"1\" class=\"dataframe\">\n",
              "  <thead>\n",
              "    <tr style=\"text-align: right;\">\n",
              "      <th></th>\n",
              "      <th>Make</th>\n",
              "      <th>Model</th>\n",
              "      <th>Year</th>\n",
              "      <th>HP</th>\n",
              "      <th>Cylinders</th>\n",
              "      <th>Transmission</th>\n",
              "      <th>Drive Mode</th>\n",
              "      <th>Vehicle Size</th>\n",
              "      <th>Vehicle Style</th>\n",
              "      <th>MPG-H</th>\n",
              "      <th>MPG-C</th>\n",
              "      <th>Popularity</th>\n",
              "      <th>Price</th>\n",
              "    </tr>\n",
              "  </thead>\n",
              "  <tbody>\n",
              "    <tr>\n",
              "      <th>0</th>\n",
              "      <td>BMW</td>\n",
              "      <td>1 Series M</td>\n",
              "      <td>2011</td>\n",
              "      <td>335.0</td>\n",
              "      <td>6.0</td>\n",
              "      <td>MANUAL</td>\n",
              "      <td>rear wheel drive</td>\n",
              "      <td>Compact</td>\n",
              "      <td>Coupe</td>\n",
              "      <td>26</td>\n",
              "      <td>19</td>\n",
              "      <td>3916</td>\n",
              "      <td>46135</td>\n",
              "    </tr>\n",
              "    <tr>\n",
              "      <th>1</th>\n",
              "      <td>BMW</td>\n",
              "      <td>1 Series</td>\n",
              "      <td>2011</td>\n",
              "      <td>300.0</td>\n",
              "      <td>6.0</td>\n",
              "      <td>MANUAL</td>\n",
              "      <td>rear wheel drive</td>\n",
              "      <td>Compact</td>\n",
              "      <td>Convertible</td>\n",
              "      <td>28</td>\n",
              "      <td>19</td>\n",
              "      <td>3916</td>\n",
              "      <td>40650</td>\n",
              "    </tr>\n",
              "    <tr>\n",
              "      <th>2</th>\n",
              "      <td>BMW</td>\n",
              "      <td>1 Series</td>\n",
              "      <td>2011</td>\n",
              "      <td>300.0</td>\n",
              "      <td>6.0</td>\n",
              "      <td>MANUAL</td>\n",
              "      <td>rear wheel drive</td>\n",
              "      <td>Compact</td>\n",
              "      <td>Coupe</td>\n",
              "      <td>28</td>\n",
              "      <td>20</td>\n",
              "      <td>3916</td>\n",
              "      <td>36350</td>\n",
              "    </tr>\n",
              "    <tr>\n",
              "      <th>3</th>\n",
              "      <td>BMW</td>\n",
              "      <td>1 Series</td>\n",
              "      <td>2011</td>\n",
              "      <td>230.0</td>\n",
              "      <td>6.0</td>\n",
              "      <td>MANUAL</td>\n",
              "      <td>rear wheel drive</td>\n",
              "      <td>Compact</td>\n",
              "      <td>Coupe</td>\n",
              "      <td>28</td>\n",
              "      <td>18</td>\n",
              "      <td>3916</td>\n",
              "      <td>29450</td>\n",
              "    </tr>\n",
              "    <tr>\n",
              "      <th>4</th>\n",
              "      <td>BMW</td>\n",
              "      <td>1 Series</td>\n",
              "      <td>2011</td>\n",
              "      <td>230.0</td>\n",
              "      <td>6.0</td>\n",
              "      <td>MANUAL</td>\n",
              "      <td>rear wheel drive</td>\n",
              "      <td>Compact</td>\n",
              "      <td>Convertible</td>\n",
              "      <td>28</td>\n",
              "      <td>18</td>\n",
              "      <td>3916</td>\n",
              "      <td>34500</td>\n",
              "    </tr>\n",
              "    <tr>\n",
              "      <th>...</th>\n",
              "      <td>...</td>\n",
              "      <td>...</td>\n",
              "      <td>...</td>\n",
              "      <td>...</td>\n",
              "      <td>...</td>\n",
              "      <td>...</td>\n",
              "      <td>...</td>\n",
              "      <td>...</td>\n",
              "      <td>...</td>\n",
              "      <td>...</td>\n",
              "      <td>...</td>\n",
              "      <td>...</td>\n",
              "      <td>...</td>\n",
              "    </tr>\n",
              "    <tr>\n",
              "      <th>11909</th>\n",
              "      <td>Acura</td>\n",
              "      <td>ZDX</td>\n",
              "      <td>2012</td>\n",
              "      <td>300.0</td>\n",
              "      <td>6.0</td>\n",
              "      <td>AUTOMATIC</td>\n",
              "      <td>all wheel drive</td>\n",
              "      <td>Midsize</td>\n",
              "      <td>4dr Hatchback</td>\n",
              "      <td>23</td>\n",
              "      <td>16</td>\n",
              "      <td>204</td>\n",
              "      <td>46120</td>\n",
              "    </tr>\n",
              "    <tr>\n",
              "      <th>11910</th>\n",
              "      <td>Acura</td>\n",
              "      <td>ZDX</td>\n",
              "      <td>2012</td>\n",
              "      <td>300.0</td>\n",
              "      <td>6.0</td>\n",
              "      <td>AUTOMATIC</td>\n",
              "      <td>all wheel drive</td>\n",
              "      <td>Midsize</td>\n",
              "      <td>4dr Hatchback</td>\n",
              "      <td>23</td>\n",
              "      <td>16</td>\n",
              "      <td>204</td>\n",
              "      <td>56670</td>\n",
              "    </tr>\n",
              "    <tr>\n",
              "      <th>11911</th>\n",
              "      <td>Acura</td>\n",
              "      <td>ZDX</td>\n",
              "      <td>2012</td>\n",
              "      <td>300.0</td>\n",
              "      <td>6.0</td>\n",
              "      <td>AUTOMATIC</td>\n",
              "      <td>all wheel drive</td>\n",
              "      <td>Midsize</td>\n",
              "      <td>4dr Hatchback</td>\n",
              "      <td>23</td>\n",
              "      <td>16</td>\n",
              "      <td>204</td>\n",
              "      <td>50620</td>\n",
              "    </tr>\n",
              "    <tr>\n",
              "      <th>11912</th>\n",
              "      <td>Acura</td>\n",
              "      <td>ZDX</td>\n",
              "      <td>2013</td>\n",
              "      <td>300.0</td>\n",
              "      <td>6.0</td>\n",
              "      <td>AUTOMATIC</td>\n",
              "      <td>all wheel drive</td>\n",
              "      <td>Midsize</td>\n",
              "      <td>4dr Hatchback</td>\n",
              "      <td>23</td>\n",
              "      <td>16</td>\n",
              "      <td>204</td>\n",
              "      <td>50920</td>\n",
              "    </tr>\n",
              "    <tr>\n",
              "      <th>11913</th>\n",
              "      <td>Lincoln</td>\n",
              "      <td>Zephyr</td>\n",
              "      <td>2006</td>\n",
              "      <td>221.0</td>\n",
              "      <td>6.0</td>\n",
              "      <td>AUTOMATIC</td>\n",
              "      <td>front wheel drive</td>\n",
              "      <td>Midsize</td>\n",
              "      <td>Sedan</td>\n",
              "      <td>26</td>\n",
              "      <td>17</td>\n",
              "      <td>61</td>\n",
              "      <td>28995</td>\n",
              "    </tr>\n",
              "  </tbody>\n",
              "</table>\n",
              "<p>10439 rows × 13 columns</p>\n",
              "</div>"
            ],
            "text/plain": [
              "          Make       Model  Year     HP  ...  MPG-H MPG-C Popularity  Price\n",
              "0          BMW  1 Series M  2011  335.0  ...     26    19       3916  46135\n",
              "1          BMW    1 Series  2011  300.0  ...     28    19       3916  40650\n",
              "2          BMW    1 Series  2011  300.0  ...     28    20       3916  36350\n",
              "3          BMW    1 Series  2011  230.0  ...     28    18       3916  29450\n",
              "4          BMW    1 Series  2011  230.0  ...     28    18       3916  34500\n",
              "...        ...         ...   ...    ...  ...    ...   ...        ...    ...\n",
              "11909    Acura         ZDX  2012  300.0  ...     23    16        204  46120\n",
              "11910    Acura         ZDX  2012  300.0  ...     23    16        204  56670\n",
              "11911    Acura         ZDX  2012  300.0  ...     23    16        204  50620\n",
              "11912    Acura         ZDX  2013  300.0  ...     23    16        204  50920\n",
              "11913  Lincoln      Zephyr  2006  221.0  ...     26    17         61  28995\n",
              "\n",
              "[10439 rows x 13 columns]"
            ]
          },
          "metadata": {
            "tags": []
          },
          "execution_count": 273
        }
      ]
    },
    {
      "cell_type": "markdown",
      "metadata": {
        "id": "zxQhKPTZ_Loe",
        "colab_type": "text"
      },
      "source": [
        "**4.2 Dropping the null values from the dataset:**"
      ]
    },
    {
      "cell_type": "markdown",
      "metadata": {
        "id": "xPD6jtrN_yen",
        "colab_type": "text"
      },
      "source": [
        "These null values adversely affect the performance and accuracy of any machine learning algorithm. So, it is very important to remove null values from the dataset before applying any machine learning algorithm to that dataset."
      ]
    },
    {
      "cell_type": "markdown",
      "metadata": {
        "id": "kqJSMdvAAbOJ",
        "colab_type": "text"
      },
      "source": [
        "Firstly, find the null values in the dataset:-"
      ]
    },
    {
      "cell_type": "code",
      "metadata": {
        "id": "68OkmG6yAaLI",
        "colab_type": "code",
        "colab": {
          "base_uri": "https://localhost:8080/",
          "height": 260
        },
        "outputId": "427c0241-8303-4f94-87bf-759e148e8420"
      },
      "source": [
        "# Checking the remaining NULL values\n",
        "print(df.isnull().sum())"
      ],
      "execution_count": 274,
      "outputs": [
        {
          "output_type": "stream",
          "text": [
            "Make              0\n",
            "Model             0\n",
            "Year              0\n",
            "HP               69\n",
            "Cylinders        30\n",
            "Transmission      0\n",
            "Drive Mode        0\n",
            "Vehicle Size      0\n",
            "Vehicle Style     0\n",
            "MPG-H             0\n",
            "MPG-C             0\n",
            "Popularity        0\n",
            "Price             0\n",
            "dtype: int64\n"
          ],
          "name": "stdout"
        }
      ]
    },
    {
      "cell_type": "markdown",
      "metadata": {
        "id": "xPgxi9EoL6Sv",
        "colab_type": "text"
      },
      "source": [
        "Clearly, we can see that both cylinders and HP had less count(stated above in the output portion).Therefore dropping these values."
      ]
    },
    {
      "cell_type": "markdown",
      "metadata": {
        "id": "KCNqhX4IorIC",
        "colab_type": "text"
      },
      "source": [
        "Now, dropping the null values from the dataset."
      ]
    },
    {
      "cell_type": "code",
      "metadata": {
        "id": "MBk5H7ojAWaS",
        "colab_type": "code",
        "colab": {
          "base_uri": "https://localhost:8080/",
          "height": 260
        },
        "outputId": "52a77eee-a209-45aa-f2be-6034639d62d0"
      },
      "source": [
        "# Dropping the null values\n",
        "df=df.dropna()\n",
        "df.count()"
      ],
      "execution_count": 275,
      "outputs": [
        {
          "output_type": "execute_result",
          "data": {
            "text/plain": [
              "Make             10341\n",
              "Model            10341\n",
              "Year             10341\n",
              "HP               10341\n",
              "Cylinders        10341\n",
              "Transmission     10341\n",
              "Drive Mode       10341\n",
              "Vehicle Size     10341\n",
              "Vehicle Style    10341\n",
              "MPG-H            10341\n",
              "MPG-C            10341\n",
              "Popularity       10341\n",
              "Price            10341\n",
              "dtype: int64"
            ]
          },
          "metadata": {
            "tags": []
          },
          "execution_count": 275
        }
      ]
    },
    {
      "cell_type": "code",
      "metadata": {
        "id": "3ajCaa_6BS0r",
        "colab_type": "code",
        "colab": {
          "base_uri": "https://localhost:8080/",
          "height": 260
        },
        "outputId": "8be39d23-740f-4c0b-ea35-977924db38bb"
      },
      "source": [
        "# Checking the number of null values after the null data is dropped\n",
        "df.isnull().sum()"
      ],
      "execution_count": 276,
      "outputs": [
        {
          "output_type": "execute_result",
          "data": {
            "text/plain": [
              "Make             0\n",
              "Model            0\n",
              "Year             0\n",
              "HP               0\n",
              "Cylinders        0\n",
              "Transmission     0\n",
              "Drive Mode       0\n",
              "Vehicle Size     0\n",
              "Vehicle Style    0\n",
              "MPG-H            0\n",
              "MPG-C            0\n",
              "Popularity       0\n",
              "Price            0\n",
              "dtype: int64"
            ]
          },
          "metadata": {
            "tags": []
          },
          "execution_count": 276
        }
      ]
    },
    {
      "cell_type": "code",
      "metadata": {
        "id": "BgTNfwO-rVwS",
        "colab_type": "code",
        "colab": {
          "base_uri": "https://localhost:8080/",
          "height": 35
        },
        "outputId": "efa140bc-9f17-48db-8e39-794906a92866"
      },
      "source": [
        "# Checking shape of dataset after removal of duplicates, missing data and Null values\n",
        "df.shape"
      ],
      "execution_count": 277,
      "outputs": [
        {
          "output_type": "execute_result",
          "data": {
            "text/plain": [
              "(10341, 13)"
            ]
          },
          "metadata": {
            "tags": []
          },
          "execution_count": 277
        }
      ]
    },
    {
      "cell_type": "markdown",
      "metadata": {
        "id": "8Gv3CcMqp2Xc",
        "colab_type": "text"
      },
      "source": [
        "Thus, till now we have observed that the shape of the given dataset has significantly changed after dropping the duplicates, null values, and missing values.\n",
        "\n",
        "It can be seen that the number of rows changed down from 11914 to 10341 after removal of duplicates, null values, and missing values with the number of columns being constant i.e. 13."
      ]
    },
    {
      "cell_type": "markdown",
      "metadata": {
        "id": "wat5VQEvNwcA",
        "colab_type": "text"
      },
      "source": [
        "**5. Plot graphs of various columns to check for outliers and remove those data points from the\n",
        "dataset.**"
      ]
    },
    {
      "cell_type": "markdown",
      "metadata": {
        "id": "c7_w0y4bN40I",
        "colab_type": "text"
      },
      "source": [
        "Outliers are unusual values in your dataset, and they can distort statistical analyses and violate their assumptions.An outlier is an observation that lies an abnormal distance from other values in a random sample from a population.In statistics, an outlier is an observation point that is distant from other observations. In a sense, this definition leaves it up to the analyst (or a consensus process) to decide what will be considered abnormal. Before abnormal observations can be singled out, it is necessary to characterize normal observations.Outliers can be seen with visualizations using a box plot."
      ]
    },
    {
      "cell_type": "markdown",
      "metadata": {
        "id": "ei-v5e4CsO2-",
        "colab_type": "text"
      },
      "source": [
        "**Box Plot for Outliers:-**"
      ]
    },
    {
      "cell_type": "markdown",
      "metadata": {
        "id": "HM9-ht33sTEh",
        "colab_type": "text"
      },
      "source": [
        "In descriptive statistics, a box plot is a method for graphically depicting groups of numerical data through their quartiles. Box plots may also have lines extending vertically from the boxes (whiskers) indicating variability outside the upper and lower quartiles, hence the terms boxand-whisker plot and box-and-whisker diagram. Outliers may be plotted as individual points."
      ]
    },
    {
      "cell_type": "code",
      "metadata": {
        "id": "2brzWuopsrFC",
        "colab_type": "code",
        "colab": {
          "base_uri": "https://localhost:8080/",
          "height": 295
        },
        "outputId": "a2402d7a-b05b-488b-e0b0-7fe367c1976f"
      },
      "source": [
        "#Checking for any outliers in the data\n",
        "sns.boxplot(data=df,orient='h',palette='Set2')"
      ],
      "execution_count": 278,
      "outputs": [
        {
          "output_type": "execute_result",
          "data": {
            "text/plain": [
              "<matplotlib.axes._subplots.AxesSubplot at 0x7efec4f557f0>"
            ]
          },
          "metadata": {
            "tags": []
          },
          "execution_count": 278
        },
        {
          "output_type": "display_data",
          "data": {
            "image/png": "[encoded data removed]",
            "text/plain": [
              "<Figure size 432x288 with 1 Axes>"
            ]
          },
          "metadata": {
            "tags": [],
            "needs_background": "light"
          }
        }
      ]
    },
    {
      "cell_type": "code",
      "metadata": {
        "id": "zsHRkf7xtCaV",
        "colab_type": "code",
        "colab": {
          "base_uri": "https://localhost:8080/",
          "height": 139
        },
        "outputId": "447e804f-a5c2-4208-d2a7-81061ce043af"
      },
      "source": [
        "#Removing the unnecessary data points from the dataset\n",
        "df.drop(df[df['Price'] >= 500000].index,inplace=True)"
      ],
      "execution_count": 279,
      "outputs": [
        {
          "output_type": "stream",
          "text": [
            "/usr/local/lib/python3.6/dist-packages/pandas/core/frame.py:3997: SettingWithCopyWarning:\n",
            "\n",
            "\n",
            "A value is trying to be set on a copy of a slice from a DataFrame\n",
            "\n",
            "See the caveats in the documentation: https://pandas.pydata.org/pandas-docs/stable/user_guide/indexing.html#returning-a-view-versus-a-copy\n",
            "\n"
          ],
          "name": "stderr"
        }
      ]
    },
    {
      "cell_type": "code",
      "metadata": {
        "id": "OURvnBtmtLzm",
        "colab_type": "code",
        "colab": {
          "base_uri": "https://localhost:8080/",
          "height": 415
        },
        "outputId": "a3cc802f-4556-410f-b07d-3e2608913834"
      },
      "source": [
        "df"
      ],
      "execution_count": 280,
      "outputs": [
        {
          "output_type": "execute_result",
          "data": {
            "text/html": [
              "<div>\n",
              "<style scoped>\n",
              "    .dataframe tbody tr th:only-of-type {\n",
              "        vertical-align: middle;\n",
              "    }\n",
              "\n",
              "    .dataframe tbody tr th {\n",
              "        vertical-align: top;\n",
              "    }\n",
              "\n",
              "    .dataframe thead th {\n",
              "        text-align: right;\n",
              "    }\n",
              "</style>\n",
              "<table border=\"1\" class=\"dataframe\">\n",
              "  <thead>\n",
              "    <tr style=\"text-align: right;\">\n",
              "      <th></th>\n",
              "      <th>Make</th>\n",
              "      <th>Model</th>\n",
              "      <th>Year</th>\n",
              "      <th>HP</th>\n",
              "      <th>Cylinders</th>\n",
              "      <th>Transmission</th>\n",
              "      <th>Drive Mode</th>\n",
              "      <th>Vehicle Size</th>\n",
              "      <th>Vehicle Style</th>\n",
              "      <th>MPG-H</th>\n",
              "      <th>MPG-C</th>\n",
              "      <th>Popularity</th>\n",
              "      <th>Price</th>\n",
              "    </tr>\n",
              "  </thead>\n",
              "  <tbody>\n",
              "    <tr>\n",
              "      <th>0</th>\n",
              "      <td>BMW</td>\n",
              "      <td>1 Series M</td>\n",
              "      <td>2011</td>\n",
              "      <td>335.0</td>\n",
              "      <td>6.0</td>\n",
              "      <td>MANUAL</td>\n",
              "      <td>rear wheel drive</td>\n",
              "      <td>Compact</td>\n",
              "      <td>Coupe</td>\n",
              "      <td>26</td>\n",
              "      <td>19</td>\n",
              "      <td>3916</td>\n",
              "      <td>46135</td>\n",
              "    </tr>\n",
              "    <tr>\n",
              "      <th>1</th>\n",
              "      <td>BMW</td>\n",
              "      <td>1 Series</td>\n",
              "      <td>2011</td>\n",
              "      <td>300.0</td>\n",
              "      <td>6.0</td>\n",
              "      <td>MANUAL</td>\n",
              "      <td>rear wheel drive</td>\n",
              "      <td>Compact</td>\n",
              "      <td>Convertible</td>\n",
              "      <td>28</td>\n",
              "      <td>19</td>\n",
              "      <td>3916</td>\n",
              "      <td>40650</td>\n",
              "    </tr>\n",
              "    <tr>\n",
              "      <th>2</th>\n",
              "      <td>BMW</td>\n",
              "      <td>1 Series</td>\n",
              "      <td>2011</td>\n",
              "      <td>300.0</td>\n",
              "      <td>6.0</td>\n",
              "      <td>MANUAL</td>\n",
              "      <td>rear wheel drive</td>\n",
              "      <td>Compact</td>\n",
              "      <td>Coupe</td>\n",
              "      <td>28</td>\n",
              "      <td>20</td>\n",
              "      <td>3916</td>\n",
              "      <td>36350</td>\n",
              "    </tr>\n",
              "    <tr>\n",
              "      <th>3</th>\n",
              "      <td>BMW</td>\n",
              "      <td>1 Series</td>\n",
              "      <td>2011</td>\n",
              "      <td>230.0</td>\n",
              "      <td>6.0</td>\n",
              "      <td>MANUAL</td>\n",
              "      <td>rear wheel drive</td>\n",
              "      <td>Compact</td>\n",
              "      <td>Coupe</td>\n",
              "      <td>28</td>\n",
              "      <td>18</td>\n",
              "      <td>3916</td>\n",
              "      <td>29450</td>\n",
              "    </tr>\n",
              "    <tr>\n",
              "      <th>4</th>\n",
              "      <td>BMW</td>\n",
              "      <td>1 Series</td>\n",
              "      <td>2011</td>\n",
              "      <td>230.0</td>\n",
              "      <td>6.0</td>\n",
              "      <td>MANUAL</td>\n",
              "      <td>rear wheel drive</td>\n",
              "      <td>Compact</td>\n",
              "      <td>Convertible</td>\n",
              "      <td>28</td>\n",
              "      <td>18</td>\n",
              "      <td>3916</td>\n",
              "      <td>34500</td>\n",
              "    </tr>\n",
              "    <tr>\n",
              "      <th>...</th>\n",
              "      <td>...</td>\n",
              "      <td>...</td>\n",
              "      <td>...</td>\n",
              "      <td>...</td>\n",
              "      <td>...</td>\n",
              "      <td>...</td>\n",
              "      <td>...</td>\n",
              "      <td>...</td>\n",
              "      <td>...</td>\n",
              "      <td>...</td>\n",
              "      <td>...</td>\n",
              "      <td>...</td>\n",
              "      <td>...</td>\n",
              "    </tr>\n",
              "    <tr>\n",
              "      <th>11909</th>\n",
              "      <td>Acura</td>\n",
              "      <td>ZDX</td>\n",
              "      <td>2012</td>\n",
              "      <td>300.0</td>\n",
              "      <td>6.0</td>\n",
              "      <td>AUTOMATIC</td>\n",
              "      <td>all wheel drive</td>\n",
              "      <td>Midsize</td>\n",
              "      <td>4dr Hatchback</td>\n",
              "      <td>23</td>\n",
              "      <td>16</td>\n",
              "      <td>204</td>\n",
              "      <td>46120</td>\n",
              "    </tr>\n",
              "    <tr>\n",
              "      <th>11910</th>\n",
              "      <td>Acura</td>\n",
              "      <td>ZDX</td>\n",
              "      <td>2012</td>\n",
              "      <td>300.0</td>\n",
              "      <td>6.0</td>\n",
              "      <td>AUTOMATIC</td>\n",
              "      <td>all wheel drive</td>\n",
              "      <td>Midsize</td>\n",
              "      <td>4dr Hatchback</td>\n",
              "      <td>23</td>\n",
              "      <td>16</td>\n",
              "      <td>204</td>\n",
              "      <td>56670</td>\n",
              "    </tr>\n",
              "    <tr>\n",
              "      <th>11911</th>\n",
              "      <td>Acura</td>\n",
              "      <td>ZDX</td>\n",
              "      <td>2012</td>\n",
              "      <td>300.0</td>\n",
              "      <td>6.0</td>\n",
              "      <td>AUTOMATIC</td>\n",
              "      <td>all wheel drive</td>\n",
              "      <td>Midsize</td>\n",
              "      <td>4dr Hatchback</td>\n",
              "      <td>23</td>\n",
              "      <td>16</td>\n",
              "      <td>204</td>\n",
              "      <td>50620</td>\n",
              "    </tr>\n",
              "    <tr>\n",
              "      <th>11912</th>\n",
              "      <td>Acura</td>\n",
              "      <td>ZDX</td>\n",
              "      <td>2013</td>\n",
              "      <td>300.0</td>\n",
              "      <td>6.0</td>\n",
              "      <td>AUTOMATIC</td>\n",
              "      <td>all wheel drive</td>\n",
              "      <td>Midsize</td>\n",
              "      <td>4dr Hatchback</td>\n",
              "      <td>23</td>\n",
              "      <td>16</td>\n",
              "      <td>204</td>\n",
              "      <td>50920</td>\n",
              "    </tr>\n",
              "    <tr>\n",
              "      <th>11913</th>\n",
              "      <td>Lincoln</td>\n",
              "      <td>Zephyr</td>\n",
              "      <td>2006</td>\n",
              "      <td>221.0</td>\n",
              "      <td>6.0</td>\n",
              "      <td>AUTOMATIC</td>\n",
              "      <td>front wheel drive</td>\n",
              "      <td>Midsize</td>\n",
              "      <td>Sedan</td>\n",
              "      <td>26</td>\n",
              "      <td>17</td>\n",
              "      <td>61</td>\n",
              "      <td>28995</td>\n",
              "    </tr>\n",
              "  </tbody>\n",
              "</table>\n",
              "<p>10330 rows × 13 columns</p>\n",
              "</div>"
            ],
            "text/plain": [
              "          Make       Model  Year     HP  ...  MPG-H MPG-C Popularity  Price\n",
              "0          BMW  1 Series M  2011  335.0  ...     26    19       3916  46135\n",
              "1          BMW    1 Series  2011  300.0  ...     28    19       3916  40650\n",
              "2          BMW    1 Series  2011  300.0  ...     28    20       3916  36350\n",
              "3          BMW    1 Series  2011  230.0  ...     28    18       3916  29450\n",
              "4          BMW    1 Series  2011  230.0  ...     28    18       3916  34500\n",
              "...        ...         ...   ...    ...  ...    ...   ...        ...    ...\n",
              "11909    Acura         ZDX  2012  300.0  ...     23    16        204  46120\n",
              "11910    Acura         ZDX  2012  300.0  ...     23    16        204  56670\n",
              "11911    Acura         ZDX  2012  300.0  ...     23    16        204  50620\n",
              "11912    Acura         ZDX  2013  300.0  ...     23    16        204  50920\n",
              "11913  Lincoln      Zephyr  2006  221.0  ...     26    17         61  28995\n",
              "\n",
              "[10330 rows x 13 columns]"
            ]
          },
          "metadata": {
            "tags": []
          },
          "execution_count": 280
        }
      ]
    },
    {
      "cell_type": "markdown",
      "metadata": {
        "id": "8d73TIDWNKM3",
        "colab_type": "text"
      },
      "source": [
        "**5.1 Plotting graphs of given data(columns):-**"
      ]
    },
    {
      "cell_type": "markdown",
      "metadata": {
        "id": "mrLfAtmCN--J",
        "colab_type": "text"
      },
      "source": [
        "**5.1.1 Box plot of MSRP:-**"
      ]
    },
    {
      "cell_type": "code",
      "metadata": {
        "id": "kdqRgRoJOzpQ",
        "colab_type": "code",
        "colab": {
          "base_uri": "https://localhost:8080/",
          "height": 297
        },
        "outputId": "4a60b3b5-4a87-4d51-809b-bbe73e16944f"
      },
      "source": [
        "sns.boxplot(x=df['HP'])\n",
        "# HP - Horse Power"
      ],
      "execution_count": 281,
      "outputs": [
        {
          "output_type": "execute_result",
          "data": {
            "text/plain": [
              "<matplotlib.axes._subplots.AxesSubplot at 0x7efec4ea82e8>"
            ]
          },
          "metadata": {
            "tags": []
          },
          "execution_count": 281
        },
        {
          "output_type": "display_data",
          "data": {
            "image/png": "[encoded data removed]",
            "text/plain": [
              "<Figure size 432x288 with 1 Axes>"
            ]
          },
          "metadata": {
            "tags": [],
            "needs_background": "light"
          }
        }
      ]
    },
    {
      "cell_type": "markdown",
      "metadata": {
        "id": "wh1IlqpgTsek",
        "colab_type": "text"
      },
      "source": [
        "**5.1.2 Box plot of Cylinders:-**"
      ]
    },
    {
      "cell_type": "code",
      "metadata": {
        "id": "rAhxNy2kPyTI",
        "colab_type": "code",
        "colab": {
          "base_uri": "https://localhost:8080/",
          "height": 297
        },
        "outputId": "79a5390d-12dc-4138-aed7-e71ec2fa851a"
      },
      "source": [
        "sns.boxplot(x=df['Cylinders'])\n",
        "# Cylinders - Number of cylinders the car is having"
      ],
      "execution_count": 282,
      "outputs": [
        {
          "output_type": "execute_result",
          "data": {
            "text/plain": [
              "<matplotlib.axes._subplots.AxesSubplot at 0x7efec4f55ba8>"
            ]
          },
          "metadata": {
            "tags": []
          },
          "execution_count": 282
        },
        {
          "output_type": "display_data",
          "data": {
            "image/png": "[encoded data removed]",
            "text/plain": [
              "<Figure size 432x288 with 1 Axes>"
            ]
          },
          "metadata": {
            "tags": [],
            "needs_background": "light"
          }
        }
      ]
    },
    {
      "cell_type": "markdown",
      "metadata": {
        "id": "Lw9gdL6uT0Uo",
        "colab_type": "text"
      },
      "source": [
        "**5.1.3 Box plot of MPG-H:-**"
      ]
    },
    {
      "cell_type": "code",
      "metadata": {
        "id": "CpoOgh6-QJdz",
        "colab_type": "code",
        "colab": {
          "base_uri": "https://localhost:8080/",
          "height": 297
        },
        "outputId": "f3e86d94-1b48-4b96-c117-dfef1ff6509b"
      },
      "source": [
        "sns.boxplot(x=df['MPG-H'])\n",
        "# MPG-H - Miles Per Gallon(Highway)"
      ],
      "execution_count": 283,
      "outputs": [
        {
          "output_type": "execute_result",
          "data": {
            "text/plain": [
              "<matplotlib.axes._subplots.AxesSubplot at 0x7efec4e8b940>"
            ]
          },
          "metadata": {
            "tags": []
          },
          "execution_count": 283
        },
        {
          "output_type": "display_data",
          "data": {
            "image/png": "[encoded data removed]",
            "text/plain": [
              "<Figure size 432x288 with 1 Axes>"
            ]
          },
          "metadata": {
            "tags": [],
            "needs_background": "light"
          }
        }
      ]
    },
    {
      "cell_type": "markdown",
      "metadata": {
        "id": "PJnx6iHZUj_h",
        "colab_type": "text"
      },
      "source": [
        "**5.1.4 Box plot of MPG-C:-**"
      ]
    },
    {
      "cell_type": "code",
      "metadata": {
        "id": "u7ZS74seRJzu",
        "colab_type": "code",
        "colab": {
          "base_uri": "https://localhost:8080/",
          "height": 297
        },
        "outputId": "e7c2ad3d-c58e-49ef-89dd-2aabe37522a2"
      },
      "source": [
        "sns.boxplot(x=df['MPG-C'])\n",
        "# MPG-C - Miles Per Gallon(City)\n"
      ],
      "execution_count": 284,
      "outputs": [
        {
          "output_type": "execute_result",
          "data": {
            "text/plain": [
              "<matplotlib.axes._subplots.AxesSubplot at 0x7efec4e8bb70>"
            ]
          },
          "metadata": {
            "tags": []
          },
          "execution_count": 284
        },
        {
          "output_type": "display_data",
          "data": {
            "image/png": "[encoded data removed]",
            "text/plain": [
              "<Figure size 432x288 with 1 Axes>"
            ]
          },
          "metadata": {
            "tags": [],
            "needs_background": "light"
          }
        }
      ]
    },
    {
      "cell_type": "markdown",
      "metadata": {
        "id": "1dcFdMVQUtN6",
        "colab_type": "text"
      },
      "source": [
        "**5.1.5 Box plot of Popularity:-**"
      ]
    },
    {
      "cell_type": "code",
      "metadata": {
        "id": "yFPCEdtxRgb_",
        "colab_type": "code",
        "colab": {
          "base_uri": "https://localhost:8080/",
          "height": 297
        },
        "outputId": "fe748062-98db-4b12-c88f-224466a82125"
      },
      "source": [
        "sns.boxplot(x=df['Popularity'])\n",
        "#Popularity - The state or condition of being liked, admired, or supported by many people(in this case we are talking about the car's popularity) "
      ],
      "execution_count": 285,
      "outputs": [
        {
          "output_type": "execute_result",
          "data": {
            "text/plain": [
              "<matplotlib.axes._subplots.AxesSubplot at 0x7efec4cfa3c8>"
            ]
          },
          "metadata": {
            "tags": []
          },
          "execution_count": 285
        },
        {
          "output_type": "display_data",
          "data": {
            "image/png": "[encoded data removed]",
            "text/plain": [
              "<Figure size 432x288 with 1 Axes>"
            ]
          },
          "metadata": {
            "tags": [],
            "needs_background": "light"
          }
        }
      ]
    },
    {
      "cell_type": "markdown",
      "metadata": {
        "id": "o9-hm8HJUzqj",
        "colab_type": "text"
      },
      "source": [
        "**5.1.6 Box plot of Price:-**"
      ]
    },
    {
      "cell_type": "code",
      "metadata": {
        "id": "jKeeYo0qSTdt",
        "colab_type": "code",
        "colab": {
          "base_uri": "https://localhost:8080/",
          "height": 297
        },
        "outputId": "2d2b4053-adf8-47a5-df1b-ddaa022e2a20"
      },
      "source": [
        "sns.boxplot(x=df['Price'])\n",
        "#Price - Price of the car. "
      ],
      "execution_count": 286,
      "outputs": [
        {
          "output_type": "execute_result",
          "data": {
            "text/plain": [
              "<matplotlib.axes._subplots.AxesSubplot at 0x7efec4dd8da0>"
            ]
          },
          "metadata": {
            "tags": []
          },
          "execution_count": 286
        },
        {
          "output_type": "display_data",
          "data": {
            "image/png": "[encoded data removed]",
            "text/plain": [
              "<Figure size 432x288 with 1 Axes>"
            ]
          },
          "metadata": {
            "tags": [],
            "needs_background": "light"
          }
        }
      ]
    },
    {
      "cell_type": "markdown",
      "metadata": {
        "id": "Jwddpsknr3-0",
        "colab_type": "text"
      },
      "source": [
        "In all the Box and Whisker Plots above, we see that there are certain points which lie outside the whiskers. These are none other than the outliers.Thus, outliers are those points which the eye can easily see, as they as located outside the range of the whiskers, and farther away from the box plot. These have to be removed in order to better train the machine."
      ]
    },
    {
      "cell_type": "markdown",
      "metadata": {
        "id": "hRhEvzP4sXsi",
        "colab_type": "text"
      },
      "source": [
        "One method of removing these ouliers are the Interquartile Range Method."
      ]
    },
    {
      "cell_type": "markdown",
      "metadata": {
        "id": "UhIMBqIaZw9F",
        "colab_type": "text"
      },
      "source": [
        "**5.2 Removing Outliers:-**"
      ]
    },
    {
      "cell_type": "markdown",
      "metadata": {
        "id": "oIgURJD3bLUb",
        "colab_type": "text"
      },
      "source": [
        "Outlier affect on variance, and standard deviation of a data distribution. In a data distribution, with extreme outliers, the distribution is skewed in the direction of the outliers which makes it difficult to analyze the data.That's why it is good to detect and remove the outliers, because outliers are one of the primary reason for resulting in a less accurate model."
      ]
    },
    {
      "cell_type": "code",
      "metadata": {
        "id": "jdREOaPYaIjf",
        "colab_type": "code",
        "colab": {
          "base_uri": "https://localhost:8080/",
          "height": 156
        },
        "outputId": "ead59564-0a95-4a6c-9628-62ec42fbf2f8"
      },
      "source": [
        "#For removing outliers, we firstly need to calculate the value of IQR:-\n",
        "#Now, I am going to perform IQR(Inter Quartile) score technique.\n",
        "Q1 = df.quantile(0.25)\n",
        "Q3 = df.quantile(0.75)\n",
        "IQR = Q3 - Q1\n",
        "print(IQR)"
      ],
      "execution_count": 287,
      "outputs": [
        {
          "output_type": "stream",
          "text": [
            "Year              9.00\n",
            "HP              130.00\n",
            "Cylinders         2.00\n",
            "MPG-H             8.00\n",
            "MPG-C             6.00\n",
            "Popularity     1460.00\n",
            "Price         21848.75\n",
            "dtype: float64\n"
          ],
          "name": "stdout"
        }
      ]
    },
    {
      "cell_type": "markdown",
      "metadata": {
        "id": "9gYAGM-CLbEJ",
        "colab_type": "text"
      },
      "source": [
        "A commonly used rule says that a data point is an outlier if it is more than 1.5*IQR above the third quartile, or below the first quartile. Said differently, low outliers are below Q1−1.5*IQR, and high outliers are above Q3+1.5*IQR."
      ]
    },
    {
      "cell_type": "code",
      "metadata": {
        "id": "sTWGvVP9achY",
        "colab_type": "code",
        "colab": {}
      },
      "source": [
        "#Removing Outliers now:-\n",
        "df = df[~((df < (Q1 - 1.5 * IQR)) |(df > (Q3 + 1.5 * IQR))).any(axis=1)] "
      ],
      "execution_count": 288,
      "outputs": []
    },
    {
      "cell_type": "code",
      "metadata": {
        "id": "8gUiTMkZapxU",
        "colab_type": "code",
        "colab": {
          "base_uri": "https://localhost:8080/",
          "height": 35
        },
        "outputId": "be4df809-372c-4b0a-99a9-b5e0de1bfe80"
      },
      "source": [
        "# df.shape returns tuple of shape (Rows, columns) of dataframe/series\n",
        "df.shape"
      ],
      "execution_count": 289,
      "outputs": [
        {
          "output_type": "execute_result",
          "data": {
            "text/plain": [
              "(8074, 13)"
            ]
          },
          "metadata": {
            "tags": []
          },
          "execution_count": 289
        }
      ]
    },
    {
      "cell_type": "markdown",
      "metadata": {
        "id": "c9SC0v2gEJ1u",
        "colab_type": "text"
      },
      "source": [
        "\n",
        "Thus it is observed that the shape of the dataset has greatly changed on removing the outliers. It is seen that the number of rows in the dataset have changed from 10341 to 8074, with the number of columns being the same.\n",
        "\n"
      ]
    },
    {
      "cell_type": "markdown",
      "metadata": {
        "id": "EhN-uIL5bwEb",
        "colab_type": "text"
      },
      "source": [
        "**6. What car brands are the most represented in the dataset and find the average price among\n",
        "the top car brands.**"
      ]
    },
    {
      "cell_type": "markdown",
      "metadata": {
        "id": "k2F-BJUDezZ2",
        "colab_type": "text"
      },
      "source": [
        "Categorical, or qualitative, data are pieces of information that allow us to classify the objects under investigation into various categories."
      ]
    },
    {
      "cell_type": "markdown",
      "metadata": {
        "id": "g_UXqxC7fPdS",
        "colab_type": "text"
      },
      "source": [
        "**6.1 Most represented car brands in the dataset (Top 10):-**\n"
      ]
    },
    {
      "cell_type": "code",
      "metadata": {
        "id": "jvOW8_J1ZRRA",
        "colab_type": "code",
        "colab": {
          "base_uri": "https://localhost:8080/",
          "height": 336
        },
        "outputId": "49f10eac-d148-4d5e-9215-aa51863e97fc"
      },
      "source": [
        "# Percentage of car per brand\n",
        "counts = df['Make'].value_counts()*100/sum(df['Make'].value_counts())\n",
        "\n",
        "# Top 10 car brands\n",
        "popular_labels = counts.index[:10]\n",
        "    \n",
        "# Plot\n",
        "plt.figure(figsize=(10,5))\n",
        "plt.barh(popular_labels, width=counts[:10])\n",
        "plt.title('Top 10 Car brands')\n",
        "plt.show()"
      ],
      "execution_count": 290,
      "outputs": [
        {
          "output_type": "display_data",
          "data": {
            "image/png": "[encoded data removed]",
            "text/plain": [
              "<Figure size 720x360 with 1 Axes>"
            ]
          },
          "metadata": {
            "tags": [],
            "needs_background": "light"
          }
        }
      ]
    },
    {
      "cell_type": "markdown",
      "metadata": {
        "id": "QT_ZaDn9kUD5",
        "colab_type": "text"
      },
      "source": [
        "So, from the the above bar plot it's clear that the most represented brand tin this dataset is\n",
        "'Chevrolet'."
      ]
    },
    {
      "cell_type": "markdown",
      "metadata": {
        "id": "4hcRn4bjeYg6",
        "colab_type": "text"
      },
      "source": [
        "**6.2 Finding the average price among the top car brands :-**"
      ]
    },
    {
      "cell_type": "code",
      "metadata": {
        "id": "yxTWwLffezAB",
        "colab_type": "code",
        "colab": {
          "base_uri": "https://localhost:8080/",
          "height": 386
        },
        "outputId": "afedac01-490e-4166-97a7-26c820a0e715"
      },
      "source": [
        "#Now, here I am taking the top 10 car brands:-\n",
        "prices=df[['Make','Price']].loc[(df['Make']=='Chevrolet')|\n",
        "                                     (df['Make']=='Volkswagen')|\n",
        "                                     (df['Make']=='Toyota')|\n",
        "                                     (df['Make']=='Nissan')|\n",
        "                                     (df['Make']=='GMC')|\n",
        "                                     (df['Make']=='Dodge')|\n",
        "                                     (df['Make']=='Mazda')|\n",
        "                                     (df['Make']=='Honda')|\n",
        "                                     (df['Make']=='Suzuki')|\n",
        "                                     (df['Make']=='Infiniti')].groupby('Make').mean()\n",
        "prices"
      ],
      "execution_count": 291,
      "outputs": [
        {
          "output_type": "execute_result",
          "data": {
            "text/html": [
              "<div>\n",
              "<style scoped>\n",
              "    .dataframe tbody tr th:only-of-type {\n",
              "        vertical-align: middle;\n",
              "    }\n",
              "\n",
              "    .dataframe tbody tr th {\n",
              "        vertical-align: top;\n",
              "    }\n",
              "\n",
              "    .dataframe thead th {\n",
              "        text-align: right;\n",
              "    }\n",
              "</style>\n",
              "<table border=\"1\" class=\"dataframe\">\n",
              "  <thead>\n",
              "    <tr style=\"text-align: right;\">\n",
              "      <th></th>\n",
              "      <th>Price</th>\n",
              "    </tr>\n",
              "    <tr>\n",
              "      <th>Make</th>\n",
              "      <th></th>\n",
              "    </tr>\n",
              "  </thead>\n",
              "  <tbody>\n",
              "    <tr>\n",
              "      <th>Chevrolet</th>\n",
              "      <td>28572.635095</td>\n",
              "    </tr>\n",
              "    <tr>\n",
              "      <th>Dodge</th>\n",
              "      <td>26178.358722</td>\n",
              "    </tr>\n",
              "    <tr>\n",
              "      <th>GMC</th>\n",
              "      <td>33666.516199</td>\n",
              "    </tr>\n",
              "    <tr>\n",
              "      <th>Honda</th>\n",
              "      <td>27246.472678</td>\n",
              "    </tr>\n",
              "    <tr>\n",
              "      <th>Infiniti</th>\n",
              "      <td>43384.618750</td>\n",
              "    </tr>\n",
              "    <tr>\n",
              "      <th>Mazda</th>\n",
              "      <td>20628.445040</td>\n",
              "    </tr>\n",
              "    <tr>\n",
              "      <th>Nissan</th>\n",
              "      <td>28559.636542</td>\n",
              "    </tr>\n",
              "    <tr>\n",
              "      <th>Suzuki</th>\n",
              "      <td>18298.903030</td>\n",
              "    </tr>\n",
              "    <tr>\n",
              "      <th>Toyota</th>\n",
              "      <td>26228.171779</td>\n",
              "    </tr>\n",
              "    <tr>\n",
              "      <th>Volkswagen</th>\n",
              "      <td>30449.461017</td>\n",
              "    </tr>\n",
              "  </tbody>\n",
              "</table>\n",
              "</div>"
            ],
            "text/plain": [
              "                   Price\n",
              "Make                    \n",
              "Chevrolet   28572.635095\n",
              "Dodge       26178.358722\n",
              "GMC         33666.516199\n",
              "Honda       27246.472678\n",
              "Infiniti    43384.618750\n",
              "Mazda       20628.445040\n",
              "Nissan      28559.636542\n",
              "Suzuki      18298.903030\n",
              "Toyota      26228.171779\n",
              "Volkswagen  30449.461017"
            ]
          },
          "metadata": {
            "tags": []
          },
          "execution_count": 291
        }
      ]
    },
    {
      "cell_type": "markdown",
      "metadata": {
        "id": "pX3p2ojSkvYV",
        "colab_type": "text"
      },
      "source": [
        "**Boxplot**\n",
        "\n",
        "\n",
        "**Boxplots are a measure of how well distributed the data in a data set is. It divides the data set into three quartiles. This graph represents the\n",
        "minimum, maximum, median, first quartile and third quartile in the data set.**"
      ]
    },
    {
      "cell_type": "code",
      "metadata": {
        "id": "iFJaVk4Zk91T",
        "colab_type": "code",
        "colab": {
          "base_uri": "https://localhost:8080/",
          "height": 542
        },
        "outputId": "722ed913-ca0d-4727-ceba-40a6f2801818"
      },
      "source": [
        "display_p=df[['Make','Year','Price']].loc[(df['Make'].isin(popular_labels))]\n",
        "fig=px.box(display_p,x=\"Make\",y=\"Price\")\n",
        "fig.update_layout(title_text='Average Price over 10 most represented Car Brands',xaxis_title=\"Make\",yaxis_title=\"Average Price\")\n"
      ],
      "execution_count": 292,
      "outputs": [
        {
          "output_type": "display_data",
          "data": {
            "text/html": [
              "<html>\n",
              "<head><meta charset=\"utf-8\" /></head>\n",
              "<body>\n",
              "    <div>\n",
              "            <script src=\"https://cdnjs.cloudflare.com/ajax/libs/mathjax/2.7.5/MathJax.js?config=TeX-AMS-MML_SVG\"></script><script type=\"text/javascript\">if (window.MathJax) {MathJax.Hub.Config({SVG: {font: \"STIX-Web\"}});}</script>\n",
              "                <script type=\"text/javascript\">window.PlotlyConfig = {MathJaxConfig: 'local'};</script>\n",
              "        <script src=\"https://cdn.plot.ly/plotly-latest.min.js\"></script>    \n",
              "            <div id=\"06a2b9a8-2f23-44fd-b703-eafcb9312e77\" class=\"plotly-graph-div\" style=\"height:525px; width:100%;\"></div>\n",
              "            <script type=\"text/javascript\">\n",
              "                \n",
              "                    window.PLOTLYENV=window.PLOTLYENV || {};\n",
              "                    \n",
              "                if (document.getElementById(\"06a2b9a8-2f23-44fd-b703-eafcb9312e77\")) {\n",
              "                    Plotly.newPlot(\n",
              "                        '06a2b9a8-2f23-44fd-b703-eafcb9312e77',\n",
              "                        [{\"alignmentgroup\": \"True\", \"hoverlabel\": {\"namelength\": 0}, \"hovertemplate\": \"Make=%{x}<br>Price=%{y}\", \"legendgroup\": \"\", \"marker\": {\"color\": \"#636efa\"}, \"name\": \"\", \"notched\": false, \"offsetgroup\": \"\", \"orientation\": \"v\", \"showlegend\": false, \"type\": \"box\", \"x\": [\"Nissan\", \"Nissan\", \"Nissan\", \"Nissan\", \"Nissan\", \"Nissan\", \"Nissan\", \"Nissan\", \"Nissan\", \"Nissan\", \"Nissan\", \"Mazda\", \"Mazda\", \"Mazda\", \"Mazda\", \"Mazda\", \"Mazda\", \"Mazda\", \"Mazda\", \"Mazda\", \"Mazda\", \"Mazda\", \"Mazda\", \"Nissan\", \"Nissan\", \"Nissan\", \"Nissan\", \"Nissan\", \"Nissan\", \"Nissan\", \"Nissan\", \"Nissan\", \"Nissan\", \"Nissan\", \"Nissan\", \"Mazda\", \"Nissan\", \"Nissan\", \"Nissan\", \"Nissan\", \"Nissan\", \"Nissan\", \"Nissan\", \"Nissan\", \"Nissan\", \"Nissan\", \"Nissan\", \"Nissan\", \"Nissan\", \"Nissan\", \"Nissan\", \"Nissan\", \"Nissan\", \"Nissan\", \"Nissan\", \"Nissan\", \"Nissan\", \"Nissan\", \"Nissan\", \"Nissan\", \"Nissan\", \"Nissan\", \"Nissan\", \"Nissan\", \"Nissan\", \"Nissan\", \"Nissan\", \"Nissan\", \"Nissan\", \"Nissan\", \"Nissan\", \"Nissan\", \"Nissan\", \"Nissan\", \"Nissan\", \"Nissan\", \"Nissan\", \"Nissan\", \"Nissan\", \"Nissan\", \"Nissan\", \"Nissan\", \"Nissan\", \"Nissan\", \"Nissan\", \"Nissan\", \"Nissan\", \"Nissan\", \"Nissan\", \"Nissan\", \"Nissan\", \"Nissan\", \"Nissan\", \"Nissan\", \"Nissan\", \"Nissan\", \"Nissan\", \"Nissan\", \"Nissan\", \"Nissan\", \"Nissan\", \"Nissan\", \"Nissan\", \"Nissan\", \"Nissan\", \"Nissan\", \"Nissan\", \"Nissan\", \"Nissan\", \"Nissan\", \"Nissan\", \"Nissan\", \"Nissan\", \"Nissan\", \"Nissan\", \"Nissan\", \"Nissan\", \"Nissan\", \"Nissan\", \"Nissan\", \"Nissan\", \"Mazda\", \"Mazda\", \"Mazda\", \"Mazda\", \"Mazda\", \"Mazda\", \"Mazda\", \"Mazda\", \"Mazda\", \"Mazda\", \"Mazda\", \"Mazda\", \"Mazda\", \"Mazda\", \"Mazda\", \"Mazda\", \"Mazda\", \"Mazda\", \"Mazda\", \"Mazda\", \"Mazda\", \"Mazda\", \"Mazda\", \"Mazda\", \"Mazda\", \"Mazda\", \"Mazda\", \"Mazda\", \"Mazda\", \"Mazda\", \"Mazda\", \"Mazda\", \"Mazda\", \"Mazda\", \"Mazda\", \"Mazda\", \"Mazda\", \"Mazda\", \"Mazda\", \"Mazda\", \"Mazda\", \"Mazda\", \"Mazda\", \"Mazda\", \"Mazda\", \"Mazda\", \"Mazda\", \"Mazda\", \"Mazda\", \"Mazda\", \"Mazda\", \"Mazda\", \"Mazda\", \"Toyota\", \"Toyota\", \"Toyota\", \"Toyota\", \"Toyota\", \"Toyota\", \"Toyota\", \"Toyota\", \"Toyota\", \"Toyota\", \"Toyota\", \"Toyota\", \"Toyota\", \"Toyota\", \"Toyota\", \"Toyota\", \"Toyota\", \"Toyota\", \"Toyota\", \"Toyota\", \"Toyota\", \"Toyota\", \"Toyota\", \"Toyota\", \"Toyota\", \"Toyota\", \"Mazda\", \"Mazda\", \"Mazda\", \"Mazda\", \"Mazda\", \"Mazda\", \"Mazda\", \"Mazda\", \"Mazda\", \"Mazda\", \"Mazda\", \"Mazda\", \"Mazda\", \"Mazda\", \"Mazda\", \"Mazda\", \"Mazda\", \"Mazda\", \"Mazda\", \"Mazda\", \"Mazda\", \"Mazda\", \"Mazda\", \"Mazda\", \"Mazda\", \"Mazda\", \"Mazda\", \"Mazda\", \"Mazda\", \"Mazda\", \"Mazda\", \"Mazda\", \"Mazda\", \"Mazda\", \"Mazda\", \"Mazda\", \"Mazda\", \"Toyota\", \"Toyota\", \"Mazda\", \"Mazda\", \"GMC\", \"GMC\", \"GMC\", \"GMC\", \"GMC\", \"GMC\", \"GMC\", \"GMC\", \"GMC\", \"GMC\", \"GMC\", \"GMC\", \"GMC\", \"GMC\", \"GMC\", \"GMC\", \"GMC\", \"GMC\", \"GMC\", \"GMC\", \"GMC\", \"GMC\", \"GMC\", \"GMC\", \"GMC\", \"GMC\", \"GMC\", \"GMC\", \"GMC\", \"GMC\", \"GMC\", \"GMC\", \"GMC\", \"GMC\", \"Honda\", \"Honda\", \"Honda\", \"Honda\", \"Honda\", \"Honda\", \"Honda\", \"Honda\", \"Honda\", \"Honda\", \"Honda\", \"Honda\", \"Honda\", \"Honda\", \"Honda\", \"Honda\", \"Honda\", \"Honda\", \"Honda\", \"Honda\", \"Honda\", \"Honda\", \"Honda\", \"Honda\", \"Honda\", \"Honda\", \"Honda\", \"Honda\", \"Honda\", \"Honda\", \"Honda\", \"Honda\", \"Honda\", \"Honda\", \"Honda\", \"Honda\", \"Honda\", \"Honda\", \"Honda\", \"Honda\", \"Honda\", \"Honda\", \"Honda\", \"Honda\", \"Honda\", \"Honda\", \"Honda\", \"Honda\", \"Honda\", \"Honda\", \"Honda\", \"Honda\", \"Honda\", \"Honda\", \"Honda\", \"Honda\", \"Honda\", \"Honda\", \"Honda\", \"Honda\", \"Honda\", \"Honda\", \"Honda\", \"Honda\", \"Honda\", \"Honda\", \"Honda\", \"Honda\", \"Honda\", \"Honda\", \"Honda\", \"Honda\", \"Honda\", \"Honda\", \"Honda\", \"Honda\", \"Honda\", \"Honda\", \"Honda\", \"Honda\", \"Honda\", \"Honda\", \"Honda\", \"Suzuki\", \"Suzuki\", \"Suzuki\", \"Suzuki\", \"Suzuki\", \"Suzuki\", \"Suzuki\", \"Suzuki\", \"Suzuki\", \"Suzuki\", \"Suzuki\", \"Suzuki\", \"Suzuki\", \"Suzuki\", \"Suzuki\", \"Suzuki\", \"Suzuki\", \"Suzuki\", \"Suzuki\", \"Suzuki\", \"Suzuki\", \"Suzuki\", \"Suzuki\", \"Suzuki\", \"Suzuki\", \"Suzuki\", \"Suzuki\", \"Suzuki\", \"Suzuki\", \"Suzuki\", \"Suzuki\", \"Nissan\", \"Nissan\", \"Nissan\", \"Nissan\", \"Nissan\", \"Nissan\", \"Nissan\", \"Nissan\", \"Nissan\", \"Nissan\", \"Nissan\", \"Nissan\", \"Nissan\", \"Nissan\", \"Nissan\", \"Nissan\", \"Nissan\", \"Nissan\", \"Nissan\", \"Nissan\", \"Nissan\", \"Nissan\", \"Nissan\", \"Nissan\", \"Nissan\", \"Nissan\", \"Nissan\", \"Nissan\", \"Nissan\", \"Nissan\", \"Nissan\", \"Nissan\", \"Nissan\", \"Nissan\", \"Nissan\", \"Nissan\", \"Nissan\", \"Nissan\", \"Nissan\", \"Nissan\", \"Nissan\", \"Nissan\", \"Nissan\", \"Nissan\", \"Chevrolet\", \"Chevrolet\", \"Chevrolet\", \"Chevrolet\", \"Chevrolet\", \"Chevrolet\", \"Chevrolet\", \"Chevrolet\", \"Chevrolet\", \"Chevrolet\", \"Chevrolet\", \"Chevrolet\", \"Cadillac\", \"Cadillac\", \"Cadillac\", \"Cadillac\", \"Cadillac\", \"Cadillac\", \"Cadillac\", \"Cadillac\", \"Cadillac\", \"Cadillac\", \"Cadillac\", \"Cadillac\", \"Cadillac\", \"Cadillac\", \"Cadillac\", \"Cadillac\", \"Cadillac\", \"Cadillac\", \"Cadillac\", \"Cadillac\", \"Cadillac\", \"Cadillac\", \"Cadillac\", \"Cadillac\", \"Cadillac\", \"Cadillac\", \"Cadillac\", \"Cadillac\", \"Cadillac\", \"Cadillac\", \"Cadillac\", \"Cadillac\", \"Cadillac\", \"Cadillac\", \"Cadillac\", \"Cadillac\", \"Cadillac\", \"Cadillac\", \"Cadillac\", \"Cadillac\", \"Cadillac\", \"Cadillac\", \"Cadillac\", \"Cadillac\", \"Cadillac\", \"Cadillac\", \"Cadillac\", \"Cadillac\", \"Cadillac\", \"Cadillac\", \"Cadillac\", \"Cadillac\", \"Cadillac\", \"Cadillac\", \"Cadillac\", \"Cadillac\", \"Cadillac\", \"Cadillac\", \"Cadillac\", \"Cadillac\", \"Cadillac\", \"Cadillac\", \"Cadillac\", \"Cadillac\", \"Cadillac\", \"Cadillac\", \"Cadillac\", \"Cadillac\", \"Cadillac\", \"Cadillac\", \"Cadillac\", \"Cadillac\", \"Cadillac\", \"Cadillac\", \"Cadillac\", \"Cadillac\", \"Cadillac\", \"Cadillac\", \"Chevrolet\", \"Chevrolet\", \"Chevrolet\", \"Chevrolet\", \"Chevrolet\", \"Chevrolet\", \"Chevrolet\", \"Chevrolet\", \"Chevrolet\", \"Chevrolet\", \"Chevrolet\", \"Chevrolet\", \"Chevrolet\", \"Chevrolet\", \"Chevrolet\", \"Toyota\", \"Toyota\", \"Toyota\", \"Toyota\", \"Toyota\", \"Toyota\", \"Toyota\", \"Toyota\", \"Toyota\", \"Toyota\", \"Toyota\", \"Toyota\", \"Toyota\", \"Toyota\", \"Toyota\", \"Dodge\", \"Dodge\", \"Dodge\", \"Dodge\", \"Dodge\", \"Dodge\", \"Dodge\", \"Dodge\", \"Dodge\", \"Dodge\", \"Chevrolet\", \"Chevrolet\", \"Chevrolet\", \"Chevrolet\", \"Chevrolet\", \"Chevrolet\", \"Chevrolet\", \"Chevrolet\", \"Chevrolet\", \"Chevrolet\", \"Chevrolet\", \"Chevrolet\", \"Chevrolet\", \"Chevrolet\", \"Chevrolet\", \"Chevrolet\", \"Chevrolet\", \"Chevrolet\", \"Mazda\", \"Mazda\", \"Mazda\", \"Mazda\", \"Mazda\", \"Mazda\", \"Mazda\", \"Mazda\", \"Mazda\", \"Mazda\", \"Mazda\", \"Mazda\", \"Mazda\", \"Mazda\", \"Mazda\", \"Mazda\", \"Mazda\", \"Mazda\", \"Mazda\", \"Mazda\", \"Mazda\", \"Mazda\", \"Mazda\", \"Mazda\", \"Mazda\", \"Mazda\", \"Mazda\", \"Mazda\", \"Mazda\", \"Mazda\", \"Mazda\", \"Mazda\", \"Mazda\", \"Mazda\", \"Mazda\", \"Mazda\", \"Mazda\", \"Mazda\", \"Mazda\", \"Mazda\", \"Mazda\", \"Mazda\", \"Mazda\", \"Mazda\", \"Mazda\", \"Mazda\", \"Mazda\", \"Mazda\", \"Mazda\", \"Mazda\", \"Mazda\", \"Mazda\", \"Mazda\", \"Mazda\", \"Mazda\", \"Mazda\", \"Mazda\", \"Mazda\", \"Mazda\", \"Mazda\", \"Mazda\", \"Mazda\", \"Mazda\", \"Mazda\", \"Chevrolet\", \"Chevrolet\", \"Chevrolet\", \"Chevrolet\", \"Chevrolet\", \"Chevrolet\", \"Chevrolet\", \"Chevrolet\", \"Chevrolet\", \"Chevrolet\", \"Chevrolet\", \"Chevrolet\", \"Chevrolet\", \"Chevrolet\", \"Chevrolet\", \"Chevrolet\", \"Chevrolet\", \"Chevrolet\", \"Chevrolet\", \"Chevrolet\", \"Chevrolet\", \"Chevrolet\", \"Chevrolet\", \"Chevrolet\", \"Chevrolet\", \"Chevrolet\", \"Dodge\", \"Dodge\", \"Dodge\", \"Dodge\", \"Dodge\", \"Dodge\", \"Dodge\", \"Dodge\", \"Dodge\", \"Dodge\", \"Dodge\", \"Dodge\", \"Dodge\", \"Dodge\", \"Dodge\", \"Dodge\", \"Chevrolet\", \"Chevrolet\", \"Chevrolet\", \"Chevrolet\", \"Chevrolet\", \"Chevrolet\", \"Chevrolet\", \"Chevrolet\", \"Chevrolet\", \"Chevrolet\", \"Chevrolet\", \"Chevrolet\", \"Chevrolet\", \"Chevrolet\", \"Chevrolet\", \"Chevrolet\", \"Chevrolet\", \"Chevrolet\", \"Chevrolet\", \"Chevrolet\", \"Chevrolet\", \"Chevrolet\", \"Chevrolet\", \"Chevrolet\", \"Chevrolet\", \"Chevrolet\", \"Chevrolet\", \"Chevrolet\", \"Toyota\", \"Toyota\", \"Toyota\", \"Toyota\", \"Toyota\", \"Toyota\", \"Toyota\", \"Toyota\", \"Toyota\", \"Toyota\", \"Toyota\", \"Toyota\", \"Toyota\", \"Toyota\", \"Toyota\", \"Toyota\", \"Toyota\", \"Toyota\", \"Toyota\", \"Toyota\", \"Toyota\", \"Toyota\", \"Toyota\", \"Toyota\", \"Toyota\", \"Toyota\", \"Toyota\", \"Toyota\", \"Toyota\", \"Toyota\", \"Toyota\", \"Toyota\", \"Toyota\", \"Toyota\", \"Toyota\", \"Toyota\", \"Toyota\", \"Toyota\", \"Toyota\", \"GMC\", \"GMC\", \"GMC\", \"GMC\", \"GMC\", \"GMC\", \"GMC\", \"GMC\", \"GMC\", \"GMC\", \"GMC\", \"GMC\", \"GMC\", \"GMC\", \"GMC\", \"GMC\", \"GMC\", \"GMC\", \"GMC\", \"GMC\", \"GMC\", \"GMC\", \"GMC\", \"GMC\", \"GMC\", \"GMC\", \"GMC\", \"GMC\", \"GMC\", \"GMC\", \"GMC\", \"GMC\", \"GMC\", \"GMC\", \"GMC\", \"GMC\", \"GMC\", \"GMC\", \"GMC\", \"GMC\", \"GMC\", \"GMC\", \"GMC\", \"GMC\", \"GMC\", \"GMC\", \"GMC\", \"GMC\", \"Chevrolet\", \"Chevrolet\", \"Chevrolet\", \"Chevrolet\", \"Chevrolet\", \"Chevrolet\", \"Chevrolet\", \"Chevrolet\", \"Chevrolet\", \"Chevrolet\", \"Chevrolet\", \"Chevrolet\", \"Chevrolet\", \"Chevrolet\", \"Chevrolet\", \"Chevrolet\", \"Chevrolet\", \"Dodge\", \"Dodge\", \"Dodge\", \"Dodge\", \"Dodge\", \"Dodge\", \"Dodge\", \"Dodge\", \"Dodge\", \"Cadillac\", \"Cadillac\", \"Cadillac\", \"Cadillac\", \"Chevrolet\", \"Chevrolet\", \"Chevrolet\", \"Chevrolet\", \"Chevrolet\", \"Chevrolet\", \"Chevrolet\", \"Chevrolet\", \"Chevrolet\", \"Chevrolet\", \"Chevrolet\", \"Chevrolet\", \"Chevrolet\", \"Chevrolet\", \"Chevrolet\", \"Chevrolet\", \"Chevrolet\", \"Chevrolet\", \"Chevrolet\", \"Chevrolet\", \"Toyota\", \"Toyota\", \"Toyota\", \"Toyota\", \"Toyota\", \"Toyota\", \"Toyota\", \"Toyota\", \"Toyota\", \"Toyota\", \"Toyota\", \"Toyota\", \"Toyota\", \"Toyota\", \"Toyota\", \"Toyota\", \"Dodge\", \"Dodge\", \"Dodge\", \"Dodge\", \"Dodge\", \"Dodge\", \"Dodge\", \"Dodge\", \"Dodge\", \"Dodge\", \"Dodge\", \"Dodge\", \"Dodge\", \"Dodge\", \"Dodge\", \"Dodge\", \"Dodge\", \"Dodge\", \"Dodge\", \"Dodge\", \"Dodge\", \"Dodge\", \"Dodge\", \"Dodge\", \"Dodge\", \"Dodge\", \"Dodge\", \"Dodge\", \"Dodge\", \"Dodge\", \"Dodge\", \"Dodge\", \"Dodge\", \"Dodge\", \"Dodge\", \"Dodge\", \"Dodge\", \"Dodge\", \"Dodge\", \"Dodge\", \"Dodge\", \"Dodge\", \"Dodge\", \"Dodge\", \"Dodge\", \"Dodge\", \"Dodge\", \"Dodge\", \"Dodge\", \"Dodge\", \"Dodge\", \"Dodge\", \"Dodge\", \"Dodge\", \"Dodge\", \"Chevrolet\", \"Chevrolet\", \"Chevrolet\", \"Chevrolet\", \"Chevrolet\", \"Chevrolet\", \"Chevrolet\", \"Chevrolet\", \"Chevrolet\", \"Chevrolet\", \"Chevrolet\", \"Honda\", \"Honda\", \"Honda\", \"Honda\", \"Honda\", \"Honda\", \"Honda\", \"Honda\", \"Honda\", \"Honda\", \"Honda\", \"Honda\", \"Honda\", \"Honda\", \"Honda\", \"Honda\", \"Honda\", \"Honda\", \"Honda\", \"Honda\", \"Honda\", \"Honda\", \"Honda\", \"Honda\", \"Honda\", \"Honda\", \"Honda\", \"Honda\", \"Honda\", \"Honda\", \"Honda\", \"Honda\", \"Honda\", \"Honda\", \"Honda\", \"Honda\", \"Honda\", \"Honda\", \"Honda\", \"Honda\", \"Honda\", \"Honda\", \"Honda\", \"Honda\", \"Honda\", \"Honda\", \"Honda\", \"Honda\", \"Honda\", \"Honda\", \"Honda\", \"Honda\", \"Honda\", \"Honda\", \"Honda\", \"Honda\", \"Honda\", \"Honda\", \"Honda\", \"Honda\", \"Honda\", \"Honda\", \"Honda\", \"Honda\", \"Honda\", \"Chevrolet\", \"Chevrolet\", \"Chevrolet\", \"Chevrolet\", \"Chevrolet\", \"Chevrolet\", \"Chevrolet\", \"Chevrolet\", \"Chevrolet\", \"Chevrolet\", \"Chevrolet\", \"Chevrolet\", \"Chevrolet\", \"Chevrolet\", \"Chevrolet\", \"Chevrolet\", \"Chevrolet\", \"Chevrolet\", \"Chevrolet\", \"Chevrolet\", \"Chevrolet\", \"Chevrolet\", \"Chevrolet\", \"Chevrolet\", \"Chevrolet\", \"Chevrolet\", \"Chevrolet\", \"Chevrolet\", \"Chevrolet\", \"Chevrolet\", \"Chevrolet\", \"Chevrolet\", \"Chevrolet\", \"Chevrolet\", \"Chevrolet\", \"Chevrolet\", \"Chevrolet\", \"Chevrolet\", \"Chevrolet\", \"Chevrolet\", \"Chevrolet\", \"Chevrolet\", \"Chevrolet\", \"Chevrolet\", \"Chevrolet\", \"Chevrolet\", \"Chevrolet\", \"Chevrolet\", \"Chevrolet\", \"Chevrolet\", \"Chevrolet\", \"Chevrolet\", \"Chevrolet\", \"Chevrolet\", \"Chevrolet\", \"Chevrolet\", \"Chevrolet\", \"Chevrolet\", \"Chevrolet\", \"Chevrolet\", \"Chevrolet\", \"Chevrolet\", \"Chevrolet\", \"Chevrolet\", \"Chevrolet\", \"Chevrolet\", \"Chevrolet\", \"Chevrolet\", \"Chevrolet\", \"Chevrolet\", \"Chevrolet\", \"Chevrolet\", \"Chevrolet\", \"Chevrolet\", \"Chevrolet\", \"Chevrolet\", \"Chevrolet\", \"Chevrolet\", \"Chevrolet\", \"Chevrolet\", \"Chevrolet\", \"Chevrolet\", \"Chevrolet\", \"Chevrolet\", \"Chevrolet\", \"Chevrolet\", \"Chevrolet\", \"Chevrolet\", \"Chevrolet\", \"Chevrolet\", \"Chevrolet\", \"Chevrolet\", \"Chevrolet\", \"Chevrolet\", \"Chevrolet\", \"Chevrolet\", \"Chevrolet\", \"Chevrolet\", \"Chevrolet\", \"Chevrolet\", \"Chevrolet\", \"Chevrolet\", \"Chevrolet\", \"Chevrolet\", \"Chevrolet\", \"Chevrolet\", \"Chevrolet\", \"Chevrolet\", \"Chevrolet\", \"Chevrolet\", \"Chevrolet\", \"Chevrolet\", \"Chevrolet\", \"Chevrolet\", \"Chevrolet\", \"Chevrolet\", \"Chevrolet\", \"Chevrolet\", \"Chevrolet\", \"Chevrolet\", \"Chevrolet\", \"Chevrolet\", \"Chevrolet\", \"Chevrolet\", \"Chevrolet\", \"Chevrolet\", \"Chevrolet\", \"Chevrolet\", \"Chevrolet\", \"Chevrolet\", \"Chevrolet\", \"Chevrolet\", \"Chevrolet\", \"Chevrolet\", \"Chevrolet\", \"Chevrolet\", \"Chevrolet\", \"Chevrolet\", \"Chevrolet\", \"Chevrolet\", \"Chevrolet\", \"Chevrolet\", \"Toyota\", \"Toyota\", \"Toyota\", \"Toyota\", \"Toyota\", \"Toyota\", \"Toyota\", \"Toyota\", \"Toyota\", \"Toyota\", \"Toyota\", \"Toyota\", \"Toyota\", \"Toyota\", \"Toyota\", \"Toyota\", \"Toyota\", \"Toyota\", \"Toyota\", \"Toyota\", \"Toyota\", \"Toyota\", \"Toyota\", \"Toyota\", \"Toyota\", \"Toyota\", \"Toyota\", \"Toyota\", \"Toyota\", \"Toyota\", \"Toyota\", \"Toyota\", \"Toyota\", \"Toyota\", \"Toyota\", \"Toyota\", \"Chevrolet\", \"Chevrolet\", \"Chevrolet\", \"Chevrolet\", \"Chevrolet\", \"Chevrolet\", \"Chevrolet\", \"Chevrolet\", \"Chevrolet\", \"Chevrolet\", \"Chevrolet\", \"Chevrolet\", \"Chevrolet\", \"Chevrolet\", \"Chevrolet\", \"Chevrolet\", \"Chevrolet\", \"Chevrolet\", \"Chevrolet\", \"Chevrolet\", \"Chevrolet\", \"Chevrolet\", \"Chevrolet\", \"Chevrolet\", \"Chevrolet\", \"Chevrolet\", \"Chevrolet\", \"Chevrolet\", \"Chevrolet\", \"Chevrolet\", \"Chevrolet\", \"Chevrolet\", \"Chevrolet\", \"Chevrolet\", \"Chevrolet\", \"Chevrolet\", \"Chevrolet\", \"Chevrolet\", \"Chevrolet\", \"Chevrolet\", \"Chevrolet\", \"Chevrolet\", \"Chevrolet\", \"Chevrolet\", \"Chevrolet\", \"Chevrolet\", \"Chevrolet\", \"Honda\", \"Honda\", \"Honda\", \"Honda\", \"Honda\", \"Honda\", \"Honda\", \"Honda\", \"Honda\", \"Honda\", \"Honda\", \"Honda\", \"Honda\", \"Honda\", \"Honda\", \"Honda\", \"Honda\", \"Honda\", \"Honda\", \"Honda\", \"Honda\", \"Honda\", \"Honda\", \"Honda\", \"Honda\", \"Honda\", \"Honda\", \"Honda\", \"Honda\", \"Honda\", \"Honda\", \"Honda\", \"Honda\", \"Honda\", \"Honda\", \"Honda\", \"Honda\", \"Honda\", \"Honda\", \"Honda\", \"Honda\", \"Honda\", \"Honda\", \"Honda\", \"Honda\", \"Honda\", \"Honda\", \"Honda\", \"Honda\", \"Honda\", \"Honda\", \"Honda\", \"Honda\", \"Honda\", \"Honda\", \"Honda\", \"Honda\", \"Honda\", \"Honda\", \"Honda\", \"Honda\", \"Honda\", \"Honda\", \"Honda\", \"Honda\", \"Chevrolet\", \"Chevrolet\", \"Chevrolet\", \"Chevrolet\", \"Chevrolet\", \"Chevrolet\", \"Chevrolet\", \"Chevrolet\", \"Chevrolet\", \"Chevrolet\", \"Chevrolet\", \"Chevrolet\", \"Chevrolet\", \"Chevrolet\", \"Chevrolet\", \"Chevrolet\", \"Chevrolet\", \"Chevrolet\", \"Chevrolet\", \"Chevrolet\", \"Chevrolet\", \"Chevrolet\", \"Chevrolet\", \"Chevrolet\", \"Chevrolet\", \"Chevrolet\", \"Chevrolet\", \"Chevrolet\", \"Chevrolet\", \"Chevrolet\", \"Chevrolet\", \"Chevrolet\", \"Chevrolet\", \"Cadillac\", \"Cadillac\", \"Cadillac\", \"Cadillac\", \"Cadillac\", \"Cadillac\", \"Cadillac\", \"Cadillac\", \"Cadillac\", \"Cadillac\", \"Cadillac\", \"Cadillac\", \"Cadillac\", \"Cadillac\", \"Cadillac\", \"Cadillac\", \"Cadillac\", \"Cadillac\", \"Cadillac\", \"Cadillac\", \"Cadillac\", \"Cadillac\", \"Cadillac\", \"Cadillac\", \"Cadillac\", \"Cadillac\", \"Cadillac\", \"Cadillac\", \"Cadillac\", \"Cadillac\", \"Cadillac\", \"Cadillac\", \"Cadillac\", \"Cadillac\", \"Cadillac\", \"Cadillac\", \"Cadillac\", \"Cadillac\", \"Cadillac\", \"Cadillac\", \"Cadillac\", \"Cadillac\", \"Cadillac\", \"Cadillac\", \"Cadillac\", \"Cadillac\", \"Cadillac\", \"Cadillac\", \"Cadillac\", \"Cadillac\", \"Cadillac\", \"Cadillac\", \"Cadillac\", \"Cadillac\", \"Cadillac\", \"Cadillac\", \"Cadillac\", \"Cadillac\", \"Cadillac\", \"Cadillac\", \"Cadillac\", \"Cadillac\", \"Cadillac\", \"Cadillac\", \"Cadillac\", \"Cadillac\", \"Cadillac\", \"Cadillac\", \"Cadillac\", \"Cadillac\", \"Cadillac\", \"Cadillac\", \"Cadillac\", \"Cadillac\", \"Cadillac\", \"Cadillac\", \"Cadillac\", \"Cadillac\", \"Cadillac\", \"Cadillac\", \"Cadillac\", \"Cadillac\", \"Cadillac\", \"Cadillac\", \"Cadillac\", \"Cadillac\", \"Cadillac\", \"Cadillac\", \"Cadillac\", \"Cadillac\", \"Cadillac\", \"Cadillac\", \"Cadillac\", \"Cadillac\", \"Cadillac\", \"Cadillac\", \"Nissan\", \"Nissan\", \"Nissan\", \"Nissan\", \"Nissan\", \"Nissan\", \"Nissan\", \"Nissan\", \"Nissan\", \"Nissan\", \"Mazda\", \"Mazda\", \"Mazda\", \"Mazda\", \"Mazda\", \"Mazda\", \"Mazda\", \"Mazda\", \"Mazda\", \"Mazda\", \"Mazda\", \"Mazda\", \"Mazda\", \"Mazda\", \"Mazda\", \"Mazda\", \"Mazda\", \"Mazda\", \"Mazda\", \"Mazda\", \"Mazda\", \"Mazda\", \"Mazda\", \"Mazda\", \"Mazda\", \"Mazda\", \"Mazda\", \"Mazda\", \"Mazda\", \"Mazda\", \"Mazda\", \"Mazda\", \"Mazda\", \"Mazda\", \"Mazda\", \"Mazda\", \"Mazda\", \"Mazda\", \"Mazda\", \"Mazda\", \"Mazda\", \"Mazda\", \"Mazda\", \"Mazda\", \"Mazda\", \"Mazda\", \"Mazda\", \"Mazda\", \"Mazda\", \"Mazda\", \"Mazda\", \"Mazda\", \"Mazda\", \"Mazda\", \"Mazda\", \"Mazda\", \"Mazda\", \"Mazda\", \"Mazda\", \"Mazda\", \"Mazda\", \"Mazda\", \"Mazda\", \"Mazda\", \"Mazda\", \"Mazda\", \"Mazda\", \"Mazda\", \"Mazda\", \"Mazda\", \"Mazda\", \"Mazda\", \"Mazda\", \"Mazda\", \"Mazda\", \"Mazda\", \"Dodge\", \"Dodge\", \"Dodge\", \"Dodge\", \"Dodge\", \"Dodge\", \"Dodge\", \"Dodge\", \"Dodge\", \"Dodge\", \"Dodge\", \"Dodge\", \"Dodge\", \"Dodge\", \"Dodge\", \"Dodge\", \"Dodge\", \"Dodge\", \"Dodge\", \"Dodge\", \"Dodge\", \"Dodge\", \"Dodge\", \"Dodge\", \"Dodge\", \"Dodge\", \"Dodge\", \"Dodge\", \"Dodge\", \"Dodge\", \"Dodge\", \"Dodge\", \"Dodge\", \"Dodge\", \"Dodge\", \"Dodge\", \"Dodge\", \"Dodge\", \"Dodge\", \"Dodge\", \"Dodge\", \"Dodge\", \"Dodge\", \"Dodge\", \"Dodge\", \"Dodge\", \"Dodge\", \"Dodge\", \"Dodge\", \"Dodge\", \"Dodge\", \"Dodge\", \"Dodge\", \"Dodge\", \"Dodge\", \"Dodge\", \"Dodge\", \"Dodge\", \"Dodge\", \"Dodge\", \"Dodge\", \"Dodge\", \"Cadillac\", \"Cadillac\", \"Cadillac\", \"Cadillac\", \"Cadillac\", \"Cadillac\", \"Cadillac\", \"Cadillac\", \"Cadillac\", \"Cadillac\", \"Cadillac\", \"Cadillac\", \"Cadillac\", \"Cadillac\", \"Cadillac\", \"Cadillac\", \"Cadillac\", \"Cadillac\", \"Cadillac\", \"Cadillac\", \"Cadillac\", \"Cadillac\", \"Cadillac\", \"Cadillac\", \"Dodge\", \"Dodge\", \"Dodge\", \"Dodge\", \"Dodge\", \"Dodge\", \"Dodge\", \"Dodge\", \"Dodge\", \"Dodge\", \"Dodge\", \"Dodge\", \"Dodge\", \"Dodge\", \"Dodge\", \"Dodge\", \"Dodge\", \"Dodge\", \"Dodge\", \"Dodge\", \"Dodge\", \"Dodge\", \"Dodge\", \"Dodge\", \"Dodge\", \"Dodge\", \"Dodge\", \"Dodge\", \"Toyota\", \"Toyota\", \"Toyota\", \"Toyota\", \"Toyota\", \"Toyota\", \"Toyota\", \"Toyota\", \"Toyota\", \"Toyota\", \"Toyota\", \"Toyota\", \"Cadillac\", \"Cadillac\", \"Cadillac\", \"Cadillac\", \"Cadillac\", \"Cadillac\", \"Cadillac\", \"Honda\", \"Honda\", \"Honda\", \"Honda\", \"Honda\", \"Honda\", \"Honda\", \"Honda\", \"Honda\", \"Honda\", \"Honda\", \"Honda\", \"Honda\", \"Honda\", \"Honda\", \"Honda\", \"Honda\", \"Honda\", \"Honda\", \"Honda\", \"Honda\", \"GMC\", \"GMC\", \"GMC\", \"GMC\", \"GMC\", \"GMC\", \"GMC\", \"GMC\", \"GMC\", \"GMC\", \"GMC\", \"GMC\", \"GMC\", \"GMC\", \"GMC\", \"GMC\", \"GMC\", \"GMC\", \"GMC\", \"GMC\", \"GMC\", \"GMC\", \"GMC\", \"GMC\", \"GMC\", \"GMC\", \"GMC\", \"GMC\", \"GMC\", \"GMC\", \"GMC\", \"GMC\", \"GMC\", \"GMC\", \"GMC\", \"GMC\", \"GMC\", \"GMC\", \"Suzuki\", \"Suzuki\", \"Suzuki\", \"Suzuki\", \"Suzuki\", \"Suzuki\", \"Suzuki\", \"Suzuki\", \"Suzuki\", \"Suzuki\", \"Suzuki\", \"Suzuki\", \"Suzuki\", \"Suzuki\", \"Suzuki\", \"Suzuki\", \"Suzuki\", \"Suzuki\", \"Suzuki\", \"Suzuki\", \"Suzuki\", \"Suzuki\", \"Suzuki\", \"Chevrolet\", \"Chevrolet\", \"Chevrolet\", \"Chevrolet\", \"Chevrolet\", \"Chevrolet\", \"Chevrolet\", \"Chevrolet\", \"Chevrolet\", \"Chevrolet\", \"Chevrolet\", \"Chevrolet\", \"Chevrolet\", \"Chevrolet\", \"Chevrolet\", \"Chevrolet\", \"Chevrolet\", \"Chevrolet\", \"Chevrolet\", \"Chevrolet\", \"Chevrolet\", \"Chevrolet\", \"Chevrolet\", \"Cadillac\", \"Cadillac\", \"Cadillac\", \"Cadillac\", \"Cadillac\", \"Cadillac\", \"Cadillac\", \"Cadillac\", \"Cadillac\", \"Cadillac\", \"Cadillac\", \"Cadillac\", \"Cadillac\", \"Cadillac\", \"Cadillac\", \"Cadillac\", \"Cadillac\", \"Cadillac\", \"Cadillac\", \"Cadillac\", \"Cadillac\", \"Cadillac\", \"Cadillac\", \"Cadillac\", \"Cadillac\", \"Cadillac\", \"Suzuki\", \"Suzuki\", \"Suzuki\", \"Suzuki\", \"Suzuki\", \"Suzuki\", \"Suzuki\", \"Suzuki\", \"Suzuki\", \"Suzuki\", \"Suzuki\", \"Suzuki\", \"Suzuki\", \"Suzuki\", \"Suzuki\", \"Suzuki\", \"Suzuki\", \"Suzuki\", \"Suzuki\", \"Suzuki\", \"Suzuki\", \"Suzuki\", \"Suzuki\", \"Suzuki\", \"Suzuki\", \"Suzuki\", \"Suzuki\", \"Suzuki\", \"Suzuki\", \"Infiniti\", \"Infiniti\", \"Infiniti\", \"Infiniti\", \"Infiniti\", \"Infiniti\", \"Infiniti\", \"Infiniti\", \"Infiniti\", \"Infiniti\", \"Infiniti\", \"Infiniti\", \"Infiniti\", \"Infiniti\", \"Infiniti\", \"Infiniti\", \"Infiniti\", \"Infiniti\", \"Infiniti\", \"Infiniti\", \"Infiniti\", \"Infiniti\", \"Infiniti\", \"Infiniti\", \"Chevrolet\", \"Chevrolet\", \"Chevrolet\", \"Chevrolet\", \"Chevrolet\", \"Chevrolet\", \"Chevrolet\", \"Chevrolet\", \"Chevrolet\", \"Chevrolet\", \"Chevrolet\", \"Chevrolet\", \"Chevrolet\", \"Chevrolet\", \"Chevrolet\", \"Chevrolet\", \"Chevrolet\", \"Chevrolet\", \"Chevrolet\", \"Honda\", \"Honda\", \"Honda\", \"Honda\", \"Honda\", \"Honda\", \"Toyota\", \"Toyota\", \"Toyota\", \"Toyota\", \"Toyota\", \"Toyota\", \"Toyota\", \"Toyota\", \"Toyota\", \"Cadillac\", \"Cadillac\", \"Cadillac\", \"Suzuki\", \"Suzuki\", \"Suzuki\", \"Suzuki\", \"Suzuki\", \"Suzuki\", \"Suzuki\", \"Suzuki\", \"Suzuki\", \"Suzuki\", \"Suzuki\", \"Suzuki\", \"Suzuki\", \"Suzuki\", \"Suzuki\", \"Suzuki\", \"Suzuki\", \"Suzuki\", \"Suzuki\", \"Suzuki\", \"Suzuki\", \"Suzuki\", \"Suzuki\", \"Suzuki\", \"Suzuki\", \"Suzuki\", \"Suzuki\", \"Suzuki\", \"Suzuki\", \"Suzuki\", \"Suzuki\", \"Suzuki\", \"Suzuki\", \"Suzuki\", \"Nissan\", \"Nissan\", \"Nissan\", \"Nissan\", \"Nissan\", \"Nissan\", \"Nissan\", \"Nissan\", \"Nissan\", \"Nissan\", \"Nissan\", \"Nissan\", \"Nissan\", \"Nissan\", \"Nissan\", \"Nissan\", \"Nissan\", \"Nissan\", \"Nissan\", \"Nissan\", \"Nissan\", \"Nissan\", \"Nissan\", \"Nissan\", \"Nissan\", \"Nissan\", \"Nissan\", \"Nissan\", \"Nissan\", \"Nissan\", \"Nissan\", \"Nissan\", \"Nissan\", \"Nissan\", \"Nissan\", \"Nissan\", \"Nissan\", \"Nissan\", \"Nissan\", \"Nissan\", \"Nissan\", \"Nissan\", \"Nissan\", \"Nissan\", \"Nissan\", \"Nissan\", \"Nissan\", \"Nissan\", \"Nissan\", \"Nissan\", \"Nissan\", \"Nissan\", \"Nissan\", \"Nissan\", \"Nissan\", \"Nissan\", \"Nissan\", \"Nissan\", \"Nissan\", \"Nissan\", \"Nissan\", \"Nissan\", \"Nissan\", \"Nissan\", \"Nissan\", \"Nissan\", \"Nissan\", \"Nissan\", \"Nissan\", \"Nissan\", \"Nissan\", \"Nissan\", \"Nissan\", \"Nissan\", \"Nissan\", \"Nissan\", \"Infiniti\", \"Infiniti\", \"Infiniti\", \"Infiniti\", \"Infiniti\", \"Infiniti\", \"Infiniti\", \"Infiniti\", \"Infiniti\", \"Infiniti\", \"Infiniti\", \"Infiniti\", \"Infiniti\", \"Infiniti\", \"Infiniti\", \"Infiniti\", \"Infiniti\", \"Infiniti\", \"Infiniti\", \"Infiniti\", \"Infiniti\", \"Infiniti\", \"Infiniti\", \"Infiniti\", \"Infiniti\", \"Infiniti\", \"Infiniti\", \"Infiniti\", \"Infiniti\", \"Infiniti\", \"Infiniti\", \"Infiniti\", \"Infiniti\", \"Infiniti\", \"Infiniti\", \"Infiniti\", \"Infiniti\", \"Infiniti\", \"Infiniti\", \"Infiniti\", \"Infiniti\", \"Infiniti\", \"Infiniti\", \"Infiniti\", \"Infiniti\", \"Infiniti\", \"Infiniti\", \"Infiniti\", \"Infiniti\", \"Infiniti\", \"Infiniti\", \"Infiniti\", \"Infiniti\", \"Infiniti\", \"Infiniti\", \"Infiniti\", \"Infiniti\", \"Infiniti\", \"Infiniti\", \"Infiniti\", \"Infiniti\", \"Infiniti\", \"Infiniti\", \"Infiniti\", \"Infiniti\", \"Infiniti\", \"Infiniti\", \"Infiniti\", \"Infiniti\", \"Infiniti\", \"Infiniti\", \"Infiniti\", \"Infiniti\", \"Infiniti\", \"Infiniti\", \"Infiniti\", \"Infiniti\", \"Infiniti\", \"Infiniti\", \"Infiniti\", \"Infiniti\", \"Infiniti\", \"Infiniti\", \"Infiniti\", \"Infiniti\", \"Infiniti\", \"Infiniti\", \"Infiniti\", \"Infiniti\", \"Infiniti\", \"Infiniti\", \"Infiniti\", \"Infiniti\", \"Infiniti\", \"Infiniti\", \"Infiniti\", \"Infiniti\", \"Infiniti\", \"Infiniti\", \"Infiniti\", \"Infiniti\", \"Infiniti\", \"Infiniti\", \"Infiniti\", \"Infiniti\", \"Infiniti\", \"Infiniti\", \"Infiniti\", \"Infiniti\", \"Infiniti\", \"Infiniti\", \"Infiniti\", \"Infiniti\", \"Infiniti\", \"Infiniti\", \"Infiniti\", \"Infiniti\", \"Infiniti\", \"Infiniti\", \"Infiniti\", \"Infiniti\", \"Dodge\", \"Dodge\", \"Dodge\", \"Dodge\", \"Dodge\", \"Dodge\", \"Dodge\", \"Dodge\", \"Dodge\", \"Dodge\", \"Dodge\", \"Dodge\", \"Dodge\", \"Dodge\", \"Dodge\", \"Dodge\", \"Suzuki\", \"Suzuki\", \"Suzuki\", \"Suzuki\", \"Suzuki\", \"Suzuki\", \"Suzuki\", \"Suzuki\", \"Suzuki\", \"Suzuki\", \"Suzuki\", \"Suzuki\", \"Suzuki\", \"Suzuki\", \"Suzuki\", \"Suzuki\", \"Suzuki\", \"Suzuki\", \"Chevrolet\", \"Chevrolet\", \"Chevrolet\", \"Chevrolet\", \"Chevrolet\", \"Chevrolet\", \"Chevrolet\", \"Chevrolet\", \"Chevrolet\", \"Chevrolet\", \"Chevrolet\", \"Chevrolet\", \"Chevrolet\", \"Chevrolet\", \"Toyota\", \"Toyota\", \"Toyota\", \"Toyota\", \"Toyota\", \"Toyota\", \"Toyota\", \"Toyota\", \"Toyota\", \"Toyota\", \"Toyota\", \"Toyota\", \"Toyota\", \"Toyota\", \"Toyota\", \"Toyota\", \"Toyota\", \"Toyota\", \"Toyota\", \"Toyota\", \"Toyota\", \"Toyota\", \"Toyota\", \"Toyota\", \"Toyota\", \"Toyota\", \"Toyota\", \"Toyota\", \"Honda\", \"Honda\", \"Honda\", \"Honda\", \"Honda\", \"Honda\", \"Honda\", \"Honda\", \"Honda\", \"Honda\", \"Honda\", \"Honda\", \"Honda\", \"Honda\", \"Honda\", \"Honda\", \"Infiniti\", \"Infiniti\", \"Infiniti\", \"Infiniti\", \"Infiniti\", \"Infiniti\", \"Infiniti\", \"Infiniti\", \"Infiniti\", \"Chevrolet\", \"Chevrolet\", \"Chevrolet\", \"Chevrolet\", \"Chevrolet\", \"Chevrolet\", \"Chevrolet\", \"Chevrolet\", \"Chevrolet\", \"Chevrolet\", \"Chevrolet\", \"Chevrolet\", \"Chevrolet\", \"Chevrolet\", \"Chevrolet\", \"Chevrolet\", \"Chevrolet\", \"Dodge\", \"Dodge\", \"Dodge\", \"Dodge\", \"Dodge\", \"Dodge\", \"Dodge\", \"Dodge\", \"Infiniti\", \"Infiniti\", \"Infiniti\", \"GMC\", \"GMC\", \"GMC\", \"GMC\", \"GMC\", \"GMC\", \"GMC\", \"GMC\", \"GMC\", \"GMC\", \"GMC\", \"GMC\", \"GMC\", \"GMC\", \"GMC\", \"GMC\", \"GMC\", \"GMC\", \"GMC\", \"GMC\", \"GMC\", \"GMC\", \"GMC\", \"GMC\", \"GMC\", \"GMC\", \"GMC\", \"GMC\", \"GMC\", \"GMC\", \"GMC\", \"Dodge\", \"Dodge\", \"Dodge\", \"Dodge\", \"Dodge\", \"Dodge\", \"Dodge\", \"Dodge\", \"Dodge\", \"Dodge\", \"Dodge\", \"Dodge\", \"Dodge\", \"Dodge\", \"Dodge\", \"Dodge\", \"Dodge\", \"Dodge\", \"Dodge\", \"Dodge\", \"Dodge\", \"Dodge\", \"Dodge\", \"Dodge\", \"Dodge\", \"Dodge\", \"Dodge\", \"Nissan\", \"Nissan\", \"Nissan\", \"Nissan\", \"Nissan\", \"Nissan\", \"Nissan\", \"Nissan\", \"Nissan\", \"Nissan\", \"Nissan\", \"Nissan\", \"Nissan\", \"Nissan\", \"Nissan\", \"Nissan\", \"Nissan\", \"Nissan\", \"Nissan\", \"Nissan\", \"Nissan\", \"Nissan\", \"Nissan\", \"Nissan\", \"Nissan\", \"Nissan\", \"Nissan\", \"Nissan\", \"Nissan\", \"Nissan\", \"Infiniti\", \"Infiniti\", \"Suzuki\", \"Suzuki\", \"Suzuki\", \"Suzuki\", \"Suzuki\", \"Suzuki\", \"Suzuki\", \"Suzuki\", \"Suzuki\", \"Suzuki\", \"Suzuki\", \"Suzuki\", \"Suzuki\", \"Suzuki\", \"Suzuki\", \"Suzuki\", \"Suzuki\", \"Suzuki\", \"Suzuki\", \"Suzuki\", \"Suzuki\", \"Suzuki\", \"Suzuki\", \"Suzuki\", \"Suzuki\", \"Suzuki\", \"Suzuki\", \"Suzuki\", \"Chevrolet\", \"Chevrolet\", \"Chevrolet\", \"Chevrolet\", \"Chevrolet\", \"Chevrolet\", \"Chevrolet\", \"Chevrolet\", \"Chevrolet\", \"Infiniti\", \"Infiniti\", \"Infiniti\", \"Infiniti\", \"Infiniti\", \"Infiniti\", \"Infiniti\", \"Infiniti\", \"Infiniti\", \"Infiniti\", \"Infiniti\", \"Infiniti\", \"Infiniti\", \"Infiniti\", \"Infiniti\", \"Infiniti\", \"Dodge\", \"Dodge\", \"Dodge\", \"Dodge\", \"Dodge\", \"Dodge\", \"Dodge\", \"Dodge\", \"Dodge\", \"Dodge\", \"Dodge\", \"Dodge\", \"Dodge\", \"Dodge\", \"Dodge\", \"Dodge\", \"Chevrolet\", \"Chevrolet\", \"Chevrolet\", \"Chevrolet\", \"Chevrolet\", \"Chevrolet\", \"Chevrolet\", \"Chevrolet\", \"Chevrolet\", \"Chevrolet\", \"Chevrolet\", \"Chevrolet\", \"Chevrolet\", \"Chevrolet\", \"Chevrolet\", \"Chevrolet\", \"Chevrolet\", \"Chevrolet\", \"Chevrolet\", \"Chevrolet\", \"Chevrolet\", \"Chevrolet\", \"Chevrolet\", \"Chevrolet\", \"Chevrolet\", \"Chevrolet\", \"Chevrolet\", \"Chevrolet\", \"Chevrolet\", \"Chevrolet\", \"Chevrolet\", \"Chevrolet\", \"Toyota\", \"Toyota\", \"Toyota\", \"Toyota\", \"Toyota\", \"Toyota\", \"Toyota\", \"Toyota\", \"Toyota\", \"Toyota\", \"Toyota\", \"Toyota\", \"Toyota\", \"Toyota\", \"Toyota\", \"Nissan\", \"Nissan\", \"Nissan\", \"Nissan\", \"Nissan\", \"Nissan\", \"Nissan\", \"Nissan\", \"Nissan\", \"Nissan\", \"Nissan\", \"Nissan\", \"Mazda\", \"Mazda\", \"Mazda\", \"Mazda\", \"Mazda\", \"Mazda\", \"Mazda\", \"Mazda\", \"Mazda\", \"Mazda\", \"Mazda\", \"Mazda\", \"Chevrolet\", \"Chevrolet\", \"Chevrolet\", \"Mazda\", \"Mazda\", \"Mazda\", \"Mazda\", \"Mazda\", \"Mazda\", \"Mazda\", \"Mazda\", \"Mazda\", \"Infiniti\", \"Infiniti\", \"Infiniti\", \"Infiniti\", \"Infiniti\", \"Infiniti\", \"Infiniti\", \"Infiniti\", \"Infiniti\", \"Infiniti\", \"Chevrolet\", \"Chevrolet\", \"Chevrolet\", \"Chevrolet\", \"Chevrolet\", \"Chevrolet\", \"Chevrolet\", \"Chevrolet\", \"Chevrolet\", \"Chevrolet\", \"Chevrolet\", \"Mazda\", \"Mazda\", \"Mazda\", \"Mazda\", \"Mazda\", \"Mazda\", \"Mazda\", \"Mazda\", \"Toyota\", \"Toyota\", \"Toyota\", \"Toyota\", \"Toyota\", \"Toyota\", \"Toyota\", \"Toyota\", \"Toyota\", \"Toyota\", \"Nissan\", \"Nissan\", \"Nissan\", \"Nissan\", \"Nissan\", \"Nissan\", \"Nissan\", \"Nissan\", \"Nissan\", \"Nissan\", \"Nissan\", \"Nissan\", \"Nissan\", \"Nissan\", \"Nissan\", \"Nissan\", \"Nissan\", \"Nissan\", \"Nissan\", \"Nissan\", \"Nissan\", \"Nissan\", \"Nissan\", \"Nissan\", \"Nissan\", \"Nissan\", \"Nissan\", \"Nissan\", \"Nissan\", \"Nissan\", \"Nissan\", \"Mazda\", \"Mazda\", \"Mazda\", \"Mazda\", \"Mazda\", \"Mazda\", \"Mazda\", \"Mazda\", \"Mazda\", \"Mazda\", \"Mazda\", \"Mazda\", \"Mazda\", \"Mazda\", \"Mazda\", \"Mazda\", \"Mazda\", \"Mazda\", \"Mazda\", \"Mazda\", \"Mazda\", \"Mazda\", \"Mazda\", \"Mazda\", \"Mazda\", \"Mazda\", \"Mazda\", \"Mazda\", \"Mazda\", \"Mazda\", \"Mazda\", \"Mazda\", \"Mazda\", \"Mazda\", \"Mazda\", \"Mazda\", \"Dodge\", \"Dodge\", \"Dodge\", \"Dodge\", \"Dodge\", \"Dodge\", \"Dodge\", \"Dodge\", \"Dodge\", \"Dodge\", \"Dodge\", \"Dodge\", \"Dodge\", \"Dodge\", \"Dodge\", \"Dodge\", \"Dodge\", \"Dodge\", \"Dodge\", \"Dodge\", \"Dodge\", \"Dodge\", \"Dodge\", \"Dodge\", \"Dodge\", \"Dodge\", \"Dodge\", \"Dodge\", \"Dodge\", \"Dodge\", \"Dodge\", \"Dodge\", \"Dodge\", \"Nissan\", \"Nissan\", \"Nissan\", \"Nissan\", \"Nissan\", \"Nissan\", \"Honda\", \"Honda\", \"Honda\", \"Honda\", \"Honda\", \"Honda\", \"Honda\", \"Honda\", \"Honda\", \"Honda\", \"Honda\", \"Honda\", \"Honda\", \"Honda\", \"Honda\", \"Toyota\", \"Toyota\", \"Toyota\", \"Toyota\", \"Honda\", \"Honda\", \"Honda\", \"Honda\", \"Honda\", \"Honda\", \"Honda\", \"Honda\", \"Honda\", \"Honda\", \"Honda\", \"Honda\", \"Honda\", \"Honda\", \"Honda\", \"Honda\", \"Honda\", \"Honda\", \"Honda\", \"Honda\", \"Nissan\", \"Nissan\", \"Nissan\", \"Nissan\", \"Nissan\", \"Nissan\", \"Nissan\", \"Nissan\", \"Nissan\", \"Nissan\", \"Nissan\", \"Nissan\", \"Nissan\", \"Nissan\", \"Nissan\", \"Nissan\", \"Nissan\", \"Nissan\", \"Nissan\", \"Nissan\", \"Nissan\", \"Nissan\", \"Nissan\", \"Nissan\", \"Nissan\", \"Nissan\", \"Nissan\", \"Nissan\", \"Toyota\", \"Toyota\", \"Toyota\", \"Toyota\", \"Toyota\", \"Toyota\", \"Toyota\", \"Toyota\", \"Toyota\", \"Toyota\", \"Toyota\", \"Toyota\", \"Toyota\", \"Toyota\", \"Toyota\", \"Toyota\", \"Honda\", \"Honda\", \"Honda\", \"Honda\", \"Honda\", \"Honda\", \"Honda\", \"Honda\", \"Honda\", \"Honda\", \"Honda\", \"Honda\", \"Honda\", \"Honda\", \"Honda\", \"Honda\", \"Honda\", \"Honda\", \"Honda\", \"Honda\", \"Honda\", \"Honda\", \"Honda\", \"Honda\", \"Honda\", \"Honda\", \"Honda\", \"Honda\", \"Honda\", \"Honda\", \"Honda\", \"Honda\", \"Honda\", \"Honda\", \"Honda\", \"Honda\", \"Honda\", \"Honda\", \"Honda\", \"Honda\", \"Honda\", \"Honda\", \"Honda\", \"Honda\", \"Honda\", \"Honda\", \"Honda\", \"Toyota\", \"Toyota\", \"Toyota\", \"Toyota\", \"Toyota\", \"Toyota\", \"Toyota\", \"Toyota\", \"Toyota\", \"Toyota\", \"Toyota\", \"Toyota\", \"Chevrolet\", \"Chevrolet\", \"Chevrolet\", \"Chevrolet\", \"Chevrolet\", \"Chevrolet\", \"Mazda\", \"Mazda\", \"Mazda\", \"Mazda\", \"Mazda\", \"Mazda\", \"Mazda\", \"Mazda\", \"Mazda\", \"Mazda\", \"Mazda\", \"Mazda\", \"Mazda\", \"Infiniti\", \"Infiniti\", \"Infiniti\", \"Infiniti\", \"Infiniti\", \"Infiniti\", \"Infiniti\", \"Infiniti\", \"Infiniti\", \"Infiniti\", \"Infiniti\", \"Infiniti\", \"Infiniti\", \"Infiniti\", \"Infiniti\", \"Infiniti\", \"Infiniti\", \"Infiniti\", \"Infiniti\", \"Infiniti\", \"Infiniti\", \"Infiniti\", \"Infiniti\", \"Infiniti\", \"Infiniti\", \"Infiniti\", \"Infiniti\", \"Infiniti\", \"Infiniti\", \"Infiniti\", \"Infiniti\", \"Infiniti\", \"Infiniti\", \"Infiniti\", \"Infiniti\", \"Infiniti\", \"Infiniti\", \"Infiniti\", \"Infiniti\", \"Infiniti\", \"Infiniti\", \"Infiniti\", \"Infiniti\", \"Infiniti\", \"Infiniti\", \"Infiniti\", \"Infiniti\", \"Infiniti\", \"Infiniti\", \"Infiniti\", \"Infiniti\", \"Infiniti\", \"Infiniti\", \"Infiniti\", \"Infiniti\", \"Infiniti\", \"Infiniti\", \"Infiniti\", \"Infiniti\", \"Infiniti\", \"Infiniti\", \"Infiniti\", \"Infiniti\", \"Infiniti\", \"Infiniti\", \"Infiniti\", \"Infiniti\", \"Infiniti\", \"Infiniti\", \"Infiniti\", \"Infiniti\", \"Infiniti\", \"Infiniti\", \"Infiniti\", \"Infiniti\", \"Infiniti\", \"Infiniti\", \"Infiniti\", \"Infiniti\", \"Infiniti\", \"Infiniti\", \"Infiniti\", \"Infiniti\", \"Infiniti\", \"Infiniti\", \"Infiniti\", \"Infiniti\", \"Infiniti\", \"Infiniti\", \"Nissan\", \"Nissan\", \"Nissan\", \"Nissan\", \"Nissan\", \"Nissan\", \"Nissan\", \"Nissan\", \"Nissan\", \"Nissan\", \"Nissan\", \"Nissan\", \"Infiniti\", \"Infiniti\", \"Infiniti\", \"Infiniti\", \"Infiniti\", \"Infiniti\", \"Infiniti\", \"Infiniti\", \"Infiniti\", \"Infiniti\", \"Infiniti\", \"Infiniti\", \"Infiniti\", \"Infiniti\", \"Infiniti\", \"Infiniti\", \"Infiniti\", \"Infiniti\", \"Infiniti\", \"Infiniti\", \"Infiniti\", \"Infiniti\", \"Infiniti\", \"Infiniti\", \"Infiniti\", \"Infiniti\", \"Infiniti\", \"Infiniti\", \"Infiniti\", \"Infiniti\", \"Infiniti\", \"Infiniti\", \"Infiniti\", \"Infiniti\", \"Infiniti\", \"Infiniti\", \"Infiniti\", \"Infiniti\", \"Infiniti\", \"Infiniti\", \"Infiniti\", \"Infiniti\", \"Infiniti\", \"Infiniti\", \"Infiniti\", \"Infiniti\", \"GMC\", \"GMC\", \"Dodge\", \"Dodge\", \"Dodge\", \"Dodge\", \"Dodge\", \"Dodge\", \"Dodge\", \"Dodge\", \"Dodge\", \"Dodge\", \"Dodge\", \"Dodge\", \"Dodge\", \"Dodge\", \"Dodge\", \"Dodge\", \"Dodge\", \"Dodge\", \"Dodge\", \"Dodge\", \"Dodge\", \"Dodge\", \"Dodge\", \"Dodge\", \"Dodge\", \"Dodge\", \"Dodge\", \"Dodge\", \"Dodge\", \"Dodge\", \"Dodge\", \"Dodge\", \"Dodge\", \"Dodge\", \"Dodge\", \"Dodge\", \"Dodge\", \"Dodge\", \"Dodge\", \"Dodge\", \"Dodge\", \"Dodge\", \"Dodge\", \"Dodge\", \"Dodge\", \"Dodge\", \"Dodge\", \"Dodge\", \"Dodge\", \"Dodge\", \"Dodge\", \"Dodge\", \"Dodge\", \"Dodge\", \"Dodge\", \"Dodge\", \"Dodge\", \"Dodge\", \"Dodge\", \"Dodge\", \"Dodge\", \"Dodge\", \"Dodge\", \"Dodge\", \"Dodge\", \"Dodge\", \"Dodge\", \"Dodge\", \"Dodge\", \"Dodge\", \"Dodge\", \"Dodge\", \"Dodge\", \"Dodge\", \"Dodge\", \"Dodge\", \"Dodge\", \"Dodge\", \"Dodge\", \"Dodge\", \"Dodge\", \"Dodge\", \"Dodge\", \"Dodge\", \"Dodge\", \"Dodge\", \"Dodge\", \"Dodge\", \"Dodge\", \"Dodge\", \"Dodge\", \"Dodge\", \"Dodge\", \"Dodge\", \"Toyota\", \"Toyota\", \"Toyota\", \"Toyota\", \"Toyota\", \"Toyota\", \"Toyota\", \"Toyota\", \"Toyota\", \"Toyota\", \"Toyota\", \"Toyota\", \"Toyota\", \"Toyota\", \"Toyota\", \"Toyota\", \"Toyota\", \"Toyota\", \"Toyota\", \"Toyota\", \"Toyota\", \"Toyota\", \"Toyota\", \"Toyota\", \"Suzuki\", \"Suzuki\", \"Suzuki\", \"Suzuki\", \"Suzuki\", \"Suzuki\", \"Suzuki\", \"Suzuki\", \"Suzuki\", \"Suzuki\", \"Suzuki\", \"Suzuki\", \"Suzuki\", \"Suzuki\", \"Suzuki\", \"Honda\", \"Honda\", \"Honda\", \"Honda\", \"Honda\", \"Honda\", \"Honda\", \"Honda\", \"Honda\", \"Honda\", \"Honda\", \"Honda\", \"Honda\", \"Honda\", \"Honda\", \"Honda\", \"Honda\", \"Honda\", \"Honda\", \"Honda\", \"Honda\", \"Nissan\", \"Nissan\", \"Nissan\", \"Nissan\", \"Nissan\", \"Nissan\", \"Nissan\", \"Nissan\", \"Nissan\", \"Nissan\", \"Nissan\", \"Nissan\", \"Nissan\", \"Nissan\", \"Nissan\", \"Nissan\", \"Nissan\", \"Nissan\", \"Nissan\", \"Nissan\", \"Nissan\", \"Nissan\", \"Nissan\", \"Nissan\", \"Chevrolet\", \"Chevrolet\", \"Chevrolet\", \"Chevrolet\", \"Chevrolet\", \"Chevrolet\", \"Chevrolet\", \"Chevrolet\", \"Chevrolet\", \"Chevrolet\", \"Chevrolet\", \"Chevrolet\", \"Chevrolet\", \"Chevrolet\", \"Chevrolet\", \"Chevrolet\", \"Chevrolet\", \"Chevrolet\", \"Chevrolet\", \"Chevrolet\", \"Chevrolet\", \"Chevrolet\", \"Chevrolet\", \"Chevrolet\", \"Chevrolet\", \"Chevrolet\", \"Chevrolet\", \"Chevrolet\", \"Chevrolet\", \"Chevrolet\", \"Chevrolet\", \"Chevrolet\", \"Chevrolet\", \"Chevrolet\", \"Chevrolet\", \"Honda\", \"Honda\", \"Honda\", \"Honda\", \"Honda\", \"Honda\", \"Honda\", \"GMC\", \"GMC\", \"GMC\", \"GMC\", \"GMC\", \"GMC\", \"GMC\", \"GMC\", \"GMC\", \"GMC\", \"GMC\", \"GMC\", \"Suzuki\", \"Suzuki\", \"GMC\", \"GMC\", \"GMC\", \"GMC\", \"GMC\", \"GMC\", \"GMC\", \"GMC\", \"GMC\", \"GMC\", \"GMC\", \"GMC\", \"GMC\", \"GMC\", \"GMC\", \"GMC\", \"GMC\", \"GMC\", \"GMC\", \"GMC\", \"GMC\", \"GMC\", \"GMC\", \"GMC\", \"GMC\", \"GMC\", \"GMC\", \"GMC\", \"GMC\", \"GMC\", \"GMC\", \"Nissan\", \"Nissan\", \"Nissan\", \"Nissan\", \"Nissan\", \"Nissan\", \"Nissan\", \"Nissan\", \"Nissan\", \"Nissan\", \"Nissan\", \"Nissan\", \"Nissan\", \"Nissan\", \"Nissan\", \"Nissan\", \"Nissan\", \"Nissan\", \"Nissan\", \"Toyota\", \"Toyota\", \"Toyota\", \"Toyota\", \"Toyota\", \"Toyota\", \"Toyota\", \"Toyota\", \"Toyota\", \"Cadillac\", \"Cadillac\", \"Cadillac\", \"Cadillac\", \"Cadillac\", \"Dodge\", \"Dodge\", \"Dodge\", \"Dodge\", \"Suzuki\", \"Suzuki\", \"Suzuki\", \"Suzuki\", \"Suzuki\", \"Suzuki\", \"Suzuki\", \"Suzuki\", \"Suzuki\", \"Suzuki\", \"Suzuki\", \"Suzuki\", \"Suzuki\", \"Suzuki\", \"Suzuki\", \"Suzuki\", \"Suzuki\", \"Suzuki\", \"Suzuki\", \"Toyota\", \"Toyota\", \"Toyota\", \"Toyota\", \"Toyota\", \"Toyota\", \"Toyota\", \"Toyota\", \"Toyota\", \"Toyota\", \"Toyota\", \"Toyota\", \"Toyota\", \"Toyota\", \"Toyota\", \"Toyota\", \"Toyota\", \"Toyota\", \"Toyota\", \"Toyota\", \"Toyota\", \"Toyota\", \"Toyota\", \"Toyota\", \"Toyota\", \"Toyota\", \"Toyota\", \"Toyota\", \"Toyota\", \"Toyota\", \"Toyota\", \"Toyota\", \"Toyota\", \"Toyota\", \"Toyota\", \"Toyota\", \"Toyota\", \"Toyota\", \"Toyota\", \"Toyota\", \"Toyota\", \"Toyota\", \"Toyota\", \"Toyota\", \"Toyota\", \"Toyota\", \"Toyota\", \"Toyota\", \"Toyota\", \"Toyota\", \"Toyota\", \"GMC\", \"GMC\", \"GMC\", \"GMC\", \"GMC\", \"GMC\", \"GMC\", \"GMC\", \"GMC\", \"GMC\", \"GMC\", \"GMC\", \"GMC\", \"GMC\", \"GMC\", \"GMC\", \"GMC\", \"GMC\", \"GMC\", \"GMC\", \"GMC\", \"GMC\", \"GMC\", \"GMC\", \"GMC\", \"GMC\", \"GMC\", \"GMC\", \"GMC\", \"GMC\", \"GMC\", \"GMC\", \"GMC\", \"GMC\", \"GMC\", \"GMC\", \"GMC\", \"GMC\", \"GMC\", \"GMC\", \"GMC\", \"GMC\", \"GMC\", \"GMC\", \"GMC\", \"GMC\", \"GMC\", \"GMC\", \"GMC\", \"GMC\", \"GMC\", \"GMC\", \"GMC\", \"GMC\", \"GMC\", \"GMC\", \"GMC\", \"GMC\", \"GMC\", \"GMC\", \"GMC\", \"GMC\", \"GMC\", \"GMC\", \"GMC\", \"GMC\", \"GMC\", \"GMC\", \"GMC\", \"GMC\", \"GMC\", \"GMC\", \"GMC\", \"GMC\", \"GMC\", \"GMC\", \"GMC\", \"GMC\", \"GMC\", \"GMC\", \"GMC\", \"GMC\", \"GMC\", \"GMC\", \"GMC\", \"GMC\", \"GMC\", \"GMC\", \"GMC\", \"GMC\", \"GMC\", \"GMC\", \"GMC\", \"GMC\", \"GMC\", \"GMC\", \"GMC\", \"GMC\", \"GMC\", \"GMC\", \"GMC\", \"GMC\", \"GMC\", \"GMC\", \"GMC\", \"GMC\", \"GMC\", \"GMC\", \"GMC\", \"GMC\", \"GMC\", \"GMC\", \"GMC\", \"GMC\", \"GMC\", \"GMC\", \"GMC\", \"GMC\", \"GMC\", \"GMC\", \"GMC\", \"GMC\", \"GMC\", \"GMC\", \"GMC\", \"GMC\", \"GMC\", \"GMC\", \"GMC\", \"GMC\", \"GMC\", \"GMC\", \"GMC\", \"GMC\", \"GMC\", \"GMC\", \"GMC\", \"GMC\", \"GMC\", \"GMC\", \"GMC\", \"GMC\", \"GMC\", \"GMC\", \"GMC\", \"GMC\", \"GMC\", \"GMC\", \"GMC\", \"GMC\", \"GMC\", \"GMC\", \"GMC\", \"GMC\", \"GMC\", \"GMC\", \"GMC\", \"GMC\", \"GMC\", \"GMC\", \"GMC\", \"GMC\", \"Chevrolet\", \"Chevrolet\", \"Chevrolet\", \"Chevrolet\", \"Chevrolet\", \"Chevrolet\", \"Chevrolet\", \"Chevrolet\", \"Chevrolet\", \"Chevrolet\", \"Chevrolet\", \"Chevrolet\", \"Chevrolet\", \"Chevrolet\", \"Chevrolet\", \"Chevrolet\", \"Chevrolet\", \"Chevrolet\", \"Chevrolet\", \"Chevrolet\", \"Chevrolet\", \"Chevrolet\", \"Chevrolet\", \"Chevrolet\", \"Chevrolet\", \"Chevrolet\", \"Chevrolet\", \"Chevrolet\", \"Chevrolet\", \"Chevrolet\", \"Chevrolet\", \"Chevrolet\", \"Chevrolet\", \"Chevrolet\", \"Chevrolet\", \"Chevrolet\", \"Chevrolet\", \"Chevrolet\", \"Chevrolet\", \"Chevrolet\", \"Chevrolet\", \"Chevrolet\", \"Chevrolet\", \"Chevrolet\", \"Chevrolet\", \"Chevrolet\", \"Chevrolet\", \"Chevrolet\", \"Chevrolet\", \"Chevrolet\", \"Chevrolet\", \"Chevrolet\", \"Chevrolet\", \"Chevrolet\", \"Chevrolet\", \"Chevrolet\", \"Chevrolet\", \"Chevrolet\", \"Chevrolet\", \"Chevrolet\", \"Chevrolet\", \"Chevrolet\", \"Chevrolet\", \"Chevrolet\", \"Chevrolet\", \"Chevrolet\", \"Chevrolet\", \"Chevrolet\", \"Chevrolet\", \"Chevrolet\", \"Chevrolet\", \"Chevrolet\", \"Chevrolet\", \"Chevrolet\", \"Chevrolet\", \"Chevrolet\", \"Chevrolet\", \"Chevrolet\", \"Chevrolet\", \"Chevrolet\", \"Chevrolet\", \"Chevrolet\", \"Chevrolet\", \"Chevrolet\", \"Chevrolet\", \"Chevrolet\", \"Chevrolet\", \"Chevrolet\", \"Chevrolet\", \"Chevrolet\", \"Chevrolet\", \"Chevrolet\", \"Chevrolet\", \"Chevrolet\", \"Chevrolet\", \"Chevrolet\", \"Chevrolet\", \"Chevrolet\", \"Chevrolet\", \"Chevrolet\", \"Chevrolet\", \"Chevrolet\", \"Chevrolet\", \"Chevrolet\", \"Chevrolet\", \"Chevrolet\", \"Chevrolet\", \"Chevrolet\", \"Chevrolet\", \"Chevrolet\", \"Chevrolet\", \"Chevrolet\", \"Chevrolet\", \"Chevrolet\", \"Chevrolet\", \"Chevrolet\", \"Chevrolet\", \"Chevrolet\", \"Chevrolet\", \"Chevrolet\", \"Chevrolet\", \"Chevrolet\", \"Chevrolet\", \"Chevrolet\", \"Chevrolet\", \"Chevrolet\", \"Chevrolet\", \"Chevrolet\", \"Chevrolet\", \"Chevrolet\", \"Chevrolet\", \"Chevrolet\", \"Chevrolet\", \"Chevrolet\", \"Chevrolet\", \"Chevrolet\", \"Chevrolet\", \"Chevrolet\", \"Chevrolet\", \"Chevrolet\", \"Chevrolet\", \"Chevrolet\", \"Chevrolet\", \"Chevrolet\", \"Chevrolet\", \"Chevrolet\", \"Chevrolet\", \"Chevrolet\", \"Chevrolet\", \"Chevrolet\", \"Chevrolet\", \"Chevrolet\", \"Chevrolet\", \"Chevrolet\", \"Chevrolet\", \"Chevrolet\", \"Chevrolet\", \"Chevrolet\", \"Chevrolet\", \"Chevrolet\", \"Chevrolet\", \"Chevrolet\", \"Chevrolet\", \"Chevrolet\", \"Chevrolet\", \"Chevrolet\", \"Chevrolet\", \"Chevrolet\", \"Chevrolet\", \"Chevrolet\", \"Chevrolet\", \"Chevrolet\", \"Chevrolet\", \"Chevrolet\", \"Chevrolet\", \"Chevrolet\", \"Chevrolet\", \"Chevrolet\", \"Chevrolet\", \"Chevrolet\", \"Chevrolet\", \"Chevrolet\", \"Chevrolet\", \"Chevrolet\", \"Chevrolet\", \"Chevrolet\", \"Chevrolet\", \"Chevrolet\", \"Chevrolet\", \"Chevrolet\", \"Chevrolet\", \"Chevrolet\", \"Chevrolet\", \"Chevrolet\", \"Chevrolet\", \"Chevrolet\", \"Chevrolet\", \"Chevrolet\", \"Chevrolet\", \"Chevrolet\", \"Chevrolet\", \"Chevrolet\", \"Chevrolet\", \"Chevrolet\", \"Chevrolet\", \"Chevrolet\", \"Chevrolet\", \"Chevrolet\", \"Chevrolet\", \"Chevrolet\", \"Chevrolet\", \"Chevrolet\", \"Chevrolet\", \"Chevrolet\", \"Chevrolet\", \"Chevrolet\", \"Chevrolet\", \"Chevrolet\", \"Chevrolet\", \"Chevrolet\", \"Chevrolet\", \"Chevrolet\", \"Chevrolet\", \"Chevrolet\", \"Chevrolet\", \"Chevrolet\", \"Chevrolet\", \"Chevrolet\", \"Chevrolet\", \"Chevrolet\", \"Chevrolet\", \"Chevrolet\", \"Chevrolet\", \"Chevrolet\", \"Chevrolet\", \"Chevrolet\", \"Chevrolet\", \"Chevrolet\", \"Chevrolet\", \"Chevrolet\", \"Chevrolet\", \"Chevrolet\", \"Chevrolet\", \"Chevrolet\", \"Chevrolet\", \"Chevrolet\", \"Chevrolet\", \"Chevrolet\", \"Chevrolet\", \"Chevrolet\", \"Chevrolet\", \"Chevrolet\", \"Chevrolet\", \"Chevrolet\", \"Chevrolet\", \"Chevrolet\", \"Chevrolet\", \"GMC\", \"GMC\", \"GMC\", \"GMC\", \"GMC\", \"GMC\", \"GMC\", \"GMC\", \"GMC\", \"GMC\", \"GMC\", \"GMC\", \"GMC\", \"GMC\", \"GMC\", \"GMC\", \"GMC\", \"GMC\", \"Chevrolet\", \"Chevrolet\", \"Chevrolet\", \"Chevrolet\", \"Chevrolet\", \"Chevrolet\", \"Chevrolet\", \"Chevrolet\", \"Chevrolet\", \"Chevrolet\", \"Chevrolet\", \"Chevrolet\", \"Chevrolet\", \"Chevrolet\", \"Chevrolet\", \"Chevrolet\", \"Chevrolet\", \"Chevrolet\", \"Dodge\", \"Dodge\", \"Cadillac\", \"Cadillac\", \"Cadillac\", \"Cadillac\", \"Cadillac\", \"Cadillac\", \"Cadillac\", \"Cadillac\", \"Cadillac\", \"Cadillac\", \"Cadillac\", \"Cadillac\", \"Cadillac\", \"Cadillac\", \"Cadillac\", \"Cadillac\", \"Cadillac\", \"Cadillac\", \"Cadillac\", \"Cadillac\", \"Cadillac\", \"Chevrolet\", \"Chevrolet\", \"Chevrolet\", \"Chevrolet\", \"Chevrolet\", \"Chevrolet\", \"Dodge\", \"Dodge\", \"Dodge\", \"Dodge\", \"Dodge\", \"Dodge\", \"Dodge\", \"Dodge\", \"Dodge\", \"Dodge\", \"Dodge\", \"Dodge\", \"Dodge\", \"Dodge\", \"Dodge\", \"Dodge\", \"Dodge\", \"Dodge\", \"Dodge\", \"Dodge\", \"Dodge\", \"Dodge\", \"Dodge\", \"Dodge\", \"Dodge\", \"Dodge\", \"Dodge\", \"Cadillac\", \"Cadillac\", \"Cadillac\", \"Cadillac\", \"Cadillac\", \"Cadillac\", \"Cadillac\", \"Cadillac\", \"Cadillac\", \"Cadillac\", \"Cadillac\", \"Chevrolet\", \"Chevrolet\", \"Chevrolet\", \"Chevrolet\", \"Chevrolet\", \"Chevrolet\", \"Chevrolet\", \"Chevrolet\", \"Chevrolet\", \"Chevrolet\", \"Chevrolet\", \"Chevrolet\", \"Chevrolet\", \"Chevrolet\", \"Chevrolet\", \"Chevrolet\", \"Chevrolet\", \"Chevrolet\", \"GMC\", \"GMC\", \"GMC\", \"GMC\", \"GMC\", \"GMC\", \"Toyota\", \"Toyota\", \"Toyota\", \"Toyota\", \"Toyota\", \"Toyota\", \"Suzuki\", \"Suzuki\", \"Suzuki\", \"Suzuki\", \"Suzuki\", \"Suzuki\", \"Suzuki\", \"Suzuki\", \"Suzuki\", \"Suzuki\", \"Suzuki\", \"Suzuki\", \"Suzuki\", \"Suzuki\", \"Suzuki\", \"Suzuki\", \"Suzuki\", \"Suzuki\", \"Suzuki\", \"Suzuki\", \"Suzuki\", \"Suzuki\", \"Suzuki\", \"Suzuki\", \"Suzuki\", \"Suzuki\", \"Suzuki\", \"Suzuki\", \"Suzuki\", \"Suzuki\", \"Suzuki\", \"Suzuki\", \"Suzuki\", \"Suzuki\", \"Suzuki\", \"Suzuki\", \"Suzuki\", \"Toyota\", \"Toyota\", \"Toyota\", \"Toyota\", \"Toyota\", \"Toyota\", \"Toyota\", \"Toyota\", \"Toyota\", \"Toyota\", \"Toyota\", \"Toyota\", \"Toyota\", \"Toyota\", \"Toyota\", \"Toyota\", \"Toyota\", \"Toyota\", \"Toyota\", \"Toyota\", \"Toyota\", \"Toyota\", \"Toyota\", \"Toyota\", \"Toyota\", \"Toyota\", \"Toyota\", \"Toyota\", \"Toyota\", \"Toyota\", \"Toyota\", \"Toyota\", \"Toyota\", \"Toyota\", \"Toyota\", \"Toyota\", \"Toyota\", \"Toyota\", \"Toyota\", \"Toyota\", \"Toyota\", \"Toyota\", \"Toyota\", \"Toyota\", \"Toyota\", \"Toyota\", \"Toyota\", \"Toyota\", \"Toyota\", \"Toyota\", \"Toyota\", \"Toyota\", \"Toyota\", \"Toyota\", \"Toyota\", \"Toyota\", \"Toyota\", \"Toyota\", \"Toyota\", \"Toyota\", \"Toyota\", \"Toyota\", \"Toyota\", \"Toyota\", \"Toyota\", \"Toyota\", \"Toyota\", \"Toyota\", \"Toyota\", \"Toyota\", \"Toyota\", \"Toyota\", \"Toyota\", \"Toyota\", \"Toyota\", \"Toyota\", \"Toyota\", \"Chevrolet\", \"Chevrolet\", \"Chevrolet\", \"Chevrolet\", \"Chevrolet\", \"Chevrolet\", \"Chevrolet\", \"Chevrolet\", \"Chevrolet\", \"Chevrolet\", \"Chevrolet\", \"Chevrolet\", \"Chevrolet\", \"Chevrolet\", \"Chevrolet\", \"Chevrolet\", \"Chevrolet\", \"Chevrolet\", \"Chevrolet\", \"Chevrolet\", \"Chevrolet\", \"Chevrolet\", \"Chevrolet\", \"Chevrolet\", \"Chevrolet\", \"Chevrolet\", \"Toyota\", \"Toyota\", \"Toyota\", \"Toyota\", \"Toyota\", \"Toyota\", \"Toyota\", \"GMC\", \"GMC\", \"GMC\", \"GMC\", \"GMC\", \"GMC\", \"GMC\", \"GMC\", \"GMC\", \"GMC\", \"GMC\", \"GMC\", \"GMC\", \"GMC\", \"GMC\", \"GMC\", \"GMC\", \"GMC\", \"GMC\", \"GMC\", \"GMC\", \"GMC\", \"GMC\", \"GMC\", \"GMC\", \"GMC\", \"GMC\", \"GMC\", \"GMC\", \"Nissan\", \"Nissan\", \"Nissan\", \"Nissan\", \"Nissan\", \"Nissan\", \"Nissan\", \"Nissan\", \"Nissan\", \"Nissan\", \"Nissan\", \"Nissan\", \"Nissan\", \"Nissan\", \"Nissan\", \"Nissan\", \"Nissan\", \"Nissan\", \"Nissan\", \"Nissan\", \"Nissan\", \"Nissan\", \"Nissan\", \"Nissan\", \"Nissan\", \"Nissan\", \"Nissan\", \"Nissan\", \"Nissan\", \"Nissan\", \"Nissan\", \"Nissan\", \"Nissan\", \"Nissan\", \"Nissan\", \"Chevrolet\", \"Chevrolet\", \"Chevrolet\", \"Chevrolet\", \"Chevrolet\", \"Chevrolet\", \"Chevrolet\", \"Chevrolet\", \"Chevrolet\", \"Chevrolet\", \"Chevrolet\", \"Chevrolet\", \"Chevrolet\", \"Chevrolet\", \"Chevrolet\", \"Chevrolet\", \"Chevrolet\", \"Chevrolet\", \"Chevrolet\", \"Chevrolet\", \"Chevrolet\", \"Chevrolet\", \"Chevrolet\", \"Chevrolet\", \"Chevrolet\", \"Chevrolet\", \"Chevrolet\", \"Chevrolet\", \"Chevrolet\", \"Chevrolet\", \"Chevrolet\", \"Chevrolet\", \"Chevrolet\", \"Chevrolet\", \"Chevrolet\", \"Chevrolet\", \"Chevrolet\", \"Chevrolet\", \"Chevrolet\", \"Chevrolet\", \"Chevrolet\", \"Chevrolet\", \"Chevrolet\", \"Chevrolet\", \"Chevrolet\", \"Chevrolet\", \"Chevrolet\", \"Chevrolet\", \"Chevrolet\", \"Chevrolet\", \"Chevrolet\", \"Chevrolet\", \"Chevrolet\", \"Chevrolet\", \"Chevrolet\", \"Chevrolet\", \"Chevrolet\", \"Chevrolet\", \"Chevrolet\", \"Chevrolet\", \"Chevrolet\", \"Chevrolet\", \"Chevrolet\", \"Chevrolet\", \"Chevrolet\", \"Chevrolet\", \"Chevrolet\", \"Chevrolet\", \"Chevrolet\", \"Chevrolet\", \"Chevrolet\", \"Chevrolet\", \"Chevrolet\", \"Chevrolet\", \"Chevrolet\", \"Chevrolet\", \"Chevrolet\", \"Chevrolet\", \"Chevrolet\", \"Chevrolet\", \"Chevrolet\", \"Chevrolet\", \"Chevrolet\", \"Chevrolet\", \"Chevrolet\", \"Chevrolet\", \"Chevrolet\", \"Chevrolet\", \"Chevrolet\", \"Chevrolet\", \"Chevrolet\", \"Chevrolet\", \"Chevrolet\", \"Chevrolet\", \"Chevrolet\", \"Chevrolet\", \"Chevrolet\", \"Chevrolet\", \"Chevrolet\", \"Chevrolet\", \"Chevrolet\", \"Chevrolet\", \"Chevrolet\", \"Chevrolet\", \"Chevrolet\", \"Chevrolet\", \"Chevrolet\", \"Mazda\", \"Mazda\", \"Mazda\", \"Mazda\", \"Mazda\", \"Mazda\", \"Mazda\", \"Mazda\", \"Mazda\", \"Mazda\", \"Mazda\", \"Mazda\", \"Mazda\", \"Mazda\", \"Mazda\", \"Mazda\", \"Mazda\", \"Mazda\", \"Mazda\", \"Mazda\", \"Mazda\", \"Mazda\", \"Mazda\", \"Mazda\", \"Mazda\", \"Mazda\", \"Mazda\", \"Mazda\", \"Mazda\", \"Mazda\", \"Mazda\", \"Mazda\", \"Mazda\", \"Mazda\", \"Mazda\", \"Mazda\", \"Mazda\", \"Mazda\", \"Mazda\", \"Mazda\", \"Mazda\", \"Mazda\", \"Mazda\", \"Mazda\", \"Mazda\", \"Mazda\", \"Mazda\", \"Mazda\", \"Mazda\", \"Mazda\", \"Nissan\", \"Nissan\", \"Nissan\", \"Nissan\", \"Nissan\", \"Nissan\", \"Nissan\", \"Nissan\", \"Nissan\", \"Nissan\", \"Nissan\", \"Nissan\", \"Nissan\", \"Nissan\", \"Nissan\", \"Nissan\", \"Nissan\", \"Nissan\", \"Nissan\", \"Nissan\", \"Nissan\", \"Toyota\", \"Toyota\", \"Toyota\", \"Toyota\", \"Toyota\", \"Toyota\", \"Toyota\", \"Toyota\", \"Toyota\", \"Toyota\", \"Toyota\", \"Toyota\", \"Toyota\", \"Toyota\", \"Toyota\", \"Toyota\", \"Toyota\", \"Toyota\", \"Toyota\", \"Toyota\", \"Toyota\", \"Toyota\", \"Toyota\", \"Toyota\", \"Toyota\", \"Toyota\", \"Chevrolet\", \"Chevrolet\", \"Chevrolet\", \"Chevrolet\", \"Chevrolet\", \"Chevrolet\", \"Chevrolet\", \"Chevrolet\", \"Chevrolet\", \"Chevrolet\", \"Chevrolet\", \"GMC\", \"GMC\", \"GMC\", \"Chevrolet\", \"Chevrolet\", \"Chevrolet\", \"Chevrolet\", \"Chevrolet\", \"Chevrolet\", \"Chevrolet\", \"Chevrolet\", \"Chevrolet\", \"Chevrolet\", \"Chevrolet\", \"Chevrolet\", \"Chevrolet\", \"Chevrolet\", \"Chevrolet\", \"Chevrolet\", \"Chevrolet\", \"Chevrolet\", \"Chevrolet\", \"Chevrolet\", \"Chevrolet\", \"Chevrolet\", \"Toyota\", \"Toyota\", \"Toyota\", \"Toyota\", \"Toyota\", \"Toyota\", \"Toyota\", \"Toyota\", \"Toyota\", \"Toyota\", \"Toyota\", \"Toyota\", \"Toyota\", \"Toyota\", \"Toyota\", \"Toyota\", \"Toyota\", \"Toyota\", \"Toyota\", \"Toyota\", \"Toyota\", \"Toyota\", \"Toyota\", \"Toyota\", \"Toyota\", \"Toyota\", \"Toyota\", \"Suzuki\", \"Suzuki\", \"Suzuki\", \"Suzuki\", \"Suzuki\", \"Suzuki\", \"Suzuki\", \"Suzuki\", \"Suzuki\", \"Nissan\", \"Nissan\", \"Nissan\", \"Nissan\", \"Nissan\", \"Nissan\", \"Nissan\", \"Nissan\", \"Nissan\", \"Nissan\", \"Nissan\", \"Nissan\", \"Nissan\", \"Nissan\", \"Nissan\", \"Nissan\", \"Nissan\", \"Nissan\", \"Nissan\", \"Nissan\", \"Nissan\", \"Nissan\", \"Nissan\", \"Nissan\", \"Nissan\", \"Nissan\", \"Nissan\", \"Nissan\", \"Nissan\", \"Nissan\", \"Nissan\", \"Nissan\", \"Suzuki\", \"Suzuki\", \"Suzuki\", \"Suzuki\", \"Suzuki\", \"Suzuki\", \"Suzuki\", \"Suzuki\", \"Suzuki\", \"Suzuki\", \"Suzuki\", \"Suzuki\", \"Suzuki\", \"Suzuki\", \"Suzuki\", \"Suzuki\", \"Suzuki\", \"Suzuki\", \"Suzuki\", \"Suzuki\", \"Suzuki\", \"Suzuki\", \"Suzuki\", \"Suzuki\", \"Suzuki\", \"Suzuki\", \"Suzuki\", \"Suzuki\", \"Suzuki\", \"Suzuki\", \"Suzuki\", \"Suzuki\", \"Suzuki\", \"Suzuki\", \"Suzuki\", \"Suzuki\", \"Suzuki\", \"Suzuki\", \"Suzuki\", \"Suzuki\", \"Suzuki\", \"Suzuki\", \"Suzuki\", \"Suzuki\", \"Suzuki\", \"Suzuki\", \"Suzuki\", \"Suzuki\", \"Suzuki\", \"Suzuki\", \"Suzuki\", \"Suzuki\", \"Suzuki\", \"Suzuki\", \"Suzuki\", \"Suzuki\", \"Suzuki\", \"Suzuki\", \"Suzuki\", \"Suzuki\", \"Suzuki\", \"Suzuki\", \"Suzuki\", \"Suzuki\", \"Suzuki\", \"Suzuki\", \"Suzuki\", \"Suzuki\", \"Suzuki\", \"Suzuki\", \"Suzuki\", \"Suzuki\", \"Suzuki\", \"Suzuki\", \"Suzuki\", \"Suzuki\", \"Suzuki\", \"Suzuki\", \"Suzuki\", \"Suzuki\", \"Suzuki\", \"Suzuki\", \"Suzuki\", \"Suzuki\", \"Suzuki\", \"Cadillac\", \"Cadillac\", \"Cadillac\", \"Cadillac\", \"Cadillac\", \"Cadillac\", \"Nissan\", \"Nissan\", \"Nissan\", \"Nissan\", \"Nissan\", \"Nissan\", \"Nissan\", \"Nissan\", \"Nissan\", \"Nissan\", \"Nissan\", \"Nissan\", \"Nissan\", \"Nissan\", \"Nissan\", \"Nissan\", \"Nissan\", \"Nissan\", \"Nissan\", \"Nissan\", \"Nissan\", \"Cadillac\", \"Cadillac\", \"Cadillac\", \"Cadillac\", \"Cadillac\", \"Cadillac\", \"Cadillac\", \"Cadillac\", \"Cadillac\", \"Cadillac\", \"Cadillac\", \"Cadillac\", \"Cadillac\", \"Cadillac\", \"Cadillac\", \"Cadillac\", \"Cadillac\", \"Cadillac\", \"Cadillac\", \"Cadillac\", \"Cadillac\", \"Cadillac\", \"Cadillac\", \"Cadillac\", \"Cadillac\", \"Cadillac\", \"Cadillac\", \"Toyota\", \"Toyota\", \"Toyota\", \"Toyota\", \"Toyota\", \"Toyota\", \"Toyota\", \"Toyota\", \"Toyota\", \"Toyota\", \"Toyota\", \"Toyota\", \"Toyota\", \"Toyota\", \"Toyota\", \"Toyota\", \"Toyota\", \"Toyota\", \"Toyota\", \"Toyota\", \"Toyota\", \"Toyota\", \"GMC\", \"GMC\", \"GMC\", \"GMC\", \"GMC\", \"GMC\", \"GMC\", \"GMC\", \"GMC\", \"GMC\", \"GMC\", \"GMC\", \"GMC\", \"GMC\", \"GMC\", \"GMC\", \"GMC\", \"GMC\", \"GMC\", \"GMC\", \"GMC\", \"GMC\", \"GMC\", \"GMC\", \"GMC\", \"GMC\", \"GMC\", \"GMC\", \"GMC\", \"GMC\", \"GMC\", \"GMC\", \"GMC\", \"GMC\", \"GMC\", \"GMC\", \"GMC\", \"GMC\", \"GMC\", \"GMC\", \"GMC\", \"GMC\", \"GMC\", \"GMC\", \"GMC\", \"GMC\", \"GMC\", \"GMC\", \"GMC\"], \"x0\": \" \", \"xaxis\": \"x\", \"y\": [2000, 2000, 2073, 3713, 3520, 3910, 4182, 4107, 4299, 4693, 4107, 16020, 14530, 16860, 15370, 17050, 15560, 16210, 14720, 17050, 15560, 16210, 14720, 2847, 2488, 2683, 2553, 3049, 2774, 2702, 3101, 3510, 3107, 3624, 3185, 2000, 36550, 41250, 30600, 37100, 27900, 32700, 40250, 35550, 36100, 33200, 37900, 29600, 38070, 38900, 33840, 38630, 39630, 37740, 41980, 36280, 36740, 40980, 38680, 28510, 30210, 31210, 33340, 37280, 41570, 36870, 42570, 37870, 39220, 40220, 46790, 48100, 29990, 41820, 31290, 34870, 33570, 46570, 37970, 37070, 49400, 45270, 39270, 45490, 41990, 38370, 43290, 41820, 48100, 43290, 39270, 34870, 41990, 38370, 45270, 45490, 29990, 46570, 46790, 49400, 37070, 31290, 37970, 33570, 37970, 38370, 34870, 29990, 45490, 41990, 45270, 33570, 48100, 39270, 46570, 49400, 37070, 41820, 46790, 43290, 31290, 25045, 26095, 23795, 19595, 18445, 23845, 25395, 24895, 25545, 24295, 19495, 20095, 19995, 21145, 23245, 16945, 24345, 20645, 18945, 26595, 22745, 17995, 22545, 21095, 25495, 20745, 24295, 23595, 21795, 17845, 26495, 24745, 18895, 19595, 23245, 18545, 25795, 20045, 25445, 24795, 21495, 17845, 23145, 24195, 20145, 24945, 23895, 19095, 23445, 18895, 22245, 22395, 20445, 41365, 35740, 37615, 34695, 35725, 43400, 32820, 38645, 37825, 43620, 36115, 35950, 33210, 38855, 41585, 35085, 41310, 36690, 44360, 39595, 41850, 42325, 35885, 38565, 36915, 34010, 24470, 20940, 19940, 22070, 20140, 24670, 21140, 22270, 24770, 22370, 21240, 2080, 2234, 2000, 2146, 22935, 19935, 20935, 18735, 19985, 18785, 21885, 24895, 22895, 23845, 21190, 29895, 22995, 24995, 21495, 30195, 23945, 30695, 21945, 24195, 22995, 25245, 26255, 26975, 2000, 2000, 43850, 45850, 33975, 40820, 42820, 42095, 44095, 38555, 47690, 35975, 49690, 36555, 36755, 44295, 42295, 30975, 36175, 49890, 41020, 34175, 47890, 38755, 43020, 38350, 43750, 35070, 32450, 37070, 41450, 34450, 29070, 44920, 46920, 41750, 34020, 36220, 29670, 34770, 32570, 29990, 32890, 36540, 34340, 35090, 30775, 32270, 32550, 23775, 26300, 30195, 25450, 32550, 24665, 25030, 30270, 25830, 28495, 30495, 30775, 22105, 28420, 33630, 24625, 23865, 22905, 32745, 28670, 26850, 25065, 30745, 27380, 34680, 27850, 24725, 24265, 26380, 30845, 25580, 23005, 23875, 28845, 26065, 26000, 25725, 24005, 31025, 34225, 33025, 22205, 31025, 30670, 24025, 30995, 22355, 34830, 26150, 32895, 25215, 27530, 28820, 24155, 34375, 30895, 33175, 31175, 27000, 28000, 24415, 28995, 30820, 31175, 25875, 26530, 23155, 25730, 25415, 24875, 17049, 16349, 15949, 13449, 15449, 17349, 15649, 16849, 15149, 16049, 16549, 17849, 14349, 17549, 16599, 15499, 15999, 14099, 16099, 15299, 14599, 16999, 17099, 14999, 16199, 15099, 14299, 16299, 17199, 15299, 16199, 22560, 28150, 31950, 22300, 29830, 32350, 26450, 24720, 32090, 27390, 22500, 22900, 24470, 25460, 28570, 27990, 32690, 25460, 22500, 32690, 22900, 27990, 24470, 28570, 37590, 52860, 42680, 45580, 42890, 49960, 50780, 53680, 43810, 46500, 49880, 43600, 38510, 52780, 49650, 57590, 60490, 52550, 44900, 47800, 22050, 24450, 25195, 22695, 22930, 25430, 25690, 23690, 26195, 24195, 24430, 26430, 48165, 50165, 37995, 40445, 46935, 51435, 45150, 47095, 48205, 47750, 50325, 41920, 44935, 44520, 47605, 41920, 48675, 48715, 45445, 45150, 40445, 47750, 47445, 50675, 37995, 51945, 44520, 50835, 43395, 37595, 39995, 49495, 41395, 46995, 48995, 62665, 60465, 62895, 60695, 41340, 39340, 33215, 45615, 47615, 44660, 46715, 37245, 41340, 46660, 48715, 44660, 35245, 42660, 37340, 43340, 41340, 46110, 45155, 39340, 47155, 43155, 37245, 48110, 37340, 35245, 43340, 33215, 47210, 41340, 45155, 49210, 46995, 40395, 43995, 45995, 34595, 36595, 38395, 45815, 35725, 38830, 39405, 46195, 39350, 49500, 42455, 36300, 40195, 43245, 47000, 39850, 36800, 50305, 37170, 32285, 39980, 36080, 34140, 37050, 35850, 40450, 32650, 34400, 41050, 37650, 33250, 36450, 35000, 25995, 21495, 23995, 18995, 25695, 19795, 22595, 20595, 25795, 23295, 11965, 15365, 14100, 11965, 14100, 15365, 15365, 11965, 14100, 12115, 15365, 14250, 15365, 12115, 11965, 14250, 15365, 14100, 2179, 3323, 2915, 2756, 2692, 2930, 2717, 3033, 2713, 2432, 3514, 3696, 2593, 3538, 2870, 2211, 3206, 3119, 3214, 2853, 3221, 2493, 2946, 3011, 2857, 3229, 2801, 2637, 2961, 3107, 3394, 2689, 3768, 2350, 3289, 2413, 3928, 3579, 3032, 3190, 26590, 19675, 15535, 19040, 21430, 22045, 26590, 22045, 15535, 16060, 22150, 20030, 14990, 17225, 18485, 14545, 12345, 18360, 19340, 17545, 12495, 22085, 14695, 15125, 2000, 2000, 2000, 2000, 2000, 2000, 39030, 41675, 44580, 38625, 47885, 35980, 20745, 23745, 24695, 26695, 22845, 25230, 27230, 24055, 23255, 21055, 24305, 21305, 25480, 27480, 18740, 20555, 16880, 19995, 18060, 16975, 17995, 19995, 18620, 20585, 17380, 20585, 18585, 18730, 17380, 18765, 29205, 31205, 42405, 39505, 33505, 37305, 26005, 35105, 23705, 25145, 48300, 36800, 41300, 32700, 25700, 29800, 43300, 36300, 42905, 47905, 35605, 32600, 41905, 36905, 30405, 26600, 25905, 31905, 21855, 26940, 23355, 30210, 21025, 21860, 20360, 19530, 26405, 23405, 19930, 29460, 27190, 20760, 23030, 24530, 23905, 26905, 30460, 22260, 22200, 27440, 24155, 22450, 27155, 22510, 30710, 21010, 24780, 23280, 29710, 20180, 22970, 23840, 23840, 25715, 23070, 23070, 23840, 24685, 22385, 23040, 31790, 28610, 20840, 17490, 29145, 29125, 20455, 24435, 25305, 26485, 26470, 29730, 27935, 37250, 22650, 26595, 20995, 26725, 25205, 31650, 33855, 36950, 28535, 34310, 33420, 31145, 30055, 34010, 34280, 35020, 38110, 37810, 35665, 31540, 20955, 28595, 27385, 29245, 25865, 23310, 30765, 31855, 33460, 34720, 27305, 2000, 2000, 2000, 2000, 2000, 24155, 29615, 25770, 24940, 25145, 24360, 25975, 29495, 25985, 29505, 25155, 24370, 18380, 19835, 22225, 20130, 18630, 22520, 22995, 20555, 19055, 2066, 2103, 2241, 31305, 14230, 14030, 15730, 17030, 16830, 15530, 17410, 16105, 14435, 15905, 14235, 17610, 10135, 16290, 14610, 16090, 17510, 17710, 14410, 10325, 18140, 22005, 22705, 17340, 19535, 22935, 24810, 22235, 18370, 17570, 20335, 24110, 17670, 22335, 23035, 18470, 31995, 42595, 35795, 37995, 29995, 38795, 45695, 34995, 26995, 31995, 49195, 29995, 37995, 34995, 38995, 26995, 42795, 35995, 35890, 37995, 49195, 36890, 32890, 26995, 39890, 42795, 29995, 43995, 37390, 40140, 47995, 39995, 33595, 27995, 36595, 32995, 30995, 29995, 27995, 29995, 39995, 50995, 36895, 31995, 33895, 30245, 27995, 34790, 51145, 30245, 29995, 39890, 44995, 31995, 39995, 2000, 2000, 2050, 2052, 2116, 23515, 21955, 23515, 21955, 22405, 23515, 2000, 2000, 2033, 2000, 2213, 2108, 2410, 2142, 2322, 24340, 20040, 19990, 24590, 23090, 20390, 22890, 21190, 24390, 22840, 23290, 26740, 19290, 21190, 24140, 18290, 18490, 24590, 29390, 22640, 23090, 19090, 26125, 23425, 26500, 22300, 18640, 22040, 22200, 21040, 20850, 19050, 19440, 23700, 23200, 20440, 19850, 19700, 21300, 25300, 22800, 20500, 22100, 26225, 23525, 21500, 20540, 18740, 20950, 22400, 19540, 21140, 19150, 22140, 19950, 21600, 2949, 2992, 2529, 2580, 2668, 2583, 2637, 2517, 3046, 2265, 3046, 2896, 2891, 2713, 3120, 2653, 2541, 2486, 2268, 2207, 2925, 2242, 2554, 3088, 2749, 3220, 2996, 2366, 3265, 3676, 3427, 3470, 2898, 2920, 2580, 3357, 2996, 2883, 3094, 2885, 3419, 2668, 2789, 3321, 3342, 3025, 2653, 2740, 2639, 3067, 2817, 3350, 3282, 2430, 3696, 4098, 2949, 3345, 3034, 2697, 3360, 3068, 3090, 2847, 19505, 19690, 14410, 15120, 22335, 14410, 19695, 15120, 19695, 16460, 15660, 23425, 15660, 23425, 14990, 14990, 16460, 15670, 24535, 14990, 16470, 14990, 16470, 15670, 28340, 29480, 23030, 20980, 30320, 26160, 27490, 22955, 19730, 24440, 17475, 24285, 26620, 20370, 27010, 28460, 29220, 29550, 25850, 28630, 27110, 24330, 26885, 30005, 34415, 21775, 32085, 30785, 32385, 34115, 25170, 20120, 27630, 29705, 31555, 30665, 32895, 35000, 30365, 28515, 33195, 30030, 20100, 32440, 31670, 26510, 30435, 27545, 24990, 35300, 27920, 22435, 25980, 29440, 18750, 19490, 18965, 18965, 19665, 19895, 17550, 16950, 21495, 22025, 22955, 19195, 22725, 18565, 19135, 19135, 20065, 17300, 23125, 21665, 22195, 19835, 20635, 22895, 17900, 18735, 19365, 22680, 21300, 18500, 21665, 19335, 21900, 21825, 18935, 20445, 2000, 2000, 53000, 57000, 62000, 58000, 68160, 64160, 63160, 64000, 55000, 73450, 64450, 69450, 60000, 59000, 68450, 59160, 70145, 65145, 68855, 59855, 64400, 74145, 63855, 59400, 60400, 64855, 69145, 55400, 59905, 74195, 65195, 59450, 55450, 70195, 68905, 65450, 69905, 69195, 63905, 69450, 60450, 73905, 64450, 64905, 75195, 26470, 23120, 30620, 29370, 24370, 29120, 29820, 28570, 25220, 27870, 32895, 23445, 30895, 25545, 29395, 24695, 26795, 28145, 31645, 29645, 27295, 31245, 32095, 25845, 28445, 29945, 25045, 24545, 25995, 33395, 23745, 29745, 19995, 23340, 21840, 21990, 23490, 20145, 22140, 24440, 20295, 33540, 37090, 30890, 33015, 35640, 27230, 34990, 30915, 33690, 33165, 31065, 27380, 35790, 35140, 37240, 31040, 33315, 37390, 35940, 31190, 31215, 35290, 27530, 33840, 20195, 17845, 24370, 23370, 19165, 21470, 16120, 20195, 18970, 16170, 23270, 20095, 17745, 20095, 24270, 18870, 19065, 21370, 19120, 18120, 16620, 21120, 19820, 23120, 21920, 21240, 21450, 16975, 18525, 23475, 20150, 19525, 23945, 58395, 67570, 60395, 55495, 63570, 53495, 64395, 64395, 63595, 53495, 60395, 58395, 67595, 55495, 40615, 48150, 38715, 43950, 45850, 50050, 40805, 43950, 50050, 45850, 38905, 48150, 39495, 49995, 47995, 45795, 41495, 43795, 39015, 44190, 40915, 44050, 51650, 42150, 49750, 46090, 44190, 42150, 41105, 49750, 46090, 39205, 51650, 44050, 49795, 44095, 42195, 46095, 44195, 51695, 54970, 51270, 53270, 62070, 63770, 61770, 69340, 47345, 59370, 45345, 55670, 57670, 60070, 52970, 57370, 59340, 58285, 45560, 60685, 59955, 51285, 69955, 53285, 60285, 53285, 62685, 58285, 64685, 62685, 56285, 55285, 47560, 61195, 51695, 70795, 47995, 55695, 59195, 53695, 53695, 60695, 45995, 14980, 18680, 16580, 17580, 16760, 18860, 17760, 19000, 16900, 17900, 19960, 21960, 26240, 23210, 21210, 24990, 24990, 19960, 21960, 23210, 26240, 21210, 22795, 24045, 24815, 26065, 29070, 21395, 27820, 27970, 29220, 26215, 21545, 24965, 22945, 24195, 24395, 26465, 24445, 23195, 24895, 29870, 28570, 29470, 23595, 28220, 26515, 25950, 27650, 31335, 33035, 21700, 22490, 33340, 31640, 21990, 27955, 22795, 26390, 26255, 26455, 31840, 26590, 22995, 28155, 33540, 22190, 31575, 29985, 32480, 36625, 35035, 34070, 35035, 36625, 31575, 34070, 32480, 29985, 35970, 33320, 41970, 40170, 31520, 44015, 37770, 26170, 27780, 25245, 24720, 30155, 30780, 23640, 25395, 28580, 26590, 30510, 26120, 26920, 26540, 32135, 27935, 22505, 24985, 26935, 30760, 28520, 29095, 20470, 20995, 28630, 31630, 25260, 31045, 30155, 28210, 29985, 26810, 27315, 22560, 25305, 28255, 27005, 22755, 33180, 31365, 30180, 16495, 18595, 22995, 19995, 20995, 21645, 19000, 20495, 23795, 16495, 19495, 18995, 19395, 17995, 24395, 19595, 16995, 21095, 22095, 20995, 21595, 49150, 49150, 44400, 50750, 50750, 45600, 51600, 46430, 46045, 51600, 51460, 46280, 49730, 54230, 49230, 47625, 46280, 51525, 54425, 59475, 59875, 51925, 54825, 46680, 36895, 42495, 39495, 40995, 33095, 43595, 39995, 30495, 41995, 39595, 30495, 43895, 33095, 44595, 42390, 36995, 41295, 44990, 37495, 42490, 40095, 42095, 29995, 44695, 41395, 43995, 45090, 32595, 10775, 11575, 10245, 11045, 10885, 11685, 11155, 10355, 10985, 11255, 11785, 10455, 2905, 3257, 44011, 40436, 47660, 45265, 42130, 22785, 25770, 23270, 23585, 20275, 24085, 25285, 21475, 24070, 22385, 23885, 22635, 24335, 25585, 20525, 21775, 24320, 24185, 22075, 20825, 22935, 33570, 38120, 31320, 35870, 33810, 36060, 38160, 31945, 40235, 29695, 33160, 37600, 29630, 30910, 35350, 27380, 36115, 29780, 33865, 32030, 32960, 26760, 30770, 34990, 28950, 37190, 34020, 27980, 37105, 34970, 30115, 31885, 35615, 36535, 30625, 32760, 38670, 33480, 22075, 25645, 24775, 28850, 30900, 17520, 25125, 23245, 27825, 18825, 25979, 25279, 28279, 17595, 29150, 22479, 19299, 17899, 28699, 25699, 22799, 29550, 26299, 26270, 26170, 27920, 28170, 31920, 33670, 24520, 22120, 29920, 22600, 31490, 29740, 26960, 28200, 25210, 26450, 25510, 27260, 26750, 23100, 31790, 30040, 28500, 74695, 75970, 75970, 76395, 67350, 69740, 62160, 69640, 63060, 67250, 69640, 63060, 67250, 74135, 76400, 73850, 74425, 71695, 72970, 75570, 75695, 74295, 75570, 72970, 75995, 73395, 2000, 2000, 14199, 16499, 15499, 14999, 16699, 15699, 13699, 15799, 13199, 14699, 15899, 14199, 14899, 14699, 13999, 14499, 15199, 13299, 16799, 14799, 14299, 13799, 14799, 16599, 15299, 14299, 15799, 31900, 36850, 33300, 35450, 35200, 37400, 36000, 33800, 33800, 37400, 35200, 36000, 35200, 36600, 37400, 38800, 38100, 37200, 35800, 39500, 36900, 38300, 39250, 40650, 32760, 27710, 34525, 34160, 30970, 36030, 31865, 32190, 34485, 35915, 36700, 36355, 34015, 37500, 32990, 35285, 36715, 34815, 37155, 15650, 17560, 17800, 15890, 17900, 15990, 27705, 27295, 26115, 27030, 28620, 28210, 29270, 27680, 28860, 2000, 2000, 2158, 16699, 13799, 14499, 15099, 15999, 15399, 14699, 15799, 16349, 14899, 15399, 15099, 16499, 15449, 13999, 14349, 16049, 14499, 14949, 15999, 16949, 15249, 15849, 15599, 15589, 16489, 17689, 16989, 16089, 16789, 14489, 15889, 14989, 15389, 32560, 20660, 25510, 34010, 31510, 32560, 25860, 26450, 23020, 27240, 17990, 30550, 24190, 23750, 28050, 21970, 31360, 24540, 25400, 25350, 23610, 28560, 26310, 22700, 35260, 24630, 27630, 31750, 26750, 25840, 32890, 24050, 31840, 24960, 26640, 35590, 23000, 32080, 34360, 28380, 25680, 23940, 24520, 31690, 28910, 35610, 18290, 23230, 34340, 28890, 31710, 27960, 20960, 22180, 25750, 32340, 27320, 26470, 27650, 29170, 18390, 22160, 24950, 26630, 33390, 35160, 28750, 23910, 32580, 29700, 36410, 25200, 23900, 24620, 32510, 22860, 39550, 38050, 42150, 43600, 42850, 44300, 49750, 49850, 50100, 58400, 59000, 44050, 42600, 57600, 43700, 59800, 52000, 45150, 53400, 44950, 61500, 46400, 50200, 45750, 58000, 51300, 46650, 61450, 47900, 52750, 38600, 43350, 48900, 40250, 50800, 37150, 51700, 37800, 49800, 40900, 39250, 44200, 45500, 42050, 40400, 53100, 51200, 41550, 44150, 39950, 35800, 37400, 32000, 40200, 35000, 33400, 44750, 41500, 36900, 33100, 38500, 41850, 46050, 45450, 36100, 40250, 34500, 37150, 34550, 32950, 2251, 2449, 22195, 21395, 24895, 24095, 22195, 21395, 33250, 33800, 33200, 31450, 31200, 33450, 33450, 33950, 34050, 31900, 31450, 32250, 32250, 34750, 32700, 33050, 46950, 54900, 44350, 37500, 36050, 39150, 50550, 40400, 43350, 33250, 36050, 43550, 37000, 34450, 35650, 36200, 34900, 33700, 33250, 34250, 43850, 35750, 38700, 37000, 35900, 43900, 36650, 30995, 27395, 21795, 24245, 28395, 25245, 25095, 22595, 28295, 31495, 26195, 29395, 29395, 26695, 32395, 23995, 23449, 24949, 19299, 22549, 22899, 21099, 23949, 21399, 25249, 22299, 19499, 22849, 23749, 23799, 25949, 22349, 19949, 24449, 20720, 25135, 18720, 24815, 19030, 21030, 20030, 18720, 26255, 19720, 19030, 18720, 19030, 19720, 47300, 49790, 47850, 50340, 50485, 47870, 34750, 31070, 44140, 38050, 41650, 42680, 32530, 29765, 33290, 36590, 40190, 34395, 38775, 30490, 42375, 44990, 33475, 43530, 32015, 40915, 35855, 37315, 22065, 23365, 20015, 25990, 21315, 24690, 19215, 21265, 22215, 23515, 20165, 26140, 24840, 19365, 21465, 21415, 2288, 2433, 2648, 2552, 31790, 29715, 28750, 29100, 30600, 26840, 25830, 30535, 26840, 25830, 30535, 26840, 30535, 25830, 34465, 35440, 30285, 29310, 35540, 30435, 29460, 35645, 27055, 20810, 22970, 24875, 21155, 25415, 25105, 21385, 2000, 2032, 2000, 2347, 2554, 2590, 2182, 2691, 2317, 2368, 2377, 2251, 2038, 2407, 2463, 2773, 2756, 2590, 2916, 2322, 2623, 2655, 2578, 26770, 22270, 25170, 31925, 19270, 22170, 30225, 28225, 33920, 28770, 29925, 27395, 28695, 26595, 23495, 29995, 25195, 20695, 27395, 26295, 26595, 33695, 28395, 31795, 30895, 20995, 24895, 29795, 20995, 33695, 26295, 29795, 31795, 30995, 26595, 27495, 28395, 24895, 25240, 28020, 30020, 26940, 20250, 22300, 24150, 22100, 27230, 24830, 24830, 22100, 28020, 22300, 24150, 26940, 30020, 20250, 27230, 25240, 28020, 24830, 30020, 27230, 26940, 24400, 22100, 20250, 22550, 25240, 41250, 42650, 21049, 22049, 24149, 27299, 23399, 24849, 23049, 25949, 22099, 25499, 18999, 23899, 25249, 22299, 23649, 25749, 24399, 18999, 25099, 20999, 22249, 22349, 25799, 21749, 23249, 28999, 19999, 27199, 2000, 2000, 2000, 2000, 2000, 2000, 2044, 2100, 18890, 43900, 45650, 45800, 47950, 45800, 47950, 49200, 47050, 50250, 52750, 52150, 54650, 54650, 52150, 60950, 58450, 32855, 30855, 22680, 29100, 37320, 29860, 23370, 31515, 33615, 37795, 38105, 33880, 27225, 29855, 31780, 23420, 20320, 17935, 19695, 23640, 25555, 25925, 23835, 28420, 24610, 21465, 20965, 23465, 20165, 23265, 19565, 20575, 19795, 23710, 23915, 28195, 25470, 30355, 27005, 23610, 21625, 28620, 30920, 25020, 25125, 21680, 30975, 23225, 19685, 20755, 19565, 21715, 18845, 21715, 18845, 20755, 19685, 19565, 20115, 22415, 20265, 21455, 19275, 34380, 31290, 36990, 34490, 32510, 39960, 37770, 34590, 37090, 40040, 32610, 37870, 23700, 24000, 24200, 27995, 29925, 29925, 27995, 25730, 25780, 26580, 20480, 19980, 2000, 2000, 12515, 2381, 2337, 2138, 31025, 28025, 28075, 31075, 31675, 28875, 49850, 47700, 53700, 59200, 61700, 61200, 54750, 48700, 63700, 50850, 22280, 24690, 28355, 24930, 20830, 26330, 20330, 23430, 27740, 22625, 21015, 28460, 23490, 28515, 22115, 22950, 28515, 22950, 22115, 25645, 24645, 25895, 24895, 26145, 25145, 2254, 2000, 2038, 2462, 44540, 44540, 41995, 39000, 38550, 40600, 36950, 34220, 29560, 32620, 31160, 34400, 39180, 41730, 32800, 38730, 29740, 40780, 31340, 42180, 37130, 40130, 43780, 29740, 31340, 37130, 38730, 34400, 32800, 40780, 39180, 2000, 2000, 2000, 27505, 30550, 29265, 26905, 28665, 25980, 27550, 23720, 28650, 29450, 28650, 27550, 29265, 23970, 29450, 30550, 27505, 26905, 26230, 32205, 32655, 28665, 28600, 26395, 29330, 31270, 30065, 24915, 2000, 2000, 2000, 2000, 2000, 19450, 13030, 17085, 15340, 14315, 17640, 15800, 20450, 13490, 16625, 16110, 13800, 20700, 26220, 24560, 22240, 23900, 25750, 23235, 26750, 27410, 28410, 24895, 28995, 27245, 27995, 23995, 21590, 26245, 23235, 22245, 24985, 23340, 21710, 20720, 21760, 20870, 22230, 21330, 37775, 35775, 28975, 37375, 42030, 44600, 32275, 37650, 32550, 36050, 42305, 44875, 29400, 38050, 33500, 2000, 2000, 2000, 2178, 2452, 2879, 2715, 2668, 30500, 27300, 23000, 24150, 28050, 26800, 29250, 26150, 30900, 26450, 24450, 28450, 23300, 29550, 27600, 27100, 29510, 29780, 37900, 41560, 34830, 31200, 34500, 32810, 36210, 33140, 43250, 31470, 33150, 38100, 41610, 43300, 29830, 36410, 34840, 31520, 37790, 32980, 36100, 30290, 42070, 34670, 43760, 31980, 2293, 2281, 2115, 2000, 2040, 2423, 2188, 2699, 2311, 2691, 2197, 2553, 2409, 2912, 2498, 2539, 33720, 40020, 36970, 33120, 41620, 38970, 31470, 34720, 36970, 35370, 29870, 32120, 37370, 38570, 39455, 46570, 37855, 33580, 36055, 31945, 30145, 34380, 32580, 35380, 41170, 42970, 37655, 36455, 39855, 38055, 47070, 33030, 38255, 34830, 32395, 41670, 35830, 43470, 34030, 30595, 3065, 3367, 3843, 3407, 26100, 23600, 24600, 2000, 2194, 2088, 2000, 2064, 2304, 2419, 2196, 2388, 2242, 2728, 2580, 2130, 2003, 14155, 16220, 14330, 16395, 16455, 16895, 13885, 12765, 13485, 18020, 15535, 15700, 14975, 13075, 16140, 15415, 13680, 33950, 35550, 61600, 52400, 56400, 58100, 38950, 46200, 37150, 45450, 43650, 41800, 48600, 44400, 46800, 40000, 33950, 49950, 47950, 41900, 45900, 49050, 43900, 39650, 47050, 39900, 37650, 35950, 33950, 44650, 50700, 44300, 48700, 49800, 38400, 40650, 42650, 40400, 35950, 42300, 46650, 47800, 53400, 48550, 62100, 62100, 53400, 48550, 51750, 40950, 42600, 46050, 53650, 40950, 46050, 49650, 42600, 47700, 53300, 46300, 44300, 38950, 51300, 40950, 43300, 41300, 51750, 49600, 55650, 64600, 62100, 51350, 49850, 52000, 67050, 62850, 65350, 55900, 64550, 53500, 67050, 52000, 62850, 55900, 65350, 64550, 51350, 53500, 49850, 33750, 42870, 26220, 29970, 30280, 34060, 43180, 26530, 26580, 34110, 30540, 43230, 34150, 35550, 35550, 34150, 34750, 36150, 36400, 37200, 35000, 38600, 34450, 35850, 36250, 34450, 58150, 55050, 56050, 59150, 61800, 58700, 45400, 42400, 46800, 43800, 42600, 53450, 52050, 44400, 44900, 43100, 45850, 47300, 45850, 47300, 45850, 47650, 62700, 65800, 63250, 66350, 66350, 63250, 60000, 63100, 64450, 61350, 2000, 2000, 20240, 18740, 18695, 22305, 20850, 22885, 21430, 19275, 20820, 19320, 22190, 20035, 20080, 23645, 21580, 22150, 38100, 29395, 28755, 36230, 26705, 30775, 25435, 34865, 30655, 26320, 33730, 27045, 32155, 41350, 25720, 36980, 39780, 22435, 34275, 29055, 31445, 43490, 31880, 38120, 32750, 26275, 29985, 25575, 29285, 29530, 35100, 26015, 29585, 29725, 40270, 21820, 21520, 25975, 25715, 32945, 41340, 31730, 25065, 28725, 24665, 25155, 24855, 28865, 20610, 28510, 25365, 36880, 20910, 39035, 28425, 40495, 31020, 34240, 32085, 42650, 29075, 2245, 2034, 2239, 2000, 2316, 2118, 2041, 2237, 2348, 2320, 2422, 2087, 2326, 2332, 23360, 21345, 21345, 25240, 29850, 28450, 26640, 23680, 25080, 29265, 25750, 26270, 24350, 30665, 31510, 32910, 27670, 31830, 28230, 26310, 24910, 36150, 33230, 34750, 26830, 29985, 31385, 15399, 16299, 14249, 13299, 15149, 14199, 14699, 15049, 15199, 13599, 14099, 13839, 14339, 15349, 14939, 37380, 30195, 32155, 35030, 29450, 30720, 35155, 29575, 32380, 37730, 42870, 33315, 35930, 33015, 31515, 33780, 29475, 35580, 31275, 41370, 34815, 20150, 21500, 21500, 20150, 24140, 29630, 24390, 28280, 24490, 22790, 25840, 23040, 30080, 24680, 26130, 28730, 24780, 23330, 23820, 26590, 25240, 25170, 31310, 29960, 20984, 15406, 21474, 19757, 23539, 15943, 17284, 18169, 19434, 13961, 24063, 18519, 24462, 25990, 17169, 20209, 19209, 21499, 14961, 18944, 20780, 20270, 16905, 18780, 24370, 17570, 16570, 23985, 16220, 18905, 16120, 21820, 14770, 18120, 24660, 34250, 37300, 36300, 34300, 36995, 34995, 37995, 24450, 22050, 22695, 25195, 22930, 25430, 23690, 25690, 24195, 26195, 24430, 26430, 2000, 2000, 29215, 32760, 33420, 27710, 32535, 31075, 32875, 31415, 29555, 33760, 32455, 33915, 34800, 30595, 30970, 36030, 31865, 34525, 34160, 36355, 34015, 35915, 36700, 32190, 34485, 32990, 37155, 37500, 35285, 36715, 34815, 20720, 17780, 18350, 16530, 17380, 19960, 22170, 20410, 16780, 18550, 18160, 17760, 21500, 21990, 18790, 16990, 19990, 17990, 21990, 61095, 53355, 44395, 61855, 45325, 54115, 45460, 54250, 61990, 44399, 49705, 51650, 45535, 45975, 2000, 2000, 2000, 2000, 2000, 2000, 2000, 2000, 2000, 2000, 2000, 2002, 2000, 2000, 2000, 2000, 2107, 2125, 2078, 2019, 2000, 2027, 2153, 42880, 37400, 40655, 37445, 35200, 41035, 35000, 33960, 46250, 41750, 28700, 45120, 31630, 31430, 38455, 39780, 26595, 34180, 38605, 35410, 31840, 37620, 31640, 41245, 40815, 28850, 41900, 43040, 39930, 46410, 37655, 35210, 45270, 26745, 29750, 32740, 35080, 43940, 42800, 41715, 38555, 32540, 42145, 39505, 36310, 36110, 40830, 27645, 38520, 46170, 47310, 30930, 24515, 30550, 33935, 32025, 31735, 20310, 23850, 29355, 20960, 31965, 27730, 25215, 15840, 27060, 32690, 29380, 26820, 30825, 21465, 28790, 26555, 28915, 30675, 16115, 27850, 29065, 35520, 24140, 25325, 30255, 29015, 33755, 20715, 33495, 27580, 20750, 25845, 28845, 27430, 31115, 33785, 26245, 30340, 27560, 26295, 25850, 39125, 32170, 45425, 48575, 39095, 42245, 46790, 40010, 43210, 49990, 51935, 48335, 41555, 45155, 43360, 38540, 49965, 36200, 38840, 42635, 43660, 30610, 35390, 46510, 53115, 40045, 27060, 26670, 38665, 30695, 38965, 37800, 42935, 33595, 34675, 40900, 44150, 35690, 46810, 30910, 37500, 52815, 49665, 33720, 54240, 36230, 47570, 34590, 51390, 44910, 34465, 27715, 43505, 47270, 41660, 39380, 31955, 44900, 39535, 28105, 37070, 40930, 54540, 44420, 31390, 40915, 40775, 31655, 51090, 38370, 38670, 35370, 37625, 44120, 44840, 52155, 45330, 32230, 28205, 45390, 39160, 41420, 41405, 44540, 38115, 32145, 43995, 52455, 37560, 47690, 28595, 55605, 36210, 34955, 36720, 40025, 38860, 41265, 55305, 47990, 32445, 42080, 39870, 35080, 34640, 31405, 33330, 36525, 33115, 29745, 38370, 4439, 4827, 4715, 4287, 26685, 23350, 26930, 27135, 25845, 31375, 24020, 28515, 31810, 29580, 31465, 20515, 19865, 29380, 26975, 23940, 25960, 30755, 26460, 20075, 32330, 24965, 27060, 24515, 23575, 33425, 33395, 15840, 33135, 28410, 28705, 23640, 16115, 28460, 30570, 25915, 28995, 30315, 30465, 33280, 21465, 31665, 29980, 19620, 33575, 27250, 28485, 35160, 28555, 48205, 45055, 38725, 41875, 42840, 49620, 39640, 46420, 51490, 47915, 41135, 44710, 46110, 35920, 28545, 43450, 37680, 35435, 33340, 42010, 42310, 47875, 42270, 51150, 34110, 35135, 30345, 32095, 30130, 41970, 34530, 45420, 42760, 40620, 36090, 26495, 40320, 31625, 30045, 37730, 34230, 45810, 38635, 50850, 39420, 37380, 40100, 42560, 42860, 45120, 47575, 31940, 38335, 35870, 28155, 36825, 26105, 37125, 33215, 39510, 36390, 36745, 34280, 32395, 31750, 37045, 39540, 39240, 35825, 39685, 31035, 32870, 43775, 35545, 36935, 38590, 41250, 31120, 47135, 48500, 44475, 33170, 46835, 33060, 53315, 38290, 31335, 33295, 38740, 41185, 43710, 27485, 36980, 44010, 33360, 45640, 45170, 35100, 39275, 49740, 50040, 29510, 36850, 48200, 38890, 38695, 40090, 41890, 43260, 41865, 53015, 36680, 36940, 32955, 29120, 37345, 27095, 40495, 36035, 37835, 39230, 38980, 36515, 43950, 31525, 33850, 44350, 47175, 44465, 42075, 47475, 46180, 33550, 39965, 35590, 27975, 41590, 44050, 37370, 54925, 27585, 33860, 33445, 48740, 45860, 40375, 54625, 42380, 29610, 51350, 30000, 37430, 40985, 39185, 37670, 44815, 31825, 37425, 51650, 49040, 37340, 39280, 33985, 40580, 31610, 39580, 42555, 33360, 15495, 21945, 16095, 18835, 21345, 14845, 18235, 17845, 17245, 19680, 20545, 14245, 20245, 19945, 16455, 15855, 16155, 20095, 18145, 15595, 20345, 16755, 19780, 20095, 21495, 14345, 17545, 14945, 16195, 21495, 18170, 21215, 17580, 18970, 16395, 20415, 19720, 17530, 19720, 15145, 16538, 13975, 20793, 17093, 15957, 24492, 15093, 15420, 19675, 14770, 16570, 24670, 21970, 16270, 16220, 20320, 17670, 18270, 14040, 15095, 15440, 12270, 13580, 16535, 14685, 17285, 15785, 13760, 12660, 16185, 16325, 13000, 14100, 15925, 14825, 17425, 2000, 2000, 48065, 50955, 42880, 48145, 37505, 45375, 45255, 48920, 48840, 46030, 51730, 43640, 46135, 37605, 37605, 48840, 51730, 48920, 46135, 43640, 46030, 43475, 45745, 46575, 41620, 42555, 39240, 2823, 2350, 2203, 2000, 2575, 3219, 2000, 3044, 2231, 3732, 21975, 21450, 22695, 23520, 19690, 19970, 20820, 22370, 19850, 20675, 21735, 23335, 22980, 20255, 20135, 23755, 20825, 75010, 56345, 46845, 55945, 68785, 50385, 46845, 56345, 47280, 50820, 56380, 54205, 63785, 57205, 66785, 52000, 49000, 54730, 57730, 64440, 52700, 49700, 67440, 58045, 49915, 67730, 52915, 55045, 64730, 2468, 2585, 2790, 3420, 3051, 3372, 18255, 14977, 22001, 17320, 20596, 25279, 9949, 10949, 9299, 10299, 16599, 19349, 17099, 16999, 17849, 16479, 18999, 18249, 13499, 17799, 15195, 18299, 17099, 18599, 16799, 18875, 19649, 17999, 18199, 17399, 13699, 18499, 15495, 18549, 16999, 19349, 16999, 19175, 17849, 18349, 18799, 20449, 15845, 2563, 2922, 2506, 2141, 2802, 3143, 2806, 2348, 3042, 2767, 2540, 3058, 3586, 3480, 3214, 27355, 23075, 27235, 24800, 21865, 35725, 20965, 23625, 37615, 25060, 23960, 26355, 36705, 36635, 28235, 28735, 22525, 25560, 25700, 25185, 29275, 23660, 31420, 30025, 26635, 31680, 32460, 27355, 35105, 31920, 38180, 28345, 26735, 31625, 28820, 32460, 28845, 30530, 25745, 24490, 40760, 25645, 35720, 32765, 27095, 42760, 24950, 29690, 25730, 26205, 29735, 29280, 30485, 28700, 24120, 32390, 27195, 33265, 38795, 31875, 32240, 30190, 51145, 53950, 54775, 51970, 56425, 53620, 3465, 3413, 54505, 61085, 49300, 46300, 51505, 64085, 64740, 47000, 55030, 52030, 50000, 61740, 50215, 55345, 47215, 62030, 52345, 65030, 2000, 2000, 2000, 2012, 2041, 2000, 2148, 24070, 37240, 33065, 29820, 28310, 26560, 34815, 35490, 29810, 28060, 31570, 28300, 33975, 23975, 28550, 30620, 35725, 26800, 32370, 30050, 29050, 28800, 36025, 34275, 27300, 30550, 30920, 24070, 32670, 39780, 34440, 37580, 31910, 34760, 29360, 33990, 37320, 43280, 34640, 40580, 32210, 31790, 36840, 41160, 32490, 32060, 34910, 31940, 38170, 34140, 34790, 40370, 43860, 29640, 36990, 37670, 40700, 37810, 45020, 49460, 55400, 46380, 52310, 34780, 19060, 16790, 17890, 21510, 17200, 21935, 16100, 20835, 22530, 21430, 17730, 16630, 17330, 18430, 22130, 19580, 22315, 22715, 21615, 19865, 20965, 32320, 34220, 30070, 31970, 32515, 30265, 30335, 28085, 27980, 30230, 28130, 25880, 25045, 34885, 33620, 27340, 37125, 31320, 27970, 30210, 26390, 28525, 29880, 29535, 27745, 31910, 32155, 31810, 34290, 37725, 27400, 35590, 33945, 29780, 35770, 31330, 39330, 31275, 33595, 37195, 33445, 29155, 43935, 30995, 38295, 32995, 33795, 35795, 36295, 41935, 44145, 34005, 42145, 28700, 36505, 38505, 31205, 36005, 33205, 38650, 28700, 34100, 31300, 44045, 33300, 36100, 36650, 42045, 25030, 26530, 23945, 20120, 21620, 22445, 20040, 21540, 24145, 25230, 26730, 22645, 24400, 26100, 27600, 22900, 22500, 21000, 27235, 29745, 30925, 33445, 23545, 19730, 25885, 24620, 24805, 24690, 26375, 25950, 22935, 21790, 24200, 23055, 27635, 24200, 27305, 23590, 25550, 20405, 22445, 27165, 28915, 25345, 25700, 25495, 23740, 29065, 22595, 24350, 20555, 27455, 27315, 12840, 19885, 18090, 22630, 15670, 20575, 21410, 23150, 16975, 19215, 13930, 20880, 18885, 18050, 19975, 2000, 2121, 2000, 2281, 2436, 2494, 2130, 2000, 2122, 2762, 2354, 2647, 2547, 2326, 2918, 2391, 3140, 2550, 2676, 2241, 2837, 33210, 29120, 30160, 31560, 35530, 39500, 32480, 37635, 28510, 33980, 30010, 31660, 31990, 30340, 34000, 36320, 29140, 33270, 32190, 30950, 31830, 34880, 34150, 37200, 30020, 33070, 28250, 26250, 21150, 30250, 33250, 22105, 27405, 33050, 29350, 23080, 29330, 2000, 2000, 2000, 31790, 33790, 24040, 26340, 22440, 29740, 21365, 22465, 31490, 25165, 29240, 30240, 30575, 33625, 26675, 22600, 21475, 23225, 30760, 23165, 26835, 23365, 31510, 39020, 31120, 37570, 29670, 33330, 27850, 32960, 34780, 29300, 29770, 39570, 29400, 33630, 35080, 31220, 27950, 38120, 31810, 33260, 35600, 33560, 39940, 29065, 32110, 34150, 30515, 17199, 20199, 18499, 19349, 21049, 17549, 20549, 20299, 18299, 17930, 18660, 17960, 16330, 15430, 14180, 17530, 16380, 14230, 17980, 18710, 15480, 15480, 17980, 16380, 18710, 13990, 15530, 16890, 11990, 17590, 13490, 14040, 13540, 15580, 17140, 11990, 17280, 13680, 11990, 14130, 15720, 16599, 17999, 17799, 16999, 15999, 18199, 19199, 16799, 18199, 16999, 15599, 16799, 19199, 17999, 18199, 16999, 2000, 2000, 2000, 2000, 2000, 25799, 27499, 21999, 23799, 22599, 22999, 25499, 24499, 20099, 21099, 22299, 24799, 20899, 21899, 27799, 23299, 21399, 25799, 22899, 23399, 24099, 20399, 26099, 24899, 26699, 23199, 23699, 25499, 21999, 24599, 29549, 27949, 28349, 25949, 24599, 31749, 26999, 27549, 24349, 25949, 26199, 25399, 28649, 27049, 22999, 30149, 26749, 25199, 26599, 23549, 25099, 21599, 25049, 26699, 26749, 28249, 28280, 29930, 28580, 29079, 27429, 25745, 27395, 30230, 62500, 51895, 38995, 47390, 44895, 54390, 26900, 29440, 25850, 30490, 24850, 24990, 22940, 31370, 25300, 27350, 25440, 26300, 23390, 30320, 26670, 27720, 25710, 30590, 23660, 31640, 25670, 64245, 44660, 54670, 62735, 56900, 51000, 49000, 69785, 62015, 45295, 49250, 55705, 66780, 72320, 51250, 63770, 64550, 57935, 45295, 66795, 49295, 57995, 51295, 63795, 72395, 64595, 55795, 15950, 16820, 16880, 16505, 15945, 14845, 15570, 17620, 17670, 16870, 16555, 16930, 14895, 15620, 15995, 16000, 16910, 15250, 16375, 17285, 18000, 17200, 3949, 54420, 51610, 61770, 58925, 55280, 63130, 52470, 60285, 54145, 64805, 56955, 61960, 61925, 58925, 53440, 67220, 70220, 50440, 51015, 59700, 54015, 68025, 62700, 71025, 54230, 68665, 71665, 63015, 51230, 60015, 50740, 47740, 59225, 56225, 64520, 67520, 65325, 51315, 68325, 57000, 48315, 60000, 68965, 57315, 51530, 65965, 60315, 48530], \"y0\": \" \", \"yaxis\": \"y\"}],\n",
              "                        {\"boxmode\": \"group\", \"legend\": {\"tracegroupgap\": 0}, \"margin\": {\"t\": 60}, \"template\": {\"data\": {\"bar\": [{\"error_x\": {\"color\": \"#2a3f5f\"}, \"error_y\": {\"color\": \"#2a3f5f\"}, \"marker\": {\"line\": {\"color\": \"#E5ECF6\", \"width\": 0.5}}, \"type\": \"bar\"}], \"barpolar\": [{\"marker\": {\"line\": {\"color\": \"#E5ECF6\", \"width\": 0.5}}, \"type\": \"barpolar\"}], \"carpet\": [{\"aaxis\": {\"endlinecolor\": \"#2a3f5f\", \"gridcolor\": \"white\", \"linecolor\": \"white\", \"minorgridcolor\": \"white\", \"startlinecolor\": \"#2a3f5f\"}, \"baxis\": {\"endlinecolor\": \"#2a3f5f\", \"gridcolor\": \"white\", \"linecolor\": \"white\", \"minorgridcolor\": \"white\", \"startlinecolor\": \"#2a3f5f\"}, \"type\": \"carpet\"}], \"choropleth\": [{\"colorbar\": {\"outlinewidth\": 0, \"ticks\": \"\"}, \"type\": \"choropleth\"}], \"contour\": [{\"colorbar\": {\"outlinewidth\": 0, \"ticks\": \"\"}, \"colorscale\": [[0.0, \"#0d0887\"], [0.1111111111111111, \"#46039f\"], [0.2222222222222222, \"#7201a8\"], [0.3333333333333333, \"#9c179e\"], [0.4444444444444444, \"#bd3786\"], [0.5555555555555556, \"#d8576b\"], [0.6666666666666666, \"#ed7953\"], [0.7777777777777778, \"#fb9f3a\"], [0.8888888888888888, \"#fdca26\"], [1.0, \"#f0f921\"]], \"type\": \"contour\"}], \"contourcarpet\": [{\"colorbar\": {\"outlinewidth\": 0, \"ticks\": \"\"}, \"type\": \"contourcarpet\"}], \"heatmap\": [{\"colorbar\": {\"outlinewidth\": 0, \"ticks\": \"\"}, \"colorscale\": [[0.0, \"#0d0887\"], [0.1111111111111111, \"#46039f\"], [0.2222222222222222, \"#7201a8\"], [0.3333333333333333, \"#9c179e\"], [0.4444444444444444, \"#bd3786\"], [0.5555555555555556, \"#d8576b\"], [0.6666666666666666, \"#ed7953\"], [0.7777777777777778, \"#fb9f3a\"], [0.8888888888888888, \"#fdca26\"], [1.0, \"#f0f921\"]], \"type\": \"heatmap\"}], \"heatmapgl\": [{\"colorbar\": {\"outlinewidth\": 0, \"ticks\": \"\"}, \"colorscale\": [[0.0, \"#0d0887\"], [0.1111111111111111, \"#46039f\"], [0.2222222222222222, \"#7201a8\"], [0.3333333333333333, \"#9c179e\"], [0.4444444444444444, \"#bd3786\"], [0.5555555555555556, \"#d8576b\"], [0.6666666666666666, \"#ed7953\"], [0.7777777777777778, \"#fb9f3a\"], [0.8888888888888888, \"#fdca26\"], [1.0, \"#f0f921\"]], \"type\": \"heatmapgl\"}], \"histogram\": [{\"marker\": {\"colorbar\": {\"outlinewidth\": 0, \"ticks\": \"\"}}, \"type\": \"histogram\"}], \"histogram2d\": [{\"colorbar\": {\"outlinewidth\": 0, \"ticks\": \"\"}, \"colorscale\": [[0.0, \"#0d0887\"], [0.1111111111111111, \"#46039f\"], [0.2222222222222222, \"#7201a8\"], [0.3333333333333333, \"#9c179e\"], [0.4444444444444444, \"#bd3786\"], [0.5555555555555556, \"#d8576b\"], [0.6666666666666666, \"#ed7953\"], [0.7777777777777778, \"#fb9f3a\"], [0.8888888888888888, \"#fdca26\"], [1.0, \"#f0f921\"]], \"type\": \"histogram2d\"}], \"histogram2dcontour\": [{\"colorbar\": {\"outlinewidth\": 0, \"ticks\": \"\"}, \"colorscale\": [[0.0, \"#0d0887\"], [0.1111111111111111, \"#46039f\"], [0.2222222222222222, \"#7201a8\"], [0.3333333333333333, \"#9c179e\"], [0.4444444444444444, \"#bd3786\"], [0.5555555555555556, \"#d8576b\"], [0.6666666666666666, \"#ed7953\"], [0.7777777777777778, \"#fb9f3a\"], [0.8888888888888888, \"#fdca26\"], [1.0, \"#f0f921\"]], \"type\": \"histogram2dcontour\"}], \"mesh3d\": [{\"colorbar\": {\"outlinewidth\": 0, \"ticks\": \"\"}, \"type\": \"mesh3d\"}], \"parcoords\": [{\"line\": {\"colorbar\": {\"outlinewidth\": 0, \"ticks\": \"\"}}, \"type\": \"parcoords\"}], \"pie\": [{\"automargin\": true, \"type\": \"pie\"}], \"scatter\": [{\"marker\": {\"colorbar\": {\"outlinewidth\": 0, \"ticks\": \"\"}}, \"type\": \"scatter\"}], \"scatter3d\": [{\"line\": {\"colorbar\": {\"outlinewidth\": 0, \"ticks\": \"\"}}, \"marker\": {\"colorbar\": {\"outlinewidth\": 0, \"ticks\": \"\"}}, \"type\": \"scatter3d\"}], \"scattercarpet\": [{\"marker\": {\"colorbar\": {\"outlinewidth\": 0, \"ticks\": \"\"}}, \"type\": \"scattercarpet\"}], \"scattergeo\": [{\"marker\": {\"colorbar\": {\"outlinewidth\": 0, \"ticks\": \"\"}}, \"type\": \"scattergeo\"}], \"scattergl\": [{\"marker\": {\"colorbar\": {\"outlinewidth\": 0, \"ticks\": \"\"}}, \"type\": \"scattergl\"}], \"scattermapbox\": [{\"marker\": {\"colorbar\": {\"outlinewidth\": 0, \"ticks\": \"\"}}, \"type\": \"scattermapbox\"}], \"scatterpolar\": [{\"marker\": {\"colorbar\": {\"outlinewidth\": 0, \"ticks\": \"\"}}, \"type\": \"scatterpolar\"}], \"scatterpolargl\": [{\"marker\": {\"colorbar\": {\"outlinewidth\": 0, \"ticks\": \"\"}}, \"type\": \"scatterpolargl\"}], \"scatterternary\": [{\"marker\": {\"colorbar\": {\"outlinewidth\": 0, \"ticks\": \"\"}}, \"type\": \"scatterternary\"}], \"surface\": [{\"colorbar\": {\"outlinewidth\": 0, \"ticks\": \"\"}, \"colorscale\": [[0.0, \"#0d0887\"], [0.1111111111111111, \"#46039f\"], [0.2222222222222222, \"#7201a8\"], [0.3333333333333333, \"#9c179e\"], [0.4444444444444444, \"#bd3786\"], [0.5555555555555556, \"#d8576b\"], [0.6666666666666666, \"#ed7953\"], [0.7777777777777778, \"#fb9f3a\"], [0.8888888888888888, \"#fdca26\"], [1.0, \"#f0f921\"]], \"type\": \"surface\"}], \"table\": [{\"cells\": {\"fill\": {\"color\": \"#EBF0F8\"}, \"line\": {\"color\": \"white\"}}, \"header\": {\"fill\": {\"color\": \"#C8D4E3\"}, \"line\": {\"color\": \"white\"}}, \"type\": \"table\"}]}, \"layout\": {\"annotationdefaults\": {\"arrowcolor\": \"#2a3f5f\", \"arrowhead\": 0, \"arrowwidth\": 1}, \"coloraxis\": {\"colorbar\": {\"outlinewidth\": 0, \"ticks\": \"\"}}, \"colorscale\": {\"diverging\": [[0, \"#8e0152\"], [0.1, \"#c51b7d\"], [0.2, \"#de77ae\"], [0.3, \"#f1b6da\"], [0.4, \"#fde0ef\"], [0.5, \"#f7f7f7\"], [0.6, \"#e6f5d0\"], [0.7, \"#b8e186\"], [0.8, \"#7fbc41\"], [0.9, \"#4d9221\"], [1, \"#276419\"]], \"sequential\": [[0.0, \"#0d0887\"], [0.1111111111111111, \"#46039f\"], [0.2222222222222222, \"#7201a8\"], [0.3333333333333333, \"#9c179e\"], [0.4444444444444444, \"#bd3786\"], [0.5555555555555556, \"#d8576b\"], [0.6666666666666666, \"#ed7953\"], [0.7777777777777778, \"#fb9f3a\"], [0.8888888888888888, \"#fdca26\"], [1.0, \"#f0f921\"]], \"sequentialminus\": [[0.0, \"#0d0887\"], [0.1111111111111111, \"#46039f\"], [0.2222222222222222, \"#7201a8\"], [0.3333333333333333, \"#9c179e\"], [0.4444444444444444, \"#bd3786\"], [0.5555555555555556, \"#d8576b\"], [0.6666666666666666, \"#ed7953\"], [0.7777777777777778, \"#fb9f3a\"], [0.8888888888888888, \"#fdca26\"], [1.0, \"#f0f921\"]]}, \"colorway\": [\"#636efa\", \"#EF553B\", \"#00cc96\", \"#ab63fa\", \"#FFA15A\", \"#19d3f3\", \"#FF6692\", \"#B6E880\", \"#FF97FF\", \"#FECB52\"], \"font\": {\"color\": \"#2a3f5f\"}, \"geo\": {\"bgcolor\": \"white\", \"lakecolor\": \"white\", \"landcolor\": \"#E5ECF6\", \"showlakes\": true, \"showland\": true, \"subunitcolor\": \"white\"}, \"hoverlabel\": {\"align\": \"left\"}, \"hovermode\": \"closest\", \"mapbox\": {\"style\": \"light\"}, \"paper_bgcolor\": \"white\", \"plot_bgcolor\": \"#E5ECF6\", \"polar\": {\"angularaxis\": {\"gridcolor\": \"white\", \"linecolor\": \"white\", \"ticks\": \"\"}, \"bgcolor\": \"#E5ECF6\", \"radialaxis\": {\"gridcolor\": \"white\", \"linecolor\": \"white\", \"ticks\": \"\"}}, \"scene\": {\"xaxis\": {\"backgroundcolor\": \"#E5ECF6\", \"gridcolor\": \"white\", \"gridwidth\": 2, \"linecolor\": \"white\", \"showbackground\": true, \"ticks\": \"\", \"zerolinecolor\": \"white\"}, \"yaxis\": {\"backgroundcolor\": \"#E5ECF6\", \"gridcolor\": \"white\", \"gridwidth\": 2, \"linecolor\": \"white\", \"showbackground\": true, \"ticks\": \"\", \"zerolinecolor\": \"white\"}, \"zaxis\": {\"backgroundcolor\": \"#E5ECF6\", \"gridcolor\": \"white\", \"gridwidth\": 2, \"linecolor\": \"white\", \"showbackground\": true, \"ticks\": \"\", \"zerolinecolor\": \"white\"}}, \"shapedefaults\": {\"line\": {\"color\": \"#2a3f5f\"}}, \"ternary\": {\"aaxis\": {\"gridcolor\": \"white\", \"linecolor\": \"white\", \"ticks\": \"\"}, \"baxis\": {\"gridcolor\": \"white\", \"linecolor\": \"white\", \"ticks\": \"\"}, \"bgcolor\": \"#E5ECF6\", \"caxis\": {\"gridcolor\": \"white\", \"linecolor\": \"white\", \"ticks\": \"\"}}, \"title\": {\"x\": 0.05}, \"xaxis\": {\"automargin\": true, \"gridcolor\": \"white\", \"linecolor\": \"white\", \"ticks\": \"\", \"title\": {\"standoff\": 15}, \"zerolinecolor\": \"white\", \"zerolinewidth\": 2}, \"yaxis\": {\"automargin\": true, \"gridcolor\": \"white\", \"linecolor\": \"white\", \"ticks\": \"\", \"title\": {\"standoff\": 15}, \"zerolinecolor\": \"white\", \"zerolinewidth\": 2}}}, \"title\": {\"text\": \"Average Price over 10 most represented Car Brands\"}, \"xaxis\": {\"anchor\": \"y\", \"domain\": [0.0, 1.0], \"title\": {\"text\": \"Make\"}}, \"yaxis\": {\"anchor\": \"x\", \"domain\": [0.0, 1.0], \"title\": {\"text\": \"Average Price\"}}},\n",
              "                        {\"responsive\": true}\n",
              "                    ).then(function(){\n",
              "                            \n",
              "var gd = document.getElementById('06a2b9a8-2f23-44fd-b703-eafcb9312e77');\n",
              "var x = new MutationObserver(function (mutations, observer) {{\n",
              "        var display = window.getComputedStyle(gd).display;\n",
              "        if (!display || display === 'none') {{\n",
              "            console.log([gd, 'removed!']);\n",
              "            Plotly.purge(gd);\n",
              "            observer.disconnect();\n",
              "        }}\n",
              "}});\n",
              "\n",
              "// Listen for the removal of the full notebook cells\n",
              "var notebookContainer = gd.closest('#notebook-container');\n",
              "if (notebookContainer) {{\n",
              "    x.observe(notebookContainer, {childList: true});\n",
              "}}\n",
              "\n",
              "// Listen for the clearing of the current output cell\n",
              "var outputEl = gd.closest('.output');\n",
              "if (outputEl) {{\n",
              "    x.observe(outputEl, {childList: true});\n",
              "}}\n",
              "\n",
              "                        })\n",
              "                };\n",
              "                \n",
              "            </script>\n",
              "        </div>\n",
              "</body>\n",
              "</html>"
            ]
          },
          "metadata": {
            "tags": []
          }
        }
      ]
    },
    {
      "cell_type": "markdown",
      "metadata": {
        "id": "x13xrJhClw9a",
        "colab_type": "text"
      },
      "source": [
        "So, the average price of top 10 brands is around 31K"
      ]
    },
    {
      "cell_type": "markdown",
      "metadata": {
        "id": "18rU4U3df1Bu",
        "colab_type": "text"
      },
      "source": [
        "**7. Plot the correlation matrix and document your insights.**"
      ]
    },
    {
      "cell_type": "markdown",
      "metadata": {
        "id": "-dVT2zn3f8zg",
        "colab_type": "text"
      },
      "source": [
        "The correlation matrix can be used to estimate the linear historical relationship between the returns of multiple assets. You can use the built-in .corr() method on a pandas DataFrame to easily calculate the correlation matrix.\n",
        "\n"
      ]
    },
    {
      "cell_type": "markdown",
      "metadata": {
        "id": "Q9VC4weXhCsr",
        "colab_type": "text"
      },
      "source": [
        "Correlation ranges from -1 to 1. The diagonal of the correlation matrix is always 1, because a stock always has a perfect correlation with itself. The matrix is symmetric, which means that the lower triangle and upper triangle of the matrix are simply reflections of each other since correlation is a bi-directional measurement."
      ]
    },
    {
      "cell_type": "markdown",
      "metadata": {
        "id": "gNVa_jAOkBf3",
        "colab_type": "text"
      },
      "source": [
        "**7.1 Plotting Correlation Matrix :-**"
      ]
    },
    {
      "cell_type": "code",
      "metadata": {
        "id": "pSxg8Gd-lCZj",
        "colab_type": "code",
        "colab": {
          "base_uri": "https://localhost:8080/",
          "height": 263
        },
        "outputId": "ad7dd756-4334-4a7e-e036-fdf26197feb9"
      },
      "source": [
        "#PLotting Correlation Matrix :-\n",
        "df.corr()"
      ],
      "execution_count": 293,
      "outputs": [
        {
          "output_type": "execute_result",
          "data": {
            "text/html": [
              "<div>\n",
              "<style scoped>\n",
              "    .dataframe tbody tr th:only-of-type {\n",
              "        vertical-align: middle;\n",
              "    }\n",
              "\n",
              "    .dataframe tbody tr th {\n",
              "        vertical-align: top;\n",
              "    }\n",
              "\n",
              "    .dataframe thead th {\n",
              "        text-align: right;\n",
              "    }\n",
              "</style>\n",
              "<table border=\"1\" class=\"dataframe\">\n",
              "  <thead>\n",
              "    <tr style=\"text-align: right;\">\n",
              "      <th></th>\n",
              "      <th>Year</th>\n",
              "      <th>HP</th>\n",
              "      <th>Cylinders</th>\n",
              "      <th>MPG-H</th>\n",
              "      <th>MPG-C</th>\n",
              "      <th>Popularity</th>\n",
              "      <th>Price</th>\n",
              "    </tr>\n",
              "  </thead>\n",
              "  <tbody>\n",
              "    <tr>\n",
              "      <th>Year</th>\n",
              "      <td>1.000000</td>\n",
              "      <td>0.321378</td>\n",
              "      <td>-0.106957</td>\n",
              "      <td>0.382672</td>\n",
              "      <td>0.340269</td>\n",
              "      <td>0.199974</td>\n",
              "      <td>0.580207</td>\n",
              "    </tr>\n",
              "    <tr>\n",
              "      <th>HP</th>\n",
              "      <td>0.321378</td>\n",
              "      <td>1.000000</td>\n",
              "      <td>0.732403</td>\n",
              "      <td>-0.439438</td>\n",
              "      <td>-0.547024</td>\n",
              "      <td>0.083655</td>\n",
              "      <td>0.753011</td>\n",
              "    </tr>\n",
              "    <tr>\n",
              "      <th>Cylinders</th>\n",
              "      <td>-0.106957</td>\n",
              "      <td>0.732403</td>\n",
              "      <td>1.000000</td>\n",
              "      <td>-0.677483</td>\n",
              "      <td>-0.736849</td>\n",
              "      <td>-0.000936</td>\n",
              "      <td>0.401774</td>\n",
              "    </tr>\n",
              "    <tr>\n",
              "      <th>MPG-H</th>\n",
              "      <td>0.382672</td>\n",
              "      <td>-0.439438</td>\n",
              "      <td>-0.677483</td>\n",
              "      <td>1.000000</td>\n",
              "      <td>0.935214</td>\n",
              "      <td>0.112745</td>\n",
              "      <td>-0.122202</td>\n",
              "    </tr>\n",
              "    <tr>\n",
              "      <th>MPG-C</th>\n",
              "      <td>0.340269</td>\n",
              "      <td>-0.547024</td>\n",
              "      <td>-0.736849</td>\n",
              "      <td>0.935214</td>\n",
              "      <td>1.000000</td>\n",
              "      <td>0.097936</td>\n",
              "      <td>-0.202485</td>\n",
              "    </tr>\n",
              "    <tr>\n",
              "      <th>Popularity</th>\n",
              "      <td>0.199974</td>\n",
              "      <td>0.083655</td>\n",
              "      <td>-0.000936</td>\n",
              "      <td>0.112745</td>\n",
              "      <td>0.097936</td>\n",
              "      <td>1.000000</td>\n",
              "      <td>0.111579</td>\n",
              "    </tr>\n",
              "    <tr>\n",
              "      <th>Price</th>\n",
              "      <td>0.580207</td>\n",
              "      <td>0.753011</td>\n",
              "      <td>0.401774</td>\n",
              "      <td>-0.122202</td>\n",
              "      <td>-0.202485</td>\n",
              "      <td>0.111579</td>\n",
              "      <td>1.000000</td>\n",
              "    </tr>\n",
              "  </tbody>\n",
              "</table>\n",
              "</div>"
            ],
            "text/plain": [
              "                Year        HP  Cylinders  ...     MPG-C  Popularity     Price\n",
              "Year        1.000000  0.321378  -0.106957  ...  0.340269    0.199974  0.580207\n",
              "HP          0.321378  1.000000   0.732403  ... -0.547024    0.083655  0.753011\n",
              "Cylinders  -0.106957  0.732403   1.000000  ... -0.736849   -0.000936  0.401774\n",
              "MPG-H       0.382672 -0.439438  -0.677483  ...  0.935214    0.112745 -0.122202\n",
              "MPG-C       0.340269 -0.547024  -0.736849  ...  1.000000    0.097936 -0.202485\n",
              "Popularity  0.199974  0.083655  -0.000936  ...  0.097936    1.000000  0.111579\n",
              "Price       0.580207  0.753011   0.401774  ... -0.202485    0.111579  1.000000\n",
              "\n",
              "[7 rows x 7 columns]"
            ]
          },
          "metadata": {
            "tags": []
          },
          "execution_count": 293
        }
      ]
    },
    {
      "cell_type": "markdown",
      "metadata": {
        "id": "693FDJTpmEle",
        "colab_type": "text"
      },
      "source": [
        "**Plotting Heat Map:-**"
      ]
    },
    {
      "cell_type": "code",
      "metadata": {
        "id": "rPFveaCAhJLC",
        "colab_type": "code",
        "colab": {
          "base_uri": "https://localhost:8080/",
          "height": 327
        },
        "outputId": "6a28eaf2-3a90-4bbd-c5ce-5c78dc915e71"
      },
      "source": [
        "#For the analysis part, we have to plot heat map of correlation matrix :-\n",
        "matrix = np.triu(df.corr())\n",
        "sns.heatmap(df.corr(), annot = True, vmin=-1, vmax=1, center= 0, cmap= 'coolwarm')"
      ],
      "execution_count": 294,
      "outputs": [
        {
          "output_type": "execute_result",
          "data": {
            "text/plain": [
              "<matplotlib.axes._subplots.AxesSubplot at 0x7efec45e9a90>"
            ]
          },
          "metadata": {
            "tags": []
          },
          "execution_count": 294
        },
        {
          "output_type": "display_data",
          "data": {
            "image/png": "[encoded data removed]",
            "text/plain": [
              "<Figure size 432x288 with 2 Axes>"
            ]
          },
          "metadata": {
            "tags": [],
            "needs_background": "light"
          }
        }
      ]
    },
    {
      "cell_type": "markdown",
      "metadata": {
        "id": "vH7xQe8Mkmrz",
        "colab_type": "text"
      },
      "source": [
        "**7.2 Document your insights :-**"
      ]
    },
    {
      "cell_type": "markdown",
      "metadata": {
        "id": "ai7NgLT9l0v1",
        "colab_type": "text"
      },
      "source": [
        "\n",
        "\"Price\" is positively dependent on \"features\" and \"Horse Power(HP)\" and \"Year\".\n",
        "\n",
        "The features \"HP\" and \"Cylinders\" are positively dependent on each other.\n",
        "\n",
        "\"MPG-H\" and \"MPG-C\" have strong negative correlation with \"Cylinders\"; i.e. if number of cylinders are increased, MPG-H and MPG-C decreases.\n",
        "\n",
        "There is a +ve correlation between:\n",
        "\"HP\" & \"Cylinders\" ;\n",
        "\"HP\" & \"MSRP\" ;\n",
        "\"Cylinders\" & \"MSRP\" and\n",
        "\"MPG-H\" & \"MPG-C\"\n",
        "\n",
        "There is Strong -ve correlation between:\n",
        "\"MPG-H\" & \"Cylinders\"\n",
        "and \"MPG-C\" and \"Cylinders\""
      ]
    },
    {
      "cell_type": "markdown",
      "metadata": {
        "id": "lhS-iaJ0uD3L",
        "colab_type": "text"
      },
      "source": [
        "**8. Perform EDA and plot different graphs and document your findings (Try to see how other\n",
        "variables affect the price of the car)**"
      ]
    },
    {
      "cell_type": "markdown",
      "metadata": {
        "id": "kjhgsYwDHXSM",
        "colab_type": "text"
      },
      "source": [
        "Exploratory Data Analysis refers to the critical process of performing initial investigations on data so as to discover patterns,to spot\n",
        "anomalies,to test hypothesis and to check assumptions with the help of summary statistics and graphical representations.\n",
        "Data visualization is the graphical representation of data in order to interactively and efficiently convey insights to clients, customers, and\n",
        "stakeholders in general."
      ]
    },
    {
      "cell_type": "markdown",
      "metadata": {
        "id": "eMTV1lbzuKBk",
        "colab_type": "text"
      },
      "source": [
        "**Plotting different types of graphs:-**"
      ]
    },
    {
      "cell_type": "markdown",
      "metadata": {
        "id": "yMDyYzijwunG",
        "colab_type": "text"
      },
      "source": [
        "Python has the ability to create graphs by using the matplotlib library. It has numerous packages and functions which generate a wide variety of graphs and plots. It is also very simple to use. It along with numpy and other python built-in functions achieves the goal."
      ]
    },
    {
      "cell_type": "markdown",
      "metadata": {
        "id": "fxDqgJhE8Dve",
        "colab_type": "text"
      },
      "source": [
        "**8.1 BAR PLOT:-**"
      ]
    },
    {
      "cell_type": "markdown",
      "metadata": {
        "id": "i7-lJErBQC_7",
        "colab_type": "text"
      },
      "source": [
        "A bar chart or bar graph is a chart or graph that presents categorical data with rectangular bars with heights or lengths proportional to the values that they represent. The bars can be plotted vertically or horizontally.\n",
        "\n",
        "A bar graph shows comparisons among discrete categories. One axis of the chart shows the specific categories being compared, and the other axis represents a measured value.\n",
        "\n",
        "Matplotlib API provides the bar() function that can be used in the MATLAB style use as well as object oriented API"
      ]
    },
    {
      "cell_type": "markdown",
      "metadata": {
        "id": "bRiA37GfzD-b",
        "colab_type": "text"
      },
      "source": [
        "**8.1.1 (Year VS Price) Bar Graph**"
      ]
    },
    {
      "cell_type": "code",
      "metadata": {
        "id": "XMOQcMVbwfX3",
        "colab_type": "code",
        "colab": {
          "base_uri": "https://localhost:8080/",
          "height": 351
        },
        "outputId": "083d3ab8-98d7-4619-93b9-d3484b2ef458"
      },
      "source": [
        "plt.figure(figsize=(15,5))\n",
        "sns.barplot(df['Year'],df['Price'])"
      ],
      "execution_count": 295,
      "outputs": [
        {
          "output_type": "execute_result",
          "data": {
            "text/plain": [
              "<matplotlib.axes._subplots.AxesSubplot at 0x7efec4bdc1d0>"
            ]
          },
          "metadata": {
            "tags": []
          },
          "execution_count": 295
        },
        {
          "output_type": "display_data",
          "data": {
            "image/png": "[encoded data removed]",
            "text/plain": [
              "<Figure size 1080x360 with 1 Axes>"
            ]
          },
          "metadata": {
            "tags": [],
            "needs_background": "light"
          }
        }
      ]
    },
    {
      "cell_type": "markdown",
      "metadata": {
        "id": "FKB_h08Sxo8e",
        "colab_type": "text"
      },
      "source": [
        "\n",
        "In this respective (YEAR VS Price) bar plot, we can see that initially the price of the car was gradualy incrementing as well as decrementing but as the year is passing, the price of the cars is increasing.\n",
        "\n",
        "There has been a sudden hike in prices of cars after the year 2000.\n",
        "\n",
        "After 2001, the prices of cars have been increasing uniformly."
      ]
    },
    {
      "cell_type": "markdown",
      "metadata": {
        "id": "CllqzibIzRW0",
        "colab_type": "text"
      },
      "source": [
        "**8.1.2 (MPG-H VS Price) Bar Plot**"
      ]
    },
    {
      "cell_type": "code",
      "metadata": {
        "id": "vp0DIfqfxaF3",
        "colab_type": "code",
        "colab": {
          "base_uri": "https://localhost:8080/",
          "height": 353
        },
        "outputId": "4cd39c47-af1b-4922-9fe8-d4b219d2be4c"
      },
      "source": [
        "plt.figure(figsize=(15,5))\n",
        "sns.barplot(df['MPG-H'],df['Price'])"
      ],
      "execution_count": 296,
      "outputs": [
        {
          "output_type": "execute_result",
          "data": {
            "text/plain": [
              "<matplotlib.axes._subplots.AxesSubplot at 0x7efec43f1828>"
            ]
          },
          "metadata": {
            "tags": []
          },
          "execution_count": 296
        },
        {
          "output_type": "display_data",
          "data": {
            "image/png": "[encoded data removed]",
            "text/plain": [
              "<Figure size 1080x360 with 1 Axes>"
            ]
          },
          "metadata": {
            "tags": [],
            "needs_background": "light"
          }
        }
      ]
    },
    {
      "cell_type": "markdown",
      "metadata": {
        "id": "-wOb4zvKzwsC",
        "colab_type": "text"
      },
      "source": [
        "In this respective (MPG-H VS Price) bar plot, we can see that there is an inverse relationship between the MPG-H and the prices. As the MPG-H goes on increasing, the prices go on decreasing.\n",
        "\n",
        "The value of car is maximum in case of MPG-H at 13 while it is minimum at 15.\n",
        "\n"
      ]
    },
    {
      "cell_type": "markdown",
      "metadata": {
        "id": "bGz6-K_O1BSw",
        "colab_type": "text"
      },
      "source": [
        "**8.1.3 (Cylinders VS Price) Bar Plot**"
      ]
    },
    {
      "cell_type": "code",
      "metadata": {
        "id": "J6l5D1gJ1JG0",
        "colab_type": "code",
        "colab": {
          "base_uri": "https://localhost:8080/",
          "height": 351
        },
        "outputId": "f9acb6f5-fdfa-4b5b-9781-624876c5ff58"
      },
      "source": [
        "plt.figure(figsize=(10,5))\n",
        "sns.barplot(df['Cylinders'],df['Price'])"
      ],
      "execution_count": 297,
      "outputs": [
        {
          "output_type": "execute_result",
          "data": {
            "text/plain": [
              "<matplotlib.axes._subplots.AxesSubplot at 0x7efec4c7ec88>"
            ]
          },
          "metadata": {
            "tags": []
          },
          "execution_count": 297
        },
        {
          "output_type": "display_data",
          "data": {
            "image/png": "[encoded data removed]",
            "text/plain": [
              "<Figure size 720x360 with 1 Axes>"
            ]
          },
          "metadata": {
            "tags": [],
            "needs_background": "light"
          }
        }
      ]
    },
    {
      "cell_type": "markdown",
      "metadata": {
        "id": "-Ci1wsUA1cwG",
        "colab_type": "text"
      },
      "source": [
        "\n",
        "In this respective (Cylinders VS Price) bar plot, we can see that the subtotal value increases with increasing number of cylinders."
      ]
    },
    {
      "cell_type": "markdown",
      "metadata": {
        "id": "2UOaFjKw2S2S",
        "colab_type": "text"
      },
      "source": [
        "**8.1.4 (Popularity VS Price) Bar Plot**"
      ]
    },
    {
      "cell_type": "code",
      "metadata": {
        "id": "TCsR2GN92eWG",
        "colab_type": "code",
        "colab": {
          "base_uri": "https://localhost:8080/",
          "height": 349
        },
        "outputId": "05a0bbf4-0884-4b10-8ffc-e6c3b8068fc6"
      },
      "source": [
        "plt.figure(figsize=(20,5))\n",
        "sns.barplot(df['Year'],df['Price'])"
      ],
      "execution_count": 298,
      "outputs": [
        {
          "output_type": "execute_result",
          "data": {
            "text/plain": [
              "<matplotlib.axes._subplots.AxesSubplot at 0x7efec4cb56a0>"
            ]
          },
          "metadata": {
            "tags": []
          },
          "execution_count": 298
        },
        {
          "output_type": "display_data",
          "data": {
            "image/png": "[encoded data removed]",
            "text/plain": [
              "<Figure size 1440x360 with 1 Axes>"
            ]
          },
          "metadata": {
            "tags": [],
            "needs_background": "light"
          }
        }
      ]
    },
    {
      "cell_type": "markdown",
      "metadata": {
        "id": "pxwZ_LBf2xub",
        "colab_type": "text"
      },
      "source": [
        "\n",
        "\n",
        "In this respective (Popularity VS Price) bar plot, we can see that the brand popularity has little or no effect on the prices."
      ]
    },
    {
      "cell_type": "markdown",
      "metadata": {
        "id": "hIHYbnLh3Xyw",
        "colab_type": "text"
      },
      "source": [
        "**8.1.5 (HP VS Price) Bar Plot**"
      ]
    },
    {
      "cell_type": "code",
      "metadata": {
        "id": "IjWfrbLG3exA",
        "colab_type": "code",
        "colab": {
          "base_uri": "https://localhost:8080/",
          "height": 297
        },
        "outputId": "deb48a14-64d3-4d5b-9670-af2ba0954307"
      },
      "source": [
        "sns.barplot(df['HP'],df['Price'])"
      ],
      "execution_count": 299,
      "outputs": [
        {
          "output_type": "execute_result",
          "data": {
            "text/plain": [
              "<matplotlib.axes._subplots.AxesSubplot at 0x7efec40af630>"
            ]
          },
          "metadata": {
            "tags": []
          },
          "execution_count": 299
        },
        {
          "output_type": "display_data",
          "data": {
            "image/png": "[encoded data removed]",
            "text/plain": [
              "<Figure size 432x288 with 1 Axes>"
            ]
          },
          "metadata": {
            "tags": [],
            "needs_background": "light"
          }
        }
      ]
    },
    {
      "cell_type": "markdown",
      "metadata": {
        "id": "mgyUa0uQ3yNo",
        "colab_type": "text"
      },
      "source": [
        "\n",
        "In this respective (HP VS Price) bar plot; we can observe that more the value of HP, more will be the price. So, HP is directly proprtional to the Price."
      ]
    },
    {
      "cell_type": "markdown",
      "metadata": {
        "id": "4SiSaKBk5vGJ",
        "colab_type": "text"
      },
      "source": [
        "**8.1.6 (MPG-C VS Price) Bar Graph** "
      ]
    },
    {
      "cell_type": "code",
      "metadata": {
        "id": "8nRhjlNu65Lr",
        "colab_type": "code",
        "colab": {
          "base_uri": "https://localhost:8080/",
          "height": 353
        },
        "outputId": "29a09f29-92d9-4dc8-d794-77a3cee90e99"
      },
      "source": [
        "plt.figure(figsize=(15,5))\n",
        "sns.barplot(df['MPG-C'],df['Price'])"
      ],
      "execution_count": 300,
      "outputs": [
        {
          "output_type": "execute_result",
          "data": {
            "text/plain": [
              "<matplotlib.axes._subplots.AxesSubplot at 0x7efec4c1ea20>"
            ]
          },
          "metadata": {
            "tags": []
          },
          "execution_count": 300
        },
        {
          "output_type": "display_data",
          "data": {
            "image/png": "[encoded data removed]",
            "text/plain": [
              "<Figure size 1080x360 with 1 Axes>"
            ]
          },
          "metadata": {
            "tags": [],
            "needs_background": "light"
          }
        }
      ]
    },
    {
      "cell_type": "markdown",
      "metadata": {
        "id": "Et1JTvTb8hXO",
        "colab_type": "text"
      },
      "source": [
        "From the above bar plot, we can say that:-\n",
        "\n",
        "There is an inverse relationship between the MPG-C and the prices.\n",
        "\n",
        "As the MPG-C goes on increasing, the prices go on decreasing.\n",
        "\n",
        "The value of car is maximum in case of MPG-C at 10 while it is minimum at 31."
      ]
    },
    {
      "cell_type": "markdown",
      "metadata": {
        "id": "7v7HJ8nZ8SrF",
        "colab_type": "text"
      },
      "source": [
        "**8.2 HISTOGRAM PLOTTING**"
      ]
    },
    {
      "cell_type": "code",
      "metadata": {
        "id": "1HUjxC4-AMTb",
        "colab_type": "code",
        "colab": {
          "base_uri": "https://localhost:8080/",
          "height": 299
        },
        "outputId": "adfee1e0-2542-4ffc-8f62-cb49f651f907"
      },
      "source": [
        "df['Price'].plot.hist()\n",
        "plt.xlabel('Price', fontsize=12)"
      ],
      "execution_count": 301,
      "outputs": [
        {
          "output_type": "execute_result",
          "data": {
            "text/plain": [
              "Text(0.5, 0, 'Price')"
            ]
          },
          "metadata": {
            "tags": []
          },
          "execution_count": 301
        },
        {
          "output_type": "display_data",
          "data": {
            "image/png": "[encoded data removed]",
            "text/plain": [
              "<Figure size 432x288 with 1 Axes>"
            ]
          },
          "metadata": {
            "tags": [],
            "needs_background": "light"
          }
        }
      ]
    },
    {
      "cell_type": "code",
      "metadata": {
        "id": "6fdCma_QAqR8",
        "colab_type": "code",
        "colab": {
          "base_uri": "https://localhost:8080/",
          "height": 283
        },
        "outputId": "b7107b2a-56e3-48c4-e0bb-b9a66f6bc5a0"
      },
      "source": [
        "(df['Price'].loc[df['Price']<4.223125e+04 ]).plot.hist()"
      ],
      "execution_count": 302,
      "outputs": [
        {
          "output_type": "execute_result",
          "data": {
            "text/plain": [
              "<matplotlib.axes._subplots.AxesSubplot at 0x7efec4807d30>"
            ]
          },
          "metadata": {
            "tags": []
          },
          "execution_count": 302
        },
        {
          "output_type": "display_data",
          "data": {
            "image/png": "[encoded data removed]",
            "text/plain": [
              "<Figure size 432x288 with 1 Axes>"
            ]
          },
          "metadata": {
            "tags": [],
            "needs_background": "light"
          }
        }
      ]
    },
    {
      "cell_type": "code",
      "metadata": {
        "id": "xPSf-8pPA34K",
        "colab_type": "code",
        "colab": {
          "base_uri": "https://localhost:8080/",
          "height": 299
        },
        "outputId": "42b47374-2ef5-4948-8543-69d4e21cf9a9"
      },
      "source": [
        "df['Year'].plot.hist()\n",
        "plt.xlabel('Car Year', fontsize=12)"
      ],
      "execution_count": 303,
      "outputs": [
        {
          "output_type": "execute_result",
          "data": {
            "text/plain": [
              "Text(0.5, 0, 'Car Year')"
            ]
          },
          "metadata": {
            "tags": []
          },
          "execution_count": 303
        },
        {
          "output_type": "display_data",
          "data": {
            "image/png": "[encoded data removed]",
            "text/plain": [
              "<Figure size 432x288 with 1 Axes>"
            ]
          },
          "metadata": {
            "tags": [],
            "needs_background": "light"
          }
        }
      ]
    },
    {
      "cell_type": "code",
      "metadata": {
        "id": "v5rxWCVIBDvu",
        "colab_type": "code",
        "colab": {
          "base_uri": "https://localhost:8080/",
          "height": 301
        },
        "outputId": "ac627479-72a1-436f-fe56-7ae281fb55db"
      },
      "source": [
        "df['Popularity'].plot.hist()\n",
        "plt.xlabel('Popularity of the Car', fontsize=12)"
      ],
      "execution_count": 304,
      "outputs": [
        {
          "output_type": "execute_result",
          "data": {
            "text/plain": [
              "Text(0.5, 0, 'Popularity of the Car')"
            ]
          },
          "metadata": {
            "tags": []
          },
          "execution_count": 304
        },
        {
          "output_type": "display_data",
          "data": {
            "image/png": "[encoded data removed]",
            "text/plain": [
              "<Figure size 432x288 with 1 Axes>"
            ]
          },
          "metadata": {
            "tags": [],
            "needs_background": "light"
          }
        }
      ]
    },
    {
      "cell_type": "markdown",
      "metadata": {
        "id": "lRoXi06rI80U",
        "colab_type": "text"
      },
      "source": [
        "**8.3 Scatterplot**"
      ]
    },
    {
      "cell_type": "code",
      "metadata": {
        "id": "ENTjHQZ5KNOl",
        "colab_type": "code",
        "colab": {
          "base_uri": "https://localhost:8080/",
          "height": 336
        },
        "outputId": "35a88aec-3d87-4f01-a8c3-b315d3024bd9"
      },
      "source": [
        "#Scatterplot between HP and Price:-\n",
        "fig, ax=plt.subplots(figsize=(10,5))\n",
        "ax.scatter(df['HP'],df['Price'])\n",
        "plt.title('Scatterplot between HP and Price')\n",
        "ax.set_xlabel=('HP')\n",
        "ax.st_ylabel=('Price')\n",
        "plt.show()"
      ],
      "execution_count": 305,
      "outputs": [
        {
          "output_type": "display_data",
          "data": {
            "image/png": "[encoded data removed]",
            "text/plain": [
              "<Figure size 720x360 with 1 Axes>"
            ]
          },
          "metadata": {
            "tags": [],
            "needs_background": "light"
          }
        }
      ]
    },
    {
      "cell_type": "code",
      "metadata": {
        "id": "IYETTrtqKr4V",
        "colab_type": "code",
        "colab": {
          "base_uri": "https://localhost:8080/",
          "height": 336
        },
        "outputId": "51cd5864-521f-4845-9c8a-c487638b173f"
      },
      "source": [
        "#Scatterplot between Price and Popularity:-\n",
        "fig, ax=plt.subplots(figsize=(10,5))\n",
        "ax.scatter(df['Popularity'],df['Price'])\n",
        "plt.title('Scatterplot between Price and Popularity')\n",
        "ax.set_xlabel=('Popularity')\n",
        "ax.st_ylabel=('Price')\n",
        "plt.show()"
      ],
      "execution_count": 306,
      "outputs": [
        {
          "output_type": "display_data",
          "data": {
            "image/png": "[encoded data removed]",
            "text/plain": [
              "<Figure size 720x360 with 1 Axes>"
            ]
          },
          "metadata": {
            "tags": [],
            "needs_background": "light"
          }
        }
      ]
    },
    {
      "cell_type": "code",
      "metadata": {
        "id": "L0hVlwJWK8Yn",
        "colab_type": "code",
        "colab": {
          "base_uri": "https://localhost:8080/",
          "height": 336
        },
        "outputId": "9171e10c-5ec3-4507-af9a-8558b27b03bb"
      },
      "source": [
        "#Scatterplot between Price and Cylinders:-\n",
        "fig, ax=plt.subplots(figsize=(10,5))\n",
        "ax.scatter(df['Cylinders'],df['Price'])\n",
        "plt.title('Scatterplot between Price and cylinders')\n",
        "ax.set_xlabel=('Cylinders')\n",
        "ax.st_ylabel=('Price')\n",
        "plt.show()"
      ],
      "execution_count": 307,
      "outputs": [
        {
          "output_type": "display_data",
          "data": {
            "image/png": "[encoded data removed]",
            "text/plain": [
              "<Figure size 720x360 with 1 Axes>"
            ]
          },
          "metadata": {
            "tags": [],
            "needs_background": "light"
          }
        }
      ]
    },
    {
      "cell_type": "code",
      "metadata": {
        "id": "fmUPdeQrLISC",
        "colab_type": "code",
        "colab": {
          "base_uri": "https://localhost:8080/",
          "height": 336
        },
        "outputId": "3b3a0eab-9803-4cfd-eab7-c3799f69f68f"
      },
      "source": [
        "#Scatterplot between MPG-C and Price\n",
        "fig, ax=plt.subplots(figsize=(10,5))\n",
        "ax.scatter(df['MPG-C'],df['Price'])\n",
        "plt.title('Scatterplot between MPG-C and Price')\n",
        "ax.set_xlabel=('MPG-C')\n",
        "ax.st_ylabel=('Price')\n",
        "plt.show()"
      ],
      "execution_count": 308,
      "outputs": [
        {
          "output_type": "display_data",
          "data": {
            "image/png": "[encoded data removed]",
            "text/plain": [
              "<Figure size 720x360 with 1 Axes>"
            ]
          },
          "metadata": {
            "tags": [],
            "needs_background": "light"
          }
        }
      ]
    },
    {
      "cell_type": "code",
      "metadata": {
        "id": "hv7ka6GCLRZz",
        "colab_type": "code",
        "colab": {
          "base_uri": "https://localhost:8080/",
          "height": 336
        },
        "outputId": "4b9b4c3c-a877-429c-e381-9ee43dad1fd1"
      },
      "source": [
        "#Scatterplot between Price and Cylinders:-\n",
        "fig, ax=plt.subplots(figsize=(10,5))\n",
        "ax.scatter(df['Cylinders'],df['Price'])\n",
        "plt.title('Scatterplot between Price and Cylinders')\n",
        "ax.set_xlabel=('Cylinders')\n",
        "ax.st_ylabel=('Price')\n",
        "plt.show()"
      ],
      "execution_count": 309,
      "outputs": [
        {
          "output_type": "display_data",
          "data": {
            "image/png": "[encoded data removed]",
            "text/plain": [
              "<Figure size 720x360 with 1 Axes>"
            ]
          },
          "metadata": {
            "tags": [],
            "needs_background": "light"
          }
        }
      ]
    },
    {
      "cell_type": "code",
      "metadata": {
        "id": "lAsVXZh6NqdO",
        "colab_type": "code",
        "colab": {
          "base_uri": "https://localhost:8080/",
          "height": 336
        },
        "outputId": "487c158f-46d2-4bc0-971c-7138a1762420"
      },
      "source": [
        "#Scatterplot between Year and Price:-\n",
        "fig, ax=plt.subplots(figsize=(10,5))\n",
        "ax.scatter(df['Year'],df['Price'])\n",
        "plt.title('Scatterplot between Year and Price')\n",
        "ax.set_xlabel=('Year')\n",
        "ax.st_ylabel=('Price')\n",
        "plt.show()"
      ],
      "execution_count": 310,
      "outputs": [
        {
          "output_type": "display_data",
          "data": {
            "image/png": "[encoded data removed]",
            "text/plain": [
              "<Figure size 720x360 with 1 Axes>"
            ]
          },
          "metadata": {
            "tags": [],
            "needs_background": "light"
          }
        }
      ]
    },
    {
      "cell_type": "markdown",
      "metadata": {
        "id": "xuYS_NLZU7rQ",
        "colab_type": "text"
      },
      "source": [
        "**Scatter3D Plotting**"
      ]
    },
    {
      "cell_type": "markdown",
      "metadata": {
        "id": "eUkjgeibU3FL",
        "colab_type": "text"
      },
      "source": [
        "Scatter3D() the function of the matplotlib library which accepts a data sets of X, Y and Z to create the plot while the rest of the attributes of the function are the same as that of two dimensional scatter plot."
      ]
    },
    {
      "cell_type": "code",
      "metadata": {
        "id": "kvpkNGCwUcso",
        "colab_type": "code",
        "colab": {
          "base_uri": "https://localhost:8080/",
          "height": 542
        },
        "outputId": "0bc742eb-4379-4fb4-924e-3979d460a1ee"
      },
      "source": [
        "import plotly.express as px\n",
        "fig=px.scatter_3d(df,x='MPG-H', y='MPG-C', z='Price')\n",
        "fig.show()"
      ],
      "execution_count": 311,
      "outputs": [
        {
          "output_type": "display_data",
          "data": {
            "text/html": [
              "<html>\n",
              "<head><meta charset=\"utf-8\" /></head>\n",
              "<body>\n",
              "    <div>\n",
              "            <script src=\"https://cdnjs.cloudflare.com/ajax/libs/mathjax/2.7.5/MathJax.js?config=TeX-AMS-MML_SVG\"></script><script type=\"text/javascript\">if (window.MathJax) {MathJax.Hub.Config({SVG: {font: \"STIX-Web\"}});}</script>\n",
              "                <script type=\"text/javascript\">window.PlotlyConfig = {MathJaxConfig: 'local'};</script>\n",
              "        <script src=\"https://cdn.plot.ly/plotly-latest.min.js\"></script>    \n",
              "            <div id=\"4ccee217-4616-45c9-b505-f956c67ebe71\" class=\"plotly-graph-div\" style=\"height:525px; width:100%;\"></div>\n",
              "            <script type=\"text/javascript\">\n",
              "                \n",
              "                    window.PLOTLYENV=window.PLOTLYENV || {};\n",
              "                    \n",
              "                if (document.getElementById(\"4ccee217-4616-45c9-b505-f956c67ebe71\")) {\n",
              "                    Plotly.newPlot(\n",
              "                        '4ccee217-4616-45c9-b505-f956c67ebe71',\n",
              "                        [{\"hoverlabel\": {\"namelength\": 0}, \"hovertemplate\": \"MPG-H=%{x}<br>MPG-C=%{y}<br>Price=%{z}\", \"legendgroup\": \"\", \"marker\": {\"color\": \"#636efa\", \"symbol\": \"circle\"}, \"mode\": \"markers\", \"name\": \"\", \"scene\": \"scene\", \"showlegend\": false, \"type\": \"scatter3d\", \"x\": [26, 28, 28, 28, 28, 28, 26, 28, 28, 27, 28, 28, 28, 25, 28, 21, 22, 22, 22, 21, 35, 35, 35, 35, 34, 31, 35, 34, 31, 34, 30, 30, 31, 32, 32, 32, 34, 35, 33, 33, 36, 36, 29, 36, 36, 29, 36, 36, 29, 29, 36, 36, 36, 36, 28, 28, 36, 36, 36, 28, 36, 36, 36, 29, 29, 28, 26, 26, 26, 26, 26, 25, 25, 25, 35, 35, 34, 34, 34, 34, 35, 35, 34, 34, 35, 35, 30, 34, 30, 30, 33, 33, 33, 32, 35, 30, 36, 40, 33, 34, 34, 34, 34, 36, 35, 40, 33, 34, 34, 35, 33, 40, 33, 31, 32, 40, 23, 22, 22, 22, 22, 23, 23, 22, 22, 27, 31, 31, 27, 31, 31, 27, 27, 27, 31, 27, 31, 27, 27, 31, 31, 31, 31, 27, 27, 27, 27, 27, 30, 30, 27, 30, 30, 27, 30, 24, 24, 25, 25, 25, 25, 22, 22, 22, 22, 22, 22, 22, 22, 22, 22, 22, 22, 33, 23, 23, 24, 24, 25, 25, 24, 24, 25, 24, 24, 25, 25, 23, 24, 24, 23, 24, 23, 24, 25, 24, 25, 25, 25, 24, 25, 23, 24, 24, 23, 23, 24, 23, 26, 24, 26, 25, 26, 26, 26, 25, 26, 26, 25, 24, 26, 26, 26, 26, 26, 25, 24, 26, 26, 26, 26, 26, 24, 26, 26, 25, 26, 25, 26, 26, 26, 26, 26, 26, 26, 26, 26, 26, 24, 26, 24, 26, 25, 25, 26, 25, 26, 26, 26, 37, 39, 41, 41, 41, 37, 37, 39, 35, 40, 41, 40, 40, 40, 40, 41, 35, 41, 40, 37, 41, 41, 41, 41, 37, 40, 40, 41, 40, 41, 37, 37, 41, 40, 40, 40, 39, 41, 35, 39, 37, 37, 34, 36, 37, 35, 33, 37, 35, 37, 37, 33, 37, 32, 31, 34, 30, 31, 34, 32, 31, 33, 34, 29, 32, 30, 31, 33, 34, 34, 30, 35, 29, 34, 31, 31, 34, 32, 31, 33, 34, 30, 29, 32, 34, 34, 34, 34, 34, 23, 23, 22, 22, 22, 22, 23, 22, 21, 21, 21, 22, 22, 21, 22, 21, 21, 22, 21, 21, 21, 22, 21, 21, 21, 22, 28, 24, 26, 25, 26, 24, 28, 26, 27, 24, 25, 29, 38, 33, 37, 25, 34, 31, 38, 29, 31, 34, 34, 25, 25, 37, 34, 40, 34, 34, 34, 34, 40, 34, 40, 40, 40, 34, 40, 40, 40, 34, 40, 40, 40, 34, 40, 40, 33, 33, 33, 33, 33, 33, 33, 33, 30, 33, 33, 33, 33, 30, 33, 33, 30, 30, 30, 30, 31, 30, 31, 31, 30, 34, 31, 30, 29, 30, 29, 29, 30, 33, 28, 28, 28, 28, 28, 28, 28, 28, 28, 28, 28, 32, 25, 25, 29, 25, 25, 25, 25, 29, 25, 29, 25, 38, 38, 37, 37, 40, 38, 38, 37, 38, 37, 35, 34, 34, 35, 35, 29, 28, 26, 22, 19, 19, 24, 24, 24, 24, 24, 24, 26, 26, 24, 24, 24, 24, 24, 24, 28, 32, 24, 27, 25, 26, 33, 33, 33, 30, 33, 33, 28, 28, 28, 30, 29, 29, 29, 30, 29, 29, 33, 28, 27, 24, 27, 24, 29, 27, 24, 29, 27, 28, 28, 27, 27, 27, 27, 31, 31, 29, 27, 27, 28, 27, 27, 31, 27, 27, 29, 31, 27, 28, 27, 27, 25, 23, 25, 23, 22, 27, 27, 27, 27, 27, 27, 27, 33, 27, 28, 27, 20, 19, 19, 20, 16, 16, 20, 20, 25, 24, 25, 25, 24, 26, 26, 26, 26, 25, 26, 23, 26, 23, 26, 23, 26, 26, 23, 26, 26, 25, 23, 26, 25, 25, 24, 25, 24, 22, 23, 17, 17, 22, 22, 24, 24, 22, 22, 22, 24, 22, 24, 23, 23, 24, 24, 24, 24, 24, 24, 24, 24, 33, 35, 33, 33, 35, 33, 32, 33, 35, 32, 32, 33, 33, 32, 33, 33, 35, 35, 33, 35, 32, 33, 32, 33, 33, 33, 35, 32, 35, 35, 35, 34, 35, 34, 34, 34, 35, 34, 34, 35, 28, 28, 28, 31, 31, 32, 32, 32, 32, 32, 32, 31, 32, 31, 31, 31, 31, 32, 33, 37, 31, 31, 33, 33, 31, 37, 37, 31, 31, 31, 29, 29, 32, 32, 32, 21, 22, 38, 29, 33, 27, 33, 27, 29, 38, 32, 35, 35, 38, 30, 30, 38, 32, 31, 31, 31, 29, 32, 34, 28, 28, 38, 38, 38, 30, 35, 30, 29, 29, 22, 22, 24, 24, 23, 24, 23, 23, 24, 23, 23, 24, 22, 22, 22, 22, 22, 22, 22, 22, 22, 22, 22, 26, 25, 26, 26, 25, 25, 25, 26, 25, 25, 25, 37, 38, 37, 37, 38, 38, 38, 38, 37, 37, 38, 37, 37, 37, 37, 38, 38, 38, 25, 26, 25, 25, 27, 27, 27, 27, 27, 26, 26, 27, 28, 34, 32, 34, 35, 36, 34, 28, 35, 34, 35, 36, 35, 34, 32, 34, 36, 34, 35, 34, 36, 34, 37, 35, 35, 34, 37, 34, 35, 35, 34, 37, 35, 34, 37, 34, 35, 35, 34, 35, 37, 28, 32, 32, 34, 32, 37, 32, 34, 32, 33, 32, 33, 34, 36, 36, 36, 32, 33, 32, 28, 34, 34, 32, 34, 36, 32, 34, 36, 36, 32, 32, 34, 30, 30, 29, 29, 27, 30, 30, 30, 26, 28, 28, 28, 28, 26, 28, 26, 28, 28, 26, 26, 28, 26, 26, 28, 28, 28, 26, 28, 28, 26, 26, 28, 28, 28, 28, 26, 26, 28, 28, 27, 27, 30, 27, 30, 30, 30, 27, 27, 30, 27, 30, 27, 27, 30, 30, 27, 31, 27, 31, 31, 31, 27, 27, 21, 20, 19, 20, 21, 21, 19, 20, 27, 27, 27, 28, 28, 28, 28, 28, 38, 38, 32, 38, 32, 32, 32, 38, 32, 32, 39, 39, 37, 39, 39, 32, 32, 39, 39, 32, 39, 32, 37, 39, 24, 24, 24, 19, 18, 19, 18, 18, 19, 19, 18, 18, 18, 19, 19, 19, 18, 19, 19, 18, 18, 19, 18, 17, 17, 19, 17, 22, 18, 19, 21, 18, 18, 19, 20, 18, 16, 19, 16, 19, 20, 16, 28, 26, 31, 29, 29, 26, 28, 31, 29, 26, 28, 31, 31, 29, 31, 31, 30, 30, 31, 30, 30, 28, 30, 28, 31, 28, 30, 30, 30, 31, 30, 30, 31, 30, 27, 23, 23, 23, 23, 28, 30, 33, 30, 28, 28, 28, 28, 28, 26, 26, 28, 30, 30, 33, 26, 30, 31, 30, 31, 28, 31, 30, 30, 32, 31, 28, 32, 30, 30, 30, 28, 30, 30, 30, 27, 31, 30, 31, 23, 25, 25, 24, 24, 21, 21, 21, 21, 21, 21, 21, 21, 21, 21, 21, 21, 21, 21, 21, 31, 31, 31, 31, 31, 31, 31, 31, 31, 31, 30, 30, 30, 30, 30, 29, 31, 29, 30, 29, 29, 31, 29, 29, 31, 34, 34, 34, 34, 34, 34, 35, 35, 35, 35, 35, 35, 35, 35, 35, 35, 35, 35, 17, 17, 17, 17, 16, 17, 17, 16, 17, 16, 28, 29, 29, 28, 28, 28, 22, 24, 22, 24, 22, 24, 24, 19, 20, 21, 24, 20, 24, 20, 20, 24, 19, 19, 24, 19, 20, 24, 20, 21, 20, 21, 20, 24, 21, 20, 24, 20, 24, 24, 24, 21, 20, 21, 19, 24, 21, 21, 19, 19, 21, 20, 17, 21, 26, 21, 21, 19, 17, 19, 26, 26, 19, 19, 21, 21, 21, 24, 24, 19, 20, 21, 26, 18, 26, 21, 21, 21, 25, 22, 21, 25, 21, 25, 23, 21, 21, 25, 23, 26, 21, 21, 25, 41, 41, 32, 41, 41, 41, 40, 40, 40, 40, 40, 40, 32, 40, 40, 41, 33, 41, 41, 41, 41, 41, 41, 41, 34, 33, 33, 31, 33, 29, 33, 33, 27, 31, 33, 27, 33, 27, 21, 21, 21, 21, 21, 21, 15, 20, 18, 21, 17, 20, 19, 17, 18, 19, 19, 17, 20, 20, 18, 27, 27, 25, 27, 22, 27, 22, 27, 27, 22, 21, 21, 21, 20, 22, 20, 20, 21, 28, 30, 26, 28, 30, 26, 28, 30, 19, 20, 20, 20, 19, 19, 19, 34, 30, 34, 30, 30, 30, 30, 34, 30, 33, 29, 29, 29, 31, 27, 27, 19, 34, 28, 31, 29, 34, 34, 25, 31, 31, 29, 34, 31, 25, 34, 34, 31, 34, 34, 29, 23, 34, 31, 30, 31, 24, 31, 31, 29, 31, 29, 29, 29, 29, 29, 29, 20, 20, 22, 21, 21, 21, 28, 28, 28, 22, 22, 22, 28, 28, 28, 26, 28, 26, 26, 28, 27, 27, 28, 28, 28, 27, 28, 28, 28, 28, 28, 28, 28, 28, 31, 29, 31, 27, 27, 31, 31, 29, 27, 27, 32, 29, 32, 32, 32, 27, 28, 28, 24, 24, 24, 24, 28, 28, 28, 30, 25, 30, 25, 30, 30, 30, 25, 25, 25, 25, 30, 31, 25, 25, 30, 31, 30, 30, 30, 26, 27, 26, 30, 27, 30, 30, 27, 30, 31, 26, 26, 31, 31, 27, 31, 27, 26, 27, 31, 26, 31, 31, 27, 27, 26, 31, 27, 31, 26, 31, 35, 35, 35, 35, 35, 33, 33, 25, 23, 25, 21, 21, 25, 25, 23, 21, 25, 23, 23, 23, 23, 27, 25, 24, 26, 27, 26, 26, 27, 27, 25, 24, 27, 24, 26, 25, 26, 24, 26, 24, 24, 24, 24, 26, 26, 25, 26, 27, 27, 26, 26, 25, 26, 24, 27, 23, 24, 23, 24, 24, 28, 28, 28, 28, 28, 28, 28, 28, 28, 28, 28, 28, 24, 24, 24, 24, 24, 24, 24, 24, 24, 27, 27, 27, 27, 27, 23, 23, 23, 22, 30, 30, 30, 30, 30, 30, 33, 33, 33, 33, 33, 33, 33, 33, 33, 33, 33, 33, 33, 33, 24, 29, 24, 24, 29, 24, 24, 26, 30, 28, 28, 26, 30, 28, 26, 30, 25, 25, 33, 29, 27, 30, 30, 28, 28, 30, 33, 30, 33, 30, 30, 30, 28, 33, 26, 27, 27, 23, 23, 23, 23, 30, 23, 23, 23, 30, 23, 23, 30, 23, 23, 23, 30, 23, 23, 23, 23, 23, 23, 23, 30, 23, 23, 30, 23, 23, 23, 25, 25, 25, 31, 25, 27, 27, 31, 31, 31, 25, 25, 25, 31, 25, 31, 30, 25, 25, 27, 30, 25, 25, 27, 25, 17, 17, 18, 18, 18, 26, 29, 26, 25, 25, 24, 26, 26, 26, 26, 26, 26, 37, 32, 27, 35, 27, 33, 27, 35, 33, 39, 41, 39, 31, 31, 36, 31, 39, 31, 39, 31, 38, 39, 38, 38, 36, 36, 31, 38, 38, 31, 39, 41, 41, 42, 41, 40, 41, 42, 41, 41, 38, 41, 42, 42, 41, 41, 39, 39, 40, 40, 40, 36, 40, 40, 42, 40, 40, 39, 40, 40, 40, 39, 40, 39, 41, 18, 18, 20, 18, 19, 18, 20, 20, 17, 20, 18, 20, 19, 20, 17, 18, 18, 20, 20, 20, 18, 20, 20, 18, 18, 18, 18, 20, 19, 17, 19, 17, 21, 19, 21, 18, 21, 19, 21, 21, 17, 21, 19, 19, 18, 19, 21, 21, 21, 19, 21, 19, 19, 21, 17, 17, 17, 17, 17, 17, 18, 18, 18, 18, 38, 32, 31, 38, 31, 33, 38, 32, 30, 27, 27, 27, 27, 26, 27, 27, 27, 26, 31, 31, 25, 25, 22, 22, 25, 22, 21, 25, 25, 21, 22, 25, 26, 30, 28, 24, 30, 26, 26, 26, 33, 33, 30, 33, 32, 33, 32, 35, 35, 30, 35, 30, 37, 37, 35, 37, 30, 37, 37, 37, 37, 37, 20, 23, 24, 24, 21, 23, 23, 25, 25, 23, 25, 25, 23, 25, 20, 21, 25, 27, 26, 26, 27, 27, 25, 24, 24, 26, 24, 26, 24, 24, 27, 26, 27, 24, 25, 24, 24, 24, 24, 27, 24, 25, 26, 25, 26, 26, 27, 25, 27, 24, 27, 26, 27, 26, 27, 25, 22, 24, 26, 24, 27, 25, 25, 27, 25, 25, 23, 23, 23, 23, 23, 26, 24, 24, 26, 35, 36, 42, 38, 40, 37, 36, 37, 37, 38, 37, 37, 40, 38, 42, 38, 37, 37, 37, 37, 38, 40, 37, 40, 36, 38, 37, 35, 40, 36, 35, 40, 35, 36, 36, 35, 22, 28, 29, 29, 29, 29, 29, 29, 29, 29, 29, 29, 29, 29, 29, 29, 29, 29, 29, 29, 29, 29, 29, 29, 29, 29, 29, 29, 29, 29, 29, 25, 25, 25, 25, 25, 25, 25, 25, 25, 25, 25, 25, 25, 25, 25, 25, 25, 30, 31, 30, 31, 30, 30, 30, 31, 31, 31, 33, 34, 33, 34, 33, 33, 33, 34, 34, 34, 31, 31, 33, 31, 33, 33, 31, 33, 33, 31, 33, 31, 38, 38, 38, 38, 38, 38, 38, 38, 38, 23, 23, 22, 23, 22, 23, 23, 23, 23, 23, 23, 23, 30, 28, 30, 31, 30, 31, 28, 31, 30, 31, 31, 31, 30, 28, 28, 30, 31, 28, 30, 30, 31, 28, 31, 30, 34, 31, 34, 34, 31, 34, 30, 33, 33, 30, 42, 36, 38, 38, 38, 39, 36, 38, 35, 36, 38, 42, 36, 38, 38, 35, 38, 39, 42, 41, 41, 42, 41, 42, 38, 37, 40, 39, 39, 39, 39, 40, 37, 31, 26, 27, 27, 27, 31, 26, 26, 27, 30, 27, 30, 26, 27, 27, 27, 27, 27, 27, 27, 27, 27, 27, 27, 27, 27, 27, 27, 27, 27, 27, 27, 27, 26, 26, 26, 26, 27, 26, 26, 26, 26, 26, 26, 26, 26, 26, 26, 26, 26, 26, 26, 26, 26, 26, 30, 28, 28, 26, 29, 24, 28, 26, 30, 30, 28, 30, 29, 29, 24, 30, 31, 31, 24, 31, 24, 29, 28, 30, 30, 29, 28, 29, 31, 28, 29, 27, 30, 24, 29, 27, 30, 30, 29, 24, 30, 30, 31, 30, 31, 30, 31, 31, 31, 30, 31, 28, 26, 26, 26, 26, 26, 26, 26, 26, 27, 27, 26, 26, 35, 35, 32, 32, 32, 35, 34, 34, 34, 32, 32, 32, 32, 31, 32, 30, 30, 35, 32, 32, 30, 30, 35, 32, 32, 31, 30, 30, 30, 33, 30, 30, 33, 30, 33, 33, 30, 25, 23, 25, 23, 28, 28, 21, 24, 28, 21, 28, 28, 24, 24, 24, 27, 27, 21, 21, 27, 22, 24, 24, 22, 24, 22, 24, 22, 22, 22, 24, 24, 28, 27, 27, 28, 28, 27, 27, 20, 19, 19, 19, 18, 18, 20, 20, 19, 19, 18, 19, 20, 20, 18, 19, 20, 20, 20, 19, 19, 18, 20, 20, 20, 18, 20, 18, 18, 19, 18, 18, 20, 20, 20, 18, 18, 20, 18, 19, 20, 36, 35, 35, 41, 33, 33, 35, 41, 35, 36, 39, 36, 35, 36, 35, 36, 36, 39, 35, 35, 35, 15, 15, 14, 14, 25, 25, 25, 24, 24, 24, 22, 22, 22, 24, 23, 23, 23, 23, 23, 23, 23, 23, 23, 16, 16, 16, 16, 16, 16, 26, 26, 26, 26, 26, 26, 25, 25, 25, 14, 14, 14, 14, 14, 14, 23, 23, 23, 22, 23, 23, 23, 23, 23, 22, 23, 23, 23, 23, 25, 22, 24, 25, 24, 24, 23, 25, 22, 25, 27, 25, 25, 22, 27, 27, 27, 25, 26, 26, 25, 22, 26, 22, 26, 25, 25, 25, 28, 29, 29, 26, 28, 26, 29, 29, 29, 28, 29, 26, 29, 26, 28, 29, 28, 29, 26, 25, 21, 21, 38, 36, 38, 36, 38, 36, 36, 38, 38, 36, 36, 38, 26, 24, 24, 27, 27, 24, 27, 27, 28, 24, 27, 25, 28, 28, 28, 25, 28, 28, 25, 26, 27, 27, 27, 27, 27, 37, 37, 38, 37, 37, 38, 34, 34, 33, 34, 33, 33, 32, 32, 30, 30, 31, 31, 31, 31, 30, 30, 30, 31, 31, 30, 35, 38, 37, 35, 34, 35, 38, 35, 34, 37, 38, 36, 33, 30, 38, 25, 25, 25, 25, 25, 25, 25, 23, 25, 23, 24, 25, 25, 24, 24, 25, 25, 24, 25, 25, 24, 25, 24, 25, 24, 24, 25, 25, 27, 26, 27, 27, 26, 27, 26, 26, 22, 24, 24, 22, 24, 22, 22, 22, 22, 22, 22, 22, 22, 22, 22, 30, 30, 30, 33, 33, 33, 33, 30, 30, 30, 33, 33, 32, 33, 34, 30, 33, 30, 30, 33, 30, 34, 31, 30, 33, 33, 30, 33, 21, 19, 21, 21, 21, 19, 23, 23, 23, 23, 23, 26, 26, 28, 26, 29, 26, 28, 29, 18, 18, 18, 18, 18, 17, 19, 17, 18, 18, 18, 18, 18, 19, 19, 19, 17, 18, 18, 17, 20, 20, 20, 20, 20, 19, 20, 20, 19, 20, 20, 20, 20, 21, 20, 20, 20, 20, 30, 30, 30, 30, 30, 30, 30, 22, 19, 20, 19, 19, 23, 20, 20, 19, 23, 19, 20, 19, 23, 19, 22, 23, 23, 19, 20, 22, 19, 19, 29, 32, 29, 32, 32, 29, 32, 32, 29, 32, 29, 32, 29, 29, 32, 32, 32, 28, 32, 32, 28, 32, 28, 23, 23, 23, 23, 23, 23, 24, 27, 27, 27, 27, 27, 31, 31, 31, 30, 21, 22, 22, 22, 18, 18, 18, 18, 18, 18, 18, 18, 18, 23, 23, 23, 23, 21, 22, 21, 21, 21, 21, 22, 20, 22, 32, 33, 30, 30, 30, 30, 30, 30, 32, 30, 32, 30, 30, 32, 32, 31, 32, 32, 30, 32, 30, 31, 30, 31, 30, 30, 30, 32, 30, 18, 18, 18, 18, 18, 18, 27, 26, 26, 26, 26, 26, 24, 23, 23, 24, 23, 23, 24, 24, 24, 23, 23, 24, 33, 26, 26, 26, 26, 26, 26, 24, 24, 24, 24, 24, 24, 24, 24, 25, 24, 25, 24, 22, 24, 27, 25, 25, 21, 24, 17, 19, 17, 17, 17, 17, 17, 17, 17, 17, 17, 17, 17, 16, 16, 16, 16, 16, 16, 28, 23, 23, 23, 28, 23, 28, 23, 28, 23, 23, 23, 23, 29, 28, 37, 37, 37, 37, 36, 36, 20, 18, 20, 20, 20, 18, 20, 20, 18, 23, 23, 24, 27, 28, 27, 28, 28, 27, 28, 27, 27, 27, 27, 28, 27, 28, 28, 28, 28, 28, 28, 27, 27, 27, 27, 28, 28, 27, 27, 27, 28, 28, 28, 27, 28, 27, 28, 32, 29, 32, 32, 29, 28, 32, 32, 29, 32, 28, 29, 28, 32, 32, 27, 32, 27, 28, 32, 32, 32, 28, 34, 36, 33, 29, 29, 39, 37, 33, 29, 30, 29, 37, 29, 30, 33, 33, 34, 39, 29, 35, 38, 38, 33, 34, 34, 29, 30, 34, 30, 34, 30, 34, 34, 34, 30, 30, 30, 34, 30, 34, 19, 19, 19, 19, 19, 19, 19, 19, 19, 21, 23, 22, 21, 21, 21, 22, 21, 23, 21, 23, 21, 22, 22, 21, 23, 21, 22, 21, 22, 22, 21, 21, 22, 21, 22, 21, 21, 21, 22, 21, 22, 21, 22, 21, 21, 22, 21, 21, 21, 22, 22, 22, 22, 21, 21, 23, 23, 21, 21, 22, 21, 23, 23, 23, 21, 21, 23, 21, 21, 23, 22, 23, 23, 21, 21, 21, 22, 21, 21, 21, 23, 22, 23, 23, 23, 20, 22, 23, 21, 23, 21, 17, 17, 17, 20, 20, 21, 23, 20, 23, 20, 21, 21, 22, 24, 20, 22, 24, 25, 25, 24, 25, 25, 25, 24, 27, 25, 25, 25, 27, 27, 27, 27, 25, 25, 27, 25, 25, 25, 27, 27, 25, 25, 27, 27, 27, 25, 29, 25, 27, 29, 25, 25, 27, 29, 25, 25, 25, 27, 27, 27, 29, 25, 25, 27, 29, 29, 28, 29, 28, 29, 23, 29, 22, 24, 23, 23, 24, 23, 24, 23, 23, 24, 24, 25, 24, 23, 24, 25, 24, 25, 25, 27, 27, 25, 27, 25, 27, 27, 25, 25, 25, 27, 24, 26, 24, 26, 26, 25, 25, 25, 25, 25, 26, 24, 26, 34, 31, 31, 32, 33, 37, 35, 26, 26, 26, 26, 30, 30, 26, 26, 30, 26, 26, 26, 33, 26, 30, 30, 26, 26, 26, 26, 26, 30, 28, 23, 25, 24, 25, 24, 25, 20, 30, 30, 30, 30, 30, 30, 24, 27, 25, 27, 24, 27, 25, 24, 25, 24, 24, 24, 25, 25, 24, 24, 27, 23, 23, 29, 25, 25, 29, 23, 25, 24, 24, 24, 26, 19, 21, 26, 26, 21, 35, 32, 29, 29, 35, 32, 28, 33, 31, 28, 28, 28, 28, 23, 23, 22, 24, 29, 22, 23, 23, 22, 25, 24, 33, 33, 24, 25, 25, 25, 33, 22, 30, 30, 30, 30, 30, 34, 33, 34, 33, 34, 33, 33, 34, 33, 33, 33, 33, 34, 34, 34, 34, 33, 34, 33, 34, 33, 33, 34, 33, 33, 34, 33, 34, 34, 34, 33, 33, 33, 34, 34, 34, 34, 33, 34, 33, 32, 34, 34, 34, 32, 32, 32, 34, 34, 32, 30, 30, 30, 30, 31, 31, 30, 31, 31, 30, 42, 35, 36, 35, 36, 42, 42, 35, 35, 35, 35, 36, 34, 34, 35, 34, 37, 37, 37, 36, 36, 36, 36, 36, 36, 36, 36, 36, 37, 36, 37, 37, 36, 35, 35, 36, 36, 27, 27, 30, 27, 27, 27, 30, 33, 27, 27, 27, 27, 33, 27, 27, 27, 31, 25, 25, 25, 25, 25, 25, 25, 25, 25, 25, 25, 25, 25, 25, 25, 25, 26, 25, 28, 25, 26, 28, 28, 25, 25, 23, 26, 23, 23, 25, 23, 25, 23, 25, 26, 23, 25, 23, 23, 25, 26, 25, 23, 23, 24, 24, 22, 22, 22, 22, 23, 23, 30, 33, 32, 30, 23, 23, 27, 25, 29, 29, 26, 26, 29, 28, 26, 28, 27, 26, 26, 21, 22, 22, 22, 23, 23, 34, 34, 34, 24, 24, 24, 33, 31, 31, 33, 20, 19, 19, 20, 20, 20, 20, 18, 18, 18, 18, 18, 18, 18, 16, 18, 18, 16, 16, 18, 18, 18, 18, 16, 16, 18, 18, 16, 18, 30, 29, 32, 29, 32, 30, 32, 32, 29, 32, 32, 32, 32, 32, 28, 28, 28, 28, 28, 28, 24, 25, 24, 24, 24, 25, 24, 25, 25, 25, 25, 25, 24, 25, 24, 24, 24, 25, 25, 25, 24, 25, 35, 32, 35, 32, 32, 35, 34, 34, 34, 31, 34, 31, 34, 33, 31, 33, 25, 24, 25, 25, 24, 24, 24, 24, 24, 41, 31, 35, 35, 35, 36, 36, 36, 36, 36, 36, 35, 35, 35, 35, 35, 35, 30, 30, 30, 30, 30, 30, 30, 30, 30, 31, 29, 29, 31, 29, 29, 31, 28, 25, 25, 23, 23, 23, 25, 25, 25, 25, 25, 25, 23, 25, 23, 25, 23, 25, 25, 37, 36, 33, 37, 37, 37, 34, 34, 37, 36, 37, 34, 33, 37, 37, 37, 37, 37, 37, 34, 37, 37, 38, 37, 37, 38, 37, 38, 36, 36, 37, 35, 38, 35, 36, 37, 29, 29, 29, 28, 28, 29, 28, 28, 28, 28, 28, 28, 28, 28, 28, 28, 28, 28, 28, 28, 28, 28, 28, 28, 24, 26, 24, 25, 27, 25, 25, 27, 26, 26, 26, 26, 26, 26, 27, 27, 27, 33, 32, 30, 30, 30, 30, 27, 30, 27, 30, 30, 27, 27, 23, 23, 23, 26, 26, 27, 27, 27, 28, 26, 28, 26, 26, 28, 23, 23, 23, 22, 22, 22, 42, 39, 39, 39, 42, 42, 39, 42, 39, 39, 42, 42, 39, 39, 42, 42, 39, 42, 37, 34, 34, 34, 34, 34, 37, 39, 39, 39, 36, 39, 39, 37, 39, 39, 33, 38, 40, 38, 40, 35, 33, 16, 19, 19, 19, 19, 19, 19, 19, 19, 21, 20, 16, 18, 20, 20, 18, 21, 20, 18, 18, 20, 16, 18, 18, 20, 20, 18, 20, 18, 18, 20, 24, 24, 26, 26, 24, 26, 26, 26, 26, 24, 24, 24, 25, 24, 26, 26, 24, 25, 24, 25, 24, 25, 24, 24, 25, 24, 25, 32, 31, 29, 31, 32, 32, 31, 31, 31, 34, 34, 31, 31, 32, 31, 31, 29, 32, 31, 32, 31, 33, 29, 30, 30, 30, 30, 32, 32, 32, 33, 29, 24, 23, 23, 23, 26, 23, 26, 31, 30, 30, 29, 29, 29, 29, 30, 30, 29, 31, 30, 29, 30, 29, 29, 30, 31, 29, 31, 29, 30, 30, 30, 29, 29, 29, 29, 36, 28, 26, 28, 36, 28, 26, 28, 28, 26, 28, 28, 26, 28, 28, 31, 31, 29, 31, 31, 22, 23, 22, 23, 23, 23, 22, 29, 32, 32, 29, 29, 32, 34, 25, 31, 30, 29, 34, 35, 31, 34, 31, 31, 31, 31, 30, 30, 34, 33, 30, 23, 29, 26, 26, 26, 24, 26, 26, 36, 28, 36, 36, 36, 36, 36, 36, 36, 29, 36, 36, 36, 36, 28, 34, 34, 34, 34, 24, 23, 22, 24, 24, 22, 24, 24, 22, 23, 24, 27, 27, 27, 27, 27, 27, 20, 24, 24, 24, 26, 24, 24, 24, 24, 24, 24, 24, 24, 24, 17, 17, 17, 19, 19, 19, 19, 19, 19, 19, 19, 19, 19, 23, 23, 23, 23, 23, 23, 24, 23, 23, 24, 24, 23, 24, 23, 24, 23, 24, 22, 24, 24, 24, 22, 23, 24, 26, 27, 25, 25, 27, 22, 26, 26, 26, 26, 26, 26, 26, 26, 26, 26, 26, 26, 22, 26, 26, 26, 27, 27, 27, 23, 21, 21, 21, 21, 24, 24, 27, 27, 26, 14, 14, 16, 15, 15, 28, 20, 23, 23, 28, 22, 19, 24, 22, 24, 22, 26, 26, 23, 22, 25, 22, 25, 22, 24, 26, 26, 26, 26, 21, 20, 21, 20, 20, 21, 26, 26, 26, 26, 26, 26, 23, 25, 23, 23, 23, 23, 23, 23, 23, 25, 22, 23, 26, 22, 18, 22, 26, 23, 22, 18, 18, 22, 24, 22, 23, 26, 29, 30, 29, 32, 34, 34, 34, 34, 28, 28, 28, 28, 28, 24, 28, 28, 28, 22, 28, 36, 36, 30, 30, 36, 37, 33, 33, 37, 36, 36, 33, 36, 18, 16, 16, 16, 16, 16, 16, 17, 17, 16, 24, 24, 24, 24, 32, 29, 28, 26, 32, 26, 32, 29, 32, 28, 32, 26, 28, 29, 32, 26, 26, 30, 30, 30, 30, 30, 30, 30, 30, 30, 30, 25, 25, 25, 23, 23, 23, 23, 24, 24, 24, 27, 27, 23, 23, 25, 22, 22, 27, 27, 27, 28, 28, 28, 27, 28, 27, 27, 26, 27, 26, 26, 27, 26, 26, 26, 27, 26, 27, 27, 27, 26, 26, 27, 26, 26, 26, 27, 27, 27, 26, 27, 23, 24, 38, 38, 31, 23, 20, 23, 23, 23, 25, 25, 24, 25, 24, 24, 25, 25, 24, 24, 26, 32, 24, 23, 24, 32, 26, 23, 24, 29, 26, 29, 26, 29, 26, 26, 29, 29, 26, 29, 26, 25, 28, 25, 28, 28, 25, 28, 25, 28, 26, 25, 25, 28, 26, 24, 26, 24, 23, 25, 24, 21, 24, 21, 23, 26, 26, 26, 26, 26, 26, 26, 26, 26, 25, 23, 23, 25, 25, 23, 25, 23, 33, 33, 31, 31, 31, 33, 31, 33, 28, 31, 28, 31, 28, 31, 31, 28, 16, 23, 21, 24, 22, 24, 22, 24, 24, 24, 24, 22, 24, 24, 21, 23, 23, 23, 23, 21, 29, 28, 26, 26, 29, 26, 29, 26, 24, 29, 29, 20, 19, 17, 21, 17, 20, 19, 21, 19, 19, 20, 21, 17, 17, 21, 20, 19, 17, 17, 19, 18, 17, 17, 23, 23, 23, 23, 23, 23, 23, 23, 30, 29, 30, 29, 30, 29, 25, 26, 26, 25, 22, 22, 22, 28, 28, 28, 28, 28, 28, 28, 28, 28, 28, 30, 28, 28, 28, 28, 28, 31, 28, 31, 30, 28, 28, 28, 28, 28, 28, 28, 28, 26, 34, 34, 28, 28, 28, 28, 28, 28, 28, 28, 28, 28, 28, 28, 28, 28, 28, 28, 28, 28, 28, 28, 28, 28, 34, 36, 36, 36, 34, 34, 24, 31, 31, 24, 31, 20, 19, 22, 20, 22, 19, 20, 20, 20, 20, 22, 20, 21, 20, 21, 19, 20, 20, 27, 32, 32, 32, 29, 32, 32, 28, 32, 29, 32, 32, 28, 36, 36, 31, 31, 30, 24, 24, 24, 24, 26, 26, 27, 21, 22, 22, 21, 21, 22, 21, 20, 20, 21, 21, 21, 21, 21, 22, 21, 22, 22, 21, 21, 26, 26, 26, 26, 26, 26, 28, 28, 28, 28, 28, 28, 28, 27, 27, 28, 28, 28, 28, 28, 28, 28, 28, 28, 28, 28, 28, 28, 28, 28, 28, 28, 28, 31, 34, 34, 31, 34, 34, 34, 31, 31, 34, 32, 39, 35, 35, 32, 33, 33, 33, 33, 27, 33, 33, 33, 27, 33, 33, 33, 33, 33, 32, 32, 27, 32, 27, 32, 30, 28, 26, 26, 32, 30, 30, 32, 28, 28, 29, 27, 27, 27, 28, 28, 31, 29, 27, 28, 27, 29, 27, 30, 27, 28, 28, 29, 29, 31, 28, 31, 27, 31, 29, 31, 31, 29, 31, 27, 30, 29, 29, 30, 29, 30, 23, 22, 22, 22, 22, 22, 22, 22, 23, 22, 23, 22, 28, 28, 28, 28, 28, 25, 27, 26, 27, 26, 27, 33, 32, 34, 32, 42, 42, 42, 28, 28, 28, 34, 34, 34, 34, 34, 28, 18, 19, 19, 18, 19, 19, 19, 20, 20, 20, 19, 19, 19, 19, 20, 20, 19, 19, 19, 20, 27, 27, 26, 27, 26, 26, 26, 27, 27, 27, 26, 26, 27, 26, 27, 26, 27, 27, 26, 26, 26, 27, 27, 27, 27, 26, 26, 26, 21, 21, 21, 21, 21, 20, 17, 20, 25, 20, 17, 20, 17, 22, 17, 25, 20, 20, 17, 22, 17, 24, 25, 25, 25, 24, 24, 24, 24, 24, 25, 25, 25, 25, 24, 26, 26, 26, 27, 27, 26, 27, 26, 27, 26, 27, 26, 27, 27, 26, 27, 26, 27, 26, 26, 26, 27, 26, 26, 27, 27, 24, 24, 25, 25, 25, 25, 24, 20, 20, 19, 19, 20, 20, 19, 19, 19, 20, 19, 20, 34, 34, 37, 37, 37, 37, 28, 28, 28, 31, 31, 28, 28, 28, 28, 28, 28, 28, 28, 21, 21, 21, 21, 21, 24, 24, 26, 26, 26, 24, 24, 24, 29, 29, 28, 28, 29, 28, 29, 28, 28, 28, 28, 28, 28, 28, 27, 25, 22, 22, 22, 22, 27, 35, 29, 27, 29, 27, 35, 36, 36, 29, 31, 26, 26, 27, 26, 31, 28, 28, 34, 29, 31, 28, 31, 29, 26, 28, 26, 30, 31, 29, 27, 28, 28, 31, 27, 32, 26, 31, 30, 28, 28, 31, 26, 26, 28, 28, 30, 26, 31, 31, 31, 31, 26, 27, 26, 27, 24, 26, 26, 26, 24, 26, 25, 27, 25, 25, 27, 27, 25, 27, 25, 25, 26, 27, 28, 30, 27, 28, 28, 30, 24, 26, 34, 23, 24, 26, 26, 24, 23, 24, 23, 34, 24, 24, 23, 24, 24, 34, 23, 24, 26, 24, 26, 28, 28, 22, 22, 22, 28, 22, 28, 28, 22, 22, 28, 25, 25, 25, 25, 25, 25, 25, 27, 27, 27, 27, 27, 27, 27, 27, 18, 17, 17, 18, 19, 18, 24, 25, 25, 24, 24, 24, 24, 24, 17, 18, 18, 17, 20, 20, 28, 27, 28, 26, 27, 28, 28, 26, 26, 27, 24, 22, 24, 22, 24, 22, 20, 20, 20, 20, 19, 20, 20, 20, 20, 20, 19, 24, 19, 24, 21, 23, 24, 23, 20, 19, 20, 20, 20, 18, 19, 20, 18, 20, 20, 20, 20, 18, 20, 19, 20, 20, 20, 20, 20, 16, 16, 17, 15, 15, 17, 15, 14, 15, 15, 14, 15, 15, 15, 15, 15, 15, 19, 19, 16, 18, 19, 16, 17, 17, 17, 16, 19, 19, 16, 17, 17, 17, 17, 17, 19, 16, 16, 18, 18, 19, 20, 18, 18, 18, 20, 18, 19, 18, 19, 18, 19, 20, 20, 20, 18, 19, 18, 18, 18, 18, 18, 20, 19, 19, 19, 20, 19, 18, 20, 20, 20, 18, 18, 19, 18, 18, 18, 18, 17, 16, 17, 16, 18, 16, 16, 16, 16, 17, 17, 16, 15, 14, 15, 15, 15, 30, 30, 30, 30, 30, 30, 30, 30, 30, 30, 30, 30, 30, 30, 30, 30, 29, 29, 29, 28, 29, 28, 29, 29, 23, 23, 23, 29, 23, 29, 31, 29, 31, 29, 31, 29, 31, 29, 31, 31, 29, 31, 29, 29, 29, 28, 28, 30, 28, 28, 29, 30, 30, 28, 32, 32, 26, 26, 28, 26, 26, 28, 26, 28, 25, 25, 25, 27, 27, 28, 28, 29, 28, 28, 29, 29, 28, 29, 29, 28, 28, 27, 28, 28, 27, 28, 27, 27, 27, 28, 28, 30, 30, 30, 30, 27, 27, 27, 31, 27, 30, 29, 27, 29, 27, 29, 30, 27, 26, 27, 22, 24, 23, 21, 23, 23, 28, 28, 28, 28, 28, 28, 28, 28, 28, 28, 28, 28, 28, 28, 28, 21, 21, 21, 21, 21, 21, 21, 21, 21, 25, 25, 25, 26, 26, 26, 26, 26, 25, 25, 25, 25, 37, 37, 37, 37, 37, 37, 37, 37, 37, 37, 38, 37, 37, 37, 37, 36, 36, 36, 36, 36, 36, 26, 24, 25, 25, 22, 22, 24, 24, 24, 24, 31, 31, 31, 31, 31, 31, 32, 31, 32, 31, 30, 30, 23, 23, 24, 24, 24, 28, 27, 27, 28, 32, 32, 32, 33, 33, 33, 32, 33, 32, 32, 32, 33, 33, 33, 33, 32, 33, 32, 32, 33, 26, 25, 26, 25, 26, 26, 26, 26, 26, 26, 26, 27, 26, 27, 27, 23, 23, 23, 23, 25, 25, 25, 25, 25, 25, 25, 25, 25, 25, 25, 25, 25, 25, 20, 20, 23, 23, 23, 30, 30, 31, 31, 28, 31, 31, 31, 31, 28, 31, 31, 28, 31, 31, 21, 21, 21, 21, 21, 21, 24, 22, 23, 22, 23, 22, 25, 26, 26, 24, 26, 28, 26, 26, 27, 27, 26, 25, 25, 25, 25, 24, 24, 28, 28, 28, 30, 28, 28, 20, 23, 23, 16, 20, 25, 20, 20, 23, 25, 18, 20, 18, 18, 23, 20, 23, 20, 20, 20, 25, 17, 25, 25, 18, 23, 25, 17, 23, 25, 25, 17, 25, 25, 18, 24, 25, 25, 25, 25, 25, 25, 31, 31, 31, 31, 28, 28, 26, 28, 31, 27, 29, 30, 30, 30, 28, 26, 26, 28, 26, 26, 28, 28, 28, 26, 28, 26, 26, 26, 26, 28, 28, 26, 26, 26, 28, 30, 29, 35, 29, 28, 28, 37, 37, 35, 37, 33, 27, 31, 29, 29, 31, 38, 29, 38, 28, 33, 29, 37, 27, 27, 36, 36, 36, 31, 27, 27, 27, 27, 27, 24, 23, 26, 25, 25, 23, 24, 23, 26, 24, 26, 25, 29, 25, 28, 28, 38, 38, 37, 37, 23, 34, 31, 34, 31, 18, 21, 19, 18, 20, 18, 19, 16, 19, 16, 20, 16, 26, 26, 27, 25, 24, 27, 25, 27, 26, 28, 24, 27, 26, 27, 25, 24, 24, 25, 24, 25, 22, 23, 22, 23, 22, 25, 24, 23, 17, 17, 17, 19, 17, 17, 17, 17, 17, 17, 16, 16, 16, 16, 17, 17, 17, 17, 17, 17, 17, 17, 17, 17, 17, 16, 16, 16, 16, 16, 16, 22, 22, 22, 23, 23, 23, 23, 23, 23, 29, 30, 26, 30, 30, 30, 30, 24, 26, 30, 30, 26, 27, 30, 29, 30, 30, 27, 30, 26, 29, 30, 25, 24, 24, 22, 24, 24, 24, 22, 24, 25, 22, 24, 24, 25, 24, 39, 40, 39, 36, 39, 39, 38, 38, 36, 38, 40, 38, 37, 33, 37, 35, 37, 37, 32, 28, 28, 28, 28, 17, 17, 17, 17, 17, 17, 17, 17, 17, 25, 25, 25, 25, 24, 27, 30, 30, 27, 24, 24, 24, 24, 24, 23, 24, 23, 24, 23, 24, 24, 24, 23, 23, 24, 24, 23, 23, 23, 23, 23, 25, 25, 25, 25, 23, 23, 25, 25, 25, 25, 25, 25, 25, 25, 23, 25, 25, 25, 23, 25, 25, 23, 25, 25, 23, 25, 23, 25, 25, 25, 25, 27, 27, 24, 24, 27, 24, 27, 27, 27, 27, 27, 27, 27, 27, 24, 27, 24, 19, 19, 17, 17, 17, 17, 21, 19, 19, 17, 17, 19, 19, 21, 17, 19, 18, 19, 19, 20, 17, 19, 19, 19, 21, 18, 19, 17, 19, 19, 17, 19, 17, 17, 17, 18, 21, 18, 18, 19, 19, 17, 19, 18, 18, 18, 18, 16, 17, 23, 23, 23, 23, 23, 23, 23, 23, 23, 23, 23, 23, 23, 22, 23, 24, 22, 22, 23, 22, 24, 22, 22, 22, 24, 24, 24, 24, 24, 22, 22, 24, 22, 23, 22, 24, 22, 22, 22, 22, 23, 24, 22, 24, 22, 24, 23, 22, 24, 24, 22, 22, 23, 22, 22, 22, 24, 24, 24, 23, 22, 23, 24, 22, 22, 22, 23, 22, 22, 22, 23, 23, 23, 22, 22, 24, 24, 22, 22, 23, 22, 23, 23, 22, 22, 22, 24, 22, 24, 20, 22, 24, 24, 24, 22, 22, 20, 22, 22, 23, 22, 24, 16, 18, 18, 16, 16, 18, 13, 17, 16, 16, 17, 22, 24, 22, 24, 24, 24, 24, 22, 24, 22, 22, 22, 24, 24, 24, 18, 19, 19, 19, 18, 18, 19, 19, 17, 17, 17, 21, 19, 18, 18, 20, 19, 19, 19, 21, 19, 19, 17, 19, 19, 18, 18, 21, 18, 18, 19, 19, 21, 17, 19, 19, 19, 19, 19, 17, 20, 18, 18, 19, 17, 18, 18, 17, 19, 23, 23, 23, 23, 23, 23, 23, 23, 23, 23, 23, 23, 22, 22, 24, 22, 22, 22, 24, 22, 22, 23, 23, 22, 22, 22, 22, 22, 24, 23, 24, 22, 22, 22, 24, 24, 22, 24, 22, 22, 24, 22, 24, 22, 22, 22, 23, 23, 23, 22, 23, 24, 24, 24, 24, 22, 24, 22, 24, 23, 24, 24, 24, 22, 24, 24, 22, 22, 24, 23, 22, 24, 22, 24, 22, 22, 23, 24, 22, 22, 22, 24, 22, 22, 22, 24, 22, 24, 23, 22, 23, 24, 22, 23, 22, 22, 22, 22, 22, 23, 23, 24, 22, 22, 22, 22, 22, 22, 22, 22, 22, 22, 23, 24, 24, 24, 24, 22, 24, 24, 23, 24, 24, 22, 22, 22, 22, 20, 22, 22, 20, 20, 22, 22, 22, 24, 22, 22, 22, 22, 24, 24, 24, 20, 22, 23, 22, 22, 24, 22, 24, 23, 22, 22, 22, 20, 22, 22, 22, 20, 22, 22, 24, 22, 24, 22, 22, 24, 29, 26, 26, 29, 29, 30, 29, 32, 29, 28, 32, 32, 29, 28, 29, 32, 28, 17, 17, 18, 18, 26, 28, 25, 28, 28, 25, 25, 28, 25, 25, 28, 38, 31, 36, 31, 35, 33, 35, 40, 33, 35, 40, 35, 35, 37, 34, 35, 37, 34, 35, 35, 35, 34, 35, 35, 37, 35, 37, 34, 33, 35, 35, 35, 35, 33, 34, 36, 33, 34, 34, 36, 39, 39, 39, 33, 20, 25, 18, 23, 25, 18, 23, 23, 16, 25, 25, 18, 17, 25, 23, 17, 23, 25, 24, 27, 25, 25, 24, 25, 24, 25, 25, 24, 26, 26, 26, 26, 23, 25, 29, 23, 26, 29, 26, 27, 26, 27, 25, 25, 25, 25, 23, 27, 25, 23, 25, 25, 28, 25, 28, 25, 30, 31, 31, 30, 30, 30, 31, 31, 30, 30, 31, 31, 39, 39, 39, 39, 39, 39, 41, 41, 41, 41, 41, 41, 38, 38, 38, 38, 38, 38, 30, 30, 32, 30, 30, 32, 32, 32, 32, 30, 30, 30, 32, 32, 30, 30, 30, 32, 30, 32, 30, 32, 32, 25, 26, 28, 26, 28, 26, 24, 26, 26, 28, 25, 28, 26, 26, 25, 26, 29, 23, 29, 25, 24, 24, 24, 24, 24, 24, 23, 23, 24, 24, 24, 23, 24, 24, 23, 24, 23, 24, 23, 24, 24, 23, 23, 24, 23, 24, 24, 21, 21, 20, 18, 18, 18, 22, 23, 23, 22, 23, 22, 22, 23, 22, 22, 26, 25, 26, 25, 26, 27, 25, 25, 29, 26, 25, 25, 27, 26, 29, 25, 27, 19, 24, 26, 27, 24, 27, 27, 24, 27, 27, 27, 23, 23, 22, 22, 22, 23, 23, 22, 23, 22, 23, 22, 22, 23, 22, 22, 23, 23, 17, 15, 17, 17, 17, 17, 32, 32, 32, 26, 27, 27, 30, 30, 30, 33, 33, 32, 32, 22, 22, 22, 22, 22, 22, 23, 23, 22, 22, 22, 22, 31, 31, 38, 38, 30, 29, 30, 30, 30, 32, 30, 30, 33, 30, 33, 30, 30, 29, 30, 29, 29, 30, 32, 32, 33, 30, 33, 30, 30, 30, 30, 29, 32, 30, 30, 29, 33, 20, 18, 20, 22, 18, 17, 19, 22, 17, 19, 22, 19, 18, 18, 19, 19, 24, 21, 20, 24, 19, 25, 24, 21, 21, 21, 19, 21, 19, 21, 21, 24, 21, 21, 21, 23, 23, 23, 24, 23, 20, 20, 24, 24, 23, 23, 24, 22, 24, 22, 21, 24, 23, 23, 23, 20, 21, 24, 23, 23, 23, 23, 24, 24, 23, 23, 22, 24, 24, 23, 21, 22, 23, 23, 23, 24, 24, 23, 23, 23, 23, 23, 23, 15, 16, 22, 23, 22, 23, 23, 22, 22, 23, 22, 23, 22, 23, 22, 22, 23, 23, 23, 22, 31, 31, 31, 31, 31, 31, 31, 31, 31, 31, 31, 31, 31, 31, 35, 35, 36, 35, 35, 35, 35, 32, 29, 32, 32, 29, 32, 29, 32, 29, 32, 29, 32, 32, 32, 29, 32, 29, 32, 29, 29, 28, 31, 28, 31, 31, 28, 31, 31, 28, 21, 23, 23, 21, 21, 23, 23, 21, 23, 23, 23, 27, 24, 24, 28, 24, 24, 24, 24, 24, 27, 24, 24, 28, 23, 27, 24, 24, 24, 28, 24, 26, 26, 26, 26, 26, 26, 26, 26, 26, 26, 26, 26, 26, 26, 26, 26, 26, 26, 24, 24, 24, 24, 24, 24, 24, 24, 17, 18, 17, 18, 17, 18, 18, 17, 17, 17, 18, 17, 18, 17, 18, 17, 18, 17, 18, 17, 18, 17, 17, 17, 18, 17, 21, 21, 21, 20, 21, 21, 21, 21, 21, 26, 29, 26, 26, 29, 25, 29, 29, 26, 26, 25, 29, 26, 29, 29, 29, 29, 25, 26, 29, 26, 26, 29, 31, 35, 34, 34, 31, 35, 34, 31, 34, 34, 35, 31, 34, 35, 34, 35, 31, 35, 31, 34, 34, 23, 24, 24, 24, 24, 24, 24, 24, 24, 24, 17, 20, 25, 20, 18, 29, 29, 23, 23, 23, 23, 24, 29, 23, 23, 29, 23, 29, 23, 29, 23, 23, 23, 25, 25, 25, 25, 25, 25, 25, 25, 25, 25, 25, 25, 25, 25, 25, 25, 25, 24, 24, 24, 24, 24, 24, 24, 24, 23, 24, 23, 19, 23, 19, 24, 19, 19, 19, 23, 24, 24, 23, 19, 23, 20, 20, 20, 20, 20, 19, 19, 18, 18, 17, 18, 17, 18, 19, 19, 19, 19, 20, 17, 16, 20, 16, 17, 20, 20, 20, 20, 20, 20, 20, 20, 16, 20, 16, 16, 20, 16, 20, 20, 20, 20, 16, 20, 20, 16, 20, 20, 24, 23, 23, 23, 23, 23, 24, 23, 23, 24, 23, 24, 24, 22, 22, 22, 22, 22, 22, 22, 22, 22, 22, 22, 22, 22, 22, 22, 22, 22, 22, 34, 31, 31, 34, 31, 34, 34, 31, 31, 34, 31, 34, 30, 33, 30, 33, 30, 33, 21, 21, 21, 21, 21, 27, 27, 27, 27, 25, 28, 26, 28, 24, 25, 25, 24, 28, 28, 26, 26, 24, 26, 26, 28, 28, 28, 28, 25, 23, 26, 28, 26, 28, 23, 28, 26, 28, 26, 25, 25, 20, 21, 18, 21, 20, 17, 17, 21, 21, 26, 20, 21, 26, 17, 24, 20, 20, 19, 17, 17, 19, 24, 24, 18, 18, 18, 24, 24, 18, 23, 18, 23, 18, 23, 23, 30, 30, 30, 30, 30, 30, 31, 28, 28, 31, 31, 29, 31, 31, 29, 31, 28, 29, 31, 28, 31, 31, 25, 25, 31, 31, 30, 30, 30, 30, 31, 31, 27, 27, 28, 29, 25, 28, 25, 25, 25, 25, 33, 31, 30, 26, 28, 28, 30, 31, 30, 26, 30, 30, 28, 28, 32, 30, 18, 18, 19, 18, 18, 18, 19, 18, 19, 18, 18, 18, 18, 18, 18, 18, 19, 19, 18, 19, 19, 18, 19, 18, 19, 18, 23, 23, 23, 23, 21, 23, 23, 23, 23, 23, 23, 27, 27, 27, 27, 31, 26, 26, 30, 30, 30, 28, 28, 28, 28, 30, 30, 28, 29, 37, 28, 29, 37, 31, 29, 27, 29, 31, 29, 29, 27, 27, 29, 29, 31, 36, 36, 36, 24, 25, 27, 27, 18, 23, 20, 16, 15, 33, 36, 31, 35, 33, 33, 33, 33, 22, 22, 24, 24, 24, 22, 24, 24, 24, 24, 24, 24, 24, 22, 24, 24, 24, 24, 24, 24, 24, 24, 26, 25, 25, 26, 26, 26, 26, 26, 25, 26, 26, 25, 26, 26, 25, 25, 26, 26, 26, 26, 25, 26, 25, 26, 26, 26, 26, 22, 23, 23, 22, 22, 22, 21, 21, 21, 21, 22, 22, 32, 30, 32, 32, 32, 32, 32, 32, 32, 32, 30, 31, 31, 31, 25, 25, 25, 25, 25, 25, 25, 25, 25, 40, 40, 40, 40, 40, 36, 40, 40, 36, 40, 40, 40, 39, 39, 39, 39, 40, 40, 40, 36, 40, 35, 40, 35, 40, 40, 36, 39, 35, 36, 39, 39, 33, 32, 28, 28, 26, 26, 32, 28, 28, 23, 23, 23, 23, 24, 23, 23, 23, 23, 23, 24, 23, 20, 20, 20, 21, 22, 22, 22, 24, 23, 25, 24, 24, 22, 22, 24, 23, 24, 23, 25, 23, 23, 28, 25, 28, 28, 23, 27, 23, 27, 24, 24, 27, 27, 24, 27, 24, 27, 23, 26, 26, 26, 26, 26, 34, 32, 27, 32, 32, 31, 26, 28, 34, 28, 28, 27, 28, 34, 34, 26, 28, 28, 28, 27, 25, 28, 27, 26, 28, 31, 27, 27, 22, 24, 21, 30, 25, 24, 25, 30, 21, 27, 22, 27, 24, 25, 21, 25, 21, 24, 34, 34, 35, 34, 35, 34, 28, 28, 28, 28, 28, 28, 28, 28, 28, 28, 24, 24, 30, 24, 24, 24, 31, 31, 24, 24, 31, 25, 30, 30, 31, 24, 31, 31, 24, 25, 25, 30, 31, 24, 24, 25, 30, 25, 30, 25, 24, 30, 25, 29, 26, 26, 23, 23, 28, 23, 31, 31, 28, 23, 26, 28, 28, 29, 31, 29, 26, 24, 24, 25, 31, 24, 25, 31, 31, 26, 26, 31, 26, 26, 31, 31, 26, 31, 25, 25, 25, 25, 26, 25, 25, 26, 25, 25, 25, 26, 26, 25, 25, 26, 25, 23, 33, 33, 33, 33, 33, 33, 33, 33, 33, 33, 25, 25, 24, 24, 24, 24, 24, 24, 21, 20, 20, 21, 21, 20, 20, 20, 20, 21, 20, 20, 20, 21, 20, 20, 21, 20, 21, 21, 21, 20, 21, 20, 20, 20, 21, 21, 21, 22, 21, 22, 21, 22, 21, 21, 21, 21, 22, 21, 21, 22, 21, 22, 22, 22, 22, 22, 22, 22, 22, 22, 22, 22, 22, 22, 24, 23, 24, 23, 24, 24, 23, 23, 26, 27, 27, 26, 27, 26, 20, 20, 20, 20, 22, 20, 22, 20, 22, 20, 20, 20, 22, 20, 20, 20, 20, 20, 22, 20, 22, 26, 28, 28, 24, 26, 26, 28, 24, 28, 28, 28, 28, 26, 23, 26, 23, 28, 26, 28, 26, 28, 26, 26, 23, 23, 28, 28, 30, 33, 33, 33, 33, 33, 33, 30, 34, 34, 34, 31, 31, 34, 39, 37, 36, 36, 36, 37, 36, 36, 36, 37, 36, 36, 37, 36, 36, 35, 35, 36, 35, 35, 35, 36, 15, 23, 23, 23, 23, 23, 23, 23, 23, 23, 23, 23, 23, 22, 23, 22, 21, 20, 23, 23, 23, 22, 22, 22, 20, 22, 22, 20, 22, 23, 23, 22, 23, 22, 23, 21, 21, 22, 22, 21, 23, 23, 22, 20, 23, 22, 22, 22, 23, 24, 24, 25, 26, 25, 26, 26, 25, 26, 22, 22, 23, 23, 34, 26, 24, 34, 24, 24, 24, 34, 24, 23, 23, 23, 23, 23, 23, 23, 26], \"y\": [19, 19, 20, 18, 18, 18, 17, 20, 18, 18, 20, 19, 19, 18, 20, 16, 16, 17, 16, 16, 26, 26, 26, 23, 23, 20, 23, 22, 20, 22, 20, 20, 21, 21, 21, 21, 23, 24, 24, 23, 23, 23, 18, 23, 23, 18, 23, 23, 18, 18, 23, 23, 23, 23, 18, 18, 23, 23, 23, 18, 23, 23, 23, 21, 21, 20, 19, 19, 19, 19, 19, 20, 20, 20, 29, 29, 28, 28, 28, 28, 29, 29, 28, 28, 29, 29, 20, 22, 20, 20, 23, 22, 25, 21, 23, 20, 24, 30, 22, 22, 22, 22, 22, 24, 23, 30, 22, 23, 23, 23, 23, 30, 23, 21, 21, 30, 17, 17, 16, 16, 17, 17, 17, 16, 17, 18, 19, 19, 18, 19, 19, 18, 18, 18, 19, 18, 19, 18, 18, 19, 19, 19, 19, 18, 18, 18, 18, 18, 19, 19, 18, 19, 19, 18, 19, 16, 16, 16, 16, 16, 16, 16, 16, 16, 16, 16, 17, 17, 17, 16, 17, 17, 17, 25, 17, 17, 17, 17, 18, 18, 17, 17, 18, 17, 17, 18, 18, 17, 17, 17, 17, 17, 17, 17, 18, 17, 18, 18, 18, 17, 18, 17, 17, 17, 17, 17, 17, 17, 19, 17, 18, 18, 19, 19, 18, 18, 18, 18, 18, 17, 19, 18, 18, 19, 19, 18, 17, 19, 19, 19, 18, 19, 17, 18, 18, 18, 19, 18, 18, 19, 18, 18, 18, 19, 19, 18, 18, 18, 17, 18, 17, 19, 18, 18, 18, 18, 19, 19, 19, 25, 28, 30, 29, 29, 25, 27, 28, 26, 30, 30, 29, 30, 30, 29, 29, 26, 30, 29, 27, 29, 30, 29, 30, 27, 29, 30, 30, 30, 29, 27, 25, 30, 30, 29, 29, 28, 29, 26, 28, 28, 27, 25, 27, 28, 26, 25, 27, 26, 28, 28, 25, 27, 21, 20, 22, 20, 20, 23, 21, 21, 23, 23, 20, 21, 20, 20, 21, 23, 22, 20, 23, 20, 22, 20, 20, 23, 22, 21, 23, 23, 20, 21, 21, 24, 24, 24, 24, 24, 17, 17, 17, 17, 17, 17, 17, 17, 17, 17, 17, 17, 17, 17, 17, 17, 17, 17, 17, 17, 17, 17, 17, 17, 17, 17, 19, 16, 18, 16, 18, 16, 19, 18, 19, 15, 16, 20, 26, 22, 26, 17, 23, 20, 26, 20, 20, 22, 23, 16, 17, 26, 28, 31, 28, 28, 28, 28, 31, 28, 31, 31, 31, 28, 31, 31, 31, 28, 31, 31, 31, 28, 31, 31, 28, 27, 27, 27, 28, 27, 25, 25, 22, 25, 25, 25, 25, 22, 25, 25, 22, 22, 22, 21, 22, 21, 22, 22, 21, 25, 22, 21, 21, 22, 21, 21, 22, 25, 22, 22, 21, 22, 21, 22, 22, 22, 21, 21, 21, 21, 19, 19, 23, 19, 19, 19, 19, 23, 19, 23, 19, 26, 26, 25, 25, 28, 26, 26, 25, 26, 25, 26, 24, 24, 26, 26, 19, 21, 20, 15, 14, 14, 17, 17, 17, 17, 17, 17, 18, 18, 17, 17, 17, 18, 18, 17, 21, 24, 17, 20, 18, 19, 20, 20, 20, 20, 20, 20, 18, 18, 18, 20, 19, 18, 18, 20, 19, 18, 20, 18, 17, 15, 19, 15, 19, 19, 15, 19, 19, 19, 19, 19, 17, 19, 17, 21, 21, 20, 17, 19, 19, 17, 19, 21, 17, 17, 20, 21, 19, 19, 17, 19, 18, 17, 18, 17, 15, 17, 17, 17, 17, 17, 17, 16, 20, 17, 18, 17, 14, 13, 13, 14, 12, 12, 14, 14, 18, 16, 18, 18, 16, 18, 18, 18, 18, 18, 18, 15, 18, 17, 18, 17, 18, 18, 17, 18, 18, 18, 17, 18, 18, 18, 18, 18, 18, 17, 17, 11, 11, 17, 17, 17, 17, 17, 17, 17, 17, 17, 17, 15, 15, 16, 16, 16, 16, 15, 15, 15, 15, 24, 24, 23, 24, 24, 24, 23, 23, 24, 23, 23, 23, 24, 23, 24, 24, 24, 24, 23, 24, 23, 23, 23, 24, 23, 23, 24, 23, 26, 26, 26, 25, 26, 25, 25, 25, 26, 25, 25, 26, 23, 23, 23, 22, 22, 22, 24, 22, 24, 22, 24, 22, 22, 22, 22, 22, 22, 22, 25, 27, 24, 24, 25, 25, 24, 27, 27, 24, 22, 22, 21, 21, 22, 22, 23, 15, 15, 24, 20, 25, 18, 25, 18, 20, 24, 22, 24, 24, 25, 20, 20, 25, 22, 22, 22, 22, 21, 22, 24, 18, 18, 24, 24, 25, 20, 24, 20, 21, 21, 15, 15, 17, 17, 16, 17, 16, 16, 17, 16, 16, 17, 15, 15, 15, 15, 15, 15, 15, 15, 15, 15, 15, 21, 18, 21, 21, 21, 18, 21, 21, 18, 18, 18, 27, 27, 27, 27, 27, 27, 27, 27, 26, 26, 27, 26, 26, 26, 26, 27, 27, 27, 19, 19, 17, 17, 18, 18, 18, 18, 18, 18, 18, 18, 18, 21, 21, 24, 26, 27, 24, 18, 26, 24, 26, 27, 26, 21, 21, 24, 27, 21, 26, 24, 27, 21, 27, 26, 26, 21, 27, 21, 26, 26, 23, 27, 26, 23, 27, 23, 26, 26, 23, 26, 27, 18, 21, 21, 23, 21, 27, 23, 26, 23, 21, 23, 21, 26, 27, 27, 27, 21, 21, 21, 18, 26, 26, 23, 26, 27, 21, 26, 27, 27, 23, 23, 26, 20, 20, 19, 19, 18, 23, 23, 23, 21, 22, 22, 22, 22, 21, 22, 21, 22, 22, 21, 21, 22, 21, 21, 22, 22, 22, 21, 22, 22, 21, 21, 22, 22, 22, 22, 21, 21, 22, 22, 18, 18, 21, 18, 21, 21, 21, 18, 18, 21, 18, 21, 18, 18, 21, 21, 18, 21, 18, 21, 21, 21, 18, 18, 14, 15, 14, 15, 14, 14, 14, 15, 20, 20, 20, 21, 21, 21, 21, 21, 27, 27, 22, 27, 22, 22, 22, 27, 22, 22, 27, 27, 27, 27, 27, 22, 22, 27, 27, 22, 27, 22, 26, 27, 17, 17, 17, 13, 12, 13, 12, 12, 13, 13, 12, 12, 12, 13, 13, 13, 12, 14, 14, 13, 13, 14, 13, 13, 12, 14, 13, 20, 13, 14, 15, 14, 14, 14, 15, 14, 12, 14, 12, 14, 14, 12, 18, 18, 21, 20, 20, 18, 18, 21, 20, 18, 18, 21, 21, 20, 22, 22, 20, 22, 22, 20, 22, 19, 22, 19, 22, 19, 22, 20, 22, 22, 22, 20, 22, 20, 19, 17, 17, 16, 16, 20, 21, 21, 21, 18, 18, 20, 20, 18, 18, 18, 20, 21, 21, 21, 18, 20, 22, 20, 22, 19, 22, 22, 20, 22, 22, 19, 22, 22, 22, 22, 19, 20, 22, 20, 19, 22, 22, 22, 15, 17, 16, 16, 15, 15, 15, 15, 15, 15, 15, 15, 15, 15, 15, 15, 15, 15, 15, 15, 21, 21, 21, 21, 21, 21, 21, 21, 21, 21, 21, 21, 21, 21, 21, 19, 20, 19, 21, 19, 21, 20, 21, 19, 20, 27, 27, 27, 27, 27, 27, 27, 27, 27, 27, 27, 27, 27, 27, 27, 27, 27, 27, 12, 12, 12, 12, 12, 12, 12, 12, 11, 11, 19, 20, 20, 19, 20, 19, 16, 17, 16, 17, 16, 17, 19, 14, 15, 15, 19, 15, 19, 15, 15, 19, 15, 15, 19, 15, 16, 19, 16, 16, 16, 16, 15, 19, 16, 16, 19, 15, 19, 20, 20, 16, 15, 16, 15, 20, 16, 16, 15, 14, 16, 15, 14, 16, 21, 16, 16, 15, 14, 15, 21, 21, 15, 15, 15, 15, 15, 19, 19, 15, 16, 15, 21, 14, 21, 15, 16, 16, 19, 16, 16, 19, 16, 19, 17, 16, 16, 19, 17, 20, 16, 16, 19, 28, 28, 24, 28, 28, 28, 30, 30, 30, 30, 30, 30, 24, 30, 30, 31, 25, 31, 31, 31, 31, 31, 31, 31, 25, 24, 24, 24, 24, 23, 24, 24, 18, 22, 21, 18, 22, 18, 15, 15, 15, 15, 15, 15, 11, 14, 13, 15, 13, 14, 14, 13, 13, 14, 14, 13, 14, 15, 14, 17, 17, 16, 18, 15, 18, 15, 18, 18, 15, 17, 16, 17, 15, 15, 15, 15, 16, 20, 20, 19, 20, 20, 19, 20, 20, 14, 14, 14, 14, 13, 14, 14, 23, 22, 25, 22, 22, 22, 22, 25, 22, 24, 21, 21, 21, 24, 19, 19, 13, 25, 20, 24, 21, 25, 25, 18, 22, 24, 21, 25, 24, 18, 25, 25, 24, 24, 24, 21, 17, 24, 24, 23, 24, 18, 24, 24, 22, 23, 21, 21, 21, 21, 21, 21, 16, 16, 16, 16, 16, 16, 19, 18, 19, 17, 17, 17, 21, 21, 21, 20, 21, 20, 20, 21, 20, 20, 21, 21, 21, 20, 19, 19, 19, 19, 19, 20, 20, 20, 23, 23, 23, 23, 23, 23, 23, 23, 23, 23, 24, 23, 24, 24, 24, 23, 17, 17, 16, 16, 16, 16, 17, 17, 17, 19, 16, 21, 16, 21, 21, 21, 16, 16, 16, 16, 20, 22, 16, 16, 20, 22, 20, 20, 20, 18, 18, 18, 21, 18, 20, 21, 18, 20, 21, 18, 18, 22, 22, 18, 22, 18, 18, 18, 21, 18, 22, 21, 18, 18, 18, 22, 18, 22, 18, 21, 25, 25, 25, 25, 25, 24, 24, 18, 17, 18, 16, 16, 18, 18, 17, 16, 18, 17, 17, 17, 17, 20, 19, 17, 19, 20, 19, 18, 20, 20, 19, 17, 20, 17, 18, 19, 18, 17, 18, 17, 17, 17, 17, 18, 19, 19, 18, 20, 20, 19, 18, 19, 18, 17, 20, 15, 16, 15, 15, 16, 20, 20, 20, 20, 20, 20, 20, 20, 20, 20, 20, 20, 17, 17, 17, 17, 17, 17, 17, 17, 17, 20, 20, 20, 20, 20, 16, 16, 16, 16, 22, 22, 22, 22, 22, 22, 23, 23, 23, 23, 23, 23, 23, 23, 23, 23, 23, 23, 23, 23, 17, 20, 17, 19, 20, 18, 17, 18, 20, 20, 20, 19, 20, 20, 19, 20, 17, 17, 25, 20, 20, 23, 23, 22, 22, 21, 25, 23, 25, 21, 23, 21, 22, 25, 18, 18, 18, 15, 14, 15, 14, 19, 15, 14, 15, 19, 15, 14, 19, 14, 15, 15, 19, 14, 15, 15, 14, 14, 15, 15, 19, 15, 14, 19, 14, 15, 15, 15, 15, 16, 19, 16, 18, 18, 19, 19, 19, 15, 15, 16, 19, 16, 19, 19, 16, 15, 18, 19, 16, 15, 18, 15, 14, 14, 13, 13, 13, 17, 21, 18, 17, 17, 16, 24, 24, 24, 24, 24, 24, 30, 25, 23, 29, 23, 26, 23, 28, 26, 30, 31, 30, 22, 22, 28, 22, 30, 22, 30, 22, 27, 30, 29, 29, 28, 28, 22, 27, 29, 22, 30, 31, 31, 31, 31, 27, 31, 31, 31, 30, 26, 31, 31, 31, 31, 30, 30, 30, 31, 31, 31, 30, 31, 31, 31, 31, 28, 30, 31, 31, 31, 28, 31, 30, 30, 14, 14, 15, 14, 14, 14, 15, 15, 11, 15, 14, 15, 14, 15, 11, 14, 14, 15, 15, 15, 14, 15, 15, 14, 14, 14, 14, 15, 14, 12, 14, 12, 16, 14, 16, 13, 16, 14, 16, 16, 12, 16, 14, 14, 13, 14, 16, 16, 16, 14, 16, 14, 14, 16, 13, 13, 13, 13, 13, 13, 12, 12, 12, 12, 26, 24, 23, 26, 23, 24, 26, 23, 23, 17, 17, 17, 17, 17, 17, 17, 17, 17, 22, 22, 17, 17, 15, 15, 17, 15, 15, 17, 17, 15, 15, 17, 17, 20, 20, 17, 20, 19, 17, 18, 24, 24, 22, 24, 22, 24, 22, 25, 25, 22, 25, 22, 25, 25, 25, 25, 22, 25, 25, 25, 25, 25, 14, 17, 18, 18, 16, 17, 17, 18, 18, 17, 18, 18, 17, 18, 14, 16, 19, 20, 18, 18, 20, 20, 19, 17, 17, 19, 17, 18, 17, 17, 20, 19, 20, 17, 19, 17, 17, 17, 17, 20, 17, 19, 19, 19, 18, 18, 20, 19, 20, 17, 20, 19, 20, 18, 21, 19, 18, 16, 18, 16, 19, 17, 17, 19, 17, 17, 15, 15, 15, 15, 15, 17, 16, 16, 17, 27, 28, 30, 29, 30, 29, 27, 28, 28, 29, 29, 29, 30, 29, 30, 29, 29, 28, 29, 28, 29, 30, 29, 30, 27, 29, 29, 28, 30, 28, 27, 30, 28, 28, 28, 28, 16, 22, 21, 17, 17, 17, 17, 17, 17, 17, 17, 17, 17, 17, 17, 17, 17, 17, 17, 17, 17, 17, 17, 17, 17, 17, 17, 17, 17, 17, 17, 16, 16, 16, 16, 16, 16, 16, 16, 16, 16, 16, 16, 16, 16, 16, 16, 16, 22, 23, 22, 23, 22, 22, 22, 23, 23, 23, 26, 27, 26, 27, 26, 26, 26, 27, 27, 27, 25, 25, 26, 25, 26, 26, 25, 26, 26, 25, 26, 25, 31, 31, 31, 31, 31, 31, 31, 31, 31, 15, 15, 15, 15, 15, 15, 15, 15, 15, 15, 15, 15, 20, 19, 20, 22, 20, 22, 19, 22, 20, 22, 22, 22, 20, 19, 19, 20, 22, 19, 20, 20, 22, 19, 22, 20, 30, 23, 26, 26, 23, 30, 23, 26, 26, 23, 28, 25, 26, 26, 26, 26, 25, 26, 22, 25, 26, 28, 25, 26, 26, 22, 26, 26, 30, 29, 29, 30, 29, 30, 29, 28, 30, 28, 28, 29, 28, 30, 28, 22, 18, 18, 18, 18, 22, 18, 18, 18, 22, 18, 22, 18, 18, 18, 18, 18, 18, 18, 18, 18, 18, 18, 18, 18, 18, 18, 18, 18, 18, 18, 18, 18, 18, 18, 18, 18, 18, 18, 18, 18, 18, 18, 18, 18, 18, 18, 18, 18, 18, 18, 18, 18, 18, 18, 20, 19, 19, 18, 18, 16, 19, 18, 20, 20, 19, 20, 18, 18, 16, 20, 21, 21, 16, 21, 16, 21, 19, 20, 20, 21, 19, 21, 21, 19, 21, 19, 22, 16, 21, 19, 20, 20, 21, 16, 22, 25, 27, 25, 27, 25, 27, 27, 27, 25, 27, 22, 17, 17, 17, 17, 18, 18, 18, 18, 17, 17, 17, 17, 29, 29, 27, 27, 27, 29, 29, 29, 29, 27, 27, 27, 26, 25, 25, 24, 24, 26, 25, 25, 24, 24, 26, 25, 26, 25, 24, 24, 24, 26, 24, 24, 26, 24, 26, 26, 24, 18, 17, 18, 17, 20, 20, 17, 18, 20, 17, 20, 20, 18, 18, 18, 20, 20, 17, 17, 20, 16, 17, 17, 16, 17, 16, 17, 16, 16, 16, 17, 17, 22, 21, 21, 22, 22, 21, 21, 15, 14, 15, 15, 14, 14, 16, 16, 15, 15, 14, 15, 15, 15, 14, 15, 16, 16, 15, 14, 14, 14, 16, 16, 15, 14, 16, 14, 14, 15, 14, 14, 15, 15, 15, 14, 14, 15, 14, 14, 15, 25, 22, 23, 28, 23, 23, 22, 28, 23, 25, 27, 25, 22, 25, 23, 25, 25, 27, 22, 22, 22, 12, 12, 12, 12, 16, 16, 16, 16, 16, 16, 15, 15, 15, 16, 16, 16, 16, 16, 16, 16, 15, 15, 15, 12, 12, 12, 12, 12, 12, 20, 20, 20, 20, 20, 20, 20, 20, 20, 11, 11, 11, 11, 11, 11, 15, 15, 15, 15, 15, 15, 15, 15, 15, 15, 15, 15, 15, 15, 18, 14, 17, 18, 17, 17, 14, 18, 14, 18, 19, 18, 18, 14, 19, 19, 19, 18, 19, 19, 18, 14, 19, 14, 19, 18, 18, 18, 20, 20, 24, 17, 20, 18, 20, 20, 20, 20, 20, 18, 20, 17, 20, 20, 20, 20, 18, 17, 15, 15, 30, 28, 30, 28, 30, 28, 28, 30, 30, 28, 28, 30, 19, 16, 16, 20, 20, 16, 20, 20, 20, 16, 20, 16, 20, 20, 20, 17, 20, 20, 17, 17, 17, 17, 17, 17, 17, 27, 27, 28, 27, 27, 28, 24, 24, 24, 24, 24, 24, 24, 24, 23, 23, 23, 23, 23, 23, 23, 23, 23, 23, 23, 23, 24, 28, 27, 24, 24, 24, 28, 24, 24, 27, 28, 26, 26, 22, 29, 15, 15, 15, 15, 16, 16, 16, 18, 20, 18, 19, 20, 20, 19, 19, 20, 20, 19, 20, 20, 19, 20, 19, 20, 19, 19, 20, 20, 21, 20, 21, 21, 20, 21, 20, 20, 16, 17, 17, 16, 17, 15, 15, 15, 15, 15, 15, 15, 15, 15, 15, 23, 23, 23, 25, 25, 25, 25, 23, 23, 23, 25, 25, 26, 25, 28, 23, 25, 23, 24, 25, 24, 28, 26, 24, 25, 25, 24, 25, 15, 15, 15, 15, 15, 15, 16, 16, 16, 16, 16, 20, 20, 21, 20, 22, 20, 21, 22, 13, 13, 13, 13, 13, 12, 13, 12, 13, 13, 13, 13, 13, 14, 14, 14, 12, 13, 13, 12, 14, 14, 14, 14, 14, 13, 14, 14, 13, 14, 14, 14, 14, 15, 14, 14, 14, 14, 22, 22, 22, 22, 22, 22, 22, 17, 15, 15, 15, 15, 19, 15, 15, 15, 19, 14, 15, 14, 19, 14, 17, 19, 19, 15, 15, 17, 15, 14, 20, 22, 20, 22, 22, 20, 22, 22, 20, 22, 20, 22, 20, 20, 22, 22, 22, 20, 22, 22, 20, 22, 20, 15, 15, 15, 15, 15, 15, 17, 18, 18, 18, 18, 18, 21, 21, 21, 21, 15, 15, 15, 15, 13, 13, 13, 13, 13, 13, 13, 13, 13, 20, 20, 20, 20, 15, 15, 15, 15, 14, 15, 15, 15, 15, 24, 26, 23, 23, 26, 23, 26, 26, 24, 23, 24, 26, 23, 24, 24, 24, 24, 24, 23, 24, 23, 24, 23, 24, 23, 23, 23, 24, 23, 15, 15, 15, 15, 15, 15, 18, 18, 18, 18, 18, 18, 17, 16, 16, 17, 16, 16, 17, 17, 17, 16, 16, 17, 24, 20, 20, 20, 20, 20, 20, 17, 17, 17, 17, 17, 17, 17, 17, 17, 17, 17, 17, 18, 18, 21, 19, 19, 17, 18, 13, 14, 13, 11, 13, 11, 11, 11, 11, 11, 11, 11, 11, 11, 11, 11, 11, 11, 11, 17, 15, 15, 15, 17, 16, 17, 16, 17, 16, 16, 16, 16, 17, 17, 29, 29, 29, 29, 29, 29, 17, 15, 17, 16, 17, 15, 17, 16, 15, 15, 15, 15, 19, 20, 19, 20, 19, 19, 19, 19, 19, 19, 19, 19, 19, 19, 20, 20, 19, 20, 20, 19, 19, 19, 19, 19, 19, 19, 19, 19, 19, 19, 20, 19, 20, 19, 23, 24, 22, 24, 24, 22, 23, 24, 24, 22, 24, 23, 22, 23, 24, 24, 23, 26, 23, 22, 26, 26, 26, 22, 25, 25, 24, 21, 21, 26, 25, 25, 22, 22, 22, 25, 21, 22, 25, 25, 25, 26, 21, 24, 29, 29, 25, 25, 25, 23, 25, 25, 22, 25, 22, 25, 25, 25, 22, 22, 22, 25, 22, 25, 15, 15, 15, 15, 16, 16, 16, 16, 16, 15, 17, 16, 15, 16, 15, 16, 15, 17, 16, 19, 16, 16, 16, 15, 19, 15, 16, 16, 16, 16, 16, 15, 16, 15, 16, 15, 15, 15, 16, 15, 16, 16, 16, 15, 15, 17, 15, 15, 15, 16, 16, 16, 16, 16, 15, 19, 17, 15, 16, 16, 15, 17, 19, 16, 16, 15, 16, 15, 15, 19, 17, 16, 16, 15, 15, 15, 17, 15, 16, 15, 16, 16, 16, 16, 19, 15, 15, 16, 16, 16, 16, 13, 13, 13, 14, 14, 16, 16, 14, 16, 14, 16, 16, 16, 17, 14, 16, 16, 17, 17, 16, 17, 17, 17, 16, 19, 17, 17, 18, 19, 19, 19, 19, 17, 18, 19, 17, 17, 18, 19, 19, 17, 18, 19, 19, 19, 18, 20, 17, 19, 20, 18, 17, 19, 20, 18, 18, 18, 19, 19, 19, 20, 17, 18, 19, 21, 21, 20, 21, 20, 21, 20, 21, 16, 17, 17, 17, 17, 16, 17, 17, 17, 17, 17, 17, 17, 17, 17, 17, 16, 17, 17, 19, 19, 18, 19, 17, 19, 19, 18, 18, 17, 19, 18, 17, 18, 18, 18, 17, 17, 18, 18, 17, 18, 16, 18, 27, 22, 22, 22, 24, 25, 25, 17, 17, 17, 17, 22, 22, 17, 17, 22, 17, 17, 17, 22, 17, 22, 22, 17, 17, 17, 17, 17, 22, 18, 15, 16, 15, 17, 15, 17, 13, 21, 21, 21, 21, 21, 21, 16, 17, 16, 17, 16, 19, 16, 16, 16, 16, 16, 17, 16, 16, 17, 17, 18, 15, 15, 18, 16, 16, 18, 15, 15, 16, 17, 17, 19, 14, 17, 19, 19, 17, 25, 24, 23, 22, 25, 24, 22, 24, 23, 22, 21, 22, 21, 17, 17, 18, 18, 22, 17, 18, 18, 18, 19, 19, 24, 24, 19, 19, 19, 18, 24, 17, 22, 22, 22, 22, 22, 25, 25, 25, 25, 25, 25, 25, 25, 25, 25, 25, 25, 25, 25, 25, 25, 25, 25, 25, 25, 25, 25, 25, 25, 25, 25, 25, 25, 25, 25, 25, 25, 25, 25, 25, 25, 25, 25, 25, 25, 24, 24, 24, 24, 24, 24, 24, 24, 24, 24, 23, 23, 23, 23, 22, 22, 23, 22, 22, 23, 31, 25, 25, 25, 25, 31, 31, 25, 25, 25, 25, 25, 25, 25, 25, 25, 25, 25, 25, 25, 25, 25, 25, 25, 25, 25, 25, 25, 25, 25, 25, 25, 25, 25, 25, 25, 25, 18, 18, 22, 18, 18, 18, 22, 23, 18, 18, 18, 18, 23, 18, 18, 18, 22, 17, 17, 17, 17, 17, 17, 17, 17, 17, 17, 17, 17, 17, 17, 17, 17, 17, 16, 18, 16, 17, 18, 18, 16, 19, 19, 19, 19, 19, 19, 19, 19, 19, 19, 19, 19, 19, 19, 19, 19, 19, 19, 16, 16, 17, 17, 17, 16, 16, 16, 16, 16, 21, 22, 22, 21, 16, 16, 19, 19, 19, 19, 19, 19, 20, 19, 19, 20, 19, 19, 19, 15, 16, 16, 16, 16, 16, 29, 29, 29, 17, 17, 17, 24, 21, 21, 24, 15, 14, 14, 15, 15, 15, 15, 15, 15, 14, 14, 14, 13, 13, 13, 14, 14, 13, 13, 14, 14, 14, 14, 13, 13, 14, 14, 13, 14, 22, 21, 22, 21, 22, 22, 22, 22, 21, 22, 22, 22, 22, 22, 27, 27, 27, 27, 27, 27, 18, 19, 18, 18, 18, 19, 18, 20, 19, 19, 19, 19, 18, 20, 18, 18, 18, 19, 19, 19, 18, 19, 28, 27, 28, 27, 27, 28, 25, 25, 28, 27, 28, 27, 28, 25, 27, 25, 18, 19, 17, 17, 17, 17, 17, 17, 17, 31, 22, 24, 24, 24, 25, 25, 25, 25, 25, 25, 25, 25, 25, 25, 25, 25, 18, 18, 18, 18, 18, 18, 18, 18, 18, 21, 19, 19, 21, 19, 19, 22, 19, 19, 19, 17, 17, 17, 19, 19, 19, 19, 19, 19, 17, 19, 17, 19, 17, 19, 19, 28, 27, 24, 28, 28, 28, 25, 25, 28, 27, 28, 25, 24, 28, 28, 28, 28, 28, 28, 25, 28, 28, 28, 28, 28, 28, 28, 28, 27, 27, 28, 27, 28, 27, 27, 28, 22, 22, 22, 22, 22, 22, 22, 22, 22, 22, 22, 22, 22, 22, 22, 22, 21, 22, 21, 21, 21, 22, 22, 22, 16, 18, 16, 17, 19, 17, 16, 19, 17, 17, 17, 17, 17, 17, 18, 18, 18, 22, 22, 21, 21, 21, 21, 21, 21, 20, 21, 21, 20, 20, 16, 16, 16, 19, 19, 19, 19, 19, 19, 19, 19, 19, 19, 19, 16, 16, 16, 16, 16, 16, 30, 29, 29, 29, 30, 30, 29, 30, 29, 29, 30, 30, 29, 29, 30, 30, 29, 30, 25, 25, 25, 23, 23, 25, 25, 28, 28, 28, 25, 28, 28, 25, 28, 28, 24, 28, 28, 28, 28, 25, 23, 13, 14, 14, 14, 14, 14, 14, 14, 14, 15, 15, 13, 14, 15, 15, 14, 15, 15, 14, 14, 15, 13, 14, 14, 14, 15, 14, 15, 14, 14, 15, 16, 16, 19, 19, 16, 19, 19, 19, 19, 16, 16, 16, 17, 16, 19, 19, 16, 19, 16, 19, 16, 17, 16, 16, 19, 16, 19, 28, 25, 25, 26, 28, 28, 26, 26, 26, 28, 28, 26, 25, 28, 26, 26, 25, 28, 26, 28, 26, 27, 25, 26, 26, 26, 26, 28, 28, 28, 28, 24, 18, 18, 15, 15, 17, 15, 17, 23, 23, 23, 22, 22, 20, 20, 23, 23, 22, 21, 23, 22, 23, 22, 22, 23, 21, 20, 23, 20, 23, 23, 23, 22, 22, 20, 22, 25, 18, 17, 18, 25, 18, 17, 18, 18, 17, 18, 18, 17, 18, 18, 21, 21, 20, 21, 21, 17, 17, 17, 17, 17, 17, 17, 22, 24, 24, 22, 22, 24, 25, 18, 22, 23, 22, 26, 27, 23, 24, 24, 22, 23, 23, 23, 23, 27, 24, 23, 18, 21, 19, 19, 18, 18, 18, 18, 26, 20, 26, 26, 26, 26, 26, 26, 26, 20, 26, 26, 26, 26, 20, 25, 25, 25, 25, 16, 16, 17, 16, 16, 17, 16, 16, 17, 16, 16, 17, 17, 18, 18, 18, 18, 14, 16, 16, 16, 21, 17, 17, 17, 17, 17, 17, 17, 17, 17, 12, 12, 12, 14, 14, 14, 14, 14, 14, 14, 15, 15, 15, 17, 16, 16, 16, 16, 16, 16, 16, 16, 16, 16, 16, 17, 15, 17, 15, 17, 16, 17, 17, 17, 16, 16, 16, 17, 17, 16, 16, 17, 15, 17, 17, 17, 17, 17, 17, 17, 17, 17, 17, 17, 17, 15, 17, 17, 17, 17, 17, 17, 15, 17, 17, 17, 17, 17, 17, 17, 18, 18, 12, 12, 12, 12, 12, 20, 14, 18, 18, 20, 17, 14, 18, 18, 18, 17, 18, 18, 16, 16, 17, 16, 17, 16, 17, 18, 17, 17, 17, 16, 14, 16, 14, 14, 16, 17, 17, 17, 17, 17, 17, 16, 16, 17, 17, 17, 17, 17, 17, 17, 20, 15, 15, 18, 15, 13, 15, 18, 15, 15, 13, 13, 15, 17, 15, 15, 18, 18, 22, 18, 24, 26, 26, 24, 24, 20, 20, 20, 20, 20, 16, 20, 18, 18, 15, 18, 25, 25, 21, 21, 25, 27, 22, 22, 27, 27, 27, 22, 27, 13, 12, 12, 12, 12, 12, 12, 13, 13, 12, 16, 16, 15, 15, 25, 21, 21, 20, 26, 20, 26, 21, 25, 21, 25, 20, 21, 21, 26, 19, 19, 22, 22, 22, 22, 22, 21, 21, 21, 21, 21, 18, 18, 18, 17, 17, 17, 17, 18, 18, 18, 21, 21, 15, 15, 17, 14, 14, 18, 18, 18, 20, 20, 20, 18, 20, 19, 19, 18, 19, 19, 18, 20, 18, 18, 18, 20, 18, 19, 19, 19, 19, 19, 19, 18, 18, 19, 20, 19, 19, 18, 20, 20, 21, 31, 31, 26, 18, 15, 18, 18, 18, 17, 17, 17, 17, 17, 17, 17, 17, 17, 17, 18, 27, 16, 16, 16, 27, 18, 16, 17, 20, 19, 20, 19, 20, 19, 19, 20, 20, 19, 20, 19, 19, 21, 19, 21, 21, 19, 21, 19, 19, 18, 17, 17, 19, 18, 17, 17, 16, 16, 17, 16, 15, 16, 15, 17, 18, 17, 17, 17, 17, 17, 17, 17, 17, 17, 16, 16, 17, 17, 16, 17, 16, 22, 22, 22, 22, 22, 22, 22, 22, 20, 21, 20, 21, 20, 21, 21, 20, 12, 16, 15, 17, 16, 17, 16, 17, 17, 17, 17, 16, 17, 17, 15, 16, 16, 16, 16, 15, 19, 18, 17, 18, 19, 16, 19, 18, 16, 19, 19, 15, 15, 14, 16, 14, 15, 15, 16, 15, 15, 15, 16, 14, 14, 16, 15, 15, 14, 14, 15, 13, 13, 13, 16, 16, 16, 16, 16, 16, 16, 16, 22, 23, 23, 23, 23, 23, 18, 19, 19, 18, 17, 17, 17, 21, 21, 21, 21, 21, 21, 21, 21, 21, 21, 26, 21, 21, 21, 21, 21, 28, 21, 28, 26, 21, 21, 21, 21, 21, 21, 21, 21, 20, 25, 25, 21, 21, 21, 21, 21, 21, 21, 22, 21, 21, 21, 21, 21, 22, 21, 21, 21, 21, 21, 21, 21, 21, 27, 27, 27, 27, 27, 27, 18, 23, 23, 18, 23, 15, 15, 16, 15, 16, 15, 15, 15, 15, 15, 16, 15, 15, 15, 15, 15, 15, 15, 19, 25, 25, 25, 22, 25, 25, 19, 25, 22, 25, 25, 19, 24, 24, 24, 24, 24, 16, 16, 16, 15, 17, 17, 17, 15, 16, 16, 15, 16, 16, 16, 16, 16, 15, 16, 16, 16, 15, 16, 16, 16, 16, 15, 15, 24, 24, 24, 24, 24, 24, 21, 22, 21, 22, 22, 22, 22, 22, 22, 22, 22, 22, 19, 19, 19, 19, 19, 19, 19, 19, 19, 19, 19, 19, 19, 19, 19, 20, 23, 23, 20, 23, 23, 23, 20, 20, 23, 22, 28, 24, 24, 22, 25, 25, 25, 25, 20, 25, 25, 25, 20, 25, 25, 25, 25, 25, 25, 25, 20, 25, 20, 25, 24, 23, 23, 23, 25, 24, 24, 25, 23, 23, 23, 22, 22, 22, 23, 23, 24, 23, 22, 23, 22, 23, 22, 24, 22, 23, 23, 23, 24, 25, 20, 25, 20, 25, 24, 25, 25, 24, 25, 20, 25, 24, 24, 25, 24, 25, 16, 15, 15, 14, 14, 14, 14, 14, 15, 14, 15, 15, 18, 18, 18, 18, 18, 16, 17, 16, 18, 17, 18, 25, 26, 26, 25, 30, 30, 30, 20, 20, 20, 23, 23, 23, 23, 23, 20, 15, 14, 15, 15, 15, 15, 15, 15, 15, 15, 15, 15, 15, 15, 15, 15, 15, 15, 15, 15, 20, 20, 19, 20, 19, 19, 19, 20, 20, 20, 19, 19, 20, 19, 20, 19, 20, 20, 19, 19, 19, 20, 20, 20, 20, 19, 19, 19, 14, 14, 14, 14, 14, 17, 14, 17, 19, 15, 14, 15, 14, 16, 14, 19, 17, 17, 14, 16, 14, 17, 18, 18, 18, 17, 17, 17, 17, 17, 18, 18, 18, 18, 17, 18, 19, 18, 19, 19, 18, 19, 18, 19, 18, 20, 19, 19, 19, 18, 19, 19, 19, 18, 18, 18, 20, 18, 19, 19, 19, 20, 20, 20, 20, 20, 20, 19, 15, 15, 15, 15, 16, 16, 15, 15, 15, 16, 15, 16, 27, 27, 27, 27, 27, 27, 22, 22, 22, 25, 25, 22, 22, 22, 22, 22, 22, 22, 22, 15, 16, 15, 15, 15, 19, 18, 21, 21, 21, 19, 18, 19, 20, 20, 20, 20, 20, 20, 20, 20, 20, 20, 20, 20, 20, 20, 19, 18, 16, 16, 16, 15, 19, 28, 20, 19, 20, 19, 28, 29, 29, 20, 23, 19, 20, 19, 18, 27, 19, 22, 28, 19, 23, 22, 23, 20, 19, 22, 20, 26, 23, 20, 19, 22, 22, 23, 19, 27, 18, 24, 24, 20, 20, 24, 18, 18, 20, 20, 24, 18, 24, 24, 24, 24, 18, 20, 18, 20, 16, 18, 18, 18, 16, 18, 17, 19, 18, 17, 19, 19, 17, 19, 18, 17, 19, 19, 19, 22, 20, 21, 21, 22, 17, 18, 29, 16, 16, 18, 18, 17, 16, 16, 16, 29, 16, 17, 16, 18, 16, 29, 16, 16, 18, 18, 18, 19, 19, 16, 16, 16, 19, 16, 19, 19, 16, 16, 19, 19, 19, 19, 19, 19, 19, 19, 20, 20, 20, 20, 20, 20, 20, 20, 14, 14, 13, 14, 14, 14, 17, 17, 17, 17, 17, 17, 17, 17, 12, 12, 12, 12, 14, 14, 26, 21, 25, 19, 21, 25, 26, 19, 19, 20, 17, 16, 17, 16, 17, 16, 14, 14, 14, 14, 13, 14, 14, 14, 14, 14, 14, 18, 15, 18, 16, 18, 17, 18, 15, 14, 15, 15, 14, 14, 14, 16, 14, 15, 15, 15, 15, 14, 16, 14, 14, 14, 14, 14, 14, 11, 11, 12, 13, 13, 12, 13, 12, 13, 13, 12, 13, 13, 13, 13, 13, 13, 16, 13, 12, 13, 13, 12, 13, 13, 13, 12, 16, 13, 12, 13, 13, 13, 13, 13, 16, 12, 12, 13, 13, 14, 14, 13, 13, 13, 14, 13, 14, 13, 14, 13, 14, 14, 14, 14, 13, 14, 13, 13, 13, 13, 13, 14, 14, 14, 14, 14, 14, 13, 14, 14, 14, 13, 13, 14, 13, 13, 13, 13, 12, 13, 12, 13, 12, 14, 14, 13, 13, 12, 12, 13, 13, 11, 11, 12, 13, 21, 21, 21, 21, 21, 21, 21, 21, 21, 21, 21, 21, 21, 21, 21, 21, 21, 21, 21, 20, 21, 20, 21, 21, 17, 17, 17, 22, 17, 22, 24, 22, 24, 22, 24, 22, 24, 22, 24, 24, 22, 24, 22, 22, 23, 22, 22, 23, 22, 22, 23, 23, 23, 22, 22, 22, 19, 19, 19, 19, 19, 19, 19, 19, 16, 16, 16, 19, 19, 20, 20, 20, 19, 19, 20, 20, 19, 20, 20, 19, 19, 19, 20, 20, 19, 20, 19, 19, 19, 20, 20, 21, 21, 21, 21, 19, 19, 19, 19, 19, 21, 21, 19, 21, 19, 21, 19, 19, 17, 17, 16, 17, 17, 16, 17, 17, 20, 19, 20, 20, 19, 19, 19, 19, 19, 20, 20, 20, 20, 19, 19, 15, 15, 15, 15, 15, 15, 15, 15, 15, 18, 18, 18, 19, 19, 19, 19, 19, 18, 18, 18, 18, 27, 27, 27, 27, 27, 27, 27, 27, 27, 27, 27, 27, 27, 27, 27, 27, 27, 27, 27, 27, 27, 17, 16, 16, 16, 16, 16, 17, 17, 17, 17, 20, 20, 20, 20, 20, 20, 28, 20, 28, 20, 20, 20, 15, 15, 15, 15, 15, 23, 22, 22, 23, 25, 25, 25, 26, 26, 26, 25, 26, 25, 25, 25, 26, 26, 26, 26, 25, 26, 25, 25, 26, 19, 18, 19, 18, 19, 19, 18, 19, 18, 19, 18, 20, 18, 20, 20, 16, 16, 16, 16, 17, 17, 17, 17, 17, 17, 17, 17, 17, 17, 17, 17, 17, 17, 13, 13, 16, 16, 16, 24, 24, 22, 22, 21, 24, 22, 22, 24, 20, 24, 24, 20, 22, 22, 17, 16, 16, 17, 16, 17, 17, 16, 17, 16, 17, 16, 18, 18, 18, 18, 19, 20, 19, 19, 20, 20, 19, 27, 28, 28, 27, 27, 26, 30, 30, 30, 31, 31, 31, 15, 17, 17, 12, 15, 19, 14, 15, 17, 19, 14, 15, 14, 14, 17, 15, 17, 15, 14, 15, 19, 12, 19, 19, 14, 17, 19, 12, 17, 19, 19, 12, 19, 19, 14, 18, 18, 18, 18, 18, 18, 18, 23, 23, 23, 23, 21, 21, 18, 19, 20, 20, 21, 21, 21, 21, 18, 17, 17, 18, 17, 17, 18, 18, 18, 17, 18, 17, 18, 17, 18, 18, 18, 17, 17, 18, 18, 22, 20, 24, 20, 19, 19, 25, 25, 24, 25, 23, 18, 22, 20, 20, 22, 26, 20, 26, 20, 23, 20, 25, 18, 18, 25, 25, 25, 23, 17, 18, 18, 18, 18, 17, 17, 19, 18, 18, 16, 17, 16, 19, 17, 19, 18, 20, 18, 19, 19, 26, 26, 25, 25, 16, 23, 22, 23, 22, 14, 15, 14, 14, 15, 14, 14, 12, 14, 12, 14, 12, 24, 24, 20, 19, 18, 20, 19, 19, 19, 20, 19, 21, 20, 20, 18, 18, 18, 18, 18, 18, 17, 17, 17, 17, 17, 18, 18, 17, 11, 13, 11, 14, 11, 11, 11, 11, 11, 11, 11, 11, 11, 11, 13, 11, 11, 13, 11, 11, 11, 11, 11, 11, 11, 11, 11, 11, 11, 11, 11, 17, 17, 17, 17, 16, 16, 16, 16, 16, 23, 23, 16, 21, 21, 21, 21, 15, 18, 21, 21, 18, 16, 21, 20, 21, 21, 16, 21, 18, 20, 21, 18, 18, 18, 17, 18, 18, 18, 17, 18, 18, 17, 18, 18, 18, 18, 30, 30, 30, 27, 30, 30, 29, 29, 27, 29, 30, 29, 29, 27, 29, 27, 29, 29, 26, 22, 22, 19, 19, 13, 13, 13, 13, 13, 13, 13, 13, 13, 16, 16, 16, 16, 16, 21, 23, 23, 21, 21, 21, 21, 21, 21, 19, 21, 19, 21, 19, 21, 20, 19, 20, 20, 20, 21, 20, 20, 16, 16, 16, 18, 18, 18, 18, 16, 16, 18, 18, 18, 18, 18, 18, 18, 18, 16, 18, 18, 18, 16, 18, 18, 16, 18, 18, 16, 18, 16, 18, 18, 18, 18, 19, 19, 18, 18, 19, 18, 19, 19, 19, 19, 19, 19, 19, 19, 18, 19, 18, 14, 14, 13, 13, 13, 13, 15, 15, 14, 14, 13, 14, 15, 15, 13, 14, 14, 15, 14, 14, 13, 15, 14, 14, 15, 14, 14, 13, 15, 15, 13, 14, 13, 14, 13, 14, 15, 14, 14, 14, 14, 13, 14, 14, 14, 14, 14, 13, 13, 20, 20, 20, 20, 20, 20, 20, 20, 20, 20, 20, 20, 16, 17, 16, 18, 17, 17, 16, 17, 18, 16, 16, 17, 18, 18, 18, 18, 18, 17, 17, 18, 17, 16, 16, 18, 16, 17, 17, 16, 16, 18, 16, 18, 16, 18, 16, 16, 18, 18, 17, 16, 16, 17, 17, 16, 18, 18, 18, 16, 16, 16, 18, 17, 16, 17, 16, 17, 17, 17, 16, 16, 16, 16, 16, 18, 18, 16, 17, 16, 17, 16, 16, 17, 17, 16, 18, 16, 18, 15, 17, 18, 18, 18, 17, 16, 15, 16, 17, 16, 17, 18, 13, 13, 13, 13, 13, 13, 10, 13, 12, 12, 13, 16, 17, 16, 17, 17, 17, 17, 16, 17, 16, 16, 16, 17, 17, 17, 14, 15, 14, 14, 14, 13, 14, 14, 13, 13, 13, 15, 14, 13, 14, 14, 15, 14, 15, 15, 14, 15, 13, 14, 14, 13, 13, 15, 13, 14, 14, 15, 15, 13, 14, 14, 14, 14, 14, 13, 14, 13, 14, 14, 13, 14, 14, 13, 14, 20, 20, 20, 20, 20, 20, 20, 20, 20, 20, 20, 20, 16, 17, 18, 16, 17, 17, 18, 17, 17, 16, 16, 16, 17, 17, 17, 17, 18, 16, 18, 16, 16, 17, 18, 18, 17, 18, 17, 17, 18, 16, 18, 16, 17, 17, 16, 16, 16, 16, 16, 18, 18, 18, 18, 17, 18, 17, 18, 16, 18, 18, 18, 17, 18, 18, 17, 17, 18, 16, 17, 18, 17, 18, 17, 17, 16, 18, 16, 16, 16, 18, 16, 17, 16, 18, 17, 18, 16, 17, 16, 18, 17, 16, 17, 16, 16, 17, 17, 16, 16, 18, 17, 16, 17, 17, 16, 16, 16, 17, 16, 17, 16, 18, 18, 18, 18, 17, 18, 18, 16, 18, 18, 16, 17, 17, 16, 15, 17, 17, 15, 15, 17, 17, 17, 18, 16, 16, 17, 15, 18, 18, 18, 15, 16, 16, 15, 16, 18, 16, 18, 16, 17, 17, 17, 15, 17, 17, 16, 15, 17, 17, 18, 16, 18, 17, 17, 18, 19, 18, 18, 19, 19, 19, 20, 25, 21, 19, 22, 22, 21, 19, 21, 25, 19, 13, 13, 13, 13, 17, 19, 19, 19, 19, 19, 19, 19, 19, 19, 19, 28, 21, 28, 22, 25, 25, 25, 29, 25, 26, 29, 25, 25, 27, 27, 26, 27, 27, 26, 26, 26, 27, 24, 24, 27, 26, 27, 27, 25, 26, 24, 26, 24, 25, 24, 27, 25, 24, 24, 27, 28, 28, 28, 25, 15, 19, 14, 17, 19, 14, 17, 17, 12, 19, 19, 14, 12, 19, 17, 12, 17, 19, 18, 20, 18, 18, 18, 18, 18, 19, 18, 18, 18, 21, 18, 18, 17, 19, 21, 17, 18, 21, 18, 20, 18, 20, 19, 21, 18, 18, 17, 20, 18, 17, 18, 18, 21, 18, 21, 19, 24, 23, 23, 24, 24, 24, 23, 23, 24, 24, 24, 24, 31, 30, 31, 31, 30, 30, 30, 31, 31, 31, 30, 30, 29, 29, 30, 30, 29, 30, 23, 23, 23, 23, 23, 23, 23, 24, 24, 23, 23, 23, 24, 24, 23, 23, 23, 24, 23, 24, 23, 24, 24, 19, 19, 21, 20, 21, 19, 19, 19, 19, 21, 19, 21, 20, 19, 21, 21, 22, 20, 22, 21, 17, 17, 17, 17, 17, 17, 16, 16, 17, 17, 17, 16, 17, 17, 16, 17, 16, 17, 16, 17, 17, 16, 16, 17, 16, 17, 17, 14, 14, 14, 14, 14, 14, 16, 17, 17, 17, 17, 16, 17, 17, 17, 16, 19, 19, 18, 18, 19, 20, 19, 17, 21, 19, 19, 19, 18, 19, 21, 19, 20, 12, 15, 17, 18, 15, 18, 18, 15, 18, 18, 18, 16, 16, 15, 15, 15, 16, 16, 15, 16, 15, 16, 15, 15, 16, 15, 15, 16, 16, 12, 11, 12, 12, 12, 12, 22, 22, 22, 17, 21, 21, 23, 23, 22, 23, 23, 23, 23, 16, 16, 15, 16, 17, 15, 15, 15, 15, 15, 15, 15, 26, 26, 31, 31, 22, 23, 23, 22, 23, 23, 23, 22, 23, 23, 23, 23, 22, 23, 22, 23, 23, 23, 25, 25, 23, 23, 23, 22, 22, 22, 22, 23, 25, 23, 23, 23, 23, 15, 15, 15, 18, 15, 15, 15, 17, 15, 15, 17, 15, 15, 15, 15, 15, 19, 16, 18, 19, 15, 21, 19, 16, 17, 17, 15, 16, 15, 16, 16, 19, 17, 18, 19, 18, 19, 18, 19, 19, 17, 17, 19, 19, 18, 18, 19, 19, 19, 19, 17, 19, 18, 19, 19, 17, 19, 19, 18, 19, 18, 19, 19, 19, 19, 18, 19, 19, 19, 19, 17, 19, 18, 18, 18, 19, 19, 20, 20, 20, 20, 20, 20, 11, 12, 16, 16, 16, 16, 16, 16, 16, 16, 16, 16, 16, 16, 16, 16, 16, 16, 16, 16, 23, 23, 23, 23, 23, 23, 23, 23, 23, 23, 23, 23, 23, 23, 27, 27, 29, 28, 28, 28, 27, 22, 20, 22, 22, 20, 22, 20, 22, 20, 22, 20, 22, 22, 22, 20, 22, 20, 22, 20, 20, 20, 21, 20, 21, 21, 20, 21, 21, 20, 15, 16, 16, 15, 15, 16, 16, 15, 16, 16, 16, 19, 17, 16, 21, 17, 17, 17, 16, 17, 20, 17, 17, 20, 20, 20, 17, 17, 17, 20, 17, 20, 20, 20, 21, 20, 21, 20, 21, 21, 21, 21, 20, 20, 21, 20, 21, 21, 20, 20, 20, 20, 20, 20, 20, 20, 20, 12, 13, 12, 13, 12, 13, 13, 12, 12, 12, 13, 12, 13, 12, 13, 12, 13, 12, 13, 12, 13, 12, 12, 12, 13, 12, 15, 15, 15, 15, 15, 15, 15, 15, 15, 18, 20, 18, 18, 20, 17, 20, 20, 18, 18, 17, 20, 18, 20, 20, 20, 20, 17, 18, 20, 18, 18, 20, 21, 24, 21, 21, 21, 24, 21, 21, 21, 21, 24, 21, 21, 24, 21, 24, 21, 24, 21, 21, 21, 17, 17, 16, 17, 17, 16, 17, 17, 16, 17, 12, 14, 17, 14, 13, 20, 20, 17, 17, 17, 17, 20, 20, 17, 17, 21, 17, 21, 17, 21, 17, 17, 17, 17, 17, 17, 17, 17, 17, 17, 17, 17, 17, 17, 17, 17, 17, 17, 17, 17, 16, 16, 16, 16, 16, 16, 16, 16, 20, 20, 20, 16, 20, 16, 20, 17, 16, 17, 20, 20, 20, 20, 16, 20, 17, 17, 17, 17, 17, 14, 14, 13, 13, 12, 13, 12, 13, 14, 14, 14, 14, 14, 13, 12, 14, 12, 13, 14, 14, 14, 14, 14, 14, 14, 14, 12, 14, 12, 12, 14, 12, 14, 14, 14, 14, 12, 14, 14, 12, 14, 14, 17, 16, 16, 16, 16, 16, 17, 16, 16, 17, 16, 17, 17, 15, 15, 15, 15, 15, 15, 15, 15, 15, 15, 15, 15, 15, 15, 15, 15, 15, 15, 26, 24, 24, 26, 24, 26, 26, 24, 24, 26, 24, 26, 24, 25, 24, 25, 24, 25, 16, 16, 16, 16, 16, 29, 29, 29, 29, 19, 22, 18, 20, 17, 19, 19, 17, 20, 20, 18, 18, 17, 20, 20, 21, 21, 22, 21, 19, 18, 20, 21, 20, 21, 18, 21, 20, 23, 20, 19, 21, 16, 17, 14, 17, 16, 14, 14, 17, 17, 21, 15, 17, 21, 14, 19, 16, 16, 16, 14, 14, 16, 19, 19, 15, 15, 15, 19, 19, 15, 19, 15, 19, 15, 19, 19, 22, 22, 22, 22, 22, 22, 22, 19, 19, 22, 22, 21, 22, 22, 21, 22, 19, 21, 22, 19, 22, 22, 18, 18, 22, 22, 23, 23, 23, 23, 22, 22, 23, 23, 21, 23, 20, 21, 20, 21, 20, 20, 26, 25, 25, 21, 24, 24, 25, 23, 23, 21, 25, 25, 24, 24, 26, 25, 14, 13, 15, 14, 14, 13, 15, 13, 15, 13, 13, 13, 13, 13, 14, 14, 15, 15, 14, 15, 15, 14, 15, 14, 15, 14, 16, 16, 16, 16, 15, 16, 16, 16, 16, 16, 16, 19, 19, 19, 19, 20, 18, 20, 21, 21, 21, 20, 20, 20, 20, 22, 22, 19, 20, 25, 19, 20, 25, 22, 20, 18, 20, 22, 25, 25, 18, 18, 25, 20, 23, 25, 25, 25, 16, 16, 18, 18, 13, 16, 15, 12, 13, 24, 27, 24, 26, 24, 24, 25, 25, 16, 16, 17, 17, 17, 16, 17, 17, 17, 17, 17, 17, 17, 16, 17, 17, 17, 17, 17, 17, 17, 17, 20, 18, 18, 19, 19, 19, 20, 20, 18, 20, 19, 18, 20, 19, 18, 18, 20, 19, 20, 20, 18, 20, 18, 20, 20, 19, 20, 16, 17, 17, 16, 17, 17, 16, 16, 16, 16, 17, 17, 21, 21, 21, 21, 21, 21, 21, 21, 21, 21, 21, 21, 21, 21, 17, 17, 17, 18, 18, 18, 18, 17, 17, 31, 31, 31, 31, 31, 27, 31, 31, 27, 31, 31, 31, 31, 31, 31, 31, 31, 31, 31, 27, 31, 26, 31, 26, 31, 31, 27, 31, 26, 27, 31, 31, 26, 26, 21, 21, 20, 20, 26, 21, 21, 20, 20, 20, 20, 20, 20, 20, 20, 20, 20, 20, 20, 17, 17, 17, 17, 16, 18, 16, 17, 17, 18, 17, 18, 16, 16, 18, 16, 18, 17, 19, 17, 17, 21, 19, 21, 21, 17, 20, 17, 20, 18, 18, 20, 20, 18, 20, 18, 20, 17, 22, 22, 22, 22, 22, 23, 22, 18, 22, 23, 22, 19, 21, 27, 21, 21, 19, 21, 27, 27, 19, 21, 21, 20, 19, 18, 20, 19, 19, 20, 24, 19, 18, 15, 18, 15, 23, 18, 18, 18, 23, 15, 18, 15, 19, 18, 18, 15, 18, 15, 18, 27, 27, 27, 27, 27, 27, 22, 22, 22, 22, 22, 22, 22, 22, 22, 22, 17, 17, 22, 17, 17, 17, 24, 24, 17, 17, 24, 18, 22, 22, 24, 17, 24, 24, 17, 18, 18, 22, 24, 17, 17, 18, 22, 18, 22, 18, 17, 22, 18, 22, 19, 19, 17, 17, 20, 17, 23, 23, 20, 17, 19, 20, 20, 22, 23, 20, 18, 17, 17, 18, 24, 17, 18, 24, 23, 19, 19, 23, 19, 19, 23, 23, 19, 23, 16, 16, 22, 20, 22, 20, 20, 22, 20, 22, 22, 22, 22, 20, 20, 22, 20, 17, 27, 27, 27, 27, 27, 27, 27, 27, 27, 27, 17, 17, 15, 15, 15, 15, 16, 16, 16, 15, 15, 16, 16, 15, 15, 15, 15, 16, 15, 15, 15, 16, 15, 15, 16, 15, 16, 16, 16, 15, 16, 15, 15, 15, 16, 16, 16, 16, 16, 16, 16, 16, 16, 16, 16, 16, 16, 16, 16, 16, 16, 16, 16, 16, 16, 15, 16, 16, 16, 16, 16, 15, 15, 15, 17, 16, 17, 16, 17, 17, 16, 16, 18, 19, 19, 18, 19, 18, 15, 16, 16, 15, 16, 15, 16, 15, 16, 15, 15, 16, 16, 16, 15, 15, 15, 15, 16, 15, 16, 17, 18, 18, 16, 17, 17, 18, 16, 18, 18, 18, 18, 17, 16, 17, 16, 18, 17, 18, 17, 18, 17, 17, 16, 16, 18, 18, 23, 25, 25, 29, 29, 25, 25, 23, 26, 30, 30, 23, 23, 26, 30, 30, 30, 30, 30, 30, 30, 30, 30, 30, 30, 30, 30, 30, 30, 30, 30, 30, 30, 30, 30, 30, 11, 20, 20, 20, 20, 20, 20, 20, 20, 20, 20, 20, 20, 15, 16, 15, 15, 14, 16, 16, 16, 15, 15, 15, 14, 15, 15, 14, 15, 16, 16, 16, 16, 16, 16, 15, 14, 15, 16, 15, 16, 16, 16, 15, 16, 16, 15, 16, 16, 17, 17, 17, 19, 18, 19, 19, 18, 19, 15, 15, 15, 15, 22, 19, 17, 22, 17, 17, 17, 22, 17, 16, 16, 16, 16, 16, 16, 16, 17], \"z\": [46135, 40650, 36350, 29450, 34500, 31200, 44100, 39300, 36900, 37200, 39600, 44400, 37200, 48250, 43550, 2000, 2000, 2000, 2000, 2000, 27495, 24995, 28195, 32850, 38650, 48750, 34850, 40650, 44150, 32850, 46150, 50750, 46450, 49050, 51050, 44450, 38950, 33150, 35150, 40950, 25170, 23950, 29370, 21995, 26625, 30825, 21995, 27795, 31785, 29905, 22490, 27570, 25690, 24490, 29905, 31785, 26685, 22490, 25690, 30900, 27795, 21995, 24490, 2000, 2000, 2073, 3713, 3520, 3910, 4182, 4107, 4299, 4693, 4107, 16020, 14530, 16860, 15370, 17050, 15560, 16210, 14720, 17050, 15560, 16210, 14720, 47250, 43000, 49200, 49650, 43950, 41950, 50150, 43750, 34950, 45750, 32950, 41850, 47800, 38350, 40350, 38350, 42650, 33150, 35150, 44150, 45800, 38750, 35450, 33450, 40750, 42250, 42950, 49900, 47900, 44450, 3941, 3295, 6008, 6710, 3701, 4671, 5306, 7600, 4090, 37570, 31695, 38070, 44895, 35070, 42395, 34195, 40570, 38095, 35595, 45190, 32260, 37755, 41055, 36090, 42690, 38555, 35255, 38590, 34760, 41135, 45270, 38670, 38635, 36170, 38175, 32340, 42770, 34840, 35675, 32065, 28540, 32315, 28885, 29185, 32615, 2847, 2488, 2683, 2553, 3049, 2774, 2702, 3101, 3510, 3107, 3624, 3185, 2000, 36550, 41250, 30600, 37100, 27900, 32700, 40250, 35550, 36100, 33200, 37900, 29600, 38070, 38900, 33840, 38630, 39630, 37740, 41980, 36280, 36740, 40980, 38680, 28510, 30210, 31210, 33340, 37280, 41570, 36870, 42570, 37870, 39220, 40220, 46790, 48100, 29990, 41820, 31290, 34870, 33570, 46570, 37970, 37070, 49400, 45270, 39270, 45490, 41990, 38370, 43290, 41820, 48100, 43290, 39270, 34870, 41990, 38370, 45270, 45490, 29990, 46570, 46790, 49400, 37070, 31290, 37970, 33570, 37970, 38370, 34870, 29990, 45490, 41990, 45270, 33570, 48100, 39270, 46570, 49400, 37070, 41820, 46790, 43290, 31290, 25045, 26095, 23795, 19595, 18445, 23845, 25395, 24895, 25545, 24295, 19495, 20095, 19995, 21145, 23245, 16945, 24345, 20645, 18945, 26595, 22745, 17995, 22545, 21095, 25495, 20745, 24295, 23595, 21795, 17845, 26495, 24745, 18895, 19595, 23245, 18545, 25795, 20045, 25445, 24795, 21495, 17845, 23145, 24195, 20145, 24945, 23895, 19095, 23445, 18895, 22245, 22395, 20445, 45800, 47800, 43650, 49950, 47950, 41650, 48300, 50300, 43950, 41950, 56900, 46250, 48250, 54900, 52000, 50000, 41850, 50150, 41850, 58950, 43850, 48150, 56950, 50300, 52300, 50500, 44150, 42150, 59300, 57300, 48500, 63900, 68400, 53900, 55900, 65900, 41365, 35740, 37615, 34695, 35725, 43400, 32820, 38645, 37825, 43620, 36115, 35950, 33210, 38855, 41585, 35085, 41310, 36690, 44360, 39595, 41850, 42325, 35885, 38565, 36915, 34010, 60700, 71400, 63000, 69100, 63200, 72500, 60900, 63200, 60900, 72500, 67200, 57900, 57100, 52250, 59400, 64900, 49950, 55600, 57350, 58150, 55850, 52500, 50200, 68600, 66300, 59650, 26595, 18700, 19700, 22800, 24700, 22495, 17495, 20345, 17700, 20400, 16845, 26695, 21295, 20395, 17745, 22575, 24495, 16995, 20395, 19700, 17900, 21395, 19995, 19390, 17485, 20885, 21490, 15990, 19345, 23095, 24695, 21695, 20695, 21880, 23395, 24795, 20795, 19495, 23695, 20995, 22995, 24635, 25135, 29235, 23335, 22735, 27035, 20000, 27335, 25235, 27035, 25135, 25235, 23890, 23335, 19995, 24470, 20940, 19940, 22070, 20140, 24670, 21140, 22270, 24770, 22370, 21240, 76100, 2080, 2234, 2000, 2146, 22935, 19935, 20935, 18735, 19985, 18785, 21885, 24895, 22895, 23845, 21190, 29895, 22995, 24995, 21495, 30195, 23945, 30695, 21945, 24195, 22995, 25245, 74000, 53900, 66300, 4784, 5680, 6693, 2000, 2000, 2000, 2000, 2000, 2000, 2000, 2000, 2000, 2000, 2091, 2000, 2000, 2000, 26255, 26975, 26950, 22990, 26950, 22990, 28900, 44080, 46080, 37115, 39490, 34340, 44080, 40840, 31180, 32395, 34340, 34975, 37115, 34975, 30250, 32395, 29830, 46080, 37810, 51330, 38305, 44885, 30360, 42130, 43605, 31790, 35315, 37140, 34150, 44455, 36395, 47345, 32395, 28900, 30330, 39990, 38115, 45080, 35340, 36975, 37020, 28900, 38115, 32395, 39990, 30330, 37020, 35340, 36975, 45080, 37250, 35875, 33380, 40245, 48010, 39400, 43270, 39650, 38380, 40765, 42000, 49165, 38525, 49565, 43435, 48030, 39190, 41190, 42770, 40400, 46530, 49105, 42615, 45345, 2000, 2000, 2000, 2000, 2122, 2000, 2145, 2084, 2063, 2172, 2000, 2000, 2000, 2000, 2000, 2000, 2000, 2000, 2000, 2000, 2000, 2078, 2117, 2000, 2115, 2000, 2000, 2268, 2000, 2000, 2000, 7419, 9400, 2000, 2000, 2000, 2000, 2000, 2000, 2000, 2000, 2000, 2000, 2000, 2000, 2000, 2000, 2000, 2000, 4191, 4878, 4723, 5576, 33200, 44050, 29900, 41650, 38150, 35750, 47050, 38350, 35600, 38600, 41150, 32450, 34200, 39600, 37700, 43050, 39300, 36600, 39750, 45450, 48450, 34400, 43100, 36900, 33600, 30900, 40100, 42300, 43150, 40150, 37450, 37600, 34450, 40300, 49250, 43550, 31200, 40850, 46550, 34200, 51400, 44000, 47000, 45000, 39700, 43800, 35500, 38500, 37600, 36400, 42900, 37600, 37000, 38000, 38000, 35900, 40100, 39100, 37300, 34900, 48000, 43200, 41100, 45900, 39400, 38700, 37850, 42350, 43800, 41500, 47900, 50200, 40500, 42800, 41200, 48600, 42200, 58700, 50450, 44800, 60100, 48350, 56300, 46900, 62500, 52100, 49900, 46200, 59500, 61600, 57400, 63700, 48400, 53800, 61600, 67600, 58600, 49800, 47600, 65900, 69750, 68300, 72150, 70400, 68300, 73050, 70950, 68800, 71350, 43850, 45850, 33975, 40820, 42820, 42095, 44095, 38555, 47690, 35975, 49690, 36555, 36755, 44295, 42295, 30975, 36175, 49890, 41020, 34175, 47890, 38755, 43020, 38350, 43750, 35070, 32450, 37070, 41450, 34450, 29070, 44920, 46920, 41750, 17395, 14895, 15645, 16095, 14645, 16395, 14745, 14995, 15745, 17495, 16495, 16195, 15745, 17495, 16195, 16495, 14745, 14995, 2000, 2000, 34020, 36220, 29670, 34770, 32570, 29990, 32890, 36540, 34340, 35090, 30775, 32270, 32550, 23775, 26300, 30195, 25450, 32550, 24665, 25030, 30270, 25830, 28495, 30495, 30775, 22105, 28420, 33630, 24625, 23865, 22905, 32745, 28670, 26850, 25065, 30745, 27380, 34680, 27850, 24725, 24265, 26380, 30845, 25580, 23005, 23875, 28845, 26065, 26000, 25725, 24005, 31025, 34225, 33025, 22205, 31025, 30670, 24025, 30995, 22355, 34830, 26150, 32895, 25215, 27530, 28820, 24155, 34375, 30895, 33175, 31175, 27000, 28000, 24415, 28995, 30820, 31175, 25875, 26530, 23155, 25730, 25415, 24875, 2000, 2000, 2000, 2000, 2000, 61400, 61900, 62100, 17049, 16349, 15949, 13449, 15449, 17349, 15649, 16849, 15149, 16049, 16549, 17849, 14349, 17549, 16599, 15499, 15999, 14099, 16099, 15299, 14599, 16999, 17099, 14999, 16199, 15099, 14299, 16299, 17199, 15299, 16199, 22395, 21080, 19605, 21080, 17805, 17805, 19855, 22145, 21585, 18085, 21585, 20035, 22935, 22685, 18085, 20035, 23335, 18485, 21985, 20435, 18485, 20435, 23085, 21985, 39950, 41000, 46950, 39950, 39950, 40250, 47250, 40250, 40700, 43300, 49200, 44500, 42400, 49800, 42700, 44800, 22560, 28150, 31950, 22300, 29830, 32350, 26450, 24720, 32090, 27390, 22500, 22900, 24470, 25460, 28570, 27990, 32690, 25460, 22500, 32690, 22900, 27990, 24470, 28570, 25495, 25495, 26045, 37590, 52860, 42680, 45580, 42890, 49960, 50780, 53680, 43810, 46500, 49880, 43600, 38510, 52780, 49650, 57590, 60490, 52550, 44900, 47800, 30935, 33810, 32905, 35780, 45270, 37115, 34730, 22050, 24450, 25195, 22695, 22930, 25430, 25690, 23690, 26195, 24195, 24430, 26430, 48165, 50165, 37995, 40445, 46935, 51435, 45150, 47095, 48205, 47750, 50325, 41920, 44935, 44520, 47605, 41920, 48675, 48715, 45445, 45150, 40445, 47750, 47445, 50675, 37995, 51945, 44520, 50835, 43395, 37595, 39995, 49495, 41395, 46995, 48995, 62665, 60465, 62895, 60695, 41340, 39340, 33215, 45615, 47615, 44660, 46715, 37245, 41340, 46660, 48715, 44660, 35245, 42660, 37340, 43340, 41340, 46110, 45155, 39340, 47155, 43155, 37245, 48110, 37340, 35245, 43340, 33215, 47210, 41340, 45155, 49210, 46995, 40395, 43995, 45995, 34595, 36595, 38395, 34794, 30619, 31615, 35085, 34725, 45815, 35725, 38830, 39405, 46195, 39350, 49500, 42455, 36300, 40195, 43245, 47000, 39850, 36800, 50305, 37170, 32285, 39980, 36080, 34140, 37050, 35850, 40450, 32650, 34400, 41050, 37650, 33250, 36450, 35000, 25995, 21495, 23995, 18995, 25695, 19795, 22595, 20595, 25795, 23295, 11965, 15365, 14100, 11965, 14100, 15365, 15365, 11965, 14100, 12115, 15365, 14250, 15365, 12115, 11965, 14250, 15365, 14100, 45125, 42175, 39485, 42435, 45705, 42755, 40290, 43240, 40635, 43585, 38200, 34000, 34100, 39300, 34100, 39300, 23820, 20870, 24190, 21275, 24445, 21530, 2179, 3323, 2915, 2756, 2692, 2930, 2717, 3033, 2713, 2432, 3514, 3696, 2593, 3538, 2870, 2211, 3206, 3119, 3214, 2853, 3221, 2493, 2946, 3011, 2857, 3229, 2801, 2637, 2961, 3107, 3394, 2689, 3768, 2350, 3289, 2413, 3928, 3579, 3032, 3190, 26590, 19675, 15535, 19040, 21430, 22045, 26590, 22045, 15535, 16060, 22150, 20030, 14990, 17225, 18485, 14545, 12345, 18360, 19340, 17545, 12495, 22085, 14695, 15125, 29995, 31995, 22795, 23995, 24995, 21995, 26295, 22345, 24345, 25345, 27245, 23145, 24595, 22495, 25595, 27495, 23295, 32755, 31195, 30755, 30095, 29995, 28895, 30295, 30195, 31125, 29675, 29095, 31395, 25995, 30775, 32225, 25895, 20195, 27710, 26430, 29625, 28525, 28810, 25330, 24795, 19595, 20475, 19995, 23995, 21890, 32550, 25975, 22450, 2000, 2000, 2000, 2000, 2000, 2000, 39030, 41675, 44580, 38625, 47885, 35980, 51785, 20745, 23745, 24695, 26695, 22845, 25230, 27230, 24055, 23255, 21055, 24305, 21305, 25480, 27480, 26695, 29670, 34020, 27185, 35270, 30035, 35585, 30350, 27965, 30995, 27995, 29995, 26245, 39995, 37995, 32995, 30995, 28295, 62100, 50400, 73500, 63300, 51400, 74600, 63900, 52100, 34745, 32215, 32660, 33395, 35345, 33920, 35870, 2000, 29490, 28795, 25695, 27695, 27395, 27690, 28495, 25395, 28745, 29695, 25495, 27645, 40400, 46050, 42575, 62950, 38400, 44050, 41050, 48590, 39050, 40575, 63900, 39400, 43125, 50800, 41125, 41275, 65250, 38950, 39275, 40950, 39850, 39500, 52000, 67000, 41675, 44650, 42650, 43675, 65200, 41500, 41850, 52900, 50900, 24700, 27100, 27450, 24950, 25500, 27850, 3555, 3996, 4330, 4472, 4661, 5739, 39950, 40450, 41200, 2631, 2837, 3137, 2473, 2568, 19600, 23175, 22300, 20475, 21475, 20600, 21475, 23175, 22300, 20600, 19600, 20475, 34900, 43800, 44090, 35990, 32990, 38990, 31990, 44390, 18740, 20555, 16880, 19995, 18060, 16975, 17995, 19995, 18620, 20585, 17380, 20585, 18585, 18730, 17380, 18765, 29205, 31205, 42405, 39505, 33505, 37305, 26005, 35105, 23705, 25145, 48300, 36800, 41300, 32700, 25700, 29800, 43300, 36300, 42905, 47905, 35605, 32600, 41905, 36905, 30405, 26600, 25905, 31905, 21855, 26940, 23355, 30210, 21025, 21860, 20360, 19530, 26405, 23405, 19930, 29460, 27190, 20760, 23030, 24530, 23905, 26905, 30460, 22260, 22200, 27440, 24155, 22450, 27155, 22510, 30710, 21010, 24780, 23280, 29710, 20180, 22970, 23840, 23840, 25715, 23070, 23070, 23840, 24685, 22385, 23040, 31790, 28610, 20840, 17490, 29145, 29125, 20455, 24435, 25305, 26485, 26470, 29730, 27935, 37250, 22650, 26595, 20995, 26725, 25205, 31650, 33855, 36950, 28535, 34310, 33420, 31145, 30055, 34010, 34280, 35020, 38110, 37810, 35665, 31540, 20955, 28595, 27385, 29245, 25865, 23310, 30765, 31855, 33460, 34720, 27305, 2000, 2000, 2000, 2000, 2000, 24155, 29615, 25770, 24940, 25145, 24360, 25975, 29495, 25985, 29505, 25155, 24370, 18380, 19835, 22225, 20130, 18630, 22520, 22995, 20555, 19055, 33065, 36065, 36065, 33065, 37065, 2066, 2103, 2241, 31305, 14230, 14030, 15730, 17030, 16830, 15530, 17410, 16105, 14435, 15905, 14235, 17610, 10135, 16290, 14610, 16090, 17510, 17710, 14410, 10325, 74100, 61700, 74800, 58300, 62300, 59600, 76200, 58900, 52600, 63800, 63800, 75200, 52600, 64100, 75200, 52600, 43575, 44355, 18140, 22005, 22705, 17340, 19535, 22935, 24810, 22235, 18370, 17570, 20335, 24110, 17670, 22335, 23035, 18470, 21235, 21815, 22040, 31995, 42595, 35795, 37995, 29995, 38795, 45695, 34995, 26995, 31995, 49195, 29995, 37995, 34995, 38995, 26995, 42795, 35995, 35890, 37995, 49195, 36890, 32890, 26995, 39890, 42795, 29995, 43995, 37390, 40140, 47995, 39995, 33595, 27995, 36595, 32995, 30995, 29995, 27995, 29995, 39995, 50995, 36895, 31995, 33895, 30245, 27995, 34790, 51145, 30245, 29995, 39890, 44995, 31995, 39995, 2000, 2000, 2050, 2052, 2116, 2000, 2000, 2000, 2107, 2202, 2373, 23515, 21955, 23515, 21955, 22405, 23515, 2000, 2000, 2033, 2000, 2213, 2108, 2410, 2142, 2322, 24340, 20040, 19990, 24590, 23090, 20390, 22890, 21190, 24390, 22840, 23290, 26740, 19290, 21190, 24140, 18290, 18490, 24590, 29390, 22640, 23090, 19090, 26125, 23425, 26500, 22300, 18640, 22040, 22200, 21040, 20850, 19050, 19440, 23700, 23200, 20440, 19850, 19700, 21300, 25300, 22800, 20500, 22100, 26225, 23525, 21500, 20540, 18740, 20950, 22400, 19540, 21140, 19150, 22140, 19950, 21600, 2949, 2992, 2529, 2580, 2668, 2583, 2637, 2517, 3046, 2265, 3046, 2896, 2891, 2713, 3120, 2653, 2541, 2486, 2268, 2207, 2925, 2242, 2554, 3088, 2749, 3220, 2996, 2366, 3265, 3676, 3427, 3470, 2898, 2920, 2580, 3357, 2996, 2883, 3094, 2885, 3419, 2668, 2789, 3321, 3342, 3025, 2653, 2740, 2639, 3067, 2817, 3350, 3282, 2430, 3696, 4098, 2949, 3345, 3034, 2697, 3360, 3068, 3090, 2847, 31500, 33500, 48500, 32050, 49500, 34050, 32400, 34400, 49950, 29980, 27980, 28030, 30030, 32700, 30550, 30350, 28200, 30550, 19505, 19690, 54200, 46200, 62900, 54900, 46450, 55150, 63200, 54500, 56100, 64800, 56800, 48100, 73200, 65990, 68490, 75700, 66900, 69400, 74100, 74850, 14410, 15120, 22335, 14410, 19695, 15120, 19695, 16460, 15660, 23425, 15660, 23425, 14990, 14990, 16460, 15670, 24535, 14990, 16470, 14990, 16470, 15670, 28340, 29480, 23030, 20980, 30320, 26160, 27490, 22955, 19730, 24440, 17475, 24285, 26620, 20370, 27010, 28460, 29220, 29550, 25850, 28630, 27110, 24330, 26885, 30005, 34415, 21775, 32085, 30785, 32385, 34115, 25170, 20120, 27630, 29705, 31555, 30665, 32895, 35000, 30365, 28515, 33195, 30030, 20100, 32440, 31670, 26510, 30435, 27545, 24990, 35300, 27920, 22435, 25980, 29440, 2000, 2000, 2000, 25520, 22790, 28415, 23180, 25910, 28805, 23480, 26210, 29105, 39660, 39895, 38185, 38790, 39775, 44560, 46560, 49515, 47515, 18750, 19490, 18965, 18965, 19665, 19895, 17550, 16950, 21495, 22025, 22955, 19195, 22725, 18565, 19135, 19135, 20065, 17300, 23125, 21665, 22195, 19835, 20635, 22895, 17900, 18735, 19365, 22680, 21300, 18500, 21665, 19335, 21900, 21825, 18935, 20445, 2000, 2000, 2000, 53000, 57000, 62000, 58000, 68160, 64160, 63160, 64000, 55000, 73450, 64450, 69450, 60000, 59000, 68450, 59160, 70145, 65145, 68855, 59855, 64400, 74145, 63855, 59400, 60400, 64855, 69145, 55400, 59905, 74195, 65195, 59450, 55450, 70195, 68905, 65450, 69905, 69195, 63905, 69450, 60450, 73905, 64450, 64905, 75195, 26470, 23120, 30620, 29370, 24370, 29120, 29820, 28570, 25220, 27870, 32895, 23445, 30895, 25545, 29395, 24695, 26795, 28145, 31645, 29645, 27295, 31245, 32095, 25845, 28445, 29945, 25045, 24545, 25995, 33395, 23745, 29745, 19995, 23340, 21840, 21990, 23490, 20145, 22140, 24440, 20295, 29145, 38545, 49470, 34195, 45170, 34185, 38955, 34595, 29510, 34560, 39130, 34735, 33540, 37090, 30890, 33015, 35640, 27230, 34990, 30915, 33690, 33165, 31065, 27380, 35790, 35140, 37240, 31040, 33315, 37390, 35940, 31190, 31215, 35290, 27530, 33840, 26395, 22395, 25095, 23395, 21595, 29995, 22495, 23495, 25195, 21695, 20195, 17845, 24370, 23370, 19165, 21470, 16120, 20195, 18970, 16170, 23270, 20095, 17745, 20095, 24270, 18870, 19065, 21370, 19120, 18120, 16620, 21120, 19820, 23120, 21920, 21240, 21450, 16975, 18525, 23475, 20150, 19525, 23945, 58395, 67570, 60395, 55495, 63570, 53495, 64395, 64395, 63595, 53495, 60395, 58395, 67595, 55495, 40615, 48150, 38715, 43950, 45850, 50050, 40805, 43950, 50050, 45850, 38905, 48150, 39495, 49995, 47995, 45795, 41495, 43795, 39015, 44190, 40915, 44050, 51650, 42150, 49750, 46090, 44190, 42150, 41105, 49750, 46090, 39205, 51650, 44050, 49795, 44095, 42195, 46095, 44195, 51695, 54970, 51270, 53270, 62070, 63770, 61770, 69340, 47345, 59370, 45345, 55670, 57670, 60070, 52970, 57370, 59340, 58285, 45560, 60685, 59955, 51285, 69955, 53285, 60285, 53285, 62685, 58285, 64685, 62685, 56285, 55285, 47560, 61195, 51695, 70795, 47995, 55695, 59195, 53695, 53695, 60695, 45995, 14980, 18680, 16580, 17580, 16760, 18860, 17760, 19000, 16900, 17900, 2000, 2000, 2000, 2000, 2000, 2000, 2000, 2000, 2000, 2000, 2079, 2045, 2148, 19960, 21960, 26240, 23210, 21210, 24990, 24990, 19960, 21960, 23210, 26240, 21210, 22795, 24045, 24815, 26065, 29070, 21395, 27820, 27970, 29220, 26215, 21545, 24965, 22945, 24195, 24395, 26465, 24445, 23195, 24895, 29870, 28570, 29470, 23595, 28220, 26515, 25950, 27650, 31335, 33035, 21700, 22490, 33340, 31640, 21990, 27955, 22795, 26390, 26255, 26455, 31840, 26590, 22995, 28155, 33540, 22190, 31575, 29985, 32480, 36625, 35035, 34070, 35035, 36625, 31575, 34070, 32480, 29985, 35970, 33320, 41970, 40170, 31520, 44015, 37770, 26170, 27780, 25245, 24720, 30155, 30780, 23640, 25395, 28580, 26590, 30510, 26120, 26920, 26540, 32135, 27935, 22505, 24985, 26935, 30760, 28520, 29095, 20470, 20995, 28630, 31630, 25260, 31045, 30155, 28210, 29985, 26810, 27315, 22560, 25305, 28255, 27005, 22755, 33180, 31365, 30180, 16495, 18595, 22995, 19995, 20995, 21645, 19000, 20495, 23795, 16495, 19495, 18995, 19395, 17995, 24395, 19595, 16995, 21095, 22095, 20995, 21595, 27736, 30709, 36931, 39669, 49150, 49150, 44400, 50750, 50750, 45600, 51600, 46430, 46045, 51600, 28447, 26997, 25687, 25997, 28447, 27097, 24999, 26819, 27619, 2561, 36350, 33350, 34350, 33350, 37150, 37070, 45570, 41570, 41955, 45955, 37455, 46595, 42195, 37695, 34350, 40350, 38350, 38685, 40685, 34330, 51460, 46280, 49730, 54230, 49230, 47625, 46280, 51525, 54425, 59475, 59875, 51925, 54825, 46680, 36895, 42495, 39495, 40995, 33095, 43595, 39995, 30495, 41995, 39595, 30495, 43895, 33095, 44595, 42390, 36995, 41295, 44990, 37495, 42490, 40095, 42095, 29995, 44695, 41395, 43995, 45090, 32595, 55850, 53350, 57100, 67750, 64850, 59400, 61350, 62350, 63100, 65600, 54200, 60300, 62250, 68700, 56700, 62600, 57050, 54550, 60650, 69100, 5878, 6120, 10775, 11575, 10245, 11045, 10885, 11685, 11155, 10355, 10985, 11255, 11785, 10455, 27799, 32599, 32599, 27999, 28299, 32599, 27999, 24699, 20699, 29089, 21699, 28089, 24699, 19999, 18999, 29089, 19499, 20499, 29089, 2000, 2000, 2098, 2210, 2107, 2320, 18595, 18595, 19895, 20895, 20895, 17595, 19600, 19600, 19800, 18800, 18800, 19800, 18800, 19800, 17195, 19795, 15995, 18995, 15995, 19495, 17195, 20295, 17195, 15995, 19495, 20295, 22600, 18250, 17250, 22600, 21600, 21250, 18250, 21250, 20250, 17250, 19700, 17150, 22750, 21650, 20250, 2905, 3257, 44011, 40436, 47660, 45265, 42130, 22785, 25770, 23270, 23585, 20275, 24085, 25285, 21475, 24070, 22385, 23885, 22635, 24335, 25585, 20525, 21775, 24320, 24185, 22075, 20825, 22935, 43995, 54990, 47250, 47250, 54990, 51845, 54990, 57950, 49305, 39050, 43450, 45450, 47305, 43660, 49515, 39065, 47515, 45660, 39065, 45765, 47625, 43765, 49625, 29450, 27655, 25565, 29435, 27950, 24065, 26155, 30935, 31285, 25565, 28300, 29785, 28850, 24065, 27350, 29800, 26355, 27855, 31965, 26865, 30565, 25565, 27065, 28365, 30465, 24365, 25865, 29065, 29999, 31499, 27999, 28299, 32099, 33599, 26395, 28895, 23895, 29895, 23995, 42070, 44710, 39570, 44960, 35870, 42320, 37720, 37720, 33570, 38120, 31320, 35870, 33810, 36060, 38160, 31945, 40235, 29695, 33160, 37600, 29630, 30910, 35350, 27380, 36115, 29780, 33865, 32030, 32960, 26760, 30770, 34990, 28950, 37190, 34020, 27980, 37105, 34970, 30115, 31885, 35615, 36535, 30625, 32760, 38670, 33480, 38325, 42095, 35595, 39545, 42745, 36145, 31995, 22075, 25645, 24775, 28850, 30900, 17520, 25125, 23245, 27825, 18825, 25979, 25279, 28279, 17595, 29150, 22479, 19299, 17899, 28699, 25699, 22799, 29550, 26299, 26270, 26170, 27920, 28170, 31920, 33670, 24520, 22120, 29920, 22600, 31490, 29740, 26960, 28200, 25210, 26450, 25510, 27260, 26750, 23100, 31790, 30040, 28500, 61250, 68500, 61500, 68750, 68750, 61500, 31505, 31505, 31725, 31725, 32175, 32300, 37700, 40440, 38100, 38900, 74695, 75970, 75970, 76395, 67350, 69740, 62160, 69640, 63060, 67250, 69640, 63060, 67250, 74135, 76400, 73850, 74425, 71695, 72970, 75570, 75695, 74295, 75570, 72970, 75995, 73395, 2000, 2000, 14199, 16499, 15499, 14999, 16699, 15699, 13699, 15799, 13199, 14699, 15899, 14199, 14899, 14699, 13999, 14499, 15199, 13299, 16799, 14799, 14299, 13799, 14799, 16599, 15299, 14299, 15799, 27700, 26200, 26200, 27700, 26200, 27700, 64000, 65500, 66800, 68300, 68750, 69980, 31900, 36850, 33300, 35450, 35200, 37400, 36000, 33800, 33800, 37400, 35200, 36000, 2000, 74995, 65690, 65690, 65690, 70750, 74950, 35200, 36600, 37400, 38800, 38100, 37200, 35800, 39500, 36900, 38300, 39250, 40650, 2000, 2000, 2000, 2000, 2000, 2000, 2000, 32760, 27710, 34525, 34160, 30970, 36030, 31865, 32190, 34485, 35915, 36700, 36355, 34015, 37500, 32990, 35285, 36715, 34815, 37155, 4677, 6175, 8548, 9567, 5844, 24035, 25475, 31215, 18855, 27145, 32095, 25995, 28025, 20050, 26965, 15650, 17560, 17800, 15890, 17900, 15990, 27705, 27295, 26115, 27030, 28620, 28210, 29270, 27680, 28860, 2000, 2000, 2158, 16699, 13799, 14499, 15099, 15999, 15399, 14699, 15799, 16349, 14899, 15399, 15099, 16499, 15449, 13999, 14349, 16049, 14499, 14949, 15999, 16949, 15249, 15849, 15599, 15589, 16489, 17689, 16989, 16089, 16789, 14489, 15889, 14989, 15389, 33095, 25095, 24595, 28095, 30095, 22195, 28495, 23195, 28795, 25295, 23395, 29195, 22395, 33795, 25795, 30795, 34295, 25995, 29295, 25495, 29195, 31295, 23595, 22595, 19590, 19390, 18590, 20890, 21890, 17490, 15890, 19690, 20590, 21590, 20690, 15990, 21990, 21690, 18090, 20390, 19890, 17700, 20990, 19990, 17500, 19200, 21200, 16490, 18090, 25890, 23690, 21990, 24700, 28500, 27400, 25800, 31090, 26000, 24900, 29990, 25305, 30610, 29510, 26405, 24975, 26370, 31575, 27775, 26330, 28330, 25330, 26830, 26830, 32560, 20660, 25510, 34010, 31510, 32560, 25860, 26450, 23020, 27240, 17990, 30550, 24190, 23750, 28050, 21970, 31360, 24540, 25400, 25350, 23610, 28560, 26310, 22700, 35260, 24630, 27630, 31750, 26750, 25840, 32890, 24050, 31840, 24960, 26640, 35590, 23000, 32080, 34360, 28380, 25680, 23940, 24520, 31690, 28910, 35610, 18290, 23230, 34340, 28890, 31710, 27960, 20960, 22180, 25750, 32340, 27320, 26470, 27650, 29170, 18390, 22160, 24950, 26630, 33390, 35160, 28750, 23910, 32580, 29700, 36410, 25200, 23900, 24620, 32510, 22860, 39550, 38050, 42150, 43600, 42850, 44300, 49750, 49850, 50100, 58400, 59000, 44050, 42600, 57600, 43700, 59800, 52000, 45150, 53400, 44950, 61500, 46400, 50200, 45750, 58000, 51300, 46650, 61450, 47900, 52750, 38600, 43350, 48900, 40250, 50800, 37150, 51700, 37800, 49800, 40900, 39250, 44200, 45500, 42050, 40400, 53100, 51200, 41550, 44150, 39950, 35800, 37400, 32000, 40200, 35000, 33400, 44750, 41500, 36900, 33100, 38500, 41850, 46050, 45450, 36100, 40250, 34500, 37150, 34550, 32950, 2251, 2449, 22195, 21395, 24895, 24095, 22195, 21395, 33250, 33800, 33200, 31450, 31200, 33450, 33450, 33950, 34050, 31900, 31450, 32250, 32250, 34750, 32700, 33050, 46950, 54900, 44350, 37500, 36050, 39150, 50550, 40400, 43350, 33250, 36050, 43550, 37000, 34450, 35650, 36200, 34900, 33700, 33250, 34250, 43850, 35750, 38700, 37000, 35900, 43900, 36650, 14335, 14775, 18425, 19850, 15675, 16980, 20280, 30210, 26755, 23100, 26960, 18765, 20290, 23100, 28580, 19275, 24180, 28960, 24710, 22220, 32300, 20490, 21165, 29060, 24080, 28480, 24610, 31870, 21275, 41400, 54550, 43900, 29310, 26910, 31755, 28250, 37610, 21599, 23999, 21599, 23999, 21899, 24299, 29350, 26350, 34600, 29300, 33400, 27200, 27950, 26750, 34600, 33400, 29500, 26950, 34950, 28150, 29900, 33750, 35200, 47400, 51500, 38000, 40500, 41250, 38750, 53850, 69800, 76050, 70600, 71600, 63000, 64550, 65200, 63600, 63600, 65200, 31300, 33300, 48300, 49580, 32500, 34500, 49900, 32850, 34850, 38950, 40950, 39150, 41150, 65100, 69650, 64600, 51100, 52500, 53600, 65650, 52000, 54500, 37090, 39090, 38590, 38980, 39480, 37480, 37900, 39900, 39400, 68700, 26950, 32890, 30530, 25850, 29430, 29280, 32640, 24785, 28885, 26280, 25885, 30380, 29880, 27380, 30980, 27980, 29485, 31540, 25385, 30045, 26880, 31145, 27785, 26485, 28385, 30620, 26095, 25595, 29125, 31220, 27090, 27590, 31630, 24995, 30135, 31235, 32730, 29725, 28025, 26490, 30120, 28625, 26695, 29520, 28190, 35195, 25595, 27995, 34095, 26095, 26695, 31990, 30890, 24995, 29095, 39090, 36595, 36750, 38995, 35650, 37895, 36755, 35655, 39375, 40475, 31445, 22495, 21395, 29345, 26995, 25695, 29095, 24995, 27025, 29385, 22725, 21625, 22680, 27030, 21580, 29970, 19295, 21295, 17995, 24895, 20995, 27395, 22395, 20395, 20675, 27425, 19595, 22625, 18495, 25225, 20175, 19575, 21275, 20995, 22695, 21595, 19895, 22940, 21690, 17070, 21240, 22940, 21690, 18890, 17070, 23530, 22280, 23530, 21830, 19555, 22280, 23750, 22500, 20090, 30995, 27395, 21795, 24245, 28395, 25245, 25095, 22595, 28295, 31495, 26195, 29395, 29395, 26695, 32395, 23995, 24330, 27330, 21330, 28815, 24735, 21815, 22210, 29325, 23449, 24949, 19299, 22549, 22899, 21099, 23949, 21399, 25249, 22299, 19499, 22849, 23749, 23799, 25949, 22349, 19949, 24449, 2169, 2266, 2000, 2048, 2000, 2055, 2152, 2234, 2331, 2267, 53285, 45615, 46310, 53980, 38875, 38875, 43150, 45100, 55070, 48600, 57330, 50850, 50000, 54115, 50470, 50695, 54810, 50365, 56555, 3542, 3741, 3965, 47975, 51375, 52375, 60430, 61330, 63080, 53470, 54070, 55370, 26195, 29695, 25095, 30795, 31795, 32295, 31290, 49485, 61115, 50780, 62155, 51280, 62980, 46635, 47315, 47615, 39290, 30995, 39560, 33390, 43130, 41705, 41705, 33390, 38365, 35960, 30750, 36015, 39205, 30915, 36355, 35680, 33485, 20720, 25135, 18720, 24815, 19030, 21030, 20030, 18720, 26255, 19720, 19030, 18720, 19030, 19720, 47300, 49790, 47850, 50340, 50485, 47870, 34750, 31070, 44140, 38050, 41650, 42680, 32530, 29765, 33290, 36590, 40190, 34395, 38775, 30490, 42375, 44990, 33475, 43530, 32015, 40915, 35855, 37315, 22065, 23365, 20015, 25990, 21315, 24690, 19215, 21265, 22215, 23515, 20165, 26140, 24840, 19365, 21465, 21415, 2288, 2433, 2648, 2552, 31790, 29715, 28750, 29100, 30600, 15700, 29350, 31750, 29350, 27050, 34890, 29900, 29200, 31890, 32900, 27900, 32990, 29290, 31980, 34980, 27990, 29990, 26840, 25830, 30535, 26840, 25830, 30535, 26840, 30535, 25830, 34465, 35440, 30285, 29310, 35540, 30435, 29460, 35645, 28295, 29295, 36295, 37645, 34295, 25795, 29295, 28295, 25795, 28495, 29495, 34495, 25995, 36495, 25995, 37845, 28495, 29495, 21495, 23295, 20995, 20995, 22795, 19695, 18695, 18195, 22295, 21995, 19195, 18295, 21095, 22095, 21095, 21595, 19795, 23595, 19295, 18795, 22595, 23095, 18395, 18895, 21695, 21195, 24595, 24095, 22795, 21995, 19895, 23295, 19395, 22495, 18460, 19200, 2827, 3000, 2912, 3381, 3355, 2799, 3130, 3012, 3622, 3652, 3222, 7398, 3086, 22600, 21050, 19400, 20200, 21600, 21850, 21000, 22400, 24450, 20200, 22300, 27055, 20810, 22970, 24875, 21155, 25415, 25105, 21385, 2233, 2484, 2290, 22515, 26635, 24270, 28070, 24580, 23160, 37325, 37825, 42610, 42860, 43360, 35065, 37525, 36100, 38635, 36550, 41440, 39085, 43690, 31105, 31105, 29735, 39700, 40200, 46890, 47140, 47640, 39615, 41850, 40065, 42300, 43035, 40870, 61300, 61750, 63600, 2000, 2032, 2000, 28120, 28390, 29220, 26640, 25540, 27290, 29495, 28395, 26895, 28695, 27595, 25795, 27665, 30265, 29165, 26565, 29465, 28365, 20895, 16215, 17325, 18425, 19420, 18320, 21995, 22325, 19775, 18675, 21995, 18995, 20095, 20895, 17680, 18780, 28995, 21995, 20895, 18995, 17895, 24995, 27895, 2347, 2554, 2590, 2182, 2691, 2317, 2368, 2377, 2251, 2038, 2407, 2463, 2773, 2756, 2590, 2916, 2322, 2623, 2655, 2578, 26770, 22270, 25170, 31925, 19270, 22170, 30225, 28225, 33920, 28770, 29925, 27395, 28695, 26595, 23495, 29995, 25195, 20695, 27395, 26295, 26595, 33695, 28395, 31795, 30895, 20995, 24895, 29795, 20995, 33695, 26295, 29795, 31795, 30995, 26595, 27495, 28395, 24895, 25240, 28020, 30020, 26940, 20250, 22300, 24150, 22100, 27230, 24830, 24830, 22100, 28020, 22300, 24150, 26940, 30020, 20250, 27230, 25240, 28020, 24830, 30020, 27230, 26940, 24400, 22100, 20250, 22550, 25240, 2000, 2000, 41250, 42650, 59900, 54500, 49000, 61900, 54900, 21049, 22049, 24149, 27299, 23399, 24849, 23049, 25949, 22099, 25499, 18999, 23899, 25249, 22299, 23649, 25749, 24399, 18999, 25099, 20999, 22249, 22349, 25799, 21749, 23249, 28999, 19999, 27199, 35725, 31065, 40500, 39970, 33635, 38025, 38730, 34065, 40145, 38905, 35900, 33810, 40675, 38200, 31065, 36065, 38665, 43265, 32065, 41065, 37895, 34695, 38195, 34995, 37995, 34495, 38995, 21345, 18395, 18495, 21495, 21945, 18595, 17395, 29495, 20595, 21595, 20995, 18295, 18595, 20995, 17595, 23495, 22495, 19995, 21995, 20295, 21095, 18795, 17795, 22095, 2000, 2000, 2000, 2000, 2000, 2000, 2000, 2000, 26495, 29595, 26795, 23495, 21995, 23795, 21695, 21745, 26845, 29945, 23845, 22045, 27145, 24145, 31640, 23995, 21995, 25995, 28840, 2181, 2028, 2063, 2066, 2384, 2356, 2506, 2265, 2144, 2135, 2066, 25645, 31420, 26040, 32085, 26725, 32385, 72000, 2000, 2087, 28680, 2000, 36400, 41500, 38900, 36600, 39100, 41700, 36600, 39100, 41700, 48525, 54025, 45975, 49700, 59900, 54600, 69279, 60600, 50400, 55300, 50400, 55300, 60600, 4207, 4556, 5035, 55375, 56225, 56525, 72520, 75465, 75465, 72520, 72520, 75465, 36770, 43370, 36140, 39970, 32370, 43590, 32640, 36360, 36990, 40190, 39285, 2136, 2080, 2283, 2444, 2681, 2356, 40205, 32520, 29265, 35770, 33120, 35270, 30770, 34670, 35730, 30930, 34830, 33230, 32730, 42515, 29230, 35625, 36230, 29730, 35675, 33130, 44460, 2000, 2000, 2000, 2000, 2000, 2000, 2044, 2100, 18890, 3667, 4282, 65225, 67395, 67395, 51270, 58800, 49770, 47270, 51790, 50290, 59450, 47790, 62900, 48300, 50800, 51700, 51700, 43900, 45650, 45800, 47950, 45800, 47950, 49200, 47050, 62000, 63500, 64000, 50250, 52750, 52150, 54650, 54650, 52150, 64200, 72500, 74200, 65700, 74700, 66200, 60950, 58450, 72300, 49900, 52600, 73900, 67200, 54400, 76000, 47500, 32855, 30855, 22680, 29100, 37320, 29860, 23370, 31515, 33615, 37795, 38105, 33880, 27225, 29855, 31780, 23420, 20320, 17935, 19695, 23640, 25555, 25925, 23835, 28420, 24610, 21465, 20965, 23465, 20165, 23265, 19565, 20575, 19795, 23710, 23915, 28195, 25470, 30355, 27005, 23610, 21625, 28620, 30920, 25020, 25125, 21680, 30975, 23225, 38680, 42235, 41225, 41525, 38425, 38125, 38915, 42015, 41715, 38615, 2263, 2209, 2411, 2459, 19685, 20755, 19565, 21715, 18845, 21715, 18845, 20755, 19685, 19565, 20115, 22415, 20265, 21455, 19275, 34380, 31290, 36990, 34490, 32510, 39960, 37770, 34590, 37090, 40040, 32610, 37870, 23700, 24000, 24200, 27995, 29925, 29925, 27995, 25730, 25780, 26580, 20480, 19980, 44990, 45990, 44990, 49300, 51300, 44565, 48840, 50840, 42565, 48840, 46840, 56780, 54780, 43015, 49440, 46515, 44515, 55230, 45015, 53230, 52640, 51440, 50640, 55230, 49440, 47440, 48640, 50640, 57230, 56400, 48360, 50360, 52360, 58400, 56400, 43950, 50360, 45950, 54400, 32500, 28950, 2000, 2000, 12515, 2000, 2000, 2000, 2000, 2000, 2381, 2337, 2138, 31025, 28025, 28075, 31075, 31675, 28875, 49850, 47700, 53700, 59200, 61700, 61200, 54750, 48700, 63700, 50850, 46030, 35595, 33100, 48525, 46455, 42955, 48950, 40460, 33260, 39585, 37090, 35755, 41895, 35720, 35130, 32720, 39485, 38125, 45475, 47880, 38850, 40845, 45840, 45840, 38850, 40845, 41005, 39010, 46000, 45205, 43210, 43370, 45365, 43530, 49025, 40850, 38900, 44045, 47810, 53475, 38260, 55970, 45315, 40755, 41550, 38260, 44045, 48055, 45560, 53475, 40755, 41550, 55970, 45555, 35190, 37080, 47445, 37080, 45605, 47495, 35190, 36900, 39510, 49560, 35010, 41400, 47670, 36760, 38650, 5650, 24250, 27750, 26140, 33790, 25815, 30540, 27590, 24165, 29740, 23335, 31035, 25885, 30235, 30210, 26040, 24520, 27890, 30420, 27700, 22280, 24690, 28355, 24930, 20830, 26330, 20330, 23430, 27740, 22625, 21015, 27607, 27777, 29627, 22777, 32887, 31317, 25087, 25637, 27777, 25217, 27607, 22907, 32887, 29627, 25637, 31317, 26199, 25999, 28199, 23999, 34999, 35799, 36159, 28460, 23490, 28515, 22115, 22950, 28515, 22950, 22115, 25645, 24645, 25895, 24895, 26145, 25145, 2254, 2000, 2038, 2462, 44540, 44540, 41995, 39000, 38550, 40600, 36950, 34220, 29560, 32620, 31160, 34400, 39180, 41730, 32800, 38730, 29740, 40780, 31340, 42180, 37130, 40130, 43780, 29740, 31340, 37130, 38730, 34400, 32800, 40780, 39180, 2000, 2000, 2000, 27505, 30550, 29265, 26905, 28665, 25980, 27550, 23720, 28650, 29450, 28650, 27550, 29265, 23970, 29450, 30550, 27505, 26905, 26230, 32205, 32655, 28665, 28600, 26395, 29330, 31270, 30065, 24915, 2000, 2000, 2000, 2000, 2000, 65055, 67220, 61480, 63645, 63195, 69135, 65560, 73645, 74260, 66770, 71260, 65560, 71260, 66770, 63195, 69135, 73650, 74260, 19450, 13030, 17085, 15340, 14315, 17640, 15800, 20450, 13490, 16625, 16110, 13800, 20700, 2000, 2000, 2000, 2044, 12715, 2000, 2000, 2000, 2000, 2000, 2000, 2000, 26220, 24560, 22240, 23900, 25750, 23235, 26750, 27410, 28410, 24895, 28995, 27245, 27995, 23995, 21590, 26245, 23235, 22245, 24985, 23340, 21710, 20720, 21760, 20870, 22230, 21330, 35880, 36580, 37980, 34480, 34965, 37065, 36365, 38465, 38585, 36485, 37185, 35085, 37775, 35775, 28975, 37375, 42030, 44600, 32275, 37650, 32550, 36050, 42305, 44875, 29400, 38050, 33500, 27500, 25500, 21500, 35300, 23950, 25790, 21840, 27700, 35500, 24340, 29940, 24140, 25140, 22140, 36040, 30295, 24895, 25195, 29995, 32995, 26995, 27295, 30695, 33395, 25295, 27695, 27395, 24995, 30395, 35995, 25645, 34995, 27695, 38195, 32390, 22195, 21295, 22695, 24995, 22795, 24195, 19595, 20795, 23595, 23995, 22195, 22695, 25395, 23895, 22495, 21295, 20795, 19595, 27395, 25995, 24195, 22495, 25695, 20995, 27695, 24195, 22695, 19795, 26195, 24195, 28195, 23195, 30995, 24995, 26995, 22995, 23995, 25995, 24995, 31695, 24495, 24995, 27495, 25495, 26495, 23495, 24460, 33775, 27600, 27550, 35825, 30250, 30310, 27225, 34150, 36195, 28265, 24635, 42495, 30495, 28595, 37895, 34495, 39725, 34600, 40425, 35250, 40730, 35555, 2000, 2000, 2000, 2178, 29125, 30850, 33925, 35995, 36835, 29295, 27995, 22440, 23975, 30995, 25495, 33995, 2452, 2879, 2715, 2668, 30500, 27300, 23000, 24150, 28050, 26800, 29250, 26150, 30900, 26450, 24450, 28450, 23300, 29550, 27600, 27100, 29510, 29780, 37900, 41560, 34830, 31200, 34500, 32810, 36210, 33140, 43250, 31470, 33150, 38100, 41610, 43300, 29830, 36410, 34840, 31520, 37790, 32980, 36100, 30290, 42070, 34670, 43760, 31980, 64600, 66950, 74600, 66700, 74350, 2293, 2281, 2115, 2000, 2040, 2423, 2188, 2699, 2311, 2691, 2197, 2553, 2409, 2912, 2498, 2539, 33720, 40020, 36970, 33120, 41620, 38970, 31470, 34720, 36970, 35370, 29870, 32120, 37370, 38570, 39455, 46570, 37855, 33580, 36055, 31945, 30145, 34380, 32580, 35380, 41170, 42970, 37655, 36455, 39855, 38055, 47070, 33030, 38255, 34830, 32395, 41670, 35830, 43470, 34030, 30595, 3065, 3367, 3843, 3407, 26100, 23600, 24600, 2000, 2194, 2088, 2000, 2064, 2304, 2419, 2196, 2388, 2242, 2728, 2580, 2130, 2003, 14155, 16220, 14330, 16395, 16455, 16895, 13885, 12765, 13485, 18020, 15535, 15700, 14975, 13075, 16140, 15415, 13680, 44625, 44625, 20105, 20901, 44625, 19785, 23515, 18430, 15970, 18000, 20780, 24510, 18275, 32500, 36400, 38500, 34600, 38600, 40700, 33700, 35800, 34500, 41300, 36600, 33900, 31800, 39200, 33950, 35550, 61600, 52400, 56400, 58100, 38950, 46200, 37150, 45450, 43650, 41800, 48600, 44400, 46800, 40000, 33950, 49950, 47950, 41900, 45900, 49050, 43900, 39650, 47050, 39900, 37650, 35950, 33950, 44650, 50700, 44300, 48700, 49800, 38400, 40650, 42650, 40400, 35950, 42300, 46650, 47800, 52900, 47500, 51900, 42200, 39300, 55000, 45400, 53500, 40900, 42750, 52500, 46000, 48100, 57700, 50200, 55600, 53200, 40900, 46400, 43150, 53400, 48550, 62100, 62100, 53400, 48550, 51750, 40950, 42600, 46050, 53650, 40950, 46050, 49650, 42600, 47700, 53300, 46300, 44300, 38950, 51300, 40950, 43300, 41300, 51750, 49600, 55650, 64600, 62100, 51350, 49850, 52000, 67050, 62850, 65350, 55900, 64550, 53500, 67050, 52000, 62850, 55900, 65350, 64550, 51350, 53500, 49850, 64900, 52900, 60900, 47700, 53700, 58900, 61900, 53400, 59900, 54800, 48300, 65400, 58800, 64300, 54800, 33750, 42870, 26220, 29970, 30280, 34060, 43180, 26530, 26580, 34110, 30540, 43230, 34150, 35550, 35550, 34150, 34750, 36150, 36400, 37200, 35000, 38600, 34450, 35850, 36250, 34450, 58150, 55050, 56050, 59150, 61800, 58700, 45400, 42400, 46800, 43800, 42600, 53450, 52050, 44400, 44900, 43100, 45850, 47300, 45850, 47300, 45850, 47650, 62700, 65800, 63250, 66350, 66350, 63250, 60000, 63100, 64450, 61350, 49300, 50800, 50240, 51740, 52690, 53840, 29100, 32990, 24005, 24005, 23020, 26750, 19890, 26855, 28445, 20490, 28780, 25650, 23590, 24235, 26295, 29425, 21135, 35610, 33785, 32580, 30580, 33570, 31550, 2000, 2000, 20240, 18740, 18695, 22305, 20850, 22885, 21430, 19275, 20820, 19320, 22190, 20035, 20080, 23645, 21580, 22150, 38100, 29395, 28755, 36230, 26705, 30775, 25435, 34865, 30655, 26320, 33730, 27045, 32155, 41350, 25720, 36980, 39780, 22435, 34275, 29055, 31445, 43490, 31880, 38120, 32750, 26275, 29985, 25575, 29285, 29530, 35100, 26015, 29585, 29725, 40270, 21820, 21520, 25975, 25715, 32945, 41340, 31730, 25065, 28725, 24665, 25155, 24855, 28865, 20610, 28510, 25365, 36880, 20910, 39035, 28425, 40495, 31020, 34240, 32085, 42650, 29075, 2245, 2034, 2239, 2000, 2316, 2118, 2041, 2237, 2348, 2320, 2422, 2087, 2326, 2332, 23360, 21345, 21345, 60000, 57600, 41100, 45100, 44100, 49900, 56600, 55700, 48900, 50475, 53775, 46675, 53775, 41475, 60775, 45675, 51000, 45700, 45800, 57700, 62500, 51100, 41800, 54200, 63350, 68295, 64950, 66450, 69950, 71450, 25240, 29850, 28450, 26640, 23680, 25080, 29265, 25750, 26270, 24350, 30665, 31510, 32910, 27670, 31830, 28230, 26310, 24910, 36150, 33230, 34750, 26830, 29985, 31385, 39995, 40155, 42610, 42770, 42790, 45025, 45015, 42780, 45175, 43010, 62400, 62805, 64165, 36495, 40195, 38795, 35095, 36670, 36870, 41870, 39070, 35370, 38170, 40370, 42020, 40570, 43520, 38370, 39270, 42220, 42070, 36870, 37070, 43720, 40770, 40570, 35570, 28565, 34065, 31565, 28990, 36490, 31415, 33990, 27065, 34325, 31900, 31615, 36540, 34115, 34040, 28615, 27065, 31465, 2000, 2084, 29970, 26780, 24280, 27780, 28765, 25190, 15399, 16299, 14249, 13299, 15149, 14199, 14699, 15049, 15199, 13599, 14099, 13839, 14339, 15349, 14939, 37380, 30195, 32155, 35030, 29450, 30720, 35155, 29575, 32380, 37730, 42870, 33315, 35930, 33015, 31515, 33780, 29475, 35580, 31275, 41370, 34815, 15190, 18290, 13990, 18090, 17190, 16990, 15290, 13990, 20755, 15395, 14165, 17755, 17905, 15495, 20905, 17755, 15495, 17905, 14165, 20905, 15395, 2000, 2000, 2155, 2379, 54250, 46830, 55150, 47200, 48200, 56150, 50950, 60450, 48450, 54450, 56950, 54450, 59950, 60450, 65950, 50950, 54450, 60450, 2000, 2000, 2190, 2000, 2212, 20150, 21500, 21500, 20150, 24140, 29630, 24390, 28280, 24490, 22790, 25840, 23040, 30080, 24680, 26130, 28730, 24780, 23330, 23820, 26590, 25240, 25170, 31310, 29960, 19195, 20195, 16395, 18895, 17895, 16395, 18895, 19195, 20195, 17895, 19495, 21295, 22295, 18495, 17495, 33600, 25900, 30600, 32600, 43240, 34750, 37390, 33790, 26930, 39390, 31770, 34490, 39890, 32010, 33490, 37890, 44280, 27020, 66000, 66910, 68900, 69600, 70900, 21100, 20025, 22000, 20925, 23320, 20275, 22250, 21175, 21350, 23670, 20325, 21475, 23845, 21225, 22375, 33955, 35705, 35705, 33955, 36925, 35125, 35275, 36675, 36025, 37425, 36370, 37770, 40970, 50220, 48710, 42370, 49125, 41900, 43300, 50320, 48920, 43020, 44420, 46060, 44660, 41180, 42580, 42080, 43480, 49020, 57045, 53635, 52235, 53035, 56495, 20984, 15406, 21474, 19757, 23539, 15943, 17284, 18169, 19434, 13961, 24063, 18519, 24462, 25990, 17169, 20209, 19209, 21499, 14961, 18944, 20780, 20270, 16905, 18780, 24370, 17570, 16570, 23985, 16220, 18905, 16120, 21820, 14770, 18120, 24660, 34250, 37300, 36300, 34300, 36995, 34995, 37995, 41100, 47000, 42500, 48650, 48400, 42900, 33800, 32350, 28550, 31350, 26200, 31150, 27750, 31150, 49500, 54000, 48100, 55400, 48400, 54300, 55700, 49800, 56100, 55100, 50200, 49200, 67350, 59350, 61100, 54100, 60350, 53100, 53100, 61100, 54100, 44200, 35450, 39250, 34800, 43800, 42700, 33950, 33300, 38150, 38900, 39450, 59700, 44400, 35650, 40400, 47900, 34150, 38300, 36800, 43700, 43300, 43400, 41900, 44200, 47700, 33950, 40800, 36800, 47400, 75500, 70900, 75300, 74100, 70900, 2112, 2232, 2172, 2286, 2382, 2384, 2430, 2637, 2305, 2500, 2403, 2608, 39900, 43950, 45100, 43950, 41700, 40500, 48375, 43450, 2269, 46950, 52950, 50450, 56250, 24450, 22050, 22695, 25195, 22930, 25430, 23690, 25690, 24195, 26195, 24430, 26430, 2000, 2000, 24950, 26700, 33000, 24950, 26700, 31250, 33450, 31700, 38250, 25350, 27100, 36500, 30150, 31900, 32150, 30400, 36250, 34500, 36700, 38700, 40450, 34950, 41150, 30800, 32550, 39400, 29215, 32760, 33420, 27710, 32535, 31075, 32875, 31415, 29555, 33760, 32455, 33915, 34800, 30595, 30970, 36030, 31865, 34525, 34160, 36355, 34015, 35915, 36700, 32190, 34485, 32990, 37155, 37500, 35285, 36715, 34815, 3211, 3665, 4024, 3442, 4031, 4404, 66355, 66805, 68405, 2000, 2000, 32715, 26600, 24415, 20865, 19840, 28415, 29275, 25920, 20915, 30270, 35125, 20515, 27790, 21810, 23040, 32710, 22115, 29210, 27850, 20120, 36300, 26100, 32300, 39700, 28300, 28500, 26400, 39900, 32700, 36400, 41900, 28850, 33600, 36900, 26800, 20720, 17780, 18350, 16530, 17380, 19960, 22170, 20410, 16780, 18550, 18160, 17760, 21500, 21990, 18790, 16990, 19990, 17990, 21990, 10845, 12445, 11820, 13420, 61095, 53355, 44395, 61855, 45325, 54115, 45460, 54250, 61990, 44399, 49705, 51650, 45535, 45975, 2000, 2000, 2000, 2000, 2000, 2000, 2000, 2000, 2000, 2000, 2000, 2002, 2000, 2000, 2000, 2000, 2107, 2125, 2078, 2019, 2000, 2027, 2153, 42880, 37400, 40655, 37445, 35200, 41035, 35000, 33960, 46250, 41750, 28700, 45120, 31630, 31430, 38455, 39780, 26595, 34180, 38605, 35410, 31840, 37620, 31640, 41245, 40815, 28850, 41900, 43040, 39930, 46410, 37655, 35210, 45270, 26745, 29750, 32740, 35080, 43940, 42800, 41715, 38555, 32540, 42145, 39505, 36310, 36110, 40830, 27645, 38520, 46170, 47310, 30930, 24515, 30550, 33935, 32025, 31735, 20310, 23850, 29355, 20960, 31965, 27730, 25215, 15840, 27060, 32690, 29380, 26820, 30825, 21465, 28790, 26555, 28915, 30675, 16115, 27850, 29065, 35520, 24140, 25325, 30255, 29015, 33755, 20715, 33495, 27580, 20750, 25845, 28845, 27430, 31115, 33785, 26245, 30340, 27560, 26295, 25850, 39125, 32170, 45425, 48575, 39095, 42245, 46790, 40010, 43210, 49990, 51935, 48335, 41555, 45155, 43360, 38540, 49965, 36200, 38840, 42635, 43660, 30610, 35390, 46510, 53115, 40045, 27060, 26670, 38665, 30695, 38965, 37800, 42935, 33595, 34675, 40900, 44150, 35690, 46810, 30910, 37500, 52815, 49665, 33720, 54240, 36230, 47570, 34590, 51390, 44910, 34465, 27715, 43505, 47270, 41660, 39380, 31955, 44900, 39535, 28105, 37070, 40930, 54540, 44420, 31390, 40915, 40775, 31655, 51090, 38370, 38670, 35370, 37625, 44120, 44840, 52155, 45330, 32230, 28205, 45390, 39160, 41420, 41405, 44540, 38115, 32145, 43995, 52455, 37560, 47690, 28595, 55605, 36210, 34955, 36720, 40025, 38860, 41265, 55305, 47990, 32445, 42080, 39870, 35080, 34640, 31405, 33330, 36525, 33115, 29745, 38370, 4439, 4827, 4715, 4287, 35970, 26995, 33925, 31355, 33400, 33740, 28040, 36340, 31690, 34290, 36795, 34740, 32125, 34185, 28465, 26685, 23350, 26930, 27135, 25845, 31375, 24020, 28515, 31810, 29580, 31465, 20515, 19865, 29380, 26975, 23940, 25960, 30755, 26460, 20075, 32330, 24965, 27060, 24515, 23575, 33425, 33395, 15840, 33135, 28410, 28705, 23640, 16115, 28460, 30570, 25915, 28995, 30315, 30465, 33280, 21465, 31665, 29980, 19620, 33575, 27250, 28485, 35160, 28555, 48205, 45055, 38725, 41875, 42840, 49620, 39640, 46420, 51490, 47915, 41135, 44710, 46110, 35920, 28545, 43450, 37680, 35435, 33340, 42010, 42310, 47875, 42270, 51150, 34110, 35135, 30345, 32095, 30130, 41970, 34530, 45420, 42760, 40620, 36090, 26495, 40320, 31625, 30045, 37730, 34230, 45810, 38635, 50850, 39420, 37380, 40100, 42560, 42860, 45120, 47575, 31940, 38335, 35870, 28155, 36825, 26105, 37125, 33215, 39510, 36390, 36745, 34280, 32395, 31750, 37045, 39540, 39240, 35825, 39685, 31035, 32870, 43775, 35545, 36935, 38590, 41250, 31120, 47135, 48500, 44475, 33170, 46835, 33060, 53315, 38290, 31335, 33295, 38740, 41185, 43710, 27485, 36980, 44010, 33360, 45640, 45170, 35100, 39275, 49740, 50040, 29510, 36850, 48200, 38890, 38695, 40090, 41890, 43260, 41865, 53015, 36680, 36940, 32955, 29120, 37345, 27095, 40495, 36035, 37835, 39230, 38980, 36515, 43950, 31525, 33850, 44350, 47175, 44465, 42075, 47475, 46180, 33550, 39965, 35590, 27975, 41590, 44050, 37370, 54925, 27585, 33860, 33445, 48740, 45860, 40375, 54625, 42380, 29610, 51350, 30000, 37430, 40985, 39185, 37670, 44815, 31825, 37425, 51650, 49040, 37340, 39280, 33985, 40580, 31610, 39580, 42555, 33360, 2000, 2000, 2000, 2000, 2000, 2000, 60300, 47950, 56225, 68925, 43525, 43950, 57650, 70850, 59200, 47000, 72600, 2397, 2488, 2816, 2934, 21515, 26515, 22455, 28135, 31750, 28400, 24275, 30375, 29410, 26225, 29485, 23275, 34075, 23125, 34350, 15495, 21945, 16095, 18835, 21345, 14845, 18235, 17845, 17245, 19680, 20545, 14245, 20245, 19945, 16455, 15855, 16155, 20095, 18145, 15595, 20345, 16755, 19780, 20095, 21495, 14345, 17545, 14945, 16195, 21495, 18170, 21215, 17580, 18970, 16395, 20415, 19720, 17530, 19720, 15145, 16538, 13975, 20793, 17093, 15957, 24492, 15093, 15420, 19675, 14770, 16570, 24670, 21970, 16270, 16220, 20320, 17670, 18270, 38500, 24300, 26700, 36700, 41700, 31700, 33500, 26100, 39900, 28500, 38300, 28200, 33900, 28700, 40100, 32900, 25100, 43300, 32100, 26400, 41500, 31100, 30500, 39900, 41700, 28500, 28990, 33100, 40400, 31500, 38600, 45700, 43900, 30790, 25400, 34900, 26700, 33300, 16900, 20500, 18400, 14900, 15190, 17190, 20790, 18690, 17400, 15900, 21300, 19400, 14040, 15095, 15440, 12270, 13580, 16535, 14685, 17285, 15785, 13760, 12660, 16185, 16325, 13000, 14100, 15925, 14825, 17425, 12895, 15995, 15895, 15995, 14895, 16995, 16995, 15895, 16995, 15995, 14895, 15995, 16995, 13895, 12895, 13550, 15550, 17450, 16695, 16550, 16450, 17695, 14550, 2000, 2000, 21900, 28100, 25300, 26800, 29600, 23400, 23650, 22150, 31490, 25350, 29990, 26850, 27000, 32500, 22990, 34000, 25500, 24490, 52700, 60200, 53300, 60800, 60800, 53300, 48065, 50955, 42880, 48145, 37505, 45375, 45255, 48920, 48840, 46030, 51730, 43640, 46135, 37605, 37605, 48840, 51730, 48920, 46135, 43640, 46030, 43475, 45745, 46575, 41620, 42555, 39240, 2823, 2350, 2203, 2000, 2575, 3219, 2000, 3044, 2231, 3732, 21975, 21450, 22695, 23520, 19690, 19970, 20820, 22370, 19850, 20675, 21735, 23335, 22980, 20255, 20135, 23755, 20825, 75010, 56345, 46845, 55945, 68785, 50385, 46845, 56345, 47280, 50820, 56380, 54205, 63785, 57205, 66785, 52000, 49000, 54730, 57730, 64440, 52700, 49700, 67440, 58045, 49915, 67730, 52915, 55045, 64730, 2468, 2585, 2790, 3420, 3051, 3372, 2000, 2000, 2000, 2000, 2000, 2000, 2000, 2000, 14930, 10895, 14930, 15205, 10895, 18255, 14977, 22001, 17320, 20596, 25279, 2000, 2230, 2472, 2283, 2749, 2512, 9949, 10949, 9299, 10299, 16599, 19349, 17099, 16999, 17849, 16479, 18999, 18249, 13499, 17799, 15195, 18299, 17099, 18599, 16799, 18875, 19649, 17999, 18199, 17399, 13699, 18499, 15495, 18549, 16999, 19349, 16999, 19175, 17849, 18349, 18799, 20449, 15845, 2563, 2922, 2506, 2141, 2802, 3143, 2806, 2348, 3042, 2767, 2540, 3058, 3586, 3480, 3214, 27355, 23075, 27235, 24800, 21865, 35725, 20965, 23625, 37615, 25060, 23960, 26355, 36705, 36635, 28235, 28735, 22525, 25560, 25700, 25185, 29275, 23660, 31420, 30025, 26635, 31680, 32460, 27355, 35105, 31920, 38180, 28345, 26735, 31625, 28820, 32460, 28845, 30530, 25745, 24490, 40760, 25645, 35720, 32765, 27095, 42760, 24950, 29690, 25730, 26205, 29735, 29280, 30485, 28700, 24120, 32390, 27195, 33265, 38795, 31875, 32240, 30190, 51145, 53950, 54775, 51970, 56425, 53620, 3465, 3413, 54505, 61085, 49300, 46300, 51505, 64085, 64740, 47000, 55030, 52030, 50000, 61740, 50215, 55345, 47215, 62030, 52345, 65030, 21400, 21440, 22440, 22400, 20210, 19210, 19210, 20360, 24340, 23190, 19385, 23190, 24340, 20535, 2000, 2000, 2000, 2012, 2041, 2000, 2148, 24070, 37240, 33065, 29820, 28310, 26560, 34815, 35490, 29810, 28060, 31570, 28300, 33975, 23975, 28550, 30620, 35725, 26800, 32370, 30050, 29050, 28800, 36025, 34275, 27300, 30550, 30920, 24070, 32670, 30990, 31170, 28110, 33855, 33250, 27250, 29750, 30250, 30780, 28000, 26660, 17095, 18595, 20595, 16095, 21595, 19595, 21195, 22095, 19395, 17795, 21695, 22795, 16695, 20495, 18370, 21270, 22620, 20170, 17270, 22770, 30225, 28230, 33235, 37650, 39625, 26255, 35565, 33590, 31260, 28250, 24890, 36420, 33365, 28700, 26865, 31390, 34445, 30675, 30095, 32070, 26970, 34580, 24995, 36475, 34500, 32605, 39780, 34440, 37580, 31910, 34760, 29360, 33990, 37320, 43280, 34640, 40580, 32210, 31790, 36840, 41160, 32490, 32060, 34910, 31940, 38170, 34140, 34790, 40370, 43860, 29640, 36990, 37670, 40700, 37810, 45020, 49460, 55400, 46380, 52310, 34780, 42985, 41635, 39255, 45185, 35705, 42985, 39435, 39635, 45385, 39455, 43185, 41835, 43185, 35905, 37405, 37530, 36030, 43310, 39580, 39760, 45510, 43310, 41960, 41575, 35500, 42600, 39375, 44800, 31445, 35320, 41575, 35320, 42600, 35750, 44800, 39375, 31695, 42600, 35950, 44800, 31900, 41600, 39400, 35350, 23965, 22455, 29745, 25145, 23520, 28120, 24820, 26815, 31415, 29420, 48390, 39300, 42800, 39300, 48900, 62200, 56670, 53170, 48745, 44705, 58700, 66995, 52245, 51450, 46745, 54950, 42705, 63245, 59745, 50245, 49495, 52795, 60195, 32995, 30765, 41995, 34465, 29995, 37945, 35315, 33695, 40295, 31465, 35845, 34145, 40645, 29995, 38445, 37345, 31875, 52055, 46385, 52595, 46925, 47225, 47000, 52895, 52670, 19060, 16790, 17890, 21510, 17200, 21935, 16100, 20835, 22530, 21430, 17730, 16630, 17330, 18430, 22130, 19580, 22315, 22715, 21615, 19865, 20965, 32320, 34220, 30070, 31970, 32515, 30265, 30335, 28085, 27980, 30230, 28130, 25880, 25045, 34885, 33620, 27340, 37125, 31320, 27970, 30210, 26390, 28525, 29880, 29535, 27745, 31910, 32155, 31810, 34290, 37725, 27400, 35590, 33945, 29780, 35770, 31330, 39330, 31275, 33595, 37195, 33445, 29155, 2000, 2000, 2000, 2038, 2104, 43935, 30995, 38295, 32995, 33795, 35795, 36295, 41935, 44145, 34005, 42145, 28700, 36505, 38505, 31205, 36005, 33205, 38650, 28700, 34100, 31300, 44045, 33300, 36100, 36650, 42045, 25030, 26530, 23945, 20120, 21620, 22445, 20040, 21540, 24145, 25230, 26730, 22645, 24400, 26100, 27600, 22900, 22500, 21000, 35895, 30595, 32595, 32595, 34095, 27235, 29745, 30925, 33445, 23545, 19730, 25885, 24620, 24805, 24690, 26375, 25950, 22935, 21790, 24200, 23055, 27635, 24200, 27305, 23590, 25550, 20405, 22445, 27165, 28915, 25345, 25700, 25495, 23740, 29065, 22595, 24350, 20555, 27455, 27315, 12840, 19885, 18090, 22630, 15670, 20575, 21410, 23150, 16975, 19215, 13930, 20880, 18885, 18050, 19975, 2000, 2121, 2000, 2281, 2436, 2494, 2130, 2000, 2122, 2762, 2354, 2647, 2547, 2326, 2918, 2391, 3140, 2550, 2676, 2241, 2837, 35010, 31360, 35510, 31860, 35635, 31985, 30010, 35550, 38650, 33110, 31010, 31010, 30510, 31510, 31510, 33610, 39150, 31635, 30635, 39275, 33735, 31635, 56850, 57200, 43350, 40350, 42900, 46400, 47000, 43500, 51700, 48700, 51900, 52500, 26450, 21650, 27950, 23700, 25200, 23150, 25200, 27950, 24150, 25550, 29900, 24100, 31300, 27550, 26150, 22700, 22700, 24100, 29775, 25900, 31175, 27300, 24150, 25550, 33210, 29120, 30160, 31560, 35530, 39500, 32480, 37635, 28510, 33980, 30010, 31660, 31990, 30340, 34000, 36320, 29140, 33270, 32190, 30950, 31830, 34880, 34150, 37200, 30020, 33070, 28250, 26250, 21150, 30250, 33250, 22105, 27405, 33050, 29350, 23080, 29330, 24900, 24900, 25700, 29845, 29800, 35500, 33050, 28700, 32850, 29000, 41000, 44650, 41200, 44850, 41700, 45350, 45400, 37450, 35750, 45150, 37250, 35950, 46050, 43520, 61300, 39600, 49450, 36150, 41750, 49200, 45800, 38100, 37650, 48950, 36150, 41750, 38100, 32465, 32900, 33550, 38000, 2239, 2200, 2000, 2000, 2000, 21300, 19250, 23600, 18000, 22600, 21600, 23950, 21600, 31790, 33790, 24040, 26340, 22440, 29740, 21365, 22465, 31490, 25165, 29240, 30240, 30575, 33625, 26675, 22600, 21475, 23225, 30760, 23165, 26835, 23365, 31510, 39020, 31120, 37570, 29670, 33330, 27850, 32960, 34780, 29300, 29770, 39570, 29400, 33630, 35080, 31220, 27950, 38120, 31810, 33260, 35600, 33560, 39940, 29065, 32110, 34150, 30515, 35895, 28145, 34195, 30045, 28345, 34395, 36095, 30245, 30245, 36195, 34495, 28345, 21065, 29215, 27050, 25020, 23380, 23480, 24475, 24065, 21065, 26505, 28670, 21065, 26555, 24115, 17199, 20199, 18499, 19349, 21049, 17549, 20549, 20299, 18299, 17930, 18660, 17960, 16330, 15430, 14180, 17530, 16380, 14230, 17980, 18710, 15480, 15480, 17980, 16380, 18710, 13990, 15530, 16890, 11990, 17590, 13490, 14040, 13540, 15580, 17140, 11990, 17280, 13680, 11990, 14130, 15720, 16855, 16100, 16495, 20875, 20475, 20275, 16100, 20875, 17445, 16599, 17999, 17799, 16999, 15999, 18199, 19199, 16799, 18199, 16999, 15599, 16799, 19199, 17999, 18199, 16999, 23525, 19160, 23640, 16430, 19155, 20960, 23790, 2000, 2166, 2110, 2000, 2317, 2008, 37395, 31195, 38495, 34495, 29995, 29695, 26295, 28495, 34695, 28895, 38995, 30395, 31595, 30095, 26595, 26695, 30195, 30995, 32195, 28995, 35195, 2000, 2000, 2000, 2000, 2000, 31200, 33000, 39100, 34800, 33100, 35100, 45500, 40500, 42000, 38500, 38950, 46800, 40950, 42450, 42750, 47950, 41250, 39250, 44700, 48000, 57800, 45250, 49700, 58100, 45550, 57700, 53900, 56200, 70100, 57000, 71500, 57700, 54700, 57800, 55500, 59300, 72300, 61900, 72900, 59600, 62900, 60600, 75300, 61400, 76100, 63700, 12480, 13280, 13330, 12530, 13580, 12780, 16970, 19210, 17920, 20160, 16970, 20420, 17920, 18070, 19685, 17120, 51050, 45550, 46750, 48250, 41550, 42650, 38850, 39650, 42950, 43850, 43900, 37250, 45550, 41450, 35750, 45800, 42850, 40250, 47200, 41750, 40350, 44050, 36400, 49800, 47050, 45400, 42350, 41150, 40050, 37900, 46950, 41150, 44350, 41350, 38100, 41350, 46950, 42650, 47200, 47050, 36600, 44150, 47750, 51050, 45650, 43350, 51300, 45750, 39850, 51000, 34500, 40950, 42050, 36900, 36050, 41800, 37550, 35400, 46675, 43050, 48175, 41550, 47175, 38600, 37100, 45675, 42050, 40550, 39700, 42700, 53250, 49800, 43950, 55400, 53800, 51250, 65700, 51350, 45950, 49350, 51150, 57200, 51600, 45750, 55600, 36500, 15345, 16145, 16250, 17050, 18955, 16545, 18155, 15745, 15920, 16720, 24999, 23499, 23999, 25599, 25599, 23999, 24899, 26499, 25799, 27499, 21999, 23799, 22599, 22999, 25499, 24499, 20099, 21099, 22299, 24799, 20899, 21899, 27799, 23299, 21399, 25799, 22899, 23399, 24099, 20399, 26099, 24899, 26699, 23199, 23699, 25499, 21999, 24599, 29549, 27949, 28349, 25949, 24599, 31749, 26999, 27549, 24349, 25949, 26199, 25399, 28649, 27049, 22999, 30149, 26749, 25199, 26599, 23549, 25099, 21599, 25049, 26699, 26749, 28249, 28280, 29930, 28580, 29079, 27429, 25745, 27395, 30230, 62500, 51895, 38995, 47390, 44895, 54390, 26900, 29440, 25850, 30490, 24850, 24990, 22940, 31370, 25300, 27350, 25440, 26300, 23390, 30320, 26670, 27720, 25710, 30590, 23660, 31640, 25670, 64245, 44660, 54670, 62735, 56900, 51000, 49000, 69785, 62015, 45295, 49250, 55705, 66780, 72320, 51250, 63770, 64550, 57935, 45295, 66795, 49295, 57995, 51295, 63795, 72395, 64595, 55795, 21995, 24495, 22995, 25995, 29295, 22995, 24495, 21995, 24795, 29295, 25995, 22295, 21595, 23295, 15950, 16820, 16880, 16505, 15945, 14845, 15570, 17620, 17670, 16870, 16555, 16930, 14895, 15620, 15995, 16000, 16910, 15250, 16375, 17285, 18000, 17200, 3949, 54420, 51610, 61770, 58925, 55280, 63130, 52470, 60285, 54145, 64805, 56955, 61960, 61925, 58925, 53440, 67220, 70220, 50440, 51015, 59700, 54015, 68025, 62700, 71025, 54230, 68665, 71665, 63015, 51230, 60015, 50740, 47740, 59225, 56225, 64520, 67520, 65325, 51315, 68325, 57000, 48315, 60000, 68965, 57315, 51530, 65965, 60315, 48530, 4976, 4697, 4755, 37900, 31300, 37700, 37900, 31300, 37700, 50100, 52100, 50400, 52400, 48950, 56950, 65800, 48950, 56950, 65800, 57500, 49700, 66350, 46020, 56570, 50520, 46120, 56670, 50620, 50920, 28995]}],\n",
              "                        {\"legend\": {\"tracegroupgap\": 0}, \"margin\": {\"t\": 60}, \"scene\": {\"domain\": {\"x\": [0.0, 1.0], \"y\": [0.0, 1.0]}, \"xaxis\": {\"title\": {\"text\": \"MPG-H\"}}, \"yaxis\": {\"title\": {\"text\": \"MPG-C\"}}, \"zaxis\": {\"title\": {\"text\": \"Price\"}}}, \"template\": {\"data\": {\"bar\": [{\"error_x\": {\"color\": \"#2a3f5f\"}, \"error_y\": {\"color\": \"#2a3f5f\"}, \"marker\": {\"line\": {\"color\": \"#E5ECF6\", \"width\": 0.5}}, \"type\": \"bar\"}], \"barpolar\": [{\"marker\": {\"line\": {\"color\": \"#E5ECF6\", \"width\": 0.5}}, \"type\": \"barpolar\"}], \"carpet\": [{\"aaxis\": {\"endlinecolor\": \"#2a3f5f\", \"gridcolor\": \"white\", \"linecolor\": \"white\", \"minorgridcolor\": \"white\", \"startlinecolor\": \"#2a3f5f\"}, \"baxis\": {\"endlinecolor\": \"#2a3f5f\", \"gridcolor\": \"white\", \"linecolor\": \"white\", \"minorgridcolor\": \"white\", \"startlinecolor\": \"#2a3f5f\"}, \"type\": \"carpet\"}], \"choropleth\": [{\"colorbar\": {\"outlinewidth\": 0, \"ticks\": \"\"}, \"type\": \"choropleth\"}], \"contour\": [{\"colorbar\": {\"outlinewidth\": 0, \"ticks\": \"\"}, \"colorscale\": [[0.0, \"#0d0887\"], [0.1111111111111111, \"#46039f\"], [0.2222222222222222, \"#7201a8\"], [0.3333333333333333, \"#9c179e\"], [0.4444444444444444, \"#bd3786\"], [0.5555555555555556, \"#d8576b\"], [0.6666666666666666, \"#ed7953\"], [0.7777777777777778, \"#fb9f3a\"], [0.8888888888888888, \"#fdca26\"], [1.0, \"#f0f921\"]], \"type\": \"contour\"}], \"contourcarpet\": [{\"colorbar\": {\"outlinewidth\": 0, \"ticks\": \"\"}, \"type\": \"contourcarpet\"}], \"heatmap\": [{\"colorbar\": {\"outlinewidth\": 0, \"ticks\": \"\"}, \"colorscale\": [[0.0, \"#0d0887\"], [0.1111111111111111, \"#46039f\"], [0.2222222222222222, \"#7201a8\"], [0.3333333333333333, \"#9c179e\"], [0.4444444444444444, \"#bd3786\"], [0.5555555555555556, \"#d8576b\"], [0.6666666666666666, \"#ed7953\"], [0.7777777777777778, \"#fb9f3a\"], [0.8888888888888888, \"#fdca26\"], [1.0, \"#f0f921\"]], \"type\": \"heatmap\"}], \"heatmapgl\": [{\"colorbar\": {\"outlinewidth\": 0, \"ticks\": \"\"}, \"colorscale\": [[0.0, \"#0d0887\"], [0.1111111111111111, \"#46039f\"], [0.2222222222222222, \"#7201a8\"], [0.3333333333333333, \"#9c179e\"], [0.4444444444444444, \"#bd3786\"], [0.5555555555555556, \"#d8576b\"], [0.6666666666666666, \"#ed7953\"], [0.7777777777777778, \"#fb9f3a\"], [0.8888888888888888, \"#fdca26\"], [1.0, \"#f0f921\"]], \"type\": \"heatmapgl\"}], \"histogram\": [{\"marker\": {\"colorbar\": {\"outlinewidth\": 0, \"ticks\": \"\"}}, \"type\": \"histogram\"}], \"histogram2d\": [{\"colorbar\": {\"outlinewidth\": 0, \"ticks\": \"\"}, \"colorscale\": [[0.0, \"#0d0887\"], [0.1111111111111111, \"#46039f\"], [0.2222222222222222, \"#7201a8\"], [0.3333333333333333, \"#9c179e\"], [0.4444444444444444, \"#bd3786\"], [0.5555555555555556, \"#d8576b\"], [0.6666666666666666, \"#ed7953\"], [0.7777777777777778, \"#fb9f3a\"], [0.8888888888888888, \"#fdca26\"], [1.0, \"#f0f921\"]], \"type\": \"histogram2d\"}], \"histogram2dcontour\": [{\"colorbar\": {\"outlinewidth\": 0, \"ticks\": \"\"}, \"colorscale\": [[0.0, \"#0d0887\"], [0.1111111111111111, \"#46039f\"], [0.2222222222222222, \"#7201a8\"], [0.3333333333333333, \"#9c179e\"], [0.4444444444444444, \"#bd3786\"], [0.5555555555555556, \"#d8576b\"], [0.6666666666666666, \"#ed7953\"], [0.7777777777777778, \"#fb9f3a\"], [0.8888888888888888, \"#fdca26\"], [1.0, \"#f0f921\"]], \"type\": \"histogram2dcontour\"}], \"mesh3d\": [{\"colorbar\": {\"outlinewidth\": 0, \"ticks\": \"\"}, \"type\": \"mesh3d\"}], \"parcoords\": [{\"line\": {\"colorbar\": {\"outlinewidth\": 0, \"ticks\": \"\"}}, \"type\": \"parcoords\"}], \"pie\": [{\"automargin\": true, \"type\": \"pie\"}], \"scatter\": [{\"marker\": {\"colorbar\": {\"outlinewidth\": 0, \"ticks\": \"\"}}, \"type\": \"scatter\"}], \"scatter3d\": [{\"line\": {\"colorbar\": {\"outlinewidth\": 0, \"ticks\": \"\"}}, \"marker\": {\"colorbar\": {\"outlinewidth\": 0, \"ticks\": \"\"}}, \"type\": \"scatter3d\"}], \"scattercarpet\": [{\"marker\": {\"colorbar\": {\"outlinewidth\": 0, \"ticks\": \"\"}}, \"type\": \"scattercarpet\"}], \"scattergeo\": [{\"marker\": {\"colorbar\": {\"outlinewidth\": 0, \"ticks\": \"\"}}, \"type\": \"scattergeo\"}], \"scattergl\": [{\"marker\": {\"colorbar\": {\"outlinewidth\": 0, \"ticks\": \"\"}}, \"type\": \"scattergl\"}], \"scattermapbox\": [{\"marker\": {\"colorbar\": {\"outlinewidth\": 0, \"ticks\": \"\"}}, \"type\": \"scattermapbox\"}], \"scatterpolar\": [{\"marker\": {\"colorbar\": {\"outlinewidth\": 0, \"ticks\": \"\"}}, \"type\": \"scatterpolar\"}], \"scatterpolargl\": [{\"marker\": {\"colorbar\": {\"outlinewidth\": 0, \"ticks\": \"\"}}, \"type\": \"scatterpolargl\"}], \"scatterternary\": [{\"marker\": {\"colorbar\": {\"outlinewidth\": 0, \"ticks\": \"\"}}, \"type\": \"scatterternary\"}], \"surface\": [{\"colorbar\": {\"outlinewidth\": 0, \"ticks\": \"\"}, \"colorscale\": [[0.0, \"#0d0887\"], [0.1111111111111111, \"#46039f\"], [0.2222222222222222, \"#7201a8\"], [0.3333333333333333, \"#9c179e\"], [0.4444444444444444, \"#bd3786\"], [0.5555555555555556, \"#d8576b\"], [0.6666666666666666, \"#ed7953\"], [0.7777777777777778, \"#fb9f3a\"], [0.8888888888888888, \"#fdca26\"], [1.0, \"#f0f921\"]], \"type\": \"surface\"}], \"table\": [{\"cells\": {\"fill\": {\"color\": \"#EBF0F8\"}, \"line\": {\"color\": \"white\"}}, \"header\": {\"fill\": {\"color\": \"#C8D4E3\"}, \"line\": {\"color\": \"white\"}}, \"type\": \"table\"}]}, \"layout\": {\"annotationdefaults\": {\"arrowcolor\": \"#2a3f5f\", \"arrowhead\": 0, \"arrowwidth\": 1}, \"coloraxis\": {\"colorbar\": {\"outlinewidth\": 0, \"ticks\": \"\"}}, \"colorscale\": {\"diverging\": [[0, \"#8e0152\"], [0.1, \"#c51b7d\"], [0.2, \"#de77ae\"], [0.3, \"#f1b6da\"], [0.4, \"#fde0ef\"], [0.5, \"#f7f7f7\"], [0.6, \"#e6f5d0\"], [0.7, \"#b8e186\"], [0.8, \"#7fbc41\"], [0.9, \"#4d9221\"], [1, \"#276419\"]], \"sequential\": [[0.0, \"#0d0887\"], [0.1111111111111111, \"#46039f\"], [0.2222222222222222, \"#7201a8\"], [0.3333333333333333, \"#9c179e\"], [0.4444444444444444, \"#bd3786\"], [0.5555555555555556, \"#d8576b\"], [0.6666666666666666, \"#ed7953\"], [0.7777777777777778, \"#fb9f3a\"], [0.8888888888888888, \"#fdca26\"], [1.0, \"#f0f921\"]], \"sequentialminus\": [[0.0, \"#0d0887\"], [0.1111111111111111, \"#46039f\"], [0.2222222222222222, \"#7201a8\"], [0.3333333333333333, \"#9c179e\"], [0.4444444444444444, \"#bd3786\"], [0.5555555555555556, \"#d8576b\"], [0.6666666666666666, \"#ed7953\"], [0.7777777777777778, \"#fb9f3a\"], [0.8888888888888888, \"#fdca26\"], [1.0, \"#f0f921\"]]}, \"colorway\": [\"#636efa\", \"#EF553B\", \"#00cc96\", \"#ab63fa\", \"#FFA15A\", \"#19d3f3\", \"#FF6692\", \"#B6E880\", \"#FF97FF\", \"#FECB52\"], \"font\": {\"color\": \"#2a3f5f\"}, \"geo\": {\"bgcolor\": \"white\", \"lakecolor\": \"white\", \"landcolor\": \"#E5ECF6\", \"showlakes\": true, \"showland\": true, \"subunitcolor\": \"white\"}, \"hoverlabel\": {\"align\": \"left\"}, \"hovermode\": \"closest\", \"mapbox\": {\"style\": \"light\"}, \"paper_bgcolor\": \"white\", \"plot_bgcolor\": \"#E5ECF6\", \"polar\": {\"angularaxis\": {\"gridcolor\": \"white\", \"linecolor\": \"white\", \"ticks\": \"\"}, \"bgcolor\": \"#E5ECF6\", \"radialaxis\": {\"gridcolor\": \"white\", \"linecolor\": \"white\", \"ticks\": \"\"}}, \"scene\": {\"xaxis\": {\"backgroundcolor\": \"#E5ECF6\", \"gridcolor\": \"white\", \"gridwidth\": 2, \"linecolor\": \"white\", \"showbackground\": true, \"ticks\": \"\", \"zerolinecolor\": \"white\"}, \"yaxis\": {\"backgroundcolor\": \"#E5ECF6\", \"gridcolor\": \"white\", \"gridwidth\": 2, \"linecolor\": \"white\", \"showbackground\": true, \"ticks\": \"\", \"zerolinecolor\": \"white\"}, \"zaxis\": {\"backgroundcolor\": \"#E5ECF6\", \"gridcolor\": \"white\", \"gridwidth\": 2, \"linecolor\": \"white\", \"showbackground\": true, \"ticks\": \"\", \"zerolinecolor\": \"white\"}}, \"shapedefaults\": {\"line\": {\"color\": \"#2a3f5f\"}}, \"ternary\": {\"aaxis\": {\"gridcolor\": \"white\", \"linecolor\": \"white\", \"ticks\": \"\"}, \"baxis\": {\"gridcolor\": \"white\", \"linecolor\": \"white\", \"ticks\": \"\"}, \"bgcolor\": \"#E5ECF6\", \"caxis\": {\"gridcolor\": \"white\", \"linecolor\": \"white\", \"ticks\": \"\"}}, \"title\": {\"x\": 0.05}, \"xaxis\": {\"automargin\": true, \"gridcolor\": \"white\", \"linecolor\": \"white\", \"ticks\": \"\", \"title\": {\"standoff\": 15}, \"zerolinecolor\": \"white\", \"zerolinewidth\": 2}, \"yaxis\": {\"automargin\": true, \"gridcolor\": \"white\", \"linecolor\": \"white\", \"ticks\": \"\", \"title\": {\"standoff\": 15}, \"zerolinecolor\": \"white\", \"zerolinewidth\": 2}}}},\n",
              "                        {\"responsive\": true}\n",
              "                    ).then(function(){\n",
              "                            \n",
              "var gd = document.getElementById('4ccee217-4616-45c9-b505-f956c67ebe71');\n",
              "var x = new MutationObserver(function (mutations, observer) {{\n",
              "        var display = window.getComputedStyle(gd).display;\n",
              "        if (!display || display === 'none') {{\n",
              "            console.log([gd, 'removed!']);\n",
              "            Plotly.purge(gd);\n",
              "            observer.disconnect();\n",
              "        }}\n",
              "}});\n",
              "\n",
              "// Listen for the removal of the full notebook cells\n",
              "var notebookContainer = gd.closest('#notebook-container');\n",
              "if (notebookContainer) {{\n",
              "    x.observe(notebookContainer, {childList: true});\n",
              "}}\n",
              "\n",
              "// Listen for the clearing of the current output cell\n",
              "var outputEl = gd.closest('.output');\n",
              "if (outputEl) {{\n",
              "    x.observe(outputEl, {childList: true});\n",
              "}}\n",
              "\n",
              "                        })\n",
              "                };\n",
              "                \n",
              "            </script>\n",
              "        </div>\n",
              "</body>\n",
              "</html>"
            ]
          },
          "metadata": {
            "tags": []
          }
        }
      ]
    },
    {
      "cell_type": "markdown",
      "metadata": {
        "id": "nqml0EunOgnu",
        "colab_type": "text"
      },
      "source": [
        "**9. Split the dataset into 80 and 20 ratio and build a machine learning model with Price as the target variable.**\n"
      ]
    },
    {
      "cell_type": "markdown",
      "metadata": {
        "id": "7LflXnztrhkf",
        "colab_type": "text"
      },
      "source": [
        "Separating data into training and testing sets is an important part of evaluating models. Typically, when you separate a data set into a training set and testing set, most of the data is used for training, and a smaller portion of the data is used for testing. Analysis Services randomly samples the data to help ensure that the testing and training sets are similar. By using similar data for training and testing, you can minimize the effects of data discrepancies and better understand the characteristics of the model.This principle serves as a general reminder that the relationship between inputs and outputs is not balanced.\n",
        "\n",
        "After a model has been processed by using the training set, you test the model by making predictions against the test set. Because the data in the testing set already contains known values for the attribute that you want to predict, it is easy to determine whether the model's guesses are correct."
      ]
    },
    {
      "cell_type": "markdown",
      "metadata": {
        "id": "D55Hbt8QyBRw",
        "colab_type": "text"
      },
      "source": [
        "**MODELLING AND PREDICTION:-**"
      ]
    },
    {
      "cell_type": "markdown",
      "metadata": {
        "id": "TeAimkWdyKLl",
        "colab_type": "text"
      },
      "source": [
        "**Label Encoding**\n",
        "\n",
        "Label Encoding refers to converting the labels into numeric form so as to convert it into the machine-readable form. Machine learning\n",
        "algorithms can then decide in a better way on how those labels must be operated. It is an important pre-processing step for the structured\n",
        "dataset in supervised learning.\n",
        "\n",
        "This approach is very simple and it involves converting each value in a column to a number. Consider a dataset of bridges having a column names bridge-types having below values. Though there will be many more columns in the dataset, to understand label-encoding, we will focus on one categorical column only."
      ]
    },
    {
      "cell_type": "code",
      "metadata": {
        "id": "DX8Tvc7-GV1C",
        "colab_type": "code",
        "colab": {
          "base_uri": "https://localhost:8080/",
          "height": 156
        },
        "outputId": "dd22d6ba-bf99-4a15-c799-97f52e25458e"
      },
      "source": [
        "# performing label encoding to the categorical columns\n",
        "columns_to_convert=['Make','Model','Transmission','Drive Mode','Vehicle Size','Vehicle Style']\n",
        "df[columns_to_convert] = df[columns_to_convert].astype('category')\n"
      ],
      "execution_count": 312,
      "outputs": [
        {
          "output_type": "stream",
          "text": [
            "/usr/local/lib/python3.6/dist-packages/pandas/core/frame.py:2963: SettingWithCopyWarning:\n",
            "\n",
            "\n",
            "A value is trying to be set on a copy of a slice from a DataFrame.\n",
            "Try using .loc[row_indexer,col_indexer] = value instead\n",
            "\n",
            "See the caveats in the documentation: https://pandas.pydata.org/pandas-docs/stable/user_guide/indexing.html#returning-a-view-versus-a-copy\n",
            "\n"
          ],
          "name": "stderr"
        }
      ]
    },
    {
      "cell_type": "code",
      "metadata": {
        "id": "dIc5IQG7GV8s",
        "colab_type": "code",
        "colab": {
          "base_uri": "https://localhost:8080/",
          "height": 260
        },
        "outputId": "6c2e854a-3a65-4594-af75-b5646b98ebcd"
      },
      "source": [
        "df.dtypes"
      ],
      "execution_count": 313,
      "outputs": [
        {
          "output_type": "execute_result",
          "data": {
            "text/plain": [
              "Make             category\n",
              "Model            category\n",
              "Year                int64\n",
              "HP                float64\n",
              "Cylinders         float64\n",
              "Transmission     category\n",
              "Drive Mode       category\n",
              "Vehicle Size     category\n",
              "Vehicle Style    category\n",
              "MPG-H               int64\n",
              "MPG-C               int64\n",
              "Popularity          int64\n",
              "Price               int64\n",
              "dtype: object"
            ]
          },
          "metadata": {
            "tags": []
          },
          "execution_count": 313
        }
      ]
    },
    {
      "cell_type": "code",
      "metadata": {
        "id": "FE6pW0k7GWFs",
        "colab_type": "code",
        "colab": {
          "base_uri": "https://localhost:8080/",
          "height": 156
        },
        "outputId": "5ddbd077-28c7-4c16-f6a3-b55af53e5ea2"
      },
      "source": [
        "from sklearn import preprocessing\n",
        "\n",
        "# label_encoder object knows how to understand word labels.\n",
        "label_encoder = preprocessing.LabelEncoder()\n",
        "\n",
        "# Encode labels in column 'species'.\n",
        "for col in ['Make','Model','Transmission','Drive Mode','Vehicle Size','Vehicle Style']: df[col] = label_encoder.fit_transform(df[col])"
      ],
      "execution_count": 314,
      "outputs": [
        {
          "output_type": "stream",
          "text": [
            "/usr/local/lib/python3.6/dist-packages/ipykernel_launcher.py:7: SettingWithCopyWarning:\n",
            "\n",
            "\n",
            "A value is trying to be set on a copy of a slice from a DataFrame.\n",
            "Try using .loc[row_indexer,col_indexer] = value instead\n",
            "\n",
            "See the caveats in the documentation: https://pandas.pydata.org/pandas-docs/stable/user_guide/indexing.html#returning-a-view-versus-a-copy\n",
            "\n"
          ],
          "name": "stderr"
        }
      ]
    },
    {
      "cell_type": "code",
      "metadata": {
        "id": "-XFrsHJGGWNZ",
        "colab_type": "code",
        "colab": {
          "base_uri": "https://localhost:8080/",
          "height": 202
        },
        "outputId": "e395286f-8ec5-4bc5-8c8c-ef983ba47c34"
      },
      "source": [
        "df.head()\n"
      ],
      "execution_count": 315,
      "outputs": [
        {
          "output_type": "execute_result",
          "data": {
            "text/html": [
              "<div>\n",
              "<style scoped>\n",
              "    .dataframe tbody tr th:only-of-type {\n",
              "        vertical-align: middle;\n",
              "    }\n",
              "\n",
              "    .dataframe tbody tr th {\n",
              "        vertical-align: top;\n",
              "    }\n",
              "\n",
              "    .dataframe thead th {\n",
              "        text-align: right;\n",
              "    }\n",
              "</style>\n",
              "<table border=\"1\" class=\"dataframe\">\n",
              "  <thead>\n",
              "    <tr style=\"text-align: right;\">\n",
              "      <th></th>\n",
              "      <th>Make</th>\n",
              "      <th>Model</th>\n",
              "      <th>Year</th>\n",
              "      <th>HP</th>\n",
              "      <th>Cylinders</th>\n",
              "      <th>Transmission</th>\n",
              "      <th>Drive Mode</th>\n",
              "      <th>Vehicle Size</th>\n",
              "      <th>Vehicle Style</th>\n",
              "      <th>MPG-H</th>\n",
              "      <th>MPG-C</th>\n",
              "      <th>Popularity</th>\n",
              "      <th>Price</th>\n",
              "    </tr>\n",
              "  </thead>\n",
              "  <tbody>\n",
              "    <tr>\n",
              "      <th>0</th>\n",
              "      <td>3</td>\n",
              "      <td>1</td>\n",
              "      <td>2011</td>\n",
              "      <td>335.0</td>\n",
              "      <td>6.0</td>\n",
              "      <td>2</td>\n",
              "      <td>3</td>\n",
              "      <td>0</td>\n",
              "      <td>8</td>\n",
              "      <td>26</td>\n",
              "      <td>19</td>\n",
              "      <td>3916</td>\n",
              "      <td>46135</td>\n",
              "    </tr>\n",
              "    <tr>\n",
              "      <th>1</th>\n",
              "      <td>3</td>\n",
              "      <td>0</td>\n",
              "      <td>2011</td>\n",
              "      <td>300.0</td>\n",
              "      <td>6.0</td>\n",
              "      <td>2</td>\n",
              "      <td>3</td>\n",
              "      <td>0</td>\n",
              "      <td>6</td>\n",
              "      <td>28</td>\n",
              "      <td>19</td>\n",
              "      <td>3916</td>\n",
              "      <td>40650</td>\n",
              "    </tr>\n",
              "    <tr>\n",
              "      <th>2</th>\n",
              "      <td>3</td>\n",
              "      <td>0</td>\n",
              "      <td>2011</td>\n",
              "      <td>300.0</td>\n",
              "      <td>6.0</td>\n",
              "      <td>2</td>\n",
              "      <td>3</td>\n",
              "      <td>0</td>\n",
              "      <td>8</td>\n",
              "      <td>28</td>\n",
              "      <td>20</td>\n",
              "      <td>3916</td>\n",
              "      <td>36350</td>\n",
              "    </tr>\n",
              "    <tr>\n",
              "      <th>3</th>\n",
              "      <td>3</td>\n",
              "      <td>0</td>\n",
              "      <td>2011</td>\n",
              "      <td>230.0</td>\n",
              "      <td>6.0</td>\n",
              "      <td>2</td>\n",
              "      <td>3</td>\n",
              "      <td>0</td>\n",
              "      <td>8</td>\n",
              "      <td>28</td>\n",
              "      <td>18</td>\n",
              "      <td>3916</td>\n",
              "      <td>29450</td>\n",
              "    </tr>\n",
              "    <tr>\n",
              "      <th>4</th>\n",
              "      <td>3</td>\n",
              "      <td>0</td>\n",
              "      <td>2011</td>\n",
              "      <td>230.0</td>\n",
              "      <td>6.0</td>\n",
              "      <td>2</td>\n",
              "      <td>3</td>\n",
              "      <td>0</td>\n",
              "      <td>6</td>\n",
              "      <td>28</td>\n",
              "      <td>18</td>\n",
              "      <td>3916</td>\n",
              "      <td>34500</td>\n",
              "    </tr>\n",
              "  </tbody>\n",
              "</table>\n",
              "</div>"
            ],
            "text/plain": [
              "   Make  Model  Year     HP  ...  MPG-H  MPG-C  Popularity  Price\n",
              "0     3      1  2011  335.0  ...     26     19        3916  46135\n",
              "1     3      0  2011  300.0  ...     28     19        3916  40650\n",
              "2     3      0  2011  300.0  ...     28     20        3916  36350\n",
              "3     3      0  2011  230.0  ...     28     18        3916  29450\n",
              "4     3      0  2011  230.0  ...     28     18        3916  34500\n",
              "\n",
              "[5 rows x 13 columns]"
            ]
          },
          "metadata": {
            "tags": []
          },
          "execution_count": 315
        }
      ]
    },
    {
      "cell_type": "markdown",
      "metadata": {
        "id": "ZG6eoh-GFItO",
        "colab_type": "text"
      },
      "source": [
        "From the output it is observed that all the data is converted in numerical form. Now one can proceed for splitting the dataset, and training and testing the model using various algorithms with Price as the target variable.\n"
      ]
    },
    {
      "cell_type": "code",
      "metadata": {
        "id": "LUmAKbkKzaRI",
        "colab_type": "code",
        "colab": {
          "base_uri": "https://localhost:8080/",
          "height": 52
        },
        "outputId": "006f9812-bad8-494e-f6ac-98443ccffd1a"
      },
      "source": [
        "# splitting the dependent and independent variables\n",
        "x = df[['Popularity','Year','HP','Cylinders','MPG-H','MPG-C']].values\n",
        "y = df['Price'].values\n",
        "print(x.shape)\n",
        "print(y.shape)\n"
      ],
      "execution_count": 316,
      "outputs": [
        {
          "output_type": "stream",
          "text": [
            "(8074, 6)\n",
            "(8074,)\n"
          ],
          "name": "stdout"
        }
      ]
    },
    {
      "cell_type": "code",
      "metadata": {
        "id": "IQcw_bSozfOW",
        "colab_type": "code",
        "colab": {}
      },
      "source": [
        "#normalizing the data\n",
        "from sklearn.preprocessing import StandardScaler\n",
        "sc_x=StandardScaler()\n",
        "sc_y=StandardScaler()\n",
        "x=sc_x.fit_transform(x)\n",
        "y=sc_y.fit_transform(y.reshape(-1,1))\n"
      ],
      "execution_count": 317,
      "outputs": []
    },
    {
      "cell_type": "markdown",
      "metadata": {
        "id": "NH83rhvQzl8F",
        "colab_type": "text"
      },
      "source": [
        "**DATASET SPLITTING:-**"
      ]
    },
    {
      "cell_type": "markdown",
      "metadata": {
        "id": "G2Ac47hAz5Wi",
        "colab_type": "text"
      },
      "source": [
        "It is standard in ML to split data into training and test sets. The reason for this is very straight forward: if you try and evaluate your system on data you have trained it on, you are doing something unrealistic."
      ]
    },
    {
      "cell_type": "code",
      "metadata": {
        "id": "-B4lPNHSzsMm",
        "colab_type": "code",
        "colab": {
          "base_uri": "https://localhost:8080/",
          "height": 87
        },
        "outputId": "ed8f2dd4-1e64-4fbd-d6de-eada2eb4cc4e"
      },
      "source": [
        "# splitting the dataset into training and test sets\n",
        "from sklearn.model_selection import train_test_split\n",
        "x_train,x_test,y_train,y_test = train_test_split(x,y,test_size = 0.2,random_state = 0)\n",
        "print(x_train.shape)\n",
        "print(y_train.shape)\n",
        "print(x_test.shape)\n",
        "print(y_test.shape)"
      ],
      "execution_count": 318,
      "outputs": [
        {
          "output_type": "stream",
          "text": [
            "(6459, 6)\n",
            "(6459, 1)\n",
            "(1615, 6)\n",
            "(1615, 1)\n"
          ],
          "name": "stdout"
        }
      ]
    },
    {
      "cell_type": "markdown",
      "metadata": {
        "id": "e0kOezkI1RKM",
        "colab_type": "text"
      },
      "source": [
        "**Predictive Modelling:-**\n",
        "\n",
        "Predictive modeling is the general concept of building a model that is capable of making predictions. Typically, such a model includes a machine learning algorithm that learns certain properties from a training dataset in order to make those predictions.\n",
        "\n",
        "\n",
        "Predictive modeling is a powerful way to add intelligence to your application. It enables applications to predict outcomes against new data.\n",
        "The act of incorporating predictive analytics into your applications involves two major phases: model training and model deployment.\n"
      ]
    },
    {
      "cell_type": "markdown",
      "metadata": {
        "id": "M7GvLucsGdDB",
        "colab_type": "text"
      },
      "source": [
        "**10.Try different algorithms and check their performance over metrics like R\n",
        "square, RMSE, MAE etc and document your findings.**"
      ]
    },
    {
      "cell_type": "markdown",
      "metadata": {
        "id": "a-N8J1Q6Gvgg",
        "colab_type": "text"
      },
      "source": [
        "DIFFERENT ALGORITHMS ARE AS FOLLOWING:-"
      ]
    },
    {
      "cell_type": "markdown",
      "metadata": {
        "id": "NYUO_4pn4HzS",
        "colab_type": "text"
      },
      "source": [
        "**10.1 Linear Regression:**"
      ]
    },
    {
      "cell_type": "markdown",
      "metadata": {
        "id": "Wson5YNK4VSb",
        "colab_type": "text"
      },
      "source": [
        "Linear Regression is a machine learning algorithm based on supervised learning. It performs a regression task. Regression models a target prediction value based on independent variables. It is mostly used for finding out the relationship between variables and forecasting. Different regression models differ based on – the kind of relationship between dependent and independent variables, they are considering and the number of independent variables being used.\n",
        "\n",
        "\n",
        "These regression estimates are used to explain the relationship between one dependent variable and one or more independent variables.\n"
      ]
    },
    {
      "cell_type": "code",
      "metadata": {
        "id": "hqwpc5o2uvFv",
        "colab_type": "code",
        "colab": {
          "base_uri": "https://localhost:8080/",
          "height": 52
        },
        "outputId": "aaac59fb-f29a-4cbb-af2d-79bdbebf9330"
      },
      "source": [
        "from sklearn.linear_model import LinearRegression\n",
        "lr_model = LinearRegression()\n",
        "lr_model.fit(x_train,y_train)\n",
        "\n",
        "# calculating the accuracies\n",
        "print(\"Training Accuracy :\",lr_model.score(x_train,y_train))\n",
        "print(\"Testing Accuracy :\",lr_model.score(x_test,y_test))\n"
      ],
      "execution_count": 319,
      "outputs": [
        {
          "output_type": "stream",
          "text": [
            "Training Accuracy : 0.6953652044516118\n",
            "Testing Accuracy : 0.6998934370608545\n"
          ],
          "name": "stdout"
        }
      ]
    },
    {
      "cell_type": "code",
      "metadata": {
        "id": "LxqB7-JT3aMU",
        "colab_type": "code",
        "colab": {
          "base_uri": "https://localhost:8080/",
          "height": 104
        },
        "outputId": "44d27772-0c52-4c0a-db91-93f7f24709fb"
      },
      "source": [
        "y_pred = lr_model.predict(x_test)\n",
        "y_pred[0:5]\n"
      ],
      "execution_count": 320,
      "outputs": [
        {
          "output_type": "execute_result",
          "data": {
            "text/plain": [
              "array([[ 0.42303521],\n",
              "       [ 0.10029373],\n",
              "       [ 0.62405493],\n",
              "       [-0.0862649 ],\n",
              "       [-0.89380663]])"
            ]
          },
          "metadata": {
            "tags": []
          },
          "execution_count": 320
        }
      ]
    },
    {
      "cell_type": "code",
      "metadata": {
        "id": "gQIBS22t3iEq",
        "colab_type": "code",
        "colab": {
          "base_uri": "https://localhost:8080/",
          "height": 297
        },
        "outputId": "96c3ed18-4268-43de-f022-f6773f0c5b00"
      },
      "source": [
        "plt.scatter(y_test,y_pred)\n",
        "plt.xlabel(\"True Values\")\n",
        "plt.ylabel(\"Predicted Values\")\n"
      ],
      "execution_count": 321,
      "outputs": [
        {
          "output_type": "execute_result",
          "data": {
            "text/plain": [
              "Text(0, 0.5, 'Predicted Values')"
            ]
          },
          "metadata": {
            "tags": []
          },
          "execution_count": 321
        },
        {
          "output_type": "display_data",
          "data": {
            "image/png": "[encoded data removed]",
            "text/plain": [
              "<Figure size 432x288 with 1 Axes>"
            ]
          },
          "metadata": {
            "tags": [],
            "needs_background": "light"
          }
        }
      ]
    },
    {
      "cell_type": "code",
      "metadata": {
        "id": "yBh38AX43rvg",
        "colab_type": "code",
        "colab": {
          "base_uri": "https://localhost:8080/",
          "height": 283
        },
        "outputId": "945e086d-a0bd-4313-aed1-b5ca21620685"
      },
      "source": [
        "sns.distplot((y_test-y_pred),bins=50)\n"
      ],
      "execution_count": 322,
      "outputs": [
        {
          "output_type": "execute_result",
          "data": {
            "text/plain": [
              "<matplotlib.axes._subplots.AxesSubplot at 0x7efec36a3860>"
            ]
          },
          "metadata": {
            "tags": []
          },
          "execution_count": 322
        },
        {
          "output_type": "display_data",
          "data": {
            "image/png": "[encoded data removed]",
            "text/plain": [
              "<Figure size 432x288 with 1 Axes>"
            ]
          },
          "metadata": {
            "tags": [],
            "needs_background": "light"
          }
        }
      ]
    },
    {
      "cell_type": "code",
      "metadata": {
        "id": "1zeEfQYo3yXX",
        "colab_type": "code",
        "colab": {
          "base_uri": "https://localhost:8080/",
          "height": 87
        },
        "outputId": "f3eefcb9-e1a6-43b7-ec36-8eeca1048125"
      },
      "source": [
        "from sklearn.metrics import r2_score,mean_squared_error,mean_absolute_error\n",
        "import math\n",
        "print(\"R2_Score : \", r2_score(y_test,y_pred))\n",
        "print(\"Mean Squared Error : \", mean_squared_error(y_test,y_pred))\n",
        "print(\"MAE : \",mean_absolute_error(y_test,y_pred))\n",
        "print(\"RSME : \",math.sqrt(mean_squared_error(y_test,y_pred)))"
      ],
      "execution_count": 323,
      "outputs": [
        {
          "output_type": "stream",
          "text": [
            "R2_Score :  0.6998934370608545\n",
            "Mean Squared Error :  0.29012537520034687\n",
            "MAE :  0.4179637681815545\n",
            "RSME :  0.5386328760856942\n"
          ],
          "name": "stdout"
        }
      ]
    },
    {
      "cell_type": "code",
      "metadata": {
        "id": "JkToq8ns34tv",
        "colab_type": "code",
        "colab": {
          "base_uri": "https://localhost:8080/",
          "height": 79
        },
        "outputId": "b5e2ed1d-ac61-4625-d0f4-047eead8de7d"
      },
      "source": [
        "results_df = pd.DataFrame(data=[[\"Linear Regression\", lr_model.score(x_train,y_train),lr_model.score(x_test,y_test),r2_score(y_test,y_pred),mean_squared_error(y_test,y_pred),mean_absolute_error(y_test,y_pred),math.sqrt(mean_squared_error(y_test,y_pred))]],\n",
        "columns=['Model', 'Training Accuracy %', 'Testing Accuracy %','r2 score','MSE','MAE','RSME'])\n",
        "results_df\n"
      ],
      "execution_count": 324,
      "outputs": [
        {
          "output_type": "execute_result",
          "data": {
            "text/html": [
              "<div>\n",
              "<style scoped>\n",
              "    .dataframe tbody tr th:only-of-type {\n",
              "        vertical-align: middle;\n",
              "    }\n",
              "\n",
              "    .dataframe tbody tr th {\n",
              "        vertical-align: top;\n",
              "    }\n",
              "\n",
              "    .dataframe thead th {\n",
              "        text-align: right;\n",
              "    }\n",
              "</style>\n",
              "<table border=\"1\" class=\"dataframe\">\n",
              "  <thead>\n",
              "    <tr style=\"text-align: right;\">\n",
              "      <th></th>\n",
              "      <th>Model</th>\n",
              "      <th>Training Accuracy %</th>\n",
              "      <th>Testing Accuracy %</th>\n",
              "      <th>r2 score</th>\n",
              "      <th>MSE</th>\n",
              "      <th>MAE</th>\n",
              "      <th>RSME</th>\n",
              "    </tr>\n",
              "  </thead>\n",
              "  <tbody>\n",
              "    <tr>\n",
              "      <th>0</th>\n",
              "      <td>Linear Regression</td>\n",
              "      <td>0.695365</td>\n",
              "      <td>0.699893</td>\n",
              "      <td>0.699893</td>\n",
              "      <td>0.290125</td>\n",
              "      <td>0.417964</td>\n",
              "      <td>0.538633</td>\n",
              "    </tr>\n",
              "  </tbody>\n",
              "</table>\n",
              "</div>"
            ],
            "text/plain": [
              "               Model  Training Accuracy %  ...       MAE      RSME\n",
              "0  Linear Regression             0.695365  ...  0.417964  0.538633\n",
              "\n",
              "[1 rows x 7 columns]"
            ]
          },
          "metadata": {
            "tags": []
          },
          "execution_count": 324
        }
      ]
    },
    {
      "cell_type": "markdown",
      "metadata": {
        "id": "NqGLhPXV4zvr",
        "colab_type": "text"
      },
      "source": [
        "**10.2 Support Vector Machine:**\n",
        "\n",
        "Support Vector Machine (SVM) is a supervised machine learning algorithm capable of performing classification, regression and even outlier detection. The linear SVM classifier works by drawing a straight line between two classes.It uses a technique called the kernel trick to transform your data and then based on these transformations it finds an optimal boundary between the possible outputs.\n",
        "\n",
        "\n",
        "The objective of the support vector machine algorithm is to find a hyperplane in an N-dimensional space(N — the number of features) that distinctly classifies the data points.\n",
        "\n",
        "\n"
      ]
    },
    {
      "cell_type": "code",
      "metadata": {
        "id": "mXQ-TmQP5jSk",
        "colab_type": "code",
        "colab": {
          "base_uri": "https://localhost:8080/",
          "height": 121
        },
        "outputId": "e4291387-c8c2-47a6-c09c-693d272b1efe"
      },
      "source": [
        "from sklearn.svm import SVR\n",
        "svr_model=SVR(kernel = 'rbf')\n",
        "svr_model.fit(x_train,y_train)\n",
        "\n",
        "# calculating the accuracies\n",
        "print(\"Training Accuracy :\",svr_model.score(x_train,y_train))\n",
        "print(\"Testing Accuracy :\",svr_model.score(x_test,y_test))\n"
      ],
      "execution_count": 325,
      "outputs": [
        {
          "output_type": "stream",
          "text": [
            "/usr/local/lib/python3.6/dist-packages/sklearn/utils/validation.py:760: DataConversionWarning:\n",
            "\n",
            "A column-vector y was passed when a 1d array was expected. Please change the shape of y to (n_samples, ), for example using ravel().\n",
            "\n"
          ],
          "name": "stderr"
        },
        {
          "output_type": "stream",
          "text": [
            "Training Accuracy : 0.8288702680646802\n",
            "Testing Accuracy : 0.8002152947960609\n"
          ],
          "name": "stdout"
        }
      ]
    },
    {
      "cell_type": "code",
      "metadata": {
        "id": "qNgqQx-L58JP",
        "colab_type": "code",
        "colab": {
          "base_uri": "https://localhost:8080/",
          "height": 35
        },
        "outputId": "61068698-e219-4d09-e0b5-e086b189892c"
      },
      "source": [
        "y_pred = svr_model.predict(x_test)\n",
        "y_pred[0:5]"
      ],
      "execution_count": 326,
      "outputs": [
        {
          "output_type": "execute_result",
          "data": {
            "text/plain": [
              "array([ 0.38945839, -0.0241528 ,  0.52357642, -0.03949067, -1.04559265])"
            ]
          },
          "metadata": {
            "tags": []
          },
          "execution_count": 326
        }
      ]
    },
    {
      "cell_type": "code",
      "metadata": {
        "id": "fZVAT9e66CRZ",
        "colab_type": "code",
        "colab": {
          "base_uri": "https://localhost:8080/",
          "height": 297
        },
        "outputId": "743a0670-ac8a-480d-d8d1-9ec75e69f3c9"
      },
      "source": [
        "plt.scatter(y_test,y_pred)\n",
        "plt.xlabel(\"True Values\")\n",
        "plt.ylabel(\"Predicted Values\")\n"
      ],
      "execution_count": 327,
      "outputs": [
        {
          "output_type": "execute_result",
          "data": {
            "text/plain": [
              "Text(0, 0.5, 'Predicted Values')"
            ]
          },
          "metadata": {
            "tags": []
          },
          "execution_count": 327
        },
        {
          "output_type": "display_data",
          "data": {
            "image/png": "[encoded data removed]",
            "text/plain": [
              "<Figure size 432x288 with 1 Axes>"
            ]
          },
          "metadata": {
            "tags": [],
            "needs_background": "light"
          }
        }
      ]
    },
    {
      "cell_type": "code",
      "metadata": {
        "id": "2flBypl86GSh",
        "colab_type": "code",
        "colab": {
          "base_uri": "https://localhost:8080/",
          "height": 283
        },
        "outputId": "07b55b62-a7c5-4a2b-8de5-3f564a863b4f"
      },
      "source": [
        "sns.distplot((y_test-y_pred),bins=50)\n"
      ],
      "execution_count": 328,
      "outputs": [
        {
          "output_type": "execute_result",
          "data": {
            "text/plain": [
              "<matplotlib.axes._subplots.AxesSubplot at 0x7efec3546470>"
            ]
          },
          "metadata": {
            "tags": []
          },
          "execution_count": 328
        },
        {
          "output_type": "display_data",
          "data": {
            "image/png": "[encoded data removed]",
            "text/plain": [
              "<Figure size 432x288 with 1 Axes>"
            ]
          },
          "metadata": {
            "tags": [],
            "needs_background": "light"
          }
        }
      ]
    },
    {
      "cell_type": "code",
      "metadata": {
        "id": "CWMrtBhT6InT",
        "colab_type": "code",
        "colab": {
          "base_uri": "https://localhost:8080/",
          "height": 87
        },
        "outputId": "15c02aa4-e917-4a32-9995-e022c867c1e0"
      },
      "source": [
        "print(\"R2_Score : \", r2_score(y_test,y_pred))\n",
        "print(\"Mean Squared Error : \", mean_squared_error(y_test,y_pred))\n",
        "print(\"MAE : \",mean_absolute_error(y_test,y_pred))\n",
        "print(\"RSME : \",math.sqrt(mean_squared_error(y_test,y_pred)))"
      ],
      "execution_count": 329,
      "outputs": [
        {
          "output_type": "stream",
          "text": [
            "R2_Score :  0.8002152947960609\n",
            "Mean Squared Error :  0.19314010326504238\n",
            "MAE :  0.31437108048049445\n",
            "RSME :  0.43947707933980174\n"
          ],
          "name": "stdout"
        }
      ]
    },
    {
      "cell_type": "code",
      "metadata": {
        "id": "elT6wJrj6SrI",
        "colab_type": "code",
        "colab": {
          "base_uri": "https://localhost:8080/",
          "height": 110
        },
        "outputId": "69729ed0-1225-4c18-ae24-4070c5cb3872"
      },
      "source": [
        "results_df_2 = pd.DataFrame(data=[[\"Support Vector Machine\", svr_model.score(x_train,y_train),svr_model.score(x_test,y_test),r2_score(y_test,y_pred),mean_squared_error(y_test,y_pred),mean_absolute_error(y_test,y_pred),math.sqrt(mean_squared_error(y_test,y_pred))]],\n",
        "columns=['Model', 'Training Accuracy %', 'Testing Accuracy %','r2 score','MSE','MAE','RSME'])\n",
        "results_df = results_df.append(results_df_2, ignore_index=True)\n",
        "results_df\n"
      ],
      "execution_count": 330,
      "outputs": [
        {
          "output_type": "execute_result",
          "data": {
            "text/html": [
              "<div>\n",
              "<style scoped>\n",
              "    .dataframe tbody tr th:only-of-type {\n",
              "        vertical-align: middle;\n",
              "    }\n",
              "\n",
              "    .dataframe tbody tr th {\n",
              "        vertical-align: top;\n",
              "    }\n",
              "\n",
              "    .dataframe thead th {\n",
              "        text-align: right;\n",
              "    }\n",
              "</style>\n",
              "<table border=\"1\" class=\"dataframe\">\n",
              "  <thead>\n",
              "    <tr style=\"text-align: right;\">\n",
              "      <th></th>\n",
              "      <th>Model</th>\n",
              "      <th>Training Accuracy %</th>\n",
              "      <th>Testing Accuracy %</th>\n",
              "      <th>r2 score</th>\n",
              "      <th>MSE</th>\n",
              "      <th>MAE</th>\n",
              "      <th>RSME</th>\n",
              "    </tr>\n",
              "  </thead>\n",
              "  <tbody>\n",
              "    <tr>\n",
              "      <th>0</th>\n",
              "      <td>Linear Regression</td>\n",
              "      <td>0.695365</td>\n",
              "      <td>0.699893</td>\n",
              "      <td>0.699893</td>\n",
              "      <td>0.290125</td>\n",
              "      <td>0.417964</td>\n",
              "      <td>0.538633</td>\n",
              "    </tr>\n",
              "    <tr>\n",
              "      <th>1</th>\n",
              "      <td>Support Vector Machine</td>\n",
              "      <td>0.828870</td>\n",
              "      <td>0.800215</td>\n",
              "      <td>0.800215</td>\n",
              "      <td>0.193140</td>\n",
              "      <td>0.314371</td>\n",
              "      <td>0.439477</td>\n",
              "    </tr>\n",
              "  </tbody>\n",
              "</table>\n",
              "</div>"
            ],
            "text/plain": [
              "                    Model  Training Accuracy %  ...       MAE      RSME\n",
              "0       Linear Regression             0.695365  ...  0.417964  0.538633\n",
              "1  Support Vector Machine             0.828870  ...  0.314371  0.439477\n",
              "\n",
              "[2 rows x 7 columns]"
            ]
          },
          "metadata": {
            "tags": []
          },
          "execution_count": 330
        }
      ]
    },
    {
      "cell_type": "markdown",
      "metadata": {
        "id": "mmTfnGPV680Z",
        "colab_type": "text"
      },
      "source": [
        "**10.3 Random Forest:**\n",
        "\n",
        "Random Forest is a popular machine learning algorithm that belongs to the supervised learning technique. It can be used for both Classification and Regression problems in ML. It is based on the concept of ensemble learning, which is a process of combining multiple classifiers to solve a complex problem and to improve the performance of the model.\n",
        "\n",
        "As the name suggests, \"Random Forest is a classifier that contains a number of decision trees on various subsets of the given dataset and takes the average to improve the predictive accuracy of that dataset.\" Instead of relying on one decision tree, the random forest takes the prediction from each tree and based on the majority votes of predictions, and it predicts the final output.\n",
        "\n",
        "The greater number of trees in the forest leads to higher accuracy and prevents the problem of overfitting."
      ]
    },
    {
      "cell_type": "code",
      "metadata": {
        "id": "J1Ic2O5d7kLH",
        "colab_type": "code",
        "colab": {
          "base_uri": "https://localhost:8080/",
          "height": 121
        },
        "outputId": "1f30e29f-0b10-461a-a470-419af77e759f"
      },
      "source": [
        "from sklearn.ensemble import RandomForestRegressor\n",
        "rfc_model=RandomForestRegressor(n_estimators=300,random_state=0)\n",
        "rfc_model.fit(x_train,y_train)\n",
        "# calculating the accuracies\n",
        "print(\"Training Accuracy :\",rfc_model.score(x_train,y_train))\n",
        "print(\"Testing Accuracy :\",rfc_model.score(x_test,y_test))\n"
      ],
      "execution_count": 331,
      "outputs": [
        {
          "output_type": "stream",
          "text": [
            "/usr/local/lib/python3.6/dist-packages/ipykernel_launcher.py:3: DataConversionWarning:\n",
            "\n",
            "A column-vector y was passed when a 1d array was expected. Please change the shape of y to (n_samples,), for example using ravel().\n",
            "\n"
          ],
          "name": "stderr"
        },
        {
          "output_type": "stream",
          "text": [
            "Training Accuracy : 0.9722079769946966\n",
            "Testing Accuracy : 0.9336071344038788\n"
          ],
          "name": "stdout"
        }
      ]
    },
    {
      "cell_type": "code",
      "metadata": {
        "id": "jBLGS7dP7mGd",
        "colab_type": "code",
        "colab": {
          "base_uri": "https://localhost:8080/",
          "height": 35
        },
        "outputId": "97ad933f-a999-4d8f-8fea-126a1c3b8029"
      },
      "source": [
        "y_pred = rfc_model.predict(x_test)\n",
        "y_pred[0:5]\n"
      ],
      "execution_count": 332,
      "outputs": [
        {
          "output_type": "execute_result",
          "data": {
            "text/plain": [
              "array([ 0.35503458,  0.00976132,  0.0857482 , -0.35195042, -1.88146239])"
            ]
          },
          "metadata": {
            "tags": []
          },
          "execution_count": 332
        }
      ]
    },
    {
      "cell_type": "code",
      "metadata": {
        "id": "4VFO4NlV8NTp",
        "colab_type": "code",
        "colab": {
          "base_uri": "https://localhost:8080/",
          "height": 297
        },
        "outputId": "e914d98b-588a-4c95-86f9-d95aed4ba97c"
      },
      "source": [
        "plt.scatter(y_test,y_pred)\n",
        "plt.xlabel(\"True Values\")\n",
        "plt.ylabel(\"Predicted Values\")\n"
      ],
      "execution_count": 333,
      "outputs": [
        {
          "output_type": "execute_result",
          "data": {
            "text/plain": [
              "Text(0, 0.5, 'Predicted Values')"
            ]
          },
          "metadata": {
            "tags": []
          },
          "execution_count": 333
        },
        {
          "output_type": "display_data",
          "data": {
            "image/png": "[encoded data removed]",
            "text/plain": [
              "<Figure size 432x288 with 1 Axes>"
            ]
          },
          "metadata": {
            "tags": [],
            "needs_background": "light"
          }
        }
      ]
    },
    {
      "cell_type": "code",
      "metadata": {
        "id": "dhz2bojP8TNv",
        "colab_type": "code",
        "colab": {
          "base_uri": "https://localhost:8080/",
          "height": 283
        },
        "outputId": "24a8555b-a124-4f72-b3c3-0851c6c6e8bb"
      },
      "source": [
        "sns.distplot((y_test-y_pred),bins=50)"
      ],
      "execution_count": 334,
      "outputs": [
        {
          "output_type": "execute_result",
          "data": {
            "text/plain": [
              "<matplotlib.axes._subplots.AxesSubplot at 0x7efec34507f0>"
            ]
          },
          "metadata": {
            "tags": []
          },
          "execution_count": 334
        },
        {
          "output_type": "display_data",
          "data": {
            "image/png": "[encoded data removed]",
            "text/plain": [
              "<Figure size 432x288 with 1 Axes>"
            ]
          },
          "metadata": {
            "tags": [],
            "needs_background": "light"
          }
        }
      ]
    },
    {
      "cell_type": "code",
      "metadata": {
        "id": "C9_imVnF8a-y",
        "colab_type": "code",
        "colab": {
          "base_uri": "https://localhost:8080/",
          "height": 87
        },
        "outputId": "834c39ce-0932-4ed2-ca72-b4d4f8840f89"
      },
      "source": [
        "print(\"R2_Score : \", r2_score(y_test,y_pred))\n",
        "print(\"Mean Squared Error : \", mean_squared_error(y_test,y_pred))\n",
        "print(\"MAE : \",mean_absolute_error(y_test,y_pred))\n",
        "print(\"RSME : \",math.sqrt(mean_squared_error(y_test,y_pred)))"
      ],
      "execution_count": 335,
      "outputs": [
        {
          "output_type": "stream",
          "text": [
            "R2_Score :  0.9336071344038788\n",
            "Mean Squared Error :  0.06418471776509202\n",
            "MAE :  0.182873122375762\n",
            "RSME :  0.25334703030643957\n"
          ],
          "name": "stdout"
        }
      ]
    },
    {
      "cell_type": "code",
      "metadata": {
        "id": "tQkw6LBL8g-D",
        "colab_type": "code",
        "colab": {
          "base_uri": "https://localhost:8080/",
          "height": 141
        },
        "outputId": "723c98c1-4346-4ede-dd0c-a9a2861d0d3f"
      },
      "source": [
        "results_df_2 = pd.DataFrame(data=[[\"Random Forest\", rfc_model.score(x_train,y_train),rfc_model.score(x_test,y_test),r2_score(y_test,y_pred),mean_squared_error(y_test,y_pred),mean_absolute_error(y_test,y_pred),math.sqrt(mean_squared_error(y_test,y_pred))]],\n",
        "columns=['Model', 'Training Accuracy %', 'Testing Accuracy %','r2 score','MSE','MAE','RSME'])\n",
        "results_df = results_df.append(results_df_2, ignore_index=True)\n",
        "results_df\n"
      ],
      "execution_count": 336,
      "outputs": [
        {
          "output_type": "execute_result",
          "data": {
            "text/html": [
              "<div>\n",
              "<style scoped>\n",
              "    .dataframe tbody tr th:only-of-type {\n",
              "        vertical-align: middle;\n",
              "    }\n",
              "\n",
              "    .dataframe tbody tr th {\n",
              "        vertical-align: top;\n",
              "    }\n",
              "\n",
              "    .dataframe thead th {\n",
              "        text-align: right;\n",
              "    }\n",
              "</style>\n",
              "<table border=\"1\" class=\"dataframe\">\n",
              "  <thead>\n",
              "    <tr style=\"text-align: right;\">\n",
              "      <th></th>\n",
              "      <th>Model</th>\n",
              "      <th>Training Accuracy %</th>\n",
              "      <th>Testing Accuracy %</th>\n",
              "      <th>r2 score</th>\n",
              "      <th>MSE</th>\n",
              "      <th>MAE</th>\n",
              "      <th>RSME</th>\n",
              "    </tr>\n",
              "  </thead>\n",
              "  <tbody>\n",
              "    <tr>\n",
              "      <th>0</th>\n",
              "      <td>Linear Regression</td>\n",
              "      <td>0.695365</td>\n",
              "      <td>0.699893</td>\n",
              "      <td>0.699893</td>\n",
              "      <td>0.290125</td>\n",
              "      <td>0.417964</td>\n",
              "      <td>0.538633</td>\n",
              "    </tr>\n",
              "    <tr>\n",
              "      <th>1</th>\n",
              "      <td>Support Vector Machine</td>\n",
              "      <td>0.828870</td>\n",
              "      <td>0.800215</td>\n",
              "      <td>0.800215</td>\n",
              "      <td>0.193140</td>\n",
              "      <td>0.314371</td>\n",
              "      <td>0.439477</td>\n",
              "    </tr>\n",
              "    <tr>\n",
              "      <th>2</th>\n",
              "      <td>Random Forest</td>\n",
              "      <td>0.972208</td>\n",
              "      <td>0.933607</td>\n",
              "      <td>0.933607</td>\n",
              "      <td>0.064185</td>\n",
              "      <td>0.182873</td>\n",
              "      <td>0.253347</td>\n",
              "    </tr>\n",
              "  </tbody>\n",
              "</table>\n",
              "</div>"
            ],
            "text/plain": [
              "                    Model  Training Accuracy %  ...       MAE      RSME\n",
              "0       Linear Regression             0.695365  ...  0.417964  0.538633\n",
              "1  Support Vector Machine             0.828870  ...  0.314371  0.439477\n",
              "2           Random Forest             0.972208  ...  0.182873  0.253347\n",
              "\n",
              "[3 rows x 7 columns]"
            ]
          },
          "metadata": {
            "tags": []
          },
          "execution_count": 336
        }
      ]
    },
    {
      "cell_type": "markdown",
      "metadata": {
        "id": "v_zof-Do9KkU",
        "colab_type": "text"
      },
      "source": [
        "**From the above table, we can say that from the given dataset, the best suitable algorithm is \"Random Forest\" with an accuracy of 93.35%.**"
      ]
    }
  ]
}